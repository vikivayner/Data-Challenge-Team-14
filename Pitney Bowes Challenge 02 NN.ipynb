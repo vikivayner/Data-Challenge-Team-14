{
  "nbformat": 4,
  "nbformat_minor": 0,
  "metadata": {
    "kernelspec": {
      "display_name": "Python 3",
      "language": "python",
      "name": "python3"
    },
    "language_info": {
      "codemirror_mode": {
        "name": "ipython",
        "version": 3
      },
      "file_extension": ".py",
      "mimetype": "text/x-python",
      "name": "python",
      "nbconvert_exporter": "python",
      "pygments_lexer": "ipython3",
      "version": "3.8.3"
    },
    "colab": {
      "name": "Pitney Bowes Challenge 02aaa.ipynb",
      "provenance": []
    },
    "accelerator": "GPU"
  },
  "cells": [
    {
      "cell_type": "markdown",
      "metadata": {
        "id": "__euuzngrTT6"
      },
      "source": [
        "### Import Packages"
      ]
    },
    {
      "cell_type": "code",
      "metadata": {
        "id": "sBN0038-rTUB",
        "colab": {
          "base_uri": "https://localhost:8080/"
        },
        "outputId": "96c9d2a2-d0a1-4ddd-be69-97fe74114ceb"
      },
      "source": [
        "import pandas as pd\n",
        "import numpy as np\n",
        "import seaborn as sns\n",
        "import matplotlib.pyplot as plt\n",
        "from sklearn.model_selection import train_test_split\n",
        "from sklearn.linear_model import LinearRegression, Lasso, Ridge, LassoCV, BayesianRidge\n",
        "from sklearn.linear_model import LogisticRegression, LogisticRegressionCV\n",
        "!pip install dmba\n",
        "from dmba import classificationSummary, gainsChart, liftChart\n",
        "from sklearn.ensemble import RandomForestClassifier"
      ],
      "execution_count": 2,
      "outputs": [
        {
          "output_type": "stream",
          "text": [
            "Requirement already satisfied: dmba in /usr/local/lib/python3.7/dist-packages (0.0.18)\n"
          ],
          "name": "stdout"
        }
      ]
    },
    {
      "cell_type": "markdown",
      "metadata": {
        "id": "dHmsr0bvrTUD"
      },
      "source": [
        "### Open Files, Create DataFrames, Zero Null Values\n",
        "#### *To keep nulls, comment 3rd var, remove \"n\" from dataframe var."
      ]
    },
    {
      "cell_type": "code",
      "metadata": {
        "id": "345zuT42rTUE"
      },
      "source": [
        "url = 'https://raw.githubusercontent.com/vikivayner/Data-Challenge-Team-14/main/test.csv'\n",
        "test = pd.read_csv(url)\n",
        "#test = pd.read_csv(\"test.csv\")\n",
        "tsn = pd.DataFrame(test)\n",
        "ts = tsn.fillna(0)\n",
        "\n",
        "url2 = 'https://raw.githubusercontent.com/vikivayner/Data-Challenge-Team-14/main/train.csv'\n",
        "\n",
        "train = pd.read_csv(url2)\n",
        "#train = pd.read_csv(\"train.csv\")\n",
        "trn = pd.DataFrame(train)\n",
        "tr = trn.fillna(0)"
      ],
      "execution_count": 3,
      "outputs": []
    },
    {
      "cell_type": "markdown",
      "metadata": {
        "id": "g48wTjO2rTUE"
      },
      "source": [
        "### Convert \"LastRecord\" and \"Date Deployed\" to Datetime"
      ]
    },
    {
      "cell_type": "code",
      "metadata": {
        "id": "gHSqaSxJrTUE"
      },
      "source": [
        "ts[\"LastRecord\"], ts[\"Date Deployed\"] = pd.to_datetime(ts[\"LastRecord\"]), pd.to_datetime(ts[\"Date Deployed\"])\n",
        "tr[\"LastRecord\"], tr[\"Date Deployed\"] = pd.to_datetime(tr[\"LastRecord\"]), pd.to_datetime(tr[\"Date Deployed\"])"
      ],
      "execution_count": 4,
      "outputs": []
    },
    {
      "cell_type": "markdown",
      "metadata": {
        "id": "HTBLz3UCrTUE"
      },
      "source": [
        "### Create \"DaysInService\" Column, Convert from TimeDelta to Float for Plotting"
      ]
    },
    {
      "cell_type": "code",
      "metadata": {
        "id": "Wa-SOfRVrTUF"
      },
      "source": [
        "ts[\"DaysInService\"] = ts[\"LastRecord\"] - ts[\"Date Deployed\"]\n",
        "ts[\"DaysInService\"] = ts[\"DaysInService\"].dt.days.astype(\"float64\")\n",
        "tr[\"DaysInService\"] = tr[\"LastRecord\"] - tr[\"Date Deployed\"]\n",
        "tr[\"DaysInService\"] = tr[\"DaysInService\"].dt.days.astype(\"float64\")"
      ],
      "execution_count": 5,
      "outputs": []
    },
    {
      "cell_type": "markdown",
      "metadata": {
        "id": "ofklgsE-rTUF"
      },
      "source": [
        "### Get Info and Head (Test)"
      ]
    },
    {
      "cell_type": "code",
      "metadata": {
        "scrolled": true,
        "id": "5mHixDaxrTUF",
        "colab": {
          "base_uri": "https://localhost:8080/",
          "height": 1000
        },
        "outputId": "b97bc6c3-0d04-4533-954f-6ed223409893"
      },
      "source": [
        "ts.info()\n",
        "ts.head()"
      ],
      "execution_count": 6,
      "outputs": [
        {
          "output_type": "stream",
          "text": [
            "<class 'pandas.core.frame.DataFrame'>\n",
            "RangeIndex: 4500 entries, 0 to 4499\n",
            "Data columns (total 55 columns):\n",
            " #   Column                       Non-Null Count  Dtype         \n",
            "---  ------                       --------------  -----         \n",
            " 0   deviceid                     4500 non-null   int64         \n",
            " 1   avg_time_charging_lag1       4500 non-null   float64       \n",
            " 2   avg_time_charging_lag2       4500 non-null   float64       \n",
            " 3   avg_time_charging_lag3       4500 non-null   float64       \n",
            " 4   avg_time_charging_lag7       4500 non-null   float64       \n",
            " 5   charging_rate_lag3           4500 non-null   float64       \n",
            " 6   charging_rate_lag7           4500 non-null   float64       \n",
            " 7   avg_time_discharging_lag1    4500 non-null   float64       \n",
            " 8   avg_time_discharging_lag2    4500 non-null   float64       \n",
            " 9   avg_time_discharging_lag3    4500 non-null   float64       \n",
            " 10  avg_time_discharging_lag7    4500 non-null   float64       \n",
            " 11  discharging_rate_lag3        4500 non-null   float64       \n",
            " 12  discharging_rate_lag7        4500 non-null   float64       \n",
            " 13  charge_cycle_time_below_12   4500 non-null   bool          \n",
            " 14  avg_time_charging_lag4       4500 non-null   float64       \n",
            " 15  avg_time_discharging_lag4    4500 non-null   float64       \n",
            " 16  avg_time_charging_lag5       4500 non-null   float64       \n",
            " 17  avg_time_discharging_lag5    4500 non-null   float64       \n",
            " 18  avg_time_charging_lag6       4500 non-null   float64       \n",
            " 19  avg_time_discharging_lag6    4500 non-null   float64       \n",
            " 20  avg_time_charging_lag8       4500 non-null   float64       \n",
            " 21  avg_time_discharging_lag8    4500 non-null   float64       \n",
            " 22  avg_time_charging_lag9       4500 non-null   float64       \n",
            " 23  avg_time_discharging_lag9    4500 non-null   float64       \n",
            " 24  avg_time_charging_lag10      4500 non-null   float64       \n",
            " 25  avg_time_discharging_lag10   4500 non-null   float64       \n",
            " 26  avg_time_charging_lag11      4500 non-null   float64       \n",
            " 27  avg_time_discharging_lag11   4500 non-null   float64       \n",
            " 28  avg_time_charging_lag12      4500 non-null   float64       \n",
            " 29  avg_time_discharging_lag12   4500 non-null   float64       \n",
            " 30  avg_time_charging_lag13      4500 non-null   float64       \n",
            " 31  avg_time_discharging_lag13   4500 non-null   float64       \n",
            " 32  avg_time_charging_lag14      4500 non-null   float64       \n",
            " 33  avg_time_discharging_lag14   4500 non-null   float64       \n",
            " 34  discharging_rate_lag4        4500 non-null   float64       \n",
            " 35  discharging_rate_lag5        4500 non-null   float64       \n",
            " 36  discharging_rate_lag6        4500 non-null   float64       \n",
            " 37  discharging_rate_lag8        4500 non-null   float64       \n",
            " 38  charging_rate_lag4           4500 non-null   float64       \n",
            " 39  charging_rate_lag5           4500 non-null   float64       \n",
            " 40  charging_rate_lag6           4500 non-null   float64       \n",
            " 41  chargecycles                 4500 non-null   float64       \n",
            " 42  dischargecycles              4500 non-null   float64       \n",
            " 43  total_off_time               4500 non-null   float64       \n",
            " 44  number_times_restart         4500 non-null   float64       \n",
            " 45  avg_volt_change_charging     4500 non-null   float64       \n",
            " 46  avg_volt_change_discharging  4500 non-null   float64       \n",
            " 47  avg_time_charging            4500 non-null   float64       \n",
            " 48  avg_time_discharging         4500 non-null   float64       \n",
            " 49  max_voltage_day              4500 non-null   float64       \n",
            " 50  piececount                   4500 non-null   float64       \n",
            " 51  cycle_time                   4500 non-null   float64       \n",
            " 52  LastRecord                   4500 non-null   datetime64[ns]\n",
            " 53  Date Deployed                4500 non-null   datetime64[ns]\n",
            " 54  DaysInService                4500 non-null   float64       \n",
            "dtypes: bool(1), datetime64[ns](2), float64(51), int64(1)\n",
            "memory usage: 1.9 MB\n"
          ],
          "name": "stdout"
        },
        {
          "output_type": "execute_result",
          "data": {
            "text/html": [
              "<div>\n",
              "<style scoped>\n",
              "    .dataframe tbody tr th:only-of-type {\n",
              "        vertical-align: middle;\n",
              "    }\n",
              "\n",
              "    .dataframe tbody tr th {\n",
              "        vertical-align: top;\n",
              "    }\n",
              "\n",
              "    .dataframe thead th {\n",
              "        text-align: right;\n",
              "    }\n",
              "</style>\n",
              "<table border=\"1\" class=\"dataframe\">\n",
              "  <thead>\n",
              "    <tr style=\"text-align: right;\">\n",
              "      <th></th>\n",
              "      <th>deviceid</th>\n",
              "      <th>avg_time_charging_lag1</th>\n",
              "      <th>avg_time_charging_lag2</th>\n",
              "      <th>avg_time_charging_lag3</th>\n",
              "      <th>avg_time_charging_lag7</th>\n",
              "      <th>charging_rate_lag3</th>\n",
              "      <th>charging_rate_lag7</th>\n",
              "      <th>avg_time_discharging_lag1</th>\n",
              "      <th>avg_time_discharging_lag2</th>\n",
              "      <th>avg_time_discharging_lag3</th>\n",
              "      <th>avg_time_discharging_lag7</th>\n",
              "      <th>discharging_rate_lag3</th>\n",
              "      <th>discharging_rate_lag7</th>\n",
              "      <th>charge_cycle_time_below_12</th>\n",
              "      <th>avg_time_charging_lag4</th>\n",
              "      <th>avg_time_discharging_lag4</th>\n",
              "      <th>avg_time_charging_lag5</th>\n",
              "      <th>avg_time_discharging_lag5</th>\n",
              "      <th>avg_time_charging_lag6</th>\n",
              "      <th>avg_time_discharging_lag6</th>\n",
              "      <th>avg_time_charging_lag8</th>\n",
              "      <th>avg_time_discharging_lag8</th>\n",
              "      <th>avg_time_charging_lag9</th>\n",
              "      <th>avg_time_discharging_lag9</th>\n",
              "      <th>avg_time_charging_lag10</th>\n",
              "      <th>avg_time_discharging_lag10</th>\n",
              "      <th>avg_time_charging_lag11</th>\n",
              "      <th>avg_time_discharging_lag11</th>\n",
              "      <th>avg_time_charging_lag12</th>\n",
              "      <th>avg_time_discharging_lag12</th>\n",
              "      <th>avg_time_charging_lag13</th>\n",
              "      <th>avg_time_discharging_lag13</th>\n",
              "      <th>avg_time_charging_lag14</th>\n",
              "      <th>avg_time_discharging_lag14</th>\n",
              "      <th>discharging_rate_lag4</th>\n",
              "      <th>discharging_rate_lag5</th>\n",
              "      <th>discharging_rate_lag6</th>\n",
              "      <th>discharging_rate_lag8</th>\n",
              "      <th>charging_rate_lag4</th>\n",
              "      <th>charging_rate_lag5</th>\n",
              "      <th>charging_rate_lag6</th>\n",
              "      <th>chargecycles</th>\n",
              "      <th>dischargecycles</th>\n",
              "      <th>total_off_time</th>\n",
              "      <th>number_times_restart</th>\n",
              "      <th>avg_volt_change_charging</th>\n",
              "      <th>avg_volt_change_discharging</th>\n",
              "      <th>avg_time_charging</th>\n",
              "      <th>avg_time_discharging</th>\n",
              "      <th>max_voltage_day</th>\n",
              "      <th>piececount</th>\n",
              "      <th>cycle_time</th>\n",
              "      <th>LastRecord</th>\n",
              "      <th>Date Deployed</th>\n",
              "      <th>DaysInService</th>\n",
              "    </tr>\n",
              "  </thead>\n",
              "  <tbody>\n",
              "    <tr>\n",
              "      <th>0</th>\n",
              "      <td>42979</td>\n",
              "      <td>35.56</td>\n",
              "      <td>4.31</td>\n",
              "      <td>5.07</td>\n",
              "      <td>4.60</td>\n",
              "      <td>-0.033333</td>\n",
              "      <td>0.040000</td>\n",
              "      <td>66.29</td>\n",
              "      <td>3.77</td>\n",
              "      <td>4.07</td>\n",
              "      <td>3.83</td>\n",
              "      <td>-0.240000</td>\n",
              "      <td>-0.033333</td>\n",
              "      <td>True</td>\n",
              "      <td>4.58</td>\n",
              "      <td>4.10</td>\n",
              "      <td>5.11</td>\n",
              "      <td>4.31</td>\n",
              "      <td>4.66</td>\n",
              "      <td>3.67</td>\n",
              "      <td>6.33</td>\n",
              "      <td>5.78</td>\n",
              "      <td>5.91</td>\n",
              "      <td>4.94</td>\n",
              "      <td>5.06</td>\n",
              "      <td>3.37</td>\n",
              "      <td>31.21</td>\n",
              "      <td>45.77</td>\n",
              "      <td>46.03</td>\n",
              "      <td>72.74</td>\n",
              "      <td>33.74</td>\n",
              "      <td>57.85</td>\n",
              "      <td>20.67</td>\n",
              "      <td>28.73</td>\n",
              "      <td>-2.240000</td>\n",
              "      <td>0.026667</td>\n",
              "      <td>-0.033333</td>\n",
              "      <td>0.043333</td>\n",
              "      <td>-0.176667</td>\n",
              "      <td>-0.010000</td>\n",
              "      <td>-0.006667</td>\n",
              "      <td>77.96000</td>\n",
              "      <td>77.680000</td>\n",
              "      <td>47.840000</td>\n",
              "      <td>3.640000</td>\n",
              "      <td>346.301200</td>\n",
              "      <td>345.379600</td>\n",
              "      <td>17.481600</td>\n",
              "      <td>27.721600</td>\n",
              "      <td>4159.000000</td>\n",
              "      <td>12.437500</td>\n",
              "      <td>45.203200</td>\n",
              "      <td>2021-04-01</td>\n",
              "      <td>2019-09-08</td>\n",
              "      <td>571.0</td>\n",
              "    </tr>\n",
              "    <tr>\n",
              "      <th>1</th>\n",
              "      <td>14911</td>\n",
              "      <td>31.26</td>\n",
              "      <td>4.76</td>\n",
              "      <td>27.40</td>\n",
              "      <td>29.60</td>\n",
              "      <td>-0.076667</td>\n",
              "      <td>-0.060000</td>\n",
              "      <td>49.57</td>\n",
              "      <td>3.63</td>\n",
              "      <td>44.06</td>\n",
              "      <td>40.74</td>\n",
              "      <td>-0.670000</td>\n",
              "      <td>-0.033333</td>\n",
              "      <td>False</td>\n",
              "      <td>4.75</td>\n",
              "      <td>4.10</td>\n",
              "      <td>37.44</td>\n",
              "      <td>71.56</td>\n",
              "      <td>5.07</td>\n",
              "      <td>4.64</td>\n",
              "      <td>4.70</td>\n",
              "      <td>3.67</td>\n",
              "      <td>21.24</td>\n",
              "      <td>38.26</td>\n",
              "      <td>5.25</td>\n",
              "      <td>4.59</td>\n",
              "      <td>5.31</td>\n",
              "      <td>4.27</td>\n",
              "      <td>4.47</td>\n",
              "      <td>4.07</td>\n",
              "      <td>4.71</td>\n",
              "      <td>17.73</td>\n",
              "      <td>5.35</td>\n",
              "      <td>5.51</td>\n",
              "      <td>0.120000</td>\n",
              "      <td>0.056667</td>\n",
              "      <td>-1.190000</td>\n",
              "      <td>1.453333</td>\n",
              "      <td>-0.233333</td>\n",
              "      <td>-0.043333</td>\n",
              "      <td>-0.233333</td>\n",
              "      <td>81.26087</td>\n",
              "      <td>81.260870</td>\n",
              "      <td>24.173913</td>\n",
              "      <td>2.826087</td>\n",
              "      <td>356.218261</td>\n",
              "      <td>357.305652</td>\n",
              "      <td>17.479130</td>\n",
              "      <td>27.650435</td>\n",
              "      <td>4163.608696</td>\n",
              "      <td>34.818182</td>\n",
              "      <td>45.129565</td>\n",
              "      <td>2021-04-01</td>\n",
              "      <td>2019-09-13</td>\n",
              "      <td>566.0</td>\n",
              "    </tr>\n",
              "    <tr>\n",
              "      <th>2</th>\n",
              "      <td>48386</td>\n",
              "      <td>30.08</td>\n",
              "      <td>5.07</td>\n",
              "      <td>4.76</td>\n",
              "      <td>4.74</td>\n",
              "      <td>0.013333</td>\n",
              "      <td>-0.016667</td>\n",
              "      <td>52.96</td>\n",
              "      <td>5.16</td>\n",
              "      <td>4.05</td>\n",
              "      <td>4.22</td>\n",
              "      <td>0.000000</td>\n",
              "      <td>0.010000</td>\n",
              "      <td>True</td>\n",
              "      <td>5.09</td>\n",
              "      <td>5.04</td>\n",
              "      <td>13.50</td>\n",
              "      <td>21.91</td>\n",
              "      <td>4.48</td>\n",
              "      <td>4.20</td>\n",
              "      <td>5.02</td>\n",
              "      <td>4.14</td>\n",
              "      <td>4.77</td>\n",
              "      <td>3.48</td>\n",
              "      <td>5.18</td>\n",
              "      <td>5.80</td>\n",
              "      <td>29.12</td>\n",
              "      <td>48.01</td>\n",
              "      <td>43.60</td>\n",
              "      <td>80.25</td>\n",
              "      <td>4.82</td>\n",
              "      <td>3.96</td>\n",
              "      <td>5.21</td>\n",
              "      <td>4.37</td>\n",
              "      <td>0.306667</td>\n",
              "      <td>0.096667</td>\n",
              "      <td>0.020000</td>\n",
              "      <td>-1.280000</td>\n",
              "      <td>0.243333</td>\n",
              "      <td>0.010000</td>\n",
              "      <td>0.013333</td>\n",
              "      <td>109.20000</td>\n",
              "      <td>109.133333</td>\n",
              "      <td>10.333333</td>\n",
              "      <td>1.266667</td>\n",
              "      <td>368.532667</td>\n",
              "      <td>366.844667</td>\n",
              "      <td>11.361333</td>\n",
              "      <td>16.739333</td>\n",
              "      <td>4176.133333</td>\n",
              "      <td>15.888889</td>\n",
              "      <td>28.100667</td>\n",
              "      <td>2021-04-01</td>\n",
              "      <td>2019-10-10</td>\n",
              "      <td>539.0</td>\n",
              "    </tr>\n",
              "    <tr>\n",
              "      <th>3</th>\n",
              "      <td>18822</td>\n",
              "      <td>33.31</td>\n",
              "      <td>32.79</td>\n",
              "      <td>5.09</td>\n",
              "      <td>4.96</td>\n",
              "      <td>0.000000</td>\n",
              "      <td>0.003333</td>\n",
              "      <td>49.26</td>\n",
              "      <td>68.54</td>\n",
              "      <td>5.83</td>\n",
              "      <td>4.78</td>\n",
              "      <td>0.003333</td>\n",
              "      <td>-0.026667</td>\n",
              "      <td>True</td>\n",
              "      <td>4.56</td>\n",
              "      <td>3.92</td>\n",
              "      <td>5.10</td>\n",
              "      <td>5.81</td>\n",
              "      <td>35.69</td>\n",
              "      <td>56.90</td>\n",
              "      <td>4.91</td>\n",
              "      <td>4.22</td>\n",
              "      <td>5.05</td>\n",
              "      <td>4.75</td>\n",
              "      <td>35.47</td>\n",
              "      <td>58.31</td>\n",
              "      <td>29.44</td>\n",
              "      <td>42.88</td>\n",
              "      <td>50.04</td>\n",
              "      <td>88.48</td>\n",
              "      <td>4.88</td>\n",
              "      <td>3.62</td>\n",
              "      <td>4.52</td>\n",
              "      <td>4.01</td>\n",
              "      <td>0.946667</td>\n",
              "      <td>0.460000</td>\n",
              "      <td>0.000000</td>\n",
              "      <td>0.073333</td>\n",
              "      <td>0.536667</td>\n",
              "      <td>-0.030000</td>\n",
              "      <td>0.023333</td>\n",
              "      <td>90.87500</td>\n",
              "      <td>91.000000</td>\n",
              "      <td>16.625000</td>\n",
              "      <td>0.937500</td>\n",
              "      <td>352.899375</td>\n",
              "      <td>352.595000</td>\n",
              "      <td>17.168750</td>\n",
              "      <td>27.460625</td>\n",
              "      <td>4159.875000</td>\n",
              "      <td>12.750000</td>\n",
              "      <td>44.629375</td>\n",
              "      <td>2021-04-01</td>\n",
              "      <td>2019-10-13</td>\n",
              "      <td>536.0</td>\n",
              "    </tr>\n",
              "    <tr>\n",
              "      <th>4</th>\n",
              "      <td>49810</td>\n",
              "      <td>4.44</td>\n",
              "      <td>30.03</td>\n",
              "      <td>5.57</td>\n",
              "      <td>5.02</td>\n",
              "      <td>-0.200000</td>\n",
              "      <td>-0.030000</td>\n",
              "      <td>4.16</td>\n",
              "      <td>54.80</td>\n",
              "      <td>4.52</td>\n",
              "      <td>4.62</td>\n",
              "      <td>-4.483333</td>\n",
              "      <td>-0.423333</td>\n",
              "      <td>False</td>\n",
              "      <td>4.84</td>\n",
              "      <td>3.43</td>\n",
              "      <td>6.07</td>\n",
              "      <td>5.04</td>\n",
              "      <td>45.39</td>\n",
              "      <td>77.12</td>\n",
              "      <td>26.64</td>\n",
              "      <td>54.73</td>\n",
              "      <td>35.01</td>\n",
              "      <td>54.38</td>\n",
              "      <td>4.94</td>\n",
              "      <td>3.38</td>\n",
              "      <td>5.84</td>\n",
              "      <td>4.61</td>\n",
              "      <td>4.87</td>\n",
              "      <td>3.36</td>\n",
              "      <td>31.75</td>\n",
              "      <td>59.88</td>\n",
              "      <td>25.98</td>\n",
              "      <td>41.24</td>\n",
              "      <td>0.003333</td>\n",
              "      <td>-6.300000</td>\n",
              "      <td>0.020000</td>\n",
              "      <td>-0.490000</td>\n",
              "      <td>0.010000</td>\n",
              "      <td>0.926667</td>\n",
              "      <td>0.013333</td>\n",
              "      <td>81.56000</td>\n",
              "      <td>81.480000</td>\n",
              "      <td>1.000000</td>\n",
              "      <td>1.200000</td>\n",
              "      <td>363.912800</td>\n",
              "      <td>365.208400</td>\n",
              "      <td>14.860000</td>\n",
              "      <td>23.980800</td>\n",
              "      <td>4168.400000</td>\n",
              "      <td>7.500000</td>\n",
              "      <td>38.840800</td>\n",
              "      <td>2021-04-01</td>\n",
              "      <td>2019-10-19</td>\n",
              "      <td>530.0</td>\n",
              "    </tr>\n",
              "  </tbody>\n",
              "</table>\n",
              "</div>"
            ],
            "text/plain": [
              "   deviceid  avg_time_charging_lag1  ...  Date Deployed  DaysInService\n",
              "0     42979                   35.56  ...     2019-09-08          571.0\n",
              "1     14911                   31.26  ...     2019-09-13          566.0\n",
              "2     48386                   30.08  ...     2019-10-10          539.0\n",
              "3     18822                   33.31  ...     2019-10-13          536.0\n",
              "4     49810                    4.44  ...     2019-10-19          530.0\n",
              "\n",
              "[5 rows x 55 columns]"
            ]
          },
          "metadata": {
            "tags": []
          },
          "execution_count": 6
        }
      ]
    },
    {
      "cell_type": "markdown",
      "metadata": {
        "id": "bbNz5KXmrTUG"
      },
      "source": [
        "### Get Info and Head (Train)"
      ]
    },
    {
      "cell_type": "code",
      "metadata": {
        "scrolled": true,
        "id": "2Zw_dRL-rTUG"
      },
      "source": [
        "#tr.info()\n",
        "#tr.head()"
      ],
      "execution_count": 7,
      "outputs": []
    },
    {
      "cell_type": "markdown",
      "metadata": {
        "id": "G2q-H896rTUG"
      },
      "source": [
        "### Count Null Values (Test)\n",
        "#### *Keep nulls above to observe progressive linearity."
      ]
    },
    {
      "cell_type": "code",
      "metadata": {
        "scrolled": true,
        "id": "lONYg3EUrTUH",
        "colab": {
          "base_uri": "https://localhost:8080/"
        },
        "outputId": "99fa0289-1c6b-400b-89d7-05ae07cb3727"
      },
      "source": [
        "ts.isnull().sum()"
      ],
      "execution_count": 8,
      "outputs": [
        {
          "output_type": "execute_result",
          "data": {
            "text/plain": [
              "deviceid                       0\n",
              "avg_time_charging_lag1         0\n",
              "avg_time_charging_lag2         0\n",
              "avg_time_charging_lag3         0\n",
              "avg_time_charging_lag7         0\n",
              "charging_rate_lag3             0\n",
              "charging_rate_lag7             0\n",
              "avg_time_discharging_lag1      0\n",
              "avg_time_discharging_lag2      0\n",
              "avg_time_discharging_lag3      0\n",
              "avg_time_discharging_lag7      0\n",
              "discharging_rate_lag3          0\n",
              "discharging_rate_lag7          0\n",
              "charge_cycle_time_below_12     0\n",
              "avg_time_charging_lag4         0\n",
              "avg_time_discharging_lag4      0\n",
              "avg_time_charging_lag5         0\n",
              "avg_time_discharging_lag5      0\n",
              "avg_time_charging_lag6         0\n",
              "avg_time_discharging_lag6      0\n",
              "avg_time_charging_lag8         0\n",
              "avg_time_discharging_lag8      0\n",
              "avg_time_charging_lag9         0\n",
              "avg_time_discharging_lag9      0\n",
              "avg_time_charging_lag10        0\n",
              "avg_time_discharging_lag10     0\n",
              "avg_time_charging_lag11        0\n",
              "avg_time_discharging_lag11     0\n",
              "avg_time_charging_lag12        0\n",
              "avg_time_discharging_lag12     0\n",
              "avg_time_charging_lag13        0\n",
              "avg_time_discharging_lag13     0\n",
              "avg_time_charging_lag14        0\n",
              "avg_time_discharging_lag14     0\n",
              "discharging_rate_lag4          0\n",
              "discharging_rate_lag5          0\n",
              "discharging_rate_lag6          0\n",
              "discharging_rate_lag8          0\n",
              "charging_rate_lag4             0\n",
              "charging_rate_lag5             0\n",
              "charging_rate_lag6             0\n",
              "chargecycles                   0\n",
              "dischargecycles                0\n",
              "total_off_time                 0\n",
              "number_times_restart           0\n",
              "avg_volt_change_charging       0\n",
              "avg_volt_change_discharging    0\n",
              "avg_time_charging              0\n",
              "avg_time_discharging           0\n",
              "max_voltage_day                0\n",
              "piececount                     0\n",
              "cycle_time                     0\n",
              "LastRecord                     0\n",
              "Date Deployed                  0\n",
              "DaysInService                  0\n",
              "dtype: int64"
            ]
          },
          "metadata": {
            "tags": []
          },
          "execution_count": 8
        }
      ]
    },
    {
      "cell_type": "markdown",
      "metadata": {
        "id": "N-od8D4IrTUH"
      },
      "source": [
        "### Count Null Values (Train)\n",
        "#### *Keep nulls above to observe progressive linearity."
      ]
    },
    {
      "cell_type": "code",
      "metadata": {
        "scrolled": true,
        "id": "kXwUzOY3rTUH"
      },
      "source": [
        "#tr.isnull().sum()"
      ],
      "execution_count": 9,
      "outputs": []
    },
    {
      "cell_type": "markdown",
      "metadata": {
        "id": "7k-ccZG-rTUH"
      },
      "source": [
        "### Plot Distributions of DataFrame Columns\n",
        "#### *no plot for \"deviceid\" (irrelevant) or \"charge_cycle_time_below_12\" (bool)\n",
        "#### **uncomment to run"
      ]
    },
    {
      "cell_type": "code",
      "metadata": {
        "id": "EZAAtdATrTUI",
        "colab": {
          "base_uri": "https://localhost:8080/",
          "height": 35
        },
        "outputId": "adc6d8e4-5f77-4c99-fe8a-488b390bd645"
      },
      "source": [
        "\"\"\"\n",
        "for col in ts.columns[1:]:\n",
        "    if col != \"charge_cycle_time_below_12\":\n",
        "        hist = ts[col].hist(bins=10)\n",
        "        print(\"Plot for column \\\"{}\\\"\".format(col))\n",
        "        plt.show()\n",
        "\"\"\""
      ],
      "execution_count": 10,
      "outputs": [
        {
          "output_type": "execute_result",
          "data": {
            "application/vnd.google.colaboratory.intrinsic+json": {
              "type": "string"
            },
            "text/plain": [
              "'\\nfor col in ts.columns[1:]:\\n    if col != \"charge_cycle_time_below_12\":\\n        hist = ts[col].hist(bins=10)\\n        print(\"Plot for column \"{}\"\".format(col))\\n        plt.show()\\n'"
            ]
          },
          "metadata": {
            "tags": []
          },
          "execution_count": 10
        }
      ]
    },
    {
      "cell_type": "markdown",
      "metadata": {
        "id": "cXCfOYDmrTUI"
      },
      "source": [
        "### Create New DataFrame, Removing Columns Without Outliers"
      ]
    },
    {
      "cell_type": "code",
      "metadata": {
        "scrolled": true,
        "id": "pGzptg-crTUI"
      },
      "source": [
        "columns = [column for column in ts.columns if ts[column].dtype == \"float64\"]\n",
        "tsno = ts[columns]"
      ],
      "execution_count": 11,
      "outputs": []
    },
    {
      "cell_type": "markdown",
      "metadata": {
        "id": "4Xc6mZ7FrTUI"
      },
      "source": [
        "### Convert Outliers by Quantile to Null in New DataFrame.  Run Info and Head."
      ]
    },
    {
      "cell_type": "code",
      "metadata": {
        "scrolled": true,
        "id": "GDR-H3O-rTUJ",
        "colab": {
          "base_uri": "https://localhost:8080/",
          "height": 1000
        },
        "outputId": "85b1f356-eeeb-4804-926c-cfb898ea6347"
      },
      "source": [
        "q_low = tsno[columns].quantile(0.01)\n",
        "q_hi  = tsno[columns].quantile(0.99)\n",
        "\n",
        "tsno_o = tsno[(tsno[columns] < q_hi) & (tsno[columns] > q_low)]\n",
        "\n",
        "tsno_o.info()\n",
        "tsno_o.head()"
      ],
      "execution_count": 12,
      "outputs": [
        {
          "output_type": "stream",
          "text": [
            "<class 'pandas.core.frame.DataFrame'>\n",
            "RangeIndex: 4500 entries, 0 to 4499\n",
            "Data columns (total 51 columns):\n",
            " #   Column                       Non-Null Count  Dtype  \n",
            "---  ------                       --------------  -----  \n",
            " 0   avg_time_charging_lag1       4407 non-null   float64\n",
            " 1   avg_time_charging_lag2       4407 non-null   float64\n",
            " 2   avg_time_charging_lag3       4402 non-null   float64\n",
            " 3   avg_time_charging_lag7       4407 non-null   float64\n",
            " 4   charging_rate_lag3           4409 non-null   float64\n",
            " 5   charging_rate_lag7           4410 non-null   float64\n",
            " 6   avg_time_discharging_lag1    4410 non-null   float64\n",
            " 7   avg_time_discharging_lag2    4410 non-null   float64\n",
            " 8   avg_time_discharging_lag3    4410 non-null   float64\n",
            " 9   avg_time_discharging_lag7    4410 non-null   float64\n",
            " 10  discharging_rate_lag3        4410 non-null   float64\n",
            " 11  discharging_rate_lag7        4410 non-null   float64\n",
            " 12  avg_time_charging_lag4       4397 non-null   float64\n",
            " 13  avg_time_discharging_lag4    4408 non-null   float64\n",
            " 14  avg_time_charging_lag5       4404 non-null   float64\n",
            " 15  avg_time_discharging_lag5    4407 non-null   float64\n",
            " 16  avg_time_charging_lag6       4403 non-null   float64\n",
            " 17  avg_time_discharging_lag6    4406 non-null   float64\n",
            " 18  avg_time_charging_lag8       4409 non-null   float64\n",
            " 19  avg_time_discharging_lag8    4410 non-null   float64\n",
            " 20  avg_time_charging_lag9       4410 non-null   float64\n",
            " 21  avg_time_discharging_lag9    4410 non-null   float64\n",
            " 22  avg_time_charging_lag10      4352 non-null   float64\n",
            " 23  avg_time_discharging_lag10   4352 non-null   float64\n",
            " 24  avg_time_charging_lag11      4273 non-null   float64\n",
            " 25  avg_time_discharging_lag11   4273 non-null   float64\n",
            " 26  avg_time_charging_lag12      4133 non-null   float64\n",
            " 27  avg_time_discharging_lag12   4133 non-null   float64\n",
            " 28  avg_time_charging_lag13      3927 non-null   float64\n",
            " 29  avg_time_discharging_lag13   3927 non-null   float64\n",
            " 30  avg_time_charging_lag14      3668 non-null   float64\n",
            " 31  avg_time_discharging_lag14   3668 non-null   float64\n",
            " 32  discharging_rate_lag4        4410 non-null   float64\n",
            " 33  discharging_rate_lag5        4410 non-null   float64\n",
            " 34  discharging_rate_lag6        4410 non-null   float64\n",
            " 35  discharging_rate_lag8        4410 non-null   float64\n",
            " 36  charging_rate_lag4           4410 non-null   float64\n",
            " 37  charging_rate_lag5           4410 non-null   float64\n",
            " 38  charging_rate_lag6           4409 non-null   float64\n",
            " 39  chargecycles                 4410 non-null   float64\n",
            " 40  dischargecycles              4410 non-null   float64\n",
            " 41  total_off_time               4344 non-null   float64\n",
            " 42  number_times_restart         4410 non-null   float64\n",
            " 43  avg_volt_change_charging     4410 non-null   float64\n",
            " 44  avg_volt_change_discharging  4410 non-null   float64\n",
            " 45  avg_time_charging            4410 non-null   float64\n",
            " 46  avg_time_discharging         4410 non-null   float64\n",
            " 47  max_voltage_day              4409 non-null   float64\n",
            " 48  piececount                   4410 non-null   float64\n",
            " 49  cycle_time                   4410 non-null   float64\n",
            " 50  DaysInService                4402 non-null   float64\n",
            "dtypes: float64(51)\n",
            "memory usage: 1.8 MB\n"
          ],
          "name": "stdout"
        },
        {
          "output_type": "execute_result",
          "data": {
            "text/html": [
              "<div>\n",
              "<style scoped>\n",
              "    .dataframe tbody tr th:only-of-type {\n",
              "        vertical-align: middle;\n",
              "    }\n",
              "\n",
              "    .dataframe tbody tr th {\n",
              "        vertical-align: top;\n",
              "    }\n",
              "\n",
              "    .dataframe thead th {\n",
              "        text-align: right;\n",
              "    }\n",
              "</style>\n",
              "<table border=\"1\" class=\"dataframe\">\n",
              "  <thead>\n",
              "    <tr style=\"text-align: right;\">\n",
              "      <th></th>\n",
              "      <th>avg_time_charging_lag1</th>\n",
              "      <th>avg_time_charging_lag2</th>\n",
              "      <th>avg_time_charging_lag3</th>\n",
              "      <th>avg_time_charging_lag7</th>\n",
              "      <th>charging_rate_lag3</th>\n",
              "      <th>charging_rate_lag7</th>\n",
              "      <th>avg_time_discharging_lag1</th>\n",
              "      <th>avg_time_discharging_lag2</th>\n",
              "      <th>avg_time_discharging_lag3</th>\n",
              "      <th>avg_time_discharging_lag7</th>\n",
              "      <th>discharging_rate_lag3</th>\n",
              "      <th>discharging_rate_lag7</th>\n",
              "      <th>avg_time_charging_lag4</th>\n",
              "      <th>avg_time_discharging_lag4</th>\n",
              "      <th>avg_time_charging_lag5</th>\n",
              "      <th>avg_time_discharging_lag5</th>\n",
              "      <th>avg_time_charging_lag6</th>\n",
              "      <th>avg_time_discharging_lag6</th>\n",
              "      <th>avg_time_charging_lag8</th>\n",
              "      <th>avg_time_discharging_lag8</th>\n",
              "      <th>avg_time_charging_lag9</th>\n",
              "      <th>avg_time_discharging_lag9</th>\n",
              "      <th>avg_time_charging_lag10</th>\n",
              "      <th>avg_time_discharging_lag10</th>\n",
              "      <th>avg_time_charging_lag11</th>\n",
              "      <th>avg_time_discharging_lag11</th>\n",
              "      <th>avg_time_charging_lag12</th>\n",
              "      <th>avg_time_discharging_lag12</th>\n",
              "      <th>avg_time_charging_lag13</th>\n",
              "      <th>avg_time_discharging_lag13</th>\n",
              "      <th>avg_time_charging_lag14</th>\n",
              "      <th>avg_time_discharging_lag14</th>\n",
              "      <th>discharging_rate_lag4</th>\n",
              "      <th>discharging_rate_lag5</th>\n",
              "      <th>discharging_rate_lag6</th>\n",
              "      <th>discharging_rate_lag8</th>\n",
              "      <th>charging_rate_lag4</th>\n",
              "      <th>charging_rate_lag5</th>\n",
              "      <th>charging_rate_lag6</th>\n",
              "      <th>chargecycles</th>\n",
              "      <th>dischargecycles</th>\n",
              "      <th>total_off_time</th>\n",
              "      <th>number_times_restart</th>\n",
              "      <th>avg_volt_change_charging</th>\n",
              "      <th>avg_volt_change_discharging</th>\n",
              "      <th>avg_time_charging</th>\n",
              "      <th>avg_time_discharging</th>\n",
              "      <th>max_voltage_day</th>\n",
              "      <th>piececount</th>\n",
              "      <th>cycle_time</th>\n",
              "      <th>DaysInService</th>\n",
              "    </tr>\n",
              "  </thead>\n",
              "  <tbody>\n",
              "    <tr>\n",
              "      <th>0</th>\n",
              "      <td>35.56</td>\n",
              "      <td>NaN</td>\n",
              "      <td>5.07</td>\n",
              "      <td>4.60</td>\n",
              "      <td>-0.033333</td>\n",
              "      <td>0.040000</td>\n",
              "      <td>66.29</td>\n",
              "      <td>3.77</td>\n",
              "      <td>4.07</td>\n",
              "      <td>3.83</td>\n",
              "      <td>-0.240000</td>\n",
              "      <td>-0.033333</td>\n",
              "      <td>4.58</td>\n",
              "      <td>4.10</td>\n",
              "      <td>5.11</td>\n",
              "      <td>4.31</td>\n",
              "      <td>4.66</td>\n",
              "      <td>3.67</td>\n",
              "      <td>6.33</td>\n",
              "      <td>5.78</td>\n",
              "      <td>5.91</td>\n",
              "      <td>4.94</td>\n",
              "      <td>5.06</td>\n",
              "      <td>3.37</td>\n",
              "      <td>31.21</td>\n",
              "      <td>45.77</td>\n",
              "      <td>46.03</td>\n",
              "      <td>72.74</td>\n",
              "      <td>33.74</td>\n",
              "      <td>57.85</td>\n",
              "      <td>20.67</td>\n",
              "      <td>28.73</td>\n",
              "      <td>-2.240000</td>\n",
              "      <td>0.026667</td>\n",
              "      <td>-0.033333</td>\n",
              "      <td>0.043333</td>\n",
              "      <td>-0.176667</td>\n",
              "      <td>-0.010000</td>\n",
              "      <td>-0.006667</td>\n",
              "      <td>77.96000</td>\n",
              "      <td>77.680000</td>\n",
              "      <td>47.840000</td>\n",
              "      <td>3.640000</td>\n",
              "      <td>346.301200</td>\n",
              "      <td>345.379600</td>\n",
              "      <td>17.481600</td>\n",
              "      <td>27.721600</td>\n",
              "      <td>4159.000000</td>\n",
              "      <td>12.437500</td>\n",
              "      <td>45.203200</td>\n",
              "      <td>571.0</td>\n",
              "    </tr>\n",
              "    <tr>\n",
              "      <th>1</th>\n",
              "      <td>31.26</td>\n",
              "      <td>4.76</td>\n",
              "      <td>27.40</td>\n",
              "      <td>29.60</td>\n",
              "      <td>-0.076667</td>\n",
              "      <td>-0.060000</td>\n",
              "      <td>49.57</td>\n",
              "      <td>3.63</td>\n",
              "      <td>44.06</td>\n",
              "      <td>40.74</td>\n",
              "      <td>-0.670000</td>\n",
              "      <td>-0.033333</td>\n",
              "      <td>4.75</td>\n",
              "      <td>4.10</td>\n",
              "      <td>37.44</td>\n",
              "      <td>71.56</td>\n",
              "      <td>5.07</td>\n",
              "      <td>4.64</td>\n",
              "      <td>4.70</td>\n",
              "      <td>3.67</td>\n",
              "      <td>21.24</td>\n",
              "      <td>38.26</td>\n",
              "      <td>5.25</td>\n",
              "      <td>4.59</td>\n",
              "      <td>5.31</td>\n",
              "      <td>4.27</td>\n",
              "      <td>4.47</td>\n",
              "      <td>4.07</td>\n",
              "      <td>4.71</td>\n",
              "      <td>17.73</td>\n",
              "      <td>5.35</td>\n",
              "      <td>5.51</td>\n",
              "      <td>0.120000</td>\n",
              "      <td>0.056667</td>\n",
              "      <td>-1.190000</td>\n",
              "      <td>1.453333</td>\n",
              "      <td>-0.233333</td>\n",
              "      <td>-0.043333</td>\n",
              "      <td>-0.233333</td>\n",
              "      <td>81.26087</td>\n",
              "      <td>81.260870</td>\n",
              "      <td>24.173913</td>\n",
              "      <td>2.826087</td>\n",
              "      <td>356.218261</td>\n",
              "      <td>357.305652</td>\n",
              "      <td>17.479130</td>\n",
              "      <td>27.650435</td>\n",
              "      <td>4163.608696</td>\n",
              "      <td>34.818182</td>\n",
              "      <td>45.129565</td>\n",
              "      <td>566.0</td>\n",
              "    </tr>\n",
              "    <tr>\n",
              "      <th>2</th>\n",
              "      <td>30.08</td>\n",
              "      <td>5.07</td>\n",
              "      <td>4.76</td>\n",
              "      <td>4.74</td>\n",
              "      <td>0.013333</td>\n",
              "      <td>-0.016667</td>\n",
              "      <td>52.96</td>\n",
              "      <td>5.16</td>\n",
              "      <td>4.05</td>\n",
              "      <td>4.22</td>\n",
              "      <td>0.000000</td>\n",
              "      <td>0.010000</td>\n",
              "      <td>5.09</td>\n",
              "      <td>5.04</td>\n",
              "      <td>13.50</td>\n",
              "      <td>21.91</td>\n",
              "      <td>4.48</td>\n",
              "      <td>4.20</td>\n",
              "      <td>5.02</td>\n",
              "      <td>4.14</td>\n",
              "      <td>4.77</td>\n",
              "      <td>3.48</td>\n",
              "      <td>5.18</td>\n",
              "      <td>5.80</td>\n",
              "      <td>29.12</td>\n",
              "      <td>48.01</td>\n",
              "      <td>43.60</td>\n",
              "      <td>80.25</td>\n",
              "      <td>4.82</td>\n",
              "      <td>3.96</td>\n",
              "      <td>5.21</td>\n",
              "      <td>4.37</td>\n",
              "      <td>0.306667</td>\n",
              "      <td>0.096667</td>\n",
              "      <td>0.020000</td>\n",
              "      <td>-1.280000</td>\n",
              "      <td>0.243333</td>\n",
              "      <td>0.010000</td>\n",
              "      <td>0.013333</td>\n",
              "      <td>109.20000</td>\n",
              "      <td>109.133333</td>\n",
              "      <td>10.333333</td>\n",
              "      <td>1.266667</td>\n",
              "      <td>368.532667</td>\n",
              "      <td>366.844667</td>\n",
              "      <td>11.361333</td>\n",
              "      <td>16.739333</td>\n",
              "      <td>4176.133333</td>\n",
              "      <td>15.888889</td>\n",
              "      <td>28.100667</td>\n",
              "      <td>539.0</td>\n",
              "    </tr>\n",
              "    <tr>\n",
              "      <th>3</th>\n",
              "      <td>33.31</td>\n",
              "      <td>32.79</td>\n",
              "      <td>5.09</td>\n",
              "      <td>4.96</td>\n",
              "      <td>0.000000</td>\n",
              "      <td>0.003333</td>\n",
              "      <td>49.26</td>\n",
              "      <td>68.54</td>\n",
              "      <td>5.83</td>\n",
              "      <td>4.78</td>\n",
              "      <td>0.003333</td>\n",
              "      <td>-0.026667</td>\n",
              "      <td>4.56</td>\n",
              "      <td>3.92</td>\n",
              "      <td>5.10</td>\n",
              "      <td>5.81</td>\n",
              "      <td>35.69</td>\n",
              "      <td>56.90</td>\n",
              "      <td>4.91</td>\n",
              "      <td>4.22</td>\n",
              "      <td>5.05</td>\n",
              "      <td>4.75</td>\n",
              "      <td>35.47</td>\n",
              "      <td>58.31</td>\n",
              "      <td>29.44</td>\n",
              "      <td>42.88</td>\n",
              "      <td>50.04</td>\n",
              "      <td>88.48</td>\n",
              "      <td>4.88</td>\n",
              "      <td>3.62</td>\n",
              "      <td>4.52</td>\n",
              "      <td>4.01</td>\n",
              "      <td>0.946667</td>\n",
              "      <td>0.460000</td>\n",
              "      <td>0.000000</td>\n",
              "      <td>0.073333</td>\n",
              "      <td>0.536667</td>\n",
              "      <td>-0.030000</td>\n",
              "      <td>0.023333</td>\n",
              "      <td>90.87500</td>\n",
              "      <td>91.000000</td>\n",
              "      <td>16.625000</td>\n",
              "      <td>0.937500</td>\n",
              "      <td>352.899375</td>\n",
              "      <td>352.595000</td>\n",
              "      <td>17.168750</td>\n",
              "      <td>27.460625</td>\n",
              "      <td>4159.875000</td>\n",
              "      <td>12.750000</td>\n",
              "      <td>44.629375</td>\n",
              "      <td>536.0</td>\n",
              "    </tr>\n",
              "    <tr>\n",
              "      <th>4</th>\n",
              "      <td>4.44</td>\n",
              "      <td>30.03</td>\n",
              "      <td>5.57</td>\n",
              "      <td>5.02</td>\n",
              "      <td>-0.200000</td>\n",
              "      <td>-0.030000</td>\n",
              "      <td>4.16</td>\n",
              "      <td>54.80</td>\n",
              "      <td>4.52</td>\n",
              "      <td>4.62</td>\n",
              "      <td>NaN</td>\n",
              "      <td>-0.423333</td>\n",
              "      <td>4.84</td>\n",
              "      <td>3.43</td>\n",
              "      <td>6.07</td>\n",
              "      <td>5.04</td>\n",
              "      <td>45.39</td>\n",
              "      <td>77.12</td>\n",
              "      <td>26.64</td>\n",
              "      <td>54.73</td>\n",
              "      <td>35.01</td>\n",
              "      <td>54.38</td>\n",
              "      <td>4.94</td>\n",
              "      <td>3.38</td>\n",
              "      <td>5.84</td>\n",
              "      <td>4.61</td>\n",
              "      <td>4.87</td>\n",
              "      <td>3.36</td>\n",
              "      <td>31.75</td>\n",
              "      <td>59.88</td>\n",
              "      <td>25.98</td>\n",
              "      <td>41.24</td>\n",
              "      <td>0.003333</td>\n",
              "      <td>NaN</td>\n",
              "      <td>0.020000</td>\n",
              "      <td>-0.490000</td>\n",
              "      <td>0.010000</td>\n",
              "      <td>0.926667</td>\n",
              "      <td>0.013333</td>\n",
              "      <td>81.56000</td>\n",
              "      <td>81.480000</td>\n",
              "      <td>1.000000</td>\n",
              "      <td>1.200000</td>\n",
              "      <td>363.912800</td>\n",
              "      <td>365.208400</td>\n",
              "      <td>14.860000</td>\n",
              "      <td>23.980800</td>\n",
              "      <td>4168.400000</td>\n",
              "      <td>7.500000</td>\n",
              "      <td>38.840800</td>\n",
              "      <td>530.0</td>\n",
              "    </tr>\n",
              "  </tbody>\n",
              "</table>\n",
              "</div>"
            ],
            "text/plain": [
              "   avg_time_charging_lag1  avg_time_charging_lag2  ...  cycle_time  DaysInService\n",
              "0                   35.56                     NaN  ...   45.203200          571.0\n",
              "1                   31.26                    4.76  ...   45.129565          566.0\n",
              "2                   30.08                    5.07  ...   28.100667          539.0\n",
              "3                   33.31                   32.79  ...   44.629375          536.0\n",
              "4                    4.44                   30.03  ...   38.840800          530.0\n",
              "\n",
              "[5 rows x 51 columns]"
            ]
          },
          "metadata": {
            "tags": []
          },
          "execution_count": 12
        }
      ]
    },
    {
      "cell_type": "markdown",
      "metadata": {
        "id": "FVSniEdKrTUJ"
      },
      "source": [
        "### Count New Null *Outlier Values (Test No Outliers *tsno)"
      ]
    },
    {
      "cell_type": "code",
      "metadata": {
        "scrolled": true,
        "id": "0JDd_27BrTUJ",
        "colab": {
          "base_uri": "https://localhost:8080/"
        },
        "outputId": "5b2555f7-c6cc-4f3b-a132-3d72506a2f37"
      },
      "source": [
        "tsno_o.isnull().sum()"
      ],
      "execution_count": 13,
      "outputs": [
        {
          "output_type": "execute_result",
          "data": {
            "text/plain": [
              "avg_time_charging_lag1          93\n",
              "avg_time_charging_lag2          93\n",
              "avg_time_charging_lag3          98\n",
              "avg_time_charging_lag7          93\n",
              "charging_rate_lag3              91\n",
              "charging_rate_lag7              90\n",
              "avg_time_discharging_lag1       90\n",
              "avg_time_discharging_lag2       90\n",
              "avg_time_discharging_lag3       90\n",
              "avg_time_discharging_lag7       90\n",
              "discharging_rate_lag3           90\n",
              "discharging_rate_lag7           90\n",
              "avg_time_charging_lag4         103\n",
              "avg_time_discharging_lag4       92\n",
              "avg_time_charging_lag5          96\n",
              "avg_time_discharging_lag5       93\n",
              "avg_time_charging_lag6          97\n",
              "avg_time_discharging_lag6       94\n",
              "avg_time_charging_lag8          91\n",
              "avg_time_discharging_lag8       90\n",
              "avg_time_charging_lag9          90\n",
              "avg_time_discharging_lag9       90\n",
              "avg_time_charging_lag10        148\n",
              "avg_time_discharging_lag10     148\n",
              "avg_time_charging_lag11        227\n",
              "avg_time_discharging_lag11     227\n",
              "avg_time_charging_lag12        367\n",
              "avg_time_discharging_lag12     367\n",
              "avg_time_charging_lag13        573\n",
              "avg_time_discharging_lag13     573\n",
              "avg_time_charging_lag14        832\n",
              "avg_time_discharging_lag14     832\n",
              "discharging_rate_lag4           90\n",
              "discharging_rate_lag5           90\n",
              "discharging_rate_lag6           90\n",
              "discharging_rate_lag8           90\n",
              "charging_rate_lag4              90\n",
              "charging_rate_lag5              90\n",
              "charging_rate_lag6              91\n",
              "chargecycles                    90\n",
              "dischargecycles                 90\n",
              "total_off_time                 156\n",
              "number_times_restart            90\n",
              "avg_volt_change_charging        90\n",
              "avg_volt_change_discharging     90\n",
              "avg_time_charging               90\n",
              "avg_time_discharging            90\n",
              "max_voltage_day                 91\n",
              "piececount                      90\n",
              "cycle_time                      90\n",
              "DaysInService                   98\n",
              "dtype: int64"
            ]
          },
          "metadata": {
            "tags": []
          },
          "execution_count": 13
        }
      ]
    },
    {
      "cell_type": "markdown",
      "metadata": {
        "id": "Y95pSdf3rTUJ"
      },
      "source": [
        "### Plot New DataFrame"
      ]
    },
    {
      "cell_type": "markdown",
      "metadata": {
        "id": "RrxkZvIorTUK"
      },
      "source": [
        "for col in tsno_o.columns:\n",
        "    hist = tsno_o[col].hist(bins=100)\n",
        "    print(\"Plot for column \\\"{}\\\"\".format(col))\n",
        "    plt.show()"
      ]
    },
    {
      "cell_type": "markdown",
      "metadata": {
        "id": "PVzEqyTLrTUK"
      },
      "source": [
        "## Dummy Coding"
      ]
    },
    {
      "cell_type": "code",
      "metadata": {
        "id": "sjSyIAwOrTUK",
        "colab": {
          "base_uri": "https://localhost:8080/"
        },
        "outputId": "73a6cd22-9dd8-46ce-9be3-da0e44bcdc0a"
      },
      "source": [
        "tr.dtypes"
      ],
      "execution_count": 14,
      "outputs": [
        {
          "output_type": "execute_result",
          "data": {
            "text/plain": [
              "deviceid                                int64\n",
              "avg_time_charging_lag1                float64\n",
              "avg_time_charging_lag2                float64\n",
              "avg_time_charging_lag3                float64\n",
              "avg_time_charging_lag7                float64\n",
              "charging_rate_lag3                    float64\n",
              "charging_rate_lag7                    float64\n",
              "avg_time_discharging_lag1             float64\n",
              "avg_time_discharging_lag2             float64\n",
              "avg_time_discharging_lag3             float64\n",
              "avg_time_discharging_lag7             float64\n",
              "discharging_rate_lag3                 float64\n",
              "discharging_rate_lag7                 float64\n",
              "fail_7                                  int64\n",
              "charge_cycle_time_below_12               bool\n",
              "avg_time_charging_lag4                float64\n",
              "avg_time_discharging_lag4             float64\n",
              "avg_time_charging_lag5                float64\n",
              "avg_time_discharging_lag5             float64\n",
              "avg_time_charging_lag6                float64\n",
              "avg_time_discharging_lag6             float64\n",
              "avg_time_charging_lag8                float64\n",
              "avg_time_discharging_lag8             float64\n",
              "avg_time_charging_lag9                float64\n",
              "avg_time_discharging_lag9             float64\n",
              "avg_time_charging_lag10               float64\n",
              "avg_time_discharging_lag10            float64\n",
              "avg_time_charging_lag11               float64\n",
              "avg_time_discharging_lag11            float64\n",
              "avg_time_charging_lag12               float64\n",
              "avg_time_discharging_lag12            float64\n",
              "avg_time_charging_lag13               float64\n",
              "avg_time_discharging_lag13            float64\n",
              "avg_time_charging_lag14               float64\n",
              "avg_time_discharging_lag14            float64\n",
              "discharging_rate_lag4                 float64\n",
              "discharging_rate_lag5                 float64\n",
              "discharging_rate_lag6                 float64\n",
              "discharging_rate_lag8                 float64\n",
              "charging_rate_lag4                    float64\n",
              "charging_rate_lag5                    float64\n",
              "charging_rate_lag6                    float64\n",
              "chargecycles                          float64\n",
              "dischargecycles                       float64\n",
              "total_off_time                        float64\n",
              "number_times_restart                  float64\n",
              "avg_volt_change_charging              float64\n",
              "avg_volt_change_discharging           float64\n",
              "avg_time_charging                     float64\n",
              "avg_time_discharging                  float64\n",
              "max_voltage_day                       float64\n",
              "piececount                            float64\n",
              "cycle_time                            float64\n",
              "LastRecord                     datetime64[ns]\n",
              "Date Deployed                  datetime64[ns]\n",
              "DaysInService                         float64\n",
              "dtype: object"
            ]
          },
          "metadata": {
            "tags": []
          },
          "execution_count": 14
        }
      ]
    },
    {
      "cell_type": "code",
      "metadata": {
        "id": "YxQGgThGrTUK",
        "colab": {
          "base_uri": "https://localhost:8080/"
        },
        "outputId": "03addc43-0b66-4ecd-87cf-7107aa46c720"
      },
      "source": [
        "tr = pd.get_dummies(tr,drop_first=True,prefix_sep='_') \n",
        "tr.columns"
      ],
      "execution_count": 15,
      "outputs": [
        {
          "output_type": "execute_result",
          "data": {
            "text/plain": [
              "Index(['deviceid', 'avg_time_charging_lag1', 'avg_time_charging_lag2',\n",
              "       'avg_time_charging_lag3', 'avg_time_charging_lag7',\n",
              "       'charging_rate_lag3', 'charging_rate_lag7', 'avg_time_discharging_lag1',\n",
              "       'avg_time_discharging_lag2', 'avg_time_discharging_lag3',\n",
              "       'avg_time_discharging_lag7', 'discharging_rate_lag3',\n",
              "       'discharging_rate_lag7', 'fail_7', 'charge_cycle_time_below_12',\n",
              "       'avg_time_charging_lag4', 'avg_time_discharging_lag4',\n",
              "       'avg_time_charging_lag5', 'avg_time_discharging_lag5',\n",
              "       'avg_time_charging_lag6', 'avg_time_discharging_lag6',\n",
              "       'avg_time_charging_lag8', 'avg_time_discharging_lag8',\n",
              "       'avg_time_charging_lag9', 'avg_time_discharging_lag9',\n",
              "       'avg_time_charging_lag10', 'avg_time_discharging_lag10',\n",
              "       'avg_time_charging_lag11', 'avg_time_discharging_lag11',\n",
              "       'avg_time_charging_lag12', 'avg_time_discharging_lag12',\n",
              "       'avg_time_charging_lag13', 'avg_time_discharging_lag13',\n",
              "       'avg_time_charging_lag14', 'avg_time_discharging_lag14',\n",
              "       'discharging_rate_lag4', 'discharging_rate_lag5',\n",
              "       'discharging_rate_lag6', 'discharging_rate_lag8', 'charging_rate_lag4',\n",
              "       'charging_rate_lag5', 'charging_rate_lag6', 'chargecycles',\n",
              "       'dischargecycles', 'total_off_time', 'number_times_restart',\n",
              "       'avg_volt_change_charging', 'avg_volt_change_discharging',\n",
              "       'avg_time_charging', 'avg_time_discharging', 'max_voltage_day',\n",
              "       'piececount', 'cycle_time', 'LastRecord', 'Date Deployed',\n",
              "       'DaysInService'],\n",
              "      dtype='object')"
            ]
          },
          "metadata": {
            "tags": []
          },
          "execution_count": 15
        }
      ]
    },
    {
      "cell_type": "code",
      "metadata": {
        "id": "_diRE45JrTUL"
      },
      "source": [
        "predictors = ['avg_time_charging_lag1', 'avg_time_charging_lag2',\n",
        "       'avg_time_charging_lag3', 'avg_time_charging_lag7',\n",
        "       'charging_rate_lag3', 'charging_rate_lag7', 'avg_time_discharging_lag1',\n",
        "       'avg_time_discharging_lag2', 'avg_time_discharging_lag3',\n",
        "       'avg_time_discharging_lag7', 'discharging_rate_lag3',\n",
        "       'discharging_rate_lag7', 'charge_cycle_time_below_12',\n",
        "       'avg_time_charging_lag4', 'avg_time_discharging_lag4',\n",
        "       'avg_time_charging_lag5', 'avg_time_discharging_lag5',\n",
        "       'avg_time_charging_lag6', 'avg_time_discharging_lag6',\n",
        "       'avg_time_charging_lag8', 'avg_time_discharging_lag8',\n",
        "       'avg_time_charging_lag9', 'avg_time_discharging_lag9',\n",
        "       'avg_time_charging_lag10', 'avg_time_discharging_lag10',\n",
        "       'avg_time_charging_lag11', 'avg_time_discharging_lag11',\n",
        "       'avg_time_charging_lag12', 'avg_time_discharging_lag12',\n",
        "       'avg_time_charging_lag13', 'avg_time_discharging_lag13',\n",
        "       'avg_time_charging_lag14', 'avg_time_discharging_lag14',\n",
        "       'discharging_rate_lag4', 'discharging_rate_lag5',\n",
        "       'discharging_rate_lag6', 'discharging_rate_lag8', 'charging_rate_lag4',\n",
        "       'charging_rate_lag5', 'charging_rate_lag6', 'chargecycles',\n",
        "       'dischargecycles', 'total_off_time', 'number_times_restart',\n",
        "       'avg_volt_change_charging', 'avg_volt_change_discharging',\n",
        "       'avg_time_charging', 'avg_time_discharging', 'max_voltage_day',\n",
        "       'piececount', 'cycle_time',\n",
        "       'DaysInService']\n",
        "outcome = 'fail_7'"
      ],
      "execution_count": 16,
      "outputs": []
    },
    {
      "cell_type": "code",
      "metadata": {
        "id": "CqAHCW-arTUL",
        "colab": {
          "base_uri": "https://localhost:8080/"
        },
        "outputId": "2bbbf368-9a5a-42ff-aae7-eb0a3e341f86"
      },
      "source": [
        "X = tr[predictors]\n",
        "y = tr[outcome]\n",
        "X.shape"
      ],
      "execution_count": 17,
      "outputs": [
        {
          "output_type": "execute_result",
          "data": {
            "text/plain": [
              "(40500, 52)"
            ]
          },
          "metadata": {
            "tags": []
          },
          "execution_count": 17
        }
      ]
    },
    {
      "cell_type": "code",
      "metadata": {
        "id": "XqTP9pCqyS4M"
      },
      "source": [
        "train_X, valid_X, train_y, valid_y = train_test_split(X, y, test_size=0.3, random_state=1)"
      ],
      "execution_count": 18,
      "outputs": []
    },
    {
      "cell_type": "markdown",
      "metadata": {
        "id": "SsAEKUSwrTUM"
      },
      "source": [
        "## Logistic Regression"
      ]
    },
    {
      "cell_type": "code",
      "metadata": {
        "id": "3qGwmhgsrTUM",
        "colab": {
          "base_uri": "https://localhost:8080/"
        },
        "outputId": "4389c615-bb47-4a89-985c-8b535156fdf4"
      },
      "source": [
        "logit_reg = LogisticRegression(penalty=\"l2\", C=1e42, solver='liblinear',class_weight = 'balanced')\n",
        "logit_reg.fit(train_X, train_y)"
      ],
      "execution_count": 19,
      "outputs": [
        {
          "output_type": "execute_result",
          "data": {
            "text/plain": [
              "LogisticRegression(C=1e+42, class_weight='balanced', dual=False,\n",
              "                   fit_intercept=True, intercept_scaling=1, l1_ratio=None,\n",
              "                   max_iter=100, multi_class='auto', n_jobs=None, penalty='l2',\n",
              "                   random_state=None, solver='liblinear', tol=0.0001, verbose=0,\n",
              "                   warm_start=False)"
            ]
          },
          "metadata": {
            "tags": []
          },
          "execution_count": 19
        }
      ]
    },
    {
      "cell_type": "code",
      "metadata": {
        "id": "C-sVHcThrTUM",
        "colab": {
          "base_uri": "https://localhost:8080/"
        },
        "outputId": "e380c631-e4dc-4a07-d154-ee26384fee8b"
      },
      "source": [
        "print(pd.DataFrame({'coeff': logit_reg.coef_[0]}, index=X.columns))"
      ],
      "execution_count": 20,
      "outputs": [
        {
          "output_type": "stream",
          "text": [
            "                                coeff\n",
            "avg_time_charging_lag1       0.014018\n",
            "avg_time_charging_lag2       0.012708\n",
            "avg_time_charging_lag3       0.008388\n",
            "avg_time_charging_lag7       0.016211\n",
            "charging_rate_lag3           0.065039\n",
            "charging_rate_lag7          -0.019600\n",
            "avg_time_discharging_lag1   -0.007825\n",
            "avg_time_discharging_lag2   -0.006459\n",
            "avg_time_discharging_lag3   -0.003772\n",
            "avg_time_discharging_lag7   -0.007735\n",
            "discharging_rate_lag3        0.094688\n",
            "discharging_rate_lag7       -0.004363\n",
            "charge_cycle_time_below_12   1.679705\n",
            "avg_time_charging_lag4       0.004803\n",
            "avg_time_discharging_lag4   -0.001204\n",
            "avg_time_charging_lag5       0.009172\n",
            "avg_time_discharging_lag5   -0.003508\n",
            "avg_time_charging_lag6       0.013555\n",
            "avg_time_discharging_lag6   -0.006306\n",
            "avg_time_charging_lag8       0.009965\n",
            "avg_time_discharging_lag8   -0.004074\n",
            "avg_time_charging_lag9       0.007931\n",
            "avg_time_discharging_lag9   -0.003721\n",
            "avg_time_charging_lag10      0.008072\n",
            "avg_time_discharging_lag10  -0.002896\n",
            "avg_time_charging_lag11      0.012548\n",
            "avg_time_discharging_lag11  -0.004833\n",
            "avg_time_charging_lag12      0.011104\n",
            "avg_time_discharging_lag12  -0.004831\n",
            "avg_time_charging_lag13      0.020037\n",
            "avg_time_discharging_lag13  -0.010302\n",
            "avg_time_charging_lag14      0.018244\n",
            "avg_time_discharging_lag14  -0.007582\n",
            "discharging_rate_lag4        0.032335\n",
            "discharging_rate_lag5        0.009052\n",
            "discharging_rate_lag6        0.006556\n",
            "discharging_rate_lag8       -0.010627\n",
            "charging_rate_lag4          -0.037535\n",
            "charging_rate_lag5           0.008588\n",
            "charging_rate_lag6          -0.004247\n",
            "chargecycles                 0.029892\n",
            "dischargecycles             -0.020802\n",
            "total_off_time               0.000491\n",
            "number_times_restart         0.009269\n",
            "avg_volt_change_charging     0.020795\n",
            "avg_volt_change_discharging  0.008077\n",
            "avg_time_charging           -0.133229\n",
            "avg_time_discharging         0.115189\n",
            "max_voltage_day             -0.004193\n",
            "piececount                   0.000597\n",
            "cycle_time                  -0.018040\n",
            "DaysInService                0.008150\n"
          ],
          "name": "stdout"
        }
      ]
    },
    {
      "cell_type": "markdown",
      "metadata": {
        "id": "SKGXj75KrTUM"
      },
      "source": [
        "charge_cycle_time_below_12 is the most important feature in this model. avg_time_charging and avg_time_discharging are the next most important features."
      ]
    },
    {
      "cell_type": "markdown",
      "metadata": {
        "id": "WSbXjmZSrTUM"
      },
      "source": [
        "### Model Metrics"
      ]
    },
    {
      "cell_type": "code",
      "metadata": {
        "id": "PMYFRI-5rTUN",
        "colab": {
          "base_uri": "https://localhost:8080/"
        },
        "outputId": "ee4bb09a-ba81-4922-ffc3-a1e0c7ee13b1"
      },
      "source": [
        "classificationSummary(train_y, logit_reg.predict(train_X))\n",
        "classificationSummary(valid_y, logit_reg.predict(valid_X))"
      ],
      "execution_count": 21,
      "outputs": [
        {
          "output_type": "stream",
          "text": [
            "Confusion Matrix (Accuracy 0.6140)\n",
            "\n",
            "       Prediction\n",
            "Actual     0     1\n",
            "     0 12120  9642\n",
            "     1  1302  5286\n",
            "Confusion Matrix (Accuracy 0.6071)\n",
            "\n",
            "       Prediction\n",
            "Actual    0    1\n",
            "     0 5125 4212\n",
            "     1  562 2251\n"
          ],
          "name": "stdout"
        }
      ]
    },
    {
      "cell_type": "code",
      "metadata": {
        "id": "Ad3lgR9TrTUN",
        "colab": {
          "base_uri": "https://localhost:8080/"
        },
        "outputId": "af8b20f0-052c-484a-eedc-7c70c45bb5ce"
      },
      "source": [
        "from sklearn.metrics import accuracy_score, precision_score,recall_score,f1_score,roc_auc_score,classification_report, confusion_matrix\n",
        "lr_prediction_train = logit_reg.predict_proba(train_X)[:,1] > 0.5\n",
        "lr_prediction_valid = logit_reg.predict_proba(valid_X)[:,1] > 0.5\n",
        "print(\"Accuracy on train is:\",accuracy_score(train_y,lr_prediction_train))\n",
        "print(\"Accuracy on test is:\",accuracy_score(valid_y,lr_prediction_valid))\n",
        "print(\"Precision_score train is:\",precision_score(train_y,lr_prediction_train))\n",
        "print(\"Precision_score on test is:\",precision_score(valid_y,lr_prediction_valid))\n",
        "print(\"Recall_score on train is:\",recall_score(train_y,lr_prediction_train))\n",
        "print(\"Recall_score on test is:\",recall_score(valid_y,lr_prediction_valid))\n",
        "print(\"f1_score on train is:\",f1_score(train_y,lr_prediction_train))\n",
        "print(\"f1_score on test is:\",f1_score(valid_y,lr_prediction_valid))"
      ],
      "execution_count": 22,
      "outputs": [
        {
          "output_type": "stream",
          "text": [
            "Accuracy on train is: 0.6139682539682539\n",
            "Accuracy on test is: 0.6070781893004116\n",
            "Precision_score train is: 0.3540996784565916\n",
            "Precision_score on test is: 0.3482902676775491\n",
            "Recall_score on train is: 0.802367941712204\n",
            "Recall_score on test is: 0.8002132954141487\n",
            "f1_score on train is: 0.49135527049637484\n",
            "f1_score on test is: 0.4853385079775765\n"
          ],
          "name": "stdout"
        }
      ]
    },
    {
      "cell_type": "markdown",
      "metadata": {
        "id": "snntUqEqrTUN"
      },
      "source": [
        "Recall is higher than other metrics for the logistric regression model. Precision is relatively low."
      ]
    },
    {
      "cell_type": "markdown",
      "metadata": {
        "id": "keE3VvB6rTUO"
      },
      "source": [
        "## Decision Tree"
      ]
    },
    {
      "cell_type": "code",
      "metadata": {
        "id": "GQQ9KN5nrTUP"
      },
      "source": [
        "import numpy as np\n",
        "from sklearn.model_selection import train_test_split\n",
        "train_X, valid_X, train_y, valid_y = train_test_split(X, y, test_size=0.3, random_state=1)"
      ],
      "execution_count": 23,
      "outputs": []
    },
    {
      "cell_type": "code",
      "metadata": {
        "id": "bXbpCohbrTUP",
        "colab": {
          "base_uri": "https://localhost:8080/",
          "height": 286
        },
        "outputId": "bd34f7ae-824d-4b0f-f691-e4638723eab3"
      },
      "source": [
        "from sklearn.tree import DecisionTreeClassifier\n",
        "from dmba import plotDecisionTree\n",
        "\n",
        "DecisionTree = DecisionTreeClassifier(max_depth = 4)\n",
        "DecisionTree.fit(train_X, train_y)\n",
        "\n",
        "plotDecisionTree(DecisionTree, feature_names=train_X.columns)"
      ],
      "execution_count": 24,
      "outputs": [
        {
          "output_type": "execute_result",
          "data": {
            "image/png": "[encoded data removed]",
            "text/plain": [
              "<IPython.core.display.Image object>"
            ]
          },
          "metadata": {
            "tags": []
          },
          "execution_count": 24
        }
      ]
    },
    {
      "cell_type": "markdown",
      "metadata": {
        "id": "Nn9LrvLWrTUQ"
      },
      "source": [
        "### Feature Importance"
      ]
    },
    {
      "cell_type": "code",
      "metadata": {
        "id": "Px8EelSOrTUQ",
        "colab": {
          "base_uri": "https://localhost:8080/"
        },
        "outputId": "3c0d4884-d6d8-40f3-f5c0-9797f532fe0d"
      },
      "source": [
        "importances = DecisionTree.feature_importances_\n",
        "\n",
        "im = pd.DataFrame({'feature': train_X.columns, 'importance': importances})\n",
        "im = im.sort_values('importance',ascending=False)\n",
        "print(im)"
      ],
      "execution_count": 25,
      "outputs": [
        {
          "output_type": "stream",
          "text": [
            "                        feature  importance\n",
            "12   charge_cycle_time_below_12    0.448823\n",
            "10        discharging_rate_lag3    0.393047\n",
            "4            charging_rate_lag3    0.126021\n",
            "44     avg_volt_change_charging    0.021475\n",
            "42               total_off_time    0.002776\n",
            "37           charging_rate_lag4    0.002613\n",
            "43         number_times_restart    0.002422\n",
            "34        discharging_rate_lag5    0.001893\n",
            "26   avg_time_discharging_lag11    0.000931\n",
            "45  avg_volt_change_discharging    0.000000\n",
            "46            avg_time_charging    0.000000\n",
            "30   avg_time_discharging_lag13    0.000000\n",
            "31      avg_time_charging_lag14    0.000000\n",
            "32   avg_time_discharging_lag14    0.000000\n",
            "33        discharging_rate_lag4    0.000000\n",
            "50                   cycle_time    0.000000\n",
            "35        discharging_rate_lag6    0.000000\n",
            "36        discharging_rate_lag8    0.000000\n",
            "49                   piececount    0.000000\n",
            "38           charging_rate_lag5    0.000000\n",
            "39           charging_rate_lag6    0.000000\n",
            "40                 chargecycles    0.000000\n",
            "41              dischargecycles    0.000000\n",
            "28   avg_time_discharging_lag12    0.000000\n",
            "48              max_voltage_day    0.000000\n",
            "47         avg_time_discharging    0.000000\n",
            "29      avg_time_charging_lag13    0.000000\n",
            "0        avg_time_charging_lag1    0.000000\n",
            "27      avg_time_charging_lag12    0.000000\n",
            "1        avg_time_charging_lag2    0.000000\n",
            "2        avg_time_charging_lag3    0.000000\n",
            "3        avg_time_charging_lag7    0.000000\n",
            "5            charging_rate_lag7    0.000000\n",
            "6     avg_time_discharging_lag1    0.000000\n",
            "7     avg_time_discharging_lag2    0.000000\n",
            "8     avg_time_discharging_lag3    0.000000\n",
            "9     avg_time_discharging_lag7    0.000000\n",
            "11        discharging_rate_lag7    0.000000\n",
            "13       avg_time_charging_lag4    0.000000\n",
            "14    avg_time_discharging_lag4    0.000000\n",
            "15       avg_time_charging_lag5    0.000000\n",
            "16    avg_time_discharging_lag5    0.000000\n",
            "17       avg_time_charging_lag6    0.000000\n",
            "18    avg_time_discharging_lag6    0.000000\n",
            "19       avg_time_charging_lag8    0.000000\n",
            "20    avg_time_discharging_lag8    0.000000\n",
            "21       avg_time_charging_lag9    0.000000\n",
            "22    avg_time_discharging_lag9    0.000000\n",
            "23      avg_time_charging_lag10    0.000000\n",
            "24   avg_time_discharging_lag10    0.000000\n",
            "25      avg_time_charging_lag11    0.000000\n",
            "51                DaysInService    0.000000\n"
          ],
          "name": "stdout"
        }
      ]
    },
    {
      "cell_type": "markdown",
      "metadata": {
        "id": "Sy0iVvwErTUQ"
      },
      "source": [
        "### Model Metrics"
      ]
    },
    {
      "cell_type": "code",
      "metadata": {
        "id": "Yc1k8E4qrTUQ",
        "colab": {
          "base_uri": "https://localhost:8080/"
        },
        "outputId": "1184c74b-77d8-4b40-f84b-c12692b420f1"
      },
      "source": [
        "dt_prediction_train = DecisionTree.predict(train_X) \n",
        "dt_prediction_valid = DecisionTree.predict(valid_X) \n",
        "    \n",
        "print(\"Accuracy score on train is:\",accuracy_score(train_y,dt_prediction_train))\n",
        "print(\"Accuracy score on test is:\",accuracy_score(valid_y,dt_prediction_valid))\n",
        "print(\"Precision score on train is:\",precision_score(train_y,dt_prediction_train))\n",
        "print(\"Precision score on test is:\",precision_score(valid_y,dt_prediction_valid))\n",
        "print(\"Recall score on train is:\",recall_score(train_y,dt_prediction_train))\n",
        "print(\"Recall score on test is:\",recall_score(valid_y,dt_prediction_valid))\n",
        "print(\"F1 score on train is:\",f1_score(train_y,dt_prediction_train))\n",
        "print(\"F1 score on test is:\",f1_score(valid_y,dt_prediction_valid))"
      ],
      "execution_count": 26,
      "outputs": [
        {
          "output_type": "stream",
          "text": [
            "Accuracy score on train is: 0.8059611992945326\n",
            "Accuracy score on test is: 0.8052674897119342\n",
            "Precision score on train is: 0.6375601113642116\n",
            "Precision score on test is: 0.6310850439882698\n",
            "Recall score on train is: 0.3823618700667881\n",
            "Recall score on test is: 0.3825097760398151\n",
            "F1 score on train is: 0.478033969067274\n",
            "F1 score on test is: 0.4763169544046038\n"
          ],
          "name": "stdout"
        }
      ]
    },
    {
      "cell_type": "markdown",
      "metadata": {
        "id": "LhCWHGKOrTUR"
      },
      "source": [
        "Accuracy is higher than other metrics for the decision tree model. Recall is relatively low."
      ]
    },
    {
      "cell_type": "markdown",
      "metadata": {
        "id": "mxAI19DxrTUR"
      },
      "source": [
        "## Naive Bayes"
      ]
    },
    {
      "cell_type": "code",
      "metadata": {
        "id": "uDYGWqwCrTUR"
      },
      "source": [
        "from sklearn.naive_bayes import GaussianNB\n",
        "\n",
        "nb = GaussianNB()\n",
        "nb.fit(train_X, train_y)\n",
        "\n",
        "# predict probabilities\n",
        "prediction_train = nb.predict_proba(train_X)\n",
        "prediction_valid = nb.predict_proba(valid_X)"
      ],
      "execution_count": 27,
      "outputs": []
    },
    {
      "cell_type": "markdown",
      "metadata": {
        "id": "HPXCfMEMrTUR"
      },
      "source": [
        "### Model Metrics"
      ]
    },
    {
      "cell_type": "code",
      "metadata": {
        "id": "tT2_e5VDrTUR",
        "colab": {
          "base_uri": "https://localhost:8080/"
        },
        "outputId": "8dc5885e-e04b-4931-bb46-cf024b2c0011"
      },
      "source": [
        "nb_prediction_train = nb.predict(train_X) \n",
        "nb_prediction_valid = nb.predict(valid_X)\n",
        "\n",
        "print(\"Accuracy on train is:\",accuracy_score(train_y,nb_prediction_train)) \n",
        "print(\"Accuracy on test is:\",accuracy_score(valid_y,nb_prediction_valid)) \n",
        "print(\"Precision_score train is:\",precision_score(train_y,nb_prediction_train)) \n",
        "print(\"Precision_score on test is:\",precision_score(valid_y,nb_prediction_valid)) \n",
        "print(\"Recall_score on train is:\",recall_score(train_y,nb_prediction_train)) \n",
        "print(\"Recall_score on test is:\",recall_score(valid_y,nb_prediction_valid)) \n",
        "print(\"f1_score on train is:\",f1_score(train_y,nb_prediction_train)) \n",
        "print(\"f1_score on test is:\",f1_score(valid_y,nb_prediction_valid))"
      ],
      "execution_count": 28,
      "outputs": [
        {
          "output_type": "stream",
          "text": [
            "Accuracy on train is: 0.62\n",
            "Accuracy on test is: 0.6149794238683127\n",
            "Precision_score train is: 0.34651213966111644\n",
            "Precision_score on test is: 0.3426160337552743\n",
            "Recall_score on train is: 0.7170613236187007\n",
            "Recall_score on test is: 0.7216494845360825\n",
            "f1_score on train is: 0.4672370308095545\n",
            "f1_score on test is: 0.46463721675440606\n"
          ],
          "name": "stdout"
        }
      ]
    },
    {
      "cell_type": "markdown",
      "metadata": {
        "id": "T-CLsyBnrTUS"
      },
      "source": [
        "Recall is higher than other metrics for the naive bayes model. Precision is relatively low."
      ]
    },
    {
      "cell_type": "markdown",
      "metadata": {
        "id": "vCKT2emkrTUS"
      },
      "source": [
        "## Random Forest"
      ]
    },
    {
      "cell_type": "code",
      "metadata": {
        "id": "dExYUWhvrTUT"
      },
      "source": [
        "rf = RandomForestClassifier(random_state=0)\n",
        "cc_rf = rf.fit(train_X.values, train_y.values.ravel())"
      ],
      "execution_count": 29,
      "outputs": []
    },
    {
      "cell_type": "code",
      "metadata": {
        "id": "7UHDWSVtrTUT",
        "colab": {
          "base_uri": "https://localhost:8080/"
        },
        "outputId": "18c13a18-81bb-43a7-ea8f-e7074f890088"
      },
      "source": [
        "rf_prediction_train = cc_rf.predict(train_X)\n",
        "rf_prediction_valid = cc_rf.predict(valid_X)\n",
        "\n",
        "print(\"Accuracy on train is:\",accuracy_score(train_y,rf_prediction_train))\n",
        "print(\"Accuracy on test is:\",accuracy_score(valid_y,rf_prediction_valid))\n",
        "print(\"Precision_score train is:\",precision_score(train_y,rf_prediction_train))\n",
        "print(\"Precision_score on test is:\",precision_score(valid_y,rf_prediction_valid))\n",
        "print(\"Recall_score on train is:\",recall_score(train_y,rf_prediction_train))\n",
        "print(\"Recall_score on test is:\",recall_score(valid_y,rf_prediction_valid))\n",
        "print(\"f1_score on train is:\",f1_score(train_y,rf_prediction_train))\n",
        "print(\"f1_score on test is:\",f1_score(valid_y,rf_prediction_valid))"
      ],
      "execution_count": 30,
      "outputs": [
        {
          "output_type": "stream",
          "text": [
            "Accuracy on train is: 1.0\n",
            "Accuracy on test is: 0.7978600823045268\n",
            "Precision_score train is: 1.0\n",
            "Precision_score on test is: 0.7035347776510832\n",
            "Recall_score on train is: 1.0\n",
            "Recall_score on test is: 0.21933878421613937\n",
            "f1_score on train is: 1.0\n",
            "f1_score on test is: 0.3344173441734417\n"
          ],
          "name": "stdout"
        }
      ]
    },
    {
      "cell_type": "markdown",
      "metadata": {
        "id": "cQZFfEZhrTUT"
      },
      "source": [
        "There's an overfitting problem in this model since all scores from training set, which are close to 100%, are much higher than ones from test set."
      ]
    },
    {
      "cell_type": "markdown",
      "metadata": {
        "id": "EONAAAG6rTUU"
      },
      "source": [
        "## Gradient Boosted Trees"
      ]
    },
    {
      "cell_type": "code",
      "metadata": {
        "id": "-tF10mYCrTUU",
        "colab": {
          "base_uri": "https://localhost:8080/"
        },
        "outputId": "7f6683e0-1694-4387-de9f-8e746796224e"
      },
      "source": [
        "from sklearn.ensemble import GradientBoostingClassifier\n",
        "\n",
        "gbm = GradientBoostingClassifier(random_state=0)\n",
        "gbm.fit(train_X, train_y)\n",
        "gbm.predict(valid_X[:2])"
      ],
      "execution_count": 31,
      "outputs": [
        {
          "output_type": "execute_result",
          "data": {
            "text/plain": [
              "array([0, 0])"
            ]
          },
          "metadata": {
            "tags": []
          },
          "execution_count": 31
        }
      ]
    },
    {
      "cell_type": "markdown",
      "metadata": {
        "id": "kIo9xcSVrTUU"
      },
      "source": [
        "### Feature Importance"
      ]
    },
    {
      "cell_type": "code",
      "metadata": {
        "id": "fmp_0Yj-rTUU",
        "colab": {
          "base_uri": "https://localhost:8080/",
          "height": 420
        },
        "outputId": "f979cc42-89a4-4bbb-d007-f8b1476c701d"
      },
      "source": [
        "importances = list(zip(gbm.feature_importances_, tr.columns))\n",
        "pd.DataFrame(importances, index=[x for (_,x) in importances]).sort_values(by = 0, ascending = False).plot(kind = 'bar', color = 'r')"
      ],
      "execution_count": 32,
      "outputs": [
        {
          "output_type": "execute_result",
          "data": {
            "text/plain": [
              "<matplotlib.axes._subplots.AxesSubplot at 0x7f20369fb490>"
            ]
          },
          "metadata": {
            "tags": []
          },
          "execution_count": 32
        },
        {
          "output_type": "display_data",
          "data": {
            "image/png": "[encoded data removed]",
            "text/plain": [
              "<Figure size 432x288 with 1 Axes>"
            ]
          },
          "metadata": {
            "tags": [],
            "needs_background": "light"
          }
        }
      ]
    },
    {
      "cell_type": "markdown",
      "metadata": {
        "id": "ZTEktJBvrTUV"
      },
      "source": [
        "Most important feature is discharging_rate_lag3"
      ]
    },
    {
      "cell_type": "markdown",
      "metadata": {
        "id": "DcTEK7cHrTUV"
      },
      "source": [
        "### Model Metrics"
      ]
    },
    {
      "cell_type": "code",
      "metadata": {
        "id": "BxkIZKgCrTUV",
        "colab": {
          "base_uri": "https://localhost:8080/"
        },
        "outputId": "82fe5950-1456-42f2-dcb9-2f02af867961"
      },
      "source": [
        "gbt_prediction_train = gbm.predict(train_X)\n",
        "gbt_prediction_valid = gbm.predict(valid_X)\n",
        "\n",
        "print(\"Accuracy on train is:\",accuracy_score(train_y,gbt_prediction_train))\n",
        "print(\"Accuracy on test is:\",accuracy_score(valid_y,gbt_prediction_valid))\n",
        "print(\"Precision_score train is:\",precision_score(train_y,gbt_prediction_train))\n",
        "print(\"Precision_score on test is:\",precision_score(valid_y,gbt_prediction_valid))\n",
        "print(\"Recall_score on train is:\",recall_score(train_y,gbt_prediction_train))\n",
        "print(\"Recall_score on test is:\",recall_score(valid_y,gbt_prediction_valid))\n",
        "print(\"f1_score on train is:\",f1_score(train_y,gbt_prediction_train))\n",
        "print(\"f1_score on test is:\",f1_score(valid_y,gbt_prediction_valid))"
      ],
      "execution_count": 33,
      "outputs": [
        {
          "output_type": "stream",
          "text": [
            "Accuracy on train is: 0.8185537918871252\n",
            "Accuracy on test is: 0.8137448559670782\n",
            "Precision_score train is: 0.7053469852104665\n",
            "Precision_score on test is: 0.6816380449141347\n",
            "Recall_score on train is: 0.37644201578627806\n",
            "Recall_score on test is: 0.3668681123355848\n",
            "f1_score on train is: 0.49089469517022954\n",
            "f1_score on test is: 0.4770048532470534\n"
          ],
          "name": "stdout"
        }
      ]
    },
    {
      "cell_type": "markdown",
      "metadata": {
        "id": "yklgY-B_rTUV"
      },
      "source": [
        "Accuracy is higher than other metrics for the gradient boosted tree model. Recall is relatively low."
      ]
    },
    {
      "cell_type": "code",
      "metadata": {
        "id": "h6Hi8JXcrTUV"
      },
      "source": [
        ""
      ],
      "execution_count": 33,
      "outputs": []
    },
    {
      "cell_type": "markdown",
      "metadata": {
        "id": "c3Em00yAjhYI"
      },
      "source": [
        "# Neural Network"
      ]
    },
    {
      "cell_type": "code",
      "metadata": {
        "id": "Y3XGfFDpjgbl",
        "outputId": "3b7f394e-5acf-444e-a308-44272b0ecfcc",
        "colab": {
          "base_uri": "https://localhost:8080/"
        }
      },
      "source": [
        "from sklearn.preprocessing import MinMaxScaler\n",
        "scaler = MinMaxScaler()\n",
        "X_scale=scaler.fit_transform(X)\n",
        "X_scale.shape"
      ],
      "execution_count": 34,
      "outputs": [
        {
          "output_type": "execute_result",
          "data": {
            "text/plain": [
              "(40500, 52)"
            ]
          },
          "metadata": {
            "tags": []
          },
          "execution_count": 34
        }
      ]
    },
    {
      "cell_type": "code",
      "metadata": {
        "id": "DBIKtZXQjgW8"
      },
      "source": [
        "y_tr = tr[[outcome]] # for neural network only because this model need to get y_df.shape[1]\n",
        "train_X_nn, valid_X_nn, train_y_nn, valid_y_nn = train_test_split(X_scale, y_tr, test_size=0.3, random_state=1) "
      ],
      "execution_count": 35,
      "outputs": []
    },
    {
      "cell_type": "code",
      "metadata": {
        "id": "UY7yQWlyjgRX"
      },
      "source": [
        "import tensorflow as tf\n",
        "from tensorflow import keras"
      ],
      "execution_count": 36,
      "outputs": []
    },
    {
      "cell_type": "code",
      "metadata": {
        "id": "GQYCawF3jgMB"
      },
      "source": [
        "model2 = tf.keras.Sequential([ tf.keras.layers.Flatten(),\n",
        "                             tf.keras.layers.Dense(units=128, activation=tf.nn.relu),\n",
        "                             tf.keras.layers.Dense(units=1,activation=tf.nn.sigmoid)])"
      ],
      "execution_count": 37,
      "outputs": []
    },
    {
      "cell_type": "code",
      "metadata": {
        "id": "Qd8KPCiKjgGW"
      },
      "source": [
        "model2.compile(optimizer= tf.optimizers.Adam(),\n",
        "              loss = tf.losses.binary_crossentropy,\n",
        "              metrics = ['accuracy'])"
      ],
      "execution_count": 38,
      "outputs": []
    },
    {
      "cell_type": "code",
      "metadata": {
        "id": "dTsM_G1hjgDA",
        "outputId": "94a877ce-475f-471a-f14b-3ded5d9ca37a",
        "colab": {
          "base_uri": "https://localhost:8080/"
        }
      },
      "source": [
        "model2.fit(train_X_nn, train_y_nn, epochs = 15)"
      ],
      "execution_count": 39,
      "outputs": [
        {
          "output_type": "stream",
          "text": [
            "Epoch 1/15\n",
            "886/886 [==============================] - 5s 2ms/step - loss: 0.5109 - accuracy: 0.7719\n",
            "Epoch 2/15\n",
            "886/886 [==============================] - 2s 2ms/step - loss: 0.4868 - accuracy: 0.7684\n",
            "Epoch 3/15\n",
            "886/886 [==============================] - 2s 2ms/step - loss: 0.4883 - accuracy: 0.7704\n",
            "Epoch 4/15\n",
            "886/886 [==============================] - 2s 2ms/step - loss: 0.4880 - accuracy: 0.7700\n",
            "Epoch 5/15\n",
            "886/886 [==============================] - 2s 2ms/step - loss: 0.4915 - accuracy: 0.7624\n",
            "Epoch 6/15\n",
            "886/886 [==============================] - 2s 2ms/step - loss: 0.4831 - accuracy: 0.7718\n",
            "Epoch 7/15\n",
            "886/886 [==============================] - 2s 2ms/step - loss: 0.4959 - accuracy: 0.7636\n",
            "Epoch 8/15\n",
            "886/886 [==============================] - 2s 2ms/step - loss: 0.4842 - accuracy: 0.7695\n",
            "Epoch 9/15\n",
            "886/886 [==============================] - 2s 2ms/step - loss: 0.4912 - accuracy: 0.7658\n",
            "Epoch 10/15\n",
            "886/886 [==============================] - 2s 2ms/step - loss: 0.4854 - accuracy: 0.7677\n",
            "Epoch 11/15\n",
            "886/886 [==============================] - 2s 2ms/step - loss: 0.4809 - accuracy: 0.7711\n",
            "Epoch 12/15\n",
            "886/886 [==============================] - 2s 2ms/step - loss: 0.4815 - accuracy: 0.7689\n",
            "Epoch 13/15\n",
            "886/886 [==============================] - 2s 2ms/step - loss: 0.4854 - accuracy: 0.7680\n",
            "Epoch 14/15\n",
            "886/886 [==============================] - 2s 2ms/step - loss: 0.4894 - accuracy: 0.7675\n",
            "Epoch 15/15\n",
            "886/886 [==============================] - 2s 2ms/step - loss: 0.4905 - accuracy: 0.7642\n"
          ],
          "name": "stdout"
        },
        {
          "output_type": "execute_result",
          "data": {
            "text/plain": [
              "<tensorflow.python.keras.callbacks.History at 0x7f1ff96a7cd0>"
            ]
          },
          "metadata": {
            "tags": []
          },
          "execution_count": 39
        }
      ]
    },
    {
      "cell_type": "code",
      "metadata": {
        "id": "DRHCZRI0jf8g",
        "outputId": "c1eee723-1129-4a24-b677-86cb195eca06",
        "colab": {
          "base_uri": "https://localhost:8080/"
        }
      },
      "source": [
        "model2.evaluate(valid_X_nn, valid_y_nn)"
      ],
      "execution_count": 41,
      "outputs": [
        {
          "output_type": "stream",
          "text": [
            "380/380 [==============================] - 1s 1ms/step - loss: 0.4902 - accuracy: 0.7683\n"
          ],
          "name": "stdout"
        },
        {
          "output_type": "execute_result",
          "data": {
            "text/plain": [
              "[0.49017244577407837, 0.7683127522468567]"
            ]
          },
          "metadata": {
            "tags": []
          },
          "execution_count": 41
        }
      ]
    },
    {
      "cell_type": "code",
      "metadata": {
        "id": "kZpJU4c0jf2X"
      },
      "source": [
        "y_pred_valid = model2.predict(valid_X_nn).ravel()\n",
        "y_pred = model2.predict(train_X_nn).ravel()"
      ],
      "execution_count": 43,
      "outputs": []
    },
    {
      "cell_type": "code",
      "metadata": {
        "id": "Qum1MwwJjeud"
      },
      "source": [
        ""
      ],
      "execution_count": null,
      "outputs": []
    },
    {
      "cell_type": "markdown",
      "metadata": {
        "id": "jCKtqKflrTUW"
      },
      "source": [
        "## Baseline AUC"
      ]
    },
    {
      "cell_type": "code",
      "metadata": {
        "id": "2TYV4eo_rTUW",
        "colab": {
          "base_uri": "https://localhost:8080/"
        },
        "outputId": "6225d296-d2c9-4494-acb9-119f55e2bd21"
      },
      "source": [
        "from sklearn.metrics import roc_curve, auc\n",
        "# LR\n",
        "fpr, tpr, thresholds = roc_curve(train_y,lr_prediction_train)\n",
        "print(\"LogisticRegression Train: \",str(auc(fpr, tpr)))\n",
        "fpr, tpr, thresholds = roc_curve(valid_y,lr_prediction_valid)\n",
        "print(\"LogisticRegression Valid: \",str(auc(fpr, tpr)),\"\\n\")\n",
        "# DT\n",
        "fpr, tpr, thresholds = roc_curve(train_y,dt_prediction_train)\n",
        "print(\"DecisionTree Train: \",str(auc(fpr, tpr)))\n",
        "fpr, tpr, thresholds = roc_curve(valid_y,dt_prediction_valid)\n",
        "print(\"DecisionTree Valid: \",str(auc(fpr, tpr)),\"\\n\")\n",
        "# NB\n",
        "fpr, tpr, thresholds = roc_curve(train_y,nb_prediction_train)\n",
        "print(\"NaiveBayes Train: \",str(auc(fpr, tpr)))\n",
        "fpr, tpr, thresholds = roc_curve(valid_y,nb_prediction_valid)\n",
        "print(\"NaiveBayes Valid: \",str(auc(fpr, tpr)),\"\\n\")\n",
        "# RF\n",
        "fpr, tpr, thresholds = roc_curve(train_y,rf_prediction_train)\n",
        "print(\"RandomForest Train: \",str(auc(fpr, tpr)))\n",
        "fpr, tpr, thresholds = roc_curve(valid_y,rf_prediction_valid)\n",
        "print(\"RandomForest Valid: \",str(auc(fpr, tpr)),\"\\n\")\n",
        "# GBT\n",
        "fpr, tpr, thresholds = roc_curve(train_y,gbt_prediction_train )\n",
        "print(\"GradientBoostedTree Train: \",str(auc(fpr, tpr)))\n",
        "fpr, tpr, thresholds = roc_curve(valid_y,gbt_prediction_valid)\n",
        "print(\"GradientBoostedTree Valid: \",str(auc(fpr, tpr)),\"\\n\")\n",
        "# NN\n",
        "fpr, tpr, thresholds = roc_curve(train_y_nn, y_pred)\n",
        "print(\"NeuralNetworks Train: \",str(auc(fpr, tpr)))\n",
        "#fpr, tpr, thresholds = roc_curve(valid_y,nn_prediction_valid)\n",
        "fpr, tpr, thresholds = roc_curve(valid_y_nn, y_pred_valid)\n",
        "print(\"NeuralNetworkss Valid: \",str(auc(fpr, tpr)),\"\\n\")\n",
        "\n"
      ],
      "execution_count": 45,
      "outputs": [
        {
          "output_type": "stream",
          "text": [
            "LogisticRegression Train:  0.679651023516703\n",
            "LogisticRegression Valid:  0.6745524011610746 \n",
            "\n",
            "DecisionTree Train:  0.6582795472932965\n",
            "DecisionTree Valid:  0.6575716921325775 \n",
            "\n",
            "NaiveBayes Train:  0.6538389974402666\n",
            "NaiveBayes Valid:  0.6522459696430011 \n",
            "\n",
            "RandomForest Train:  1.0\n",
            "RandomForest Valid:  0.5957462904694277 \n",
            "\n",
            "GradientBoostedTree Train:  0.6644180486063087\n",
            "GradientBoostedTree Valid:  0.657622767745387 \n",
            "\n",
            "NeuralNetworks Train:  0.7307813220261563\n",
            "NeuralNetworkss Valid:  0.712640130978964 \n",
            "\n"
          ],
          "name": "stdout"
        }
      ]
    },
    {
      "cell_type": "code",
      "metadata": {
        "id": "RhncAYz0rTUW"
      },
      "source": [
        "## ROC Curve Analysis"
      ],
      "execution_count": null,
      "outputs": []
    },
    {
      "cell_type": "code",
      "metadata": {
        "id": "z0CwitDcrTUW"
      },
      "source": [
        "rf_proba = cc_rf.predict_proba(valid_X)[:,1]\n",
        "rf_roc = roc_curve(valid_y, rf_proba)\n",
        "rf_roc = pd.DataFrame(rf_roc)\n",
        "gbm_proba=gbm.predict_proba(valid_X)[:,1]\n",
        "gbm_roc = roc_curve(valid_y, gbm_proba)\n",
        "gbm_roc = pd.DataFrame(gbm_roc)\n",
        "nn_proba = model2.predict(valid_X_nn)\n",
        "nn_roc = roc_curve(valid_y_nn, nn_proba)\n",
        "nn_roc = pd.DataFrame(nn_roc)"
      ],
      "execution_count": 46,
      "outputs": []
    },
    {
      "cell_type": "code",
      "metadata": {
        "id": "pnE7YTUMrTUW",
        "colab": {
          "base_uri": "https://localhost:8080/",
          "height": 530
        },
        "outputId": "50ad4953-f352-417e-8fff-0bf0a0268fca"
      },
      "source": [
        "import sklearn.metrics as metrics\n",
        "from sklearn.metrics import plot_roc_curve\n",
        "%matplotlib inline\n",
        "Classifier = [logit_reg,nb,DecisionTree]\n",
        "result_table = pd.DataFrame(columns=['classifiers', 'fpr','tpr','auc'])\n",
        "for cls in Classifier:\n",
        "    yproba = cls.predict_proba(valid_X)[:,1]\n",
        "    #plot_roc_curve(cls, valid_X, valid_y)\n",
        "    fpr, tpr, thresholds = roc_curve(valid_y,  yproba)\n",
        "\n",
        "    auc = roc_auc_score(valid_y, yproba)\n",
        "    \n",
        "    result_table = result_table.append({'classifiers':cls,\n",
        "                                        'fpr':fpr, \n",
        "                                        'tpr':tpr, \n",
        "                                        'auc':auc}, ignore_index=True)\n",
        "result_table.set_index('classifiers', inplace=True)\n",
        "#result_table.fillna(0)\n",
        "fig = plt.figure(figsize=(8,6))\n",
        "\n",
        "print(result_table.head())\n",
        "\n",
        "for i in result_table.index:\n",
        "\n",
        "    plt.plot(result_table.loc[i]['fpr'], \n",
        "             result_table.loc[i]['tpr'],\n",
        "             label=i)\n",
        "             #label=\"{}, AUC={:.3f}\".format(i, result_table.loc[i]['auc']))\n",
        "    \n",
        "plt.plot(rf_roc.loc[0,:], rf_roc.loc[1,:], label=\"Random Forest\")\n",
        "plt.plot(gbm_roc.loc[0,:], gbm_roc.loc[1,:], label=\"Gradiant Boosted Tree\")\n",
        "plt.plot(nn_roc.loc[0,:], nn_roc.loc[1,:], label=\"Neural Network\")\n",
        "\n",
        "plt.plot([0,1], [0,1], color='orange', linestyle='--')\n",
        "\n",
        "plt.xticks(np.arange(0.0, 1.1, step=0.1))\n",
        "plt.xlabel(\"False Positive Rate\", fontsize=15)\n",
        "\n",
        "plt.yticks(np.arange(0.0, 1.1, step=0.1))\n",
        "plt.ylabel(\"True Positive Rate\", fontsize=15)\n",
        "\n",
        "plt.title('ROC Curve Analysis', fontweight='bold', fontsize=15)\n",
        "plt.legend(prop={'size':8}, loc='lower right')\n",
        "\n",
        "plt.show()"
      ],
      "execution_count": 47,
      "outputs": [
        {
          "output_type": "stream",
          "text": [
            "                                                                                                  fpr  ...       auc\n",
            "classifiers                                                                                            ...          \n",
            "LogisticRegression(C=1e+42, class_weight='balan...  [0.0, 0.0001071007818357074, 0.000428403127342...  ...  0.717728\n",
            "GaussianNB(priors=None, var_smoothing=1e-09)        [0.0, 0.0, 0.0, 0.0012852093820284888, 0.00128...  ...  0.679613\n",
            "DecisionTreeClassifier(ccp_alpha=0.0, class_wei...  [0.0, 0.0002142015636714148, 0.027417800149941...  ...  0.756570\n",
            "\n",
            "[3 rows x 3 columns]\n"
          ],
          "name": "stdout"
        },
        {
          "output_type": "display_data",
          "data": {
            "image/png": "[encoded data removed]",
            "text/plain": [
              "<Figure size 576x432 with 1 Axes>"
            ]
          },
          "metadata": {
            "tags": [],
            "needs_background": "light"
          }
        }
      ]
    },
    {
      "cell_type": "markdown",
      "metadata": {
        "id": "86JwI7GCrTUX"
      },
      "source": [
        "Gradient boosted tree and decision tree performed best. Random forest has overfitting. "
      ]
    },
    {
      "cell_type": "code",
      "metadata": {
        "id": "gzVV9K48rTUX"
      },
      "source": [
        ""
      ],
      "execution_count": null,
      "outputs": []
    }
  ]
}