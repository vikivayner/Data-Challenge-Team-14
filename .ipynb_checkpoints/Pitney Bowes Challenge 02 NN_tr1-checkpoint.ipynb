{
  "nbformat": 4,
  "nbformat_minor": 0,
  "metadata": {
    "accelerator": "GPU",
    "colab": {
      "name": "Pitney Bowes Challenge 02aaa.ipynb",
      "provenance": []
    },
    "kernelspec": {
      "display_name": "Python 3",
      "language": "python",
      "name": "python3"
    },
    "language_info": {
      "codemirror_mode": {
        "name": "ipython",
        "version": 3
      },
      "file_extension": ".py",
      "mimetype": "text/x-python",
      "name": "python",
      "nbconvert_exporter": "python",
      "pygments_lexer": "ipython3",
      "version": "3.8.5"
    }
  },
  "cells": [
    {
      "cell_type": "markdown",
      "metadata": {
        "id": "__euuzngrTT6"
      },
      "source": [
        "### Import Packages"
      ]
    },
    {
      "cell_type": "code",
      "metadata": {
        "colab": {
          "base_uri": "https://localhost:8080/"
        },
        "id": "sBN0038-rTUB",
        "outputId": "e8fd811d-b991-4c5c-a1d0-a6baaad0a88f"
      },
      "source": [
        "import pandas as pd\n",
        "import numpy as np\n",
        "import seaborn as sns\n",
        "import matplotlib.pyplot as plt\n",
        "from sklearn.model_selection import train_test_split\n",
        "from sklearn.linear_model import LinearRegression, Lasso, Ridge, LassoCV, BayesianRidge\n",
        "from sklearn.linear_model import LogisticRegression, LogisticRegressionCV\n",
        "!pip install dmba\n",
        "from dmba import classificationSummary, gainsChart, liftChart\n",
        "from sklearn.ensemble import RandomForestClassifier"
      ],
      "execution_count": 1,
      "outputs": [
        {
          "output_type": "stream",
          "text": [
            "Collecting dmba\n",
            "\u001b[?25l  Downloading https://files.pythonhosted.org/packages/75/06/15c89846de47be5f3522ef0bebd61c62e14afe167877778094a335df5fe4/dmba-0.0.18-py3-none-any.whl (11.8MB)\n",
            "\u001b[K     |████████████████████████████████| 11.8MB 234kB/s \n",
            "\u001b[?25hInstalling collected packages: dmba\n",
            "Successfully installed dmba-0.0.18\n",
            "no display found. Using non-interactive Agg backend\n"
          ],
          "name": "stdout"
        }
      ]
    },
    {
      "cell_type": "markdown",
      "metadata": {
        "id": "dHmsr0bvrTUD"
      },
      "source": [
        "### Open Files, Create DataFrames, Zero Null Values\n",
        "#### *To keep nulls, comment 3rd var, remove \"n\" from dataframe var."
      ]
    },
    {
      "cell_type": "code",
      "metadata": {
        "id": "345zuT42rTUE"
      },
      "source": [
        "url = 'https://raw.githubusercontent.com/vikivayner/Data-Challenge-Team-14/main/test.csv'\n",
        "test = pd.read_csv(url)\n",
        "tsn = pd.DataFrame(test)\n",
        "ts = tsn.fillna(0)\n",
        "\n",
        "url2 = 'https://raw.githubusercontent.com/vikivayner/Data-Challenge-Team-14/main/train.csv'\n",
        "\n",
        "train = pd.read_csv(url2)\n",
        "trn = pd.DataFrame(train)\n",
        "tr = trn.fillna(0)"
      ],
      "execution_count": 2,
      "outputs": []
    },
    {
      "cell_type": "markdown",
      "metadata": {
        "id": "g48wTjO2rTUE"
      },
      "source": [
        "### Convert \"LastRecord\" and \"Date Deployed\" to Datetime"
      ]
    },
    {
      "cell_type": "code",
      "metadata": {
        "id": "gHSqaSxJrTUE"
      },
      "source": [
        "ts[\"LastRecord\"], ts[\"Date Deployed\"] = pd.to_datetime(ts[\"LastRecord\"]), pd.to_datetime(ts[\"Date Deployed\"])\n",
        "tr[\"LastRecord\"], tr[\"Date Deployed\"] = pd.to_datetime(tr[\"LastRecord\"]), pd.to_datetime(tr[\"Date Deployed\"])"
      ],
      "execution_count": 3,
      "outputs": []
    },
    {
      "cell_type": "markdown",
      "metadata": {
        "id": "HTBLz3UCrTUE"
      },
      "source": [
        "### Create \"DaysInService\" Column, Convert from TimeDelta to Float for Plotting"
      ]
    },
    {
      "cell_type": "code",
      "metadata": {
        "id": "Wa-SOfRVrTUF"
      },
      "source": [
        "ts[\"DaysInService\"] = ts[\"LastRecord\"] - ts[\"Date Deployed\"]\n",
        "ts[\"DaysInService\"] = ts[\"DaysInService\"].dt.days.astype(\"float64\")\n",
        "tr[\"DaysInService\"] = tr[\"LastRecord\"] - tr[\"Date Deployed\"]\n",
        "tr[\"DaysInService\"] = tr[\"DaysInService\"].dt.days.astype(\"float64\")"
      ],
      "execution_count": 4,
      "outputs": []
    },
    {
      "cell_type": "markdown",
      "metadata": {
        "id": "ofklgsE-rTUF"
      },
      "source": [
        "### Get Info and Head (Raw Df)"
      ]
    },
    {
      "cell_type": "code",
      "metadata": {
        "colab": {
          "base_uri": "https://localhost:8080/",
          "height": 1000
        },
        "id": "5mHixDaxrTUF",
        "scrolled": true,
        "outputId": "6d400b74-587a-446c-c710-4b014164bb8c"
      },
      "source": [
        "#ts.info()\n",
        "#ts.head()\n",
        "\n",
        "tr.info()\n",
        "tr.head()"
      ],
      "execution_count": 5,
      "outputs": [
        {
          "output_type": "stream",
          "text": [
            "<class 'pandas.core.frame.DataFrame'>\n",
            "RangeIndex: 40500 entries, 0 to 40499\n",
            "Data columns (total 56 columns):\n",
            " #   Column                       Non-Null Count  Dtype         \n",
            "---  ------                       --------------  -----         \n",
            " 0   deviceid                     40500 non-null  int64         \n",
            " 1   avg_time_charging_lag1       40500 non-null  float64       \n",
            " 2   avg_time_charging_lag2       40500 non-null  float64       \n",
            " 3   avg_time_charging_lag3       40500 non-null  float64       \n",
            " 4   avg_time_charging_lag7       40500 non-null  float64       \n",
            " 5   charging_rate_lag3           40500 non-null  float64       \n",
            " 6   charging_rate_lag7           40500 non-null  float64       \n",
            " 7   avg_time_discharging_lag1    40500 non-null  float64       \n",
            " 8   avg_time_discharging_lag2    40500 non-null  float64       \n",
            " 9   avg_time_discharging_lag3    40500 non-null  float64       \n",
            " 10  avg_time_discharging_lag7    40500 non-null  float64       \n",
            " 11  discharging_rate_lag3        40500 non-null  float64       \n",
            " 12  discharging_rate_lag7        40500 non-null  float64       \n",
            " 13  fail_7                       40500 non-null  int64         \n",
            " 14  charge_cycle_time_below_12   40500 non-null  bool          \n",
            " 15  avg_time_charging_lag4       40500 non-null  float64       \n",
            " 16  avg_time_discharging_lag4    40500 non-null  float64       \n",
            " 17  avg_time_charging_lag5       40500 non-null  float64       \n",
            " 18  avg_time_discharging_lag5    40500 non-null  float64       \n",
            " 19  avg_time_charging_lag6       40500 non-null  float64       \n",
            " 20  avg_time_discharging_lag6    40500 non-null  float64       \n",
            " 21  avg_time_charging_lag8       40500 non-null  float64       \n",
            " 22  avg_time_discharging_lag8    40500 non-null  float64       \n",
            " 23  avg_time_charging_lag9       40500 non-null  float64       \n",
            " 24  avg_time_discharging_lag9    40500 non-null  float64       \n",
            " 25  avg_time_charging_lag10      40500 non-null  float64       \n",
            " 26  avg_time_discharging_lag10   40500 non-null  float64       \n",
            " 27  avg_time_charging_lag11      40500 non-null  float64       \n",
            " 28  avg_time_discharging_lag11   40500 non-null  float64       \n",
            " 29  avg_time_charging_lag12      40500 non-null  float64       \n",
            " 30  avg_time_discharging_lag12   40500 non-null  float64       \n",
            " 31  avg_time_charging_lag13      40500 non-null  float64       \n",
            " 32  avg_time_discharging_lag13   40500 non-null  float64       \n",
            " 33  avg_time_charging_lag14      40500 non-null  float64       \n",
            " 34  avg_time_discharging_lag14   40500 non-null  float64       \n",
            " 35  discharging_rate_lag4        40500 non-null  float64       \n",
            " 36  discharging_rate_lag5        40500 non-null  float64       \n",
            " 37  discharging_rate_lag6        40500 non-null  float64       \n",
            " 38  discharging_rate_lag8        40500 non-null  float64       \n",
            " 39  charging_rate_lag4           40500 non-null  float64       \n",
            " 40  charging_rate_lag5           40500 non-null  float64       \n",
            " 41  charging_rate_lag6           40500 non-null  float64       \n",
            " 42  chargecycles                 40500 non-null  float64       \n",
            " 43  dischargecycles              40500 non-null  float64       \n",
            " 44  total_off_time               40500 non-null  float64       \n",
            " 45  number_times_restart         40500 non-null  float64       \n",
            " 46  avg_volt_change_charging     40500 non-null  float64       \n",
            " 47  avg_volt_change_discharging  40500 non-null  float64       \n",
            " 48  avg_time_charging            40500 non-null  float64       \n",
            " 49  avg_time_discharging         40500 non-null  float64       \n",
            " 50  max_voltage_day              40500 non-null  float64       \n",
            " 51  piececount                   40500 non-null  float64       \n",
            " 52  cycle_time                   40500 non-null  float64       \n",
            " 53  LastRecord                   40500 non-null  datetime64[ns]\n",
            " 54  Date Deployed                40500 non-null  datetime64[ns]\n",
            " 55  DaysInService                40500 non-null  float64       \n",
            "dtypes: bool(1), datetime64[ns](2), float64(51), int64(2)\n",
            "memory usage: 17.0 MB\n"
          ],
          "name": "stdout"
        },
        {
          "output_type": "execute_result",
          "data": {
            "text/html": [
              "<div>\n",
              "<style scoped>\n",
              "    .dataframe tbody tr th:only-of-type {\n",
              "        vertical-align: middle;\n",
              "    }\n",
              "\n",
              "    .dataframe tbody tr th {\n",
              "        vertical-align: top;\n",
              "    }\n",
              "\n",
              "    .dataframe thead th {\n",
              "        text-align: right;\n",
              "    }\n",
              "</style>\n",
              "<table border=\"1\" class=\"dataframe\">\n",
              "  <thead>\n",
              "    <tr style=\"text-align: right;\">\n",
              "      <th></th>\n",
              "      <th>deviceid</th>\n",
              "      <th>avg_time_charging_lag1</th>\n",
              "      <th>avg_time_charging_lag2</th>\n",
              "      <th>avg_time_charging_lag3</th>\n",
              "      <th>avg_time_charging_lag7</th>\n",
              "      <th>charging_rate_lag3</th>\n",
              "      <th>charging_rate_lag7</th>\n",
              "      <th>avg_time_discharging_lag1</th>\n",
              "      <th>avg_time_discharging_lag2</th>\n",
              "      <th>avg_time_discharging_lag3</th>\n",
              "      <th>avg_time_discharging_lag7</th>\n",
              "      <th>discharging_rate_lag3</th>\n",
              "      <th>discharging_rate_lag7</th>\n",
              "      <th>fail_7</th>\n",
              "      <th>charge_cycle_time_below_12</th>\n",
              "      <th>avg_time_charging_lag4</th>\n",
              "      <th>avg_time_discharging_lag4</th>\n",
              "      <th>avg_time_charging_lag5</th>\n",
              "      <th>avg_time_discharging_lag5</th>\n",
              "      <th>avg_time_charging_lag6</th>\n",
              "      <th>avg_time_discharging_lag6</th>\n",
              "      <th>avg_time_charging_lag8</th>\n",
              "      <th>avg_time_discharging_lag8</th>\n",
              "      <th>avg_time_charging_lag9</th>\n",
              "      <th>avg_time_discharging_lag9</th>\n",
              "      <th>avg_time_charging_lag10</th>\n",
              "      <th>avg_time_discharging_lag10</th>\n",
              "      <th>avg_time_charging_lag11</th>\n",
              "      <th>avg_time_discharging_lag11</th>\n",
              "      <th>avg_time_charging_lag12</th>\n",
              "      <th>avg_time_discharging_lag12</th>\n",
              "      <th>avg_time_charging_lag13</th>\n",
              "      <th>avg_time_discharging_lag13</th>\n",
              "      <th>avg_time_charging_lag14</th>\n",
              "      <th>avg_time_discharging_lag14</th>\n",
              "      <th>discharging_rate_lag4</th>\n",
              "      <th>discharging_rate_lag5</th>\n",
              "      <th>discharging_rate_lag6</th>\n",
              "      <th>discharging_rate_lag8</th>\n",
              "      <th>charging_rate_lag4</th>\n",
              "      <th>charging_rate_lag5</th>\n",
              "      <th>charging_rate_lag6</th>\n",
              "      <th>chargecycles</th>\n",
              "      <th>dischargecycles</th>\n",
              "      <th>total_off_time</th>\n",
              "      <th>number_times_restart</th>\n",
              "      <th>avg_volt_change_charging</th>\n",
              "      <th>avg_volt_change_discharging</th>\n",
              "      <th>avg_time_charging</th>\n",
              "      <th>avg_time_discharging</th>\n",
              "      <th>max_voltage_day</th>\n",
              "      <th>piececount</th>\n",
              "      <th>cycle_time</th>\n",
              "      <th>LastRecord</th>\n",
              "      <th>Date Deployed</th>\n",
              "      <th>DaysInService</th>\n",
              "    </tr>\n",
              "  </thead>\n",
              "  <tbody>\n",
              "    <tr>\n",
              "      <th>0</th>\n",
              "      <td>28647</td>\n",
              "      <td>5.12</td>\n",
              "      <td>41.11</td>\n",
              "      <td>6.56</td>\n",
              "      <td>25.39</td>\n",
              "      <td>0.086667</td>\n",
              "      <td>-0.006667</td>\n",
              "      <td>4.37</td>\n",
              "      <td>91.70</td>\n",
              "      <td>15.70</td>\n",
              "      <td>39.12</td>\n",
              "      <td>-1.163333</td>\n",
              "      <td>0.033333</td>\n",
              "      <td>0</td>\n",
              "      <td>False</td>\n",
              "      <td>4.99</td>\n",
              "      <td>5.85</td>\n",
              "      <td>24.35</td>\n",
              "      <td>31.02</td>\n",
              "      <td>43.42</td>\n",
              "      <td>79.33</td>\n",
              "      <td>0.00</td>\n",
              "      <td>0.00</td>\n",
              "      <td>0.00</td>\n",
              "      <td>0.00</td>\n",
              "      <td>0.00</td>\n",
              "      <td>0.00</td>\n",
              "      <td>0.00</td>\n",
              "      <td>0.00</td>\n",
              "      <td>0.00</td>\n",
              "      <td>0.00</td>\n",
              "      <td>0.00</td>\n",
              "      <td>0.00</td>\n",
              "      <td>0.00</td>\n",
              "      <td>0.00</td>\n",
              "      <td>-0.360000</td>\n",
              "      <td>1.573333</td>\n",
              "      <td>0.816667</td>\n",
              "      <td>-0.173333</td>\n",
              "      <td>-0.070000</td>\n",
              "      <td>-1.603333</td>\n",
              "      <td>-0.166667</td>\n",
              "      <td>50.250000</td>\n",
              "      <td>49.750000</td>\n",
              "      <td>49.000000</td>\n",
              "      <td>2.375000</td>\n",
              "      <td>377.080000</td>\n",
              "      <td>367.428750</td>\n",
              "      <td>21.696250</td>\n",
              "      <td>39.005000</td>\n",
              "      <td>4174.875000</td>\n",
              "      <td>14.200000</td>\n",
              "      <td>60.701250</td>\n",
              "      <td>2021-04-01</td>\n",
              "      <td>2019-10-06</td>\n",
              "      <td>543.0</td>\n",
              "    </tr>\n",
              "    <tr>\n",
              "      <th>1</th>\n",
              "      <td>36175</td>\n",
              "      <td>36.60</td>\n",
              "      <td>5.16</td>\n",
              "      <td>6.23</td>\n",
              "      <td>6.96</td>\n",
              "      <td>0.136667</td>\n",
              "      <td>-1.296667</td>\n",
              "      <td>62.67</td>\n",
              "      <td>6.53</td>\n",
              "      <td>6.16</td>\n",
              "      <td>8.25</td>\n",
              "      <td>-0.066667</td>\n",
              "      <td>-2.653333</td>\n",
              "      <td>0</td>\n",
              "      <td>False</td>\n",
              "      <td>13.64</td>\n",
              "      <td>20.37</td>\n",
              "      <td>5.65</td>\n",
              "      <td>4.77</td>\n",
              "      <td>19.41</td>\n",
              "      <td>24.33</td>\n",
              "      <td>35.92</td>\n",
              "      <td>59.38</td>\n",
              "      <td>4.49</td>\n",
              "      <td>4.12</td>\n",
              "      <td>44.18</td>\n",
              "      <td>72.46</td>\n",
              "      <td>27.45</td>\n",
              "      <td>49.02</td>\n",
              "      <td>10.89</td>\n",
              "      <td>18.93</td>\n",
              "      <td>21.39</td>\n",
              "      <td>35.90</td>\n",
              "      <td>0.00</td>\n",
              "      <td>0.00</td>\n",
              "      <td>-4.593333</td>\n",
              "      <td>0.450000</td>\n",
              "      <td>-3.063333</td>\n",
              "      <td>-0.103333</td>\n",
              "      <td>0.216667</td>\n",
              "      <td>0.000000</td>\n",
              "      <td>-1.010000</td>\n",
              "      <td>56.285714</td>\n",
              "      <td>56.000000</td>\n",
              "      <td>36.857143</td>\n",
              "      <td>1.000000</td>\n",
              "      <td>350.517857</td>\n",
              "      <td>350.309286</td>\n",
              "      <td>19.883571</td>\n",
              "      <td>32.213571</td>\n",
              "      <td>4161.000000</td>\n",
              "      <td>19.777778</td>\n",
              "      <td>52.097143</td>\n",
              "      <td>2021-04-01</td>\n",
              "      <td>2019-10-27</td>\n",
              "      <td>522.0</td>\n",
              "    </tr>\n",
              "    <tr>\n",
              "      <th>2</th>\n",
              "      <td>16107</td>\n",
              "      <td>5.51</td>\n",
              "      <td>5.04</td>\n",
              "      <td>4.52</td>\n",
              "      <td>5.96</td>\n",
              "      <td>-0.460000</td>\n",
              "      <td>-0.083333</td>\n",
              "      <td>5.13</td>\n",
              "      <td>5.65</td>\n",
              "      <td>4.14</td>\n",
              "      <td>14.02</td>\n",
              "      <td>-2.643333</td>\n",
              "      <td>0.686667</td>\n",
              "      <td>0</td>\n",
              "      <td>False</td>\n",
              "      <td>25.01</td>\n",
              "      <td>40.69</td>\n",
              "      <td>6.03</td>\n",
              "      <td>6.06</td>\n",
              "      <td>5.72</td>\n",
              "      <td>5.73</td>\n",
              "      <td>22.46</td>\n",
              "      <td>31.82</td>\n",
              "      <td>33.92</td>\n",
              "      <td>58.87</td>\n",
              "      <td>45.87</td>\n",
              "      <td>76.36</td>\n",
              "      <td>5.78</td>\n",
              "      <td>6.23</td>\n",
              "      <td>5.13</td>\n",
              "      <td>4.37</td>\n",
              "      <td>4.73</td>\n",
              "      <td>3.50</td>\n",
              "      <td>26.79</td>\n",
              "      <td>41.29</td>\n",
              "      <td>-0.050000</td>\n",
              "      <td>0.240000</td>\n",
              "      <td>0.000000</td>\n",
              "      <td>0.216667</td>\n",
              "      <td>-0.026667</td>\n",
              "      <td>0.000000</td>\n",
              "      <td>-0.013333</td>\n",
              "      <td>80.380952</td>\n",
              "      <td>80.333333</td>\n",
              "      <td>2.333333</td>\n",
              "      <td>4.095238</td>\n",
              "      <td>346.113333</td>\n",
              "      <td>343.409524</td>\n",
              "      <td>13.675238</td>\n",
              "      <td>20.471429</td>\n",
              "      <td>4152.238095</td>\n",
              "      <td>19.200000</td>\n",
              "      <td>34.146667</td>\n",
              "      <td>2021-04-01</td>\n",
              "      <td>2019-10-31</td>\n",
              "      <td>518.0</td>\n",
              "    </tr>\n",
              "    <tr>\n",
              "      <th>3</th>\n",
              "      <td>27362</td>\n",
              "      <td>4.66</td>\n",
              "      <td>39.85</td>\n",
              "      <td>35.76</td>\n",
              "      <td>40.69</td>\n",
              "      <td>0.076667</td>\n",
              "      <td>-0.006667</td>\n",
              "      <td>3.93</td>\n",
              "      <td>76.37</td>\n",
              "      <td>60.86</td>\n",
              "      <td>73.53</td>\n",
              "      <td>-0.166667</td>\n",
              "      <td>0.033333</td>\n",
              "      <td>0</td>\n",
              "      <td>False</td>\n",
              "      <td>4.71</td>\n",
              "      <td>3.74</td>\n",
              "      <td>4.74</td>\n",
              "      <td>3.73</td>\n",
              "      <td>24.01</td>\n",
              "      <td>52.99</td>\n",
              "      <td>5.09</td>\n",
              "      <td>5.32</td>\n",
              "      <td>4.45</td>\n",
              "      <td>4.22</td>\n",
              "      <td>22.14</td>\n",
              "      <td>30.51</td>\n",
              "      <td>4.39</td>\n",
              "      <td>4.15</td>\n",
              "      <td>4.71</td>\n",
              "      <td>3.82</td>\n",
              "      <td>13.27</td>\n",
              "      <td>18.62</td>\n",
              "      <td>4.97</td>\n",
              "      <td>4.16</td>\n",
              "      <td>0.013333</td>\n",
              "      <td>0.406667</td>\n",
              "      <td>-0.293333</td>\n",
              "      <td>-0.046667</td>\n",
              "      <td>-0.030000</td>\n",
              "      <td>0.460000</td>\n",
              "      <td>1.340000</td>\n",
              "      <td>91.736842</td>\n",
              "      <td>91.684211</td>\n",
              "      <td>10.789474</td>\n",
              "      <td>0.736842</td>\n",
              "      <td>356.184211</td>\n",
              "      <td>349.844737</td>\n",
              "      <td>16.306842</td>\n",
              "      <td>26.189474</td>\n",
              "      <td>4164.631579</td>\n",
              "      <td>23.625000</td>\n",
              "      <td>42.496316</td>\n",
              "      <td>2021-04-01</td>\n",
              "      <td>2019-10-01</td>\n",
              "      <td>548.0</td>\n",
              "    </tr>\n",
              "    <tr>\n",
              "      <th>4</th>\n",
              "      <td>19463</td>\n",
              "      <td>5.10</td>\n",
              "      <td>43.24</td>\n",
              "      <td>4.63</td>\n",
              "      <td>5.26</td>\n",
              "      <td>0.040000</td>\n",
              "      <td>-0.153333</td>\n",
              "      <td>4.69</td>\n",
              "      <td>71.44</td>\n",
              "      <td>3.80</td>\n",
              "      <td>6.29</td>\n",
              "      <td>0.066667</td>\n",
              "      <td>-1.030000</td>\n",
              "      <td>0</td>\n",
              "      <td>True</td>\n",
              "      <td>40.36</td>\n",
              "      <td>82.70</td>\n",
              "      <td>15.47</td>\n",
              "      <td>24.21</td>\n",
              "      <td>45.64</td>\n",
              "      <td>76.42</td>\n",
              "      <td>26.63</td>\n",
              "      <td>45.04</td>\n",
              "      <td>27.99</td>\n",
              "      <td>40.57</td>\n",
              "      <td>5.01</td>\n",
              "      <td>6.52</td>\n",
              "      <td>5.47</td>\n",
              "      <td>4.64</td>\n",
              "      <td>5.28</td>\n",
              "      <td>5.16</td>\n",
              "      <td>25.10</td>\n",
              "      <td>47.76</td>\n",
              "      <td>21.62</td>\n",
              "      <td>37.29</td>\n",
              "      <td>-0.353333</td>\n",
              "      <td>0.983333</td>\n",
              "      <td>-0.006667</td>\n",
              "      <td>-1.790000</td>\n",
              "      <td>0.016667</td>\n",
              "      <td>1.606667</td>\n",
              "      <td>0.013333</td>\n",
              "      <td>71.066667</td>\n",
              "      <td>70.733333</td>\n",
              "      <td>14.266667</td>\n",
              "      <td>1.133333</td>\n",
              "      <td>370.904000</td>\n",
              "      <td>367.730000</td>\n",
              "      <td>18.797333</td>\n",
              "      <td>30.812000</td>\n",
              "      <td>4169.800000</td>\n",
              "      <td>12.666667</td>\n",
              "      <td>49.609333</td>\n",
              "      <td>2021-04-01</td>\n",
              "      <td>2019-09-13</td>\n",
              "      <td>566.0</td>\n",
              "    </tr>\n",
              "  </tbody>\n",
              "</table>\n",
              "</div>"
            ],
            "text/plain": [
              "   deviceid  avg_time_charging_lag1  ...  Date Deployed  DaysInService\n",
              "0     28647                    5.12  ...     2019-10-06          543.0\n",
              "1     36175                   36.60  ...     2019-10-27          522.0\n",
              "2     16107                    5.51  ...     2019-10-31          518.0\n",
              "3     27362                    4.66  ...     2019-10-01          548.0\n",
              "4     19463                    5.10  ...     2019-09-13          566.0\n",
              "\n",
              "[5 rows x 56 columns]"
            ]
          },
          "metadata": {
            "tags": []
          },
          "execution_count": 5
        }
      ]
    },
    {
      "cell_type": "markdown",
      "metadata": {
        "id": "G2q-H896rTUG"
      },
      "source": [
        "### Count Null Values\n",
        "#### *Keep nulls above to observe progressive linearity."
      ]
    },
    {
      "cell_type": "code",
      "metadata": {
        "id": "lONYg3EUrTUH",
        "scrolled": true
      },
      "source": [
        "#ts.isnull().sum()\n",
        "#tr.isnull().sum()"
      ],
      "execution_count": 6,
      "outputs": []
    },
    {
      "cell_type": "markdown",
      "metadata": {
        "id": "7k-ccZG-rTUH"
      },
      "source": [
        "### Plot Distributions of DataFrame Columns\n",
        "#### *no plot for \"deviceid\" (irrelevant) or \"charge_cycle_time_below_12\" (bool)\n",
        "#### **uncomment to run"
      ]
    },
    {
      "cell_type": "code",
      "metadata": {
        "colab": {
          "base_uri": "https://localhost:8080/",
          "height": 35
        },
        "id": "EZAAtdATrTUI",
        "outputId": "be71e938-2c7d-42c6-f463-936ee55c97f1"
      },
      "source": [
        "\"\"\"\n",
        "for col in ts.columns[1:]:\n",
        "    if col != \"charge_cycle_time_below_12\":\n",
        "        hist = ts[col].hist(bins=10)\n",
        "        print(\"Plot for column \\\"{}\\\"\".format(col))\n",
        "        plt.show()\n",
        "\"\"\"\n",
        "\n",
        "\"\"\"\n",
        "for col in tr.columns[1:]:\n",
        "    if col != \"charge_cycle_time_below_12\":\n",
        "        hist = tr[col].hist(bins=10)\n",
        "        print(\"Plot for column \\\"{}\\\"\".format(col))\n",
        "        plt.show()\n",
        "\"\"\""
      ],
      "execution_count": 7,
      "outputs": [
        {
          "output_type": "execute_result",
          "data": {
            "application/vnd.google.colaboratory.intrinsic+json": {
              "type": "string"
            },
            "text/plain": [
              "'\\nfor col in tr.columns[1:]:\\n    if col != \"charge_cycle_time_below_12\":\\n        hist = tr[col].hist(bins=10)\\n        print(\"Plot for column \"{}\"\".format(col))\\n        plt.show()\\n'"
            ]
          },
          "metadata": {
            "tags": []
          },
          "execution_count": 7
        }
      ]
    },
    {
      "cell_type": "markdown",
      "metadata": {
        "id": "cXCfOYDmrTUI"
      },
      "source": [
        "### Create New DataFrame, Removing Columns Without Outliers"
      ]
    },
    {
      "cell_type": "code",
      "metadata": {
        "id": "pGzptg-crTUI",
        "scrolled": true
      },
      "source": [
        "columns = [column for column in ts.columns if ts[column].dtype == \"float64\"]\n",
        "tsno = ts[columns]\n",
        "\n",
        "columns = [column for column in tr.columns if tr[column].dtype == \"float64\"]\n",
        "trno = tr[columns]"
      ],
      "execution_count": 8,
      "outputs": []
    },
    {
      "cell_type": "markdown",
      "metadata": {
        "id": "4Xc6mZ7FrTUI"
      },
      "source": [
        "### Convert Outliers by Quantile to Null in New DataFrame."
      ]
    },
    {
      "cell_type": "code",
      "metadata": {
        "id": "GDR-H3O-rTUJ",
        "scrolled": true
      },
      "source": [
        "q_low = tsno[columns].quantile(0.01)\n",
        "q_hi  = tsno[columns].quantile(0.99)\n",
        "\n",
        "ts0 = tsno[(tsno[columns] < q_hi) & (tsno[columns] > q_low)]\n",
        "\n",
        "#ts0.info()\n",
        "#ts0.head()\n",
        "\n",
        "q_low = trno[columns].quantile(0.01)\n",
        "q_hi  = trno[columns].quantile(0.99)\n",
        "\n",
        "tr0 = trno[(trno[columns] < q_hi) & (trno[columns] > q_low)]\n",
        "\n",
        "#tr0.info()\n",
        "#tr0.head()"
      ],
      "execution_count": 9,
      "outputs": []
    },
    {
      "cell_type": "markdown",
      "metadata": {
        "id": "FVSniEdKrTUJ"
      },
      "source": [
        "### Count New OUTLIER Null Values"
      ]
    },
    {
      "cell_type": "code",
      "metadata": {
        "id": "0JDd_27BrTUJ",
        "scrolled": true
      },
      "source": [
        "#ts0.isnull().sum()\n",
        "#tr0.isnull().sum()"
      ],
      "execution_count": 10,
      "outputs": []
    },
    {
      "cell_type": "markdown",
      "metadata": {
        "id": "Y95pSdf3rTUJ"
      },
      "source": [
        "### Plot New DataFrame Outlier Nulls"
      ]
    },
    {
      "cell_type": "code",
      "metadata": {
        "id": "RrxkZvIorTUK",
        "colab": {
          "base_uri": "https://localhost:8080/",
          "height": 0
        },
        "outputId": "0b75f77e-d263-4b91-adf3-89b24f7c9996"
      },
      "source": [
        "\"\"\"\n",
        "for col in ts0.columns:\n",
        "    hist = ts0[col].hist(bins=100)\n",
        "    print(\"Plot for column \\\"{}\\\"\".format(col))\n",
        "    plt.show()\n",
        "\"\"\"\n",
        "\n",
        "\"\"\"\n",
        "for col in tr0.columns:\n",
        "    hist = tr0[col].hist(bins=100)\n",
        "    print(\"Plot for column \\\"{}\\\"\".format(col))\n",
        "    plt.show()\n",
        "\"\"\""
      ],
      "execution_count": 11,
      "outputs": [
        {
          "output_type": "execute_result",
          "data": {
            "application/vnd.google.colaboratory.intrinsic+json": {
              "type": "string"
            },
            "text/plain": [
              "'\\nfor col in tr0.columns:\\n    hist = tr0[col].hist(bins=100)\\n    print(\"Plot for column \"{}\"\".format(col))\\n    plt.show()\\n'"
            ]
          },
          "metadata": {
            "tags": []
          },
          "execution_count": 11
        }
      ]
    },
    {
      "cell_type": "markdown",
      "metadata": {
        "id": "5N4VPbO6E_Qm"
      },
      "source": [
        "### Rebuild DataFrames WITH Outlier Nulls for Feature Importance\n",
        "#### *Adding ints, bools, and datetimes from original df.  Uncomment to zero nulls."
      ]
    },
    {
      "cell_type": "code",
      "metadata": {
        "scrolled": true,
        "id": "VQvVFJ-gE_Qm",
        "colab": {
          "base_uri": "https://localhost:8080/",
          "height": 0
        },
        "outputId": "0f668247-0ac6-473c-ab82-976de84efcd0"
      },
      "source": [
        "tso = ts[[\"deviceid\", \"charge_cycle_time_below_12\", \"LastRecord\", \"Date Deployed\"]]\n",
        "frames = [tso, ts0]\n",
        "ts1 = pd.concat(frames, axis=1)\n",
        "#ts1 = ts1.fillna(0)\n",
        "\n",
        "#ts1.info()\n",
        "#ts1.info()\n",
        "\n",
        "tro = tr[[\"deviceid\", \"fail_7\", \"charge_cycle_time_below_12\", \"LastRecord\", \"Date Deployed\"]]\n",
        "frames = [tr0, tro]\n",
        "tr1 = pd.concat(frames, axis=1)\n",
        "#tr1 = tr1.fillna(0)\n",
        "\n",
        "tr1.info()\n",
        "tr1.head()"
      ],
      "execution_count": 12,
      "outputs": [
        {
          "output_type": "stream",
          "text": [
            "<class 'pandas.core.frame.DataFrame'>\n",
            "RangeIndex: 40500 entries, 0 to 40499\n",
            "Data columns (total 56 columns):\n",
            " #   Column                       Non-Null Count  Dtype         \n",
            "---  ------                       --------------  -----         \n",
            " 0   avg_time_charging_lag1       39679 non-null  float64       \n",
            " 1   avg_time_charging_lag2       39660 non-null  float64       \n",
            " 2   avg_time_charging_lag3       39610 non-null  float64       \n",
            " 3   avg_time_charging_lag7       39647 non-null  float64       \n",
            " 4   charging_rate_lag3           39688 non-null  float64       \n",
            " 5   charging_rate_lag7           39689 non-null  float64       \n",
            " 6   avg_time_discharging_lag1    39673 non-null  float64       \n",
            " 7   avg_time_discharging_lag2    39676 non-null  float64       \n",
            " 8   avg_time_discharging_lag3    39678 non-null  float64       \n",
            " 9   avg_time_discharging_lag7    39684 non-null  float64       \n",
            " 10  discharging_rate_lag3        39690 non-null  float64       \n",
            " 11  discharging_rate_lag7        39690 non-null  float64       \n",
            " 12  avg_time_charging_lag4       39650 non-null  float64       \n",
            " 13  avg_time_discharging_lag4    39684 non-null  float64       \n",
            " 14  avg_time_charging_lag5       39670 non-null  float64       \n",
            " 15  avg_time_discharging_lag5    39659 non-null  float64       \n",
            " 16  avg_time_charging_lag6       39670 non-null  float64       \n",
            " 17  avg_time_discharging_lag6    39653 non-null  float64       \n",
            " 18  avg_time_charging_lag8       39683 non-null  float64       \n",
            " 19  avg_time_discharging_lag8    39667 non-null  float64       \n",
            " 20  avg_time_charging_lag9       39688 non-null  float64       \n",
            " 21  avg_time_discharging_lag9    39685 non-null  float64       \n",
            " 22  avg_time_charging_lag10      39298 non-null  float64       \n",
            " 23  avg_time_discharging_lag10   39298 non-null  float64       \n",
            " 24  avg_time_charging_lag11      38509 non-null  float64       \n",
            " 25  avg_time_discharging_lag11   38509 non-null  float64       \n",
            " 26  avg_time_charging_lag12      37338 non-null  float64       \n",
            " 27  avg_time_discharging_lag12   37338 non-null  float64       \n",
            " 28  avg_time_charging_lag13      35713 non-null  float64       \n",
            " 29  avg_time_discharging_lag13   35713 non-null  float64       \n",
            " 30  avg_time_charging_lag14      33426 non-null  float64       \n",
            " 31  avg_time_discharging_lag14   33425 non-null  float64       \n",
            " 32  discharging_rate_lag4        39690 non-null  float64       \n",
            " 33  discharging_rate_lag5        39689 non-null  float64       \n",
            " 34  discharging_rate_lag6        39690 non-null  float64       \n",
            " 35  discharging_rate_lag8        39689 non-null  float64       \n",
            " 36  charging_rate_lag4           39688 non-null  float64       \n",
            " 37  charging_rate_lag5           39686 non-null  float64       \n",
            " 38  charging_rate_lag6           39688 non-null  float64       \n",
            " 39  chargecycles                 39690 non-null  float64       \n",
            " 40  dischargecycles              39690 non-null  float64       \n",
            " 41  total_off_time               39198 non-null  float64       \n",
            " 42  number_times_restart         39674 non-null  float64       \n",
            " 43  avg_volt_change_charging     39690 non-null  float64       \n",
            " 44  avg_volt_change_discharging  39690 non-null  float64       \n",
            " 45  avg_time_charging            39690 non-null  float64       \n",
            " 46  avg_time_discharging         39690 non-null  float64       \n",
            " 47  max_voltage_day              39688 non-null  float64       \n",
            " 48  piececount                   39685 non-null  float64       \n",
            " 49  cycle_time                   39690 non-null  float64       \n",
            " 50  DaysInService                39595 non-null  float64       \n",
            " 51  deviceid                     40500 non-null  int64         \n",
            " 52  fail_7                       40500 non-null  int64         \n",
            " 53  charge_cycle_time_below_12   40500 non-null  bool          \n",
            " 54  LastRecord                   40500 non-null  datetime64[ns]\n",
            " 55  Date Deployed                40500 non-null  datetime64[ns]\n",
            "dtypes: bool(1), datetime64[ns](2), float64(51), int64(2)\n",
            "memory usage: 17.0 MB\n"
          ],
          "name": "stdout"
        },
        {
          "output_type": "execute_result",
          "data": {
            "text/html": [
              "<div>\n",
              "<style scoped>\n",
              "    .dataframe tbody tr th:only-of-type {\n",
              "        vertical-align: middle;\n",
              "    }\n",
              "\n",
              "    .dataframe tbody tr th {\n",
              "        vertical-align: top;\n",
              "    }\n",
              "\n",
              "    .dataframe thead th {\n",
              "        text-align: right;\n",
              "    }\n",
              "</style>\n",
              "<table border=\"1\" class=\"dataframe\">\n",
              "  <thead>\n",
              "    <tr style=\"text-align: right;\">\n",
              "      <th></th>\n",
              "      <th>avg_time_charging_lag1</th>\n",
              "      <th>avg_time_charging_lag2</th>\n",
              "      <th>avg_time_charging_lag3</th>\n",
              "      <th>avg_time_charging_lag7</th>\n",
              "      <th>charging_rate_lag3</th>\n",
              "      <th>charging_rate_lag7</th>\n",
              "      <th>avg_time_discharging_lag1</th>\n",
              "      <th>avg_time_discharging_lag2</th>\n",
              "      <th>avg_time_discharging_lag3</th>\n",
              "      <th>avg_time_discharging_lag7</th>\n",
              "      <th>discharging_rate_lag3</th>\n",
              "      <th>discharging_rate_lag7</th>\n",
              "      <th>avg_time_charging_lag4</th>\n",
              "      <th>avg_time_discharging_lag4</th>\n",
              "      <th>avg_time_charging_lag5</th>\n",
              "      <th>avg_time_discharging_lag5</th>\n",
              "      <th>avg_time_charging_lag6</th>\n",
              "      <th>avg_time_discharging_lag6</th>\n",
              "      <th>avg_time_charging_lag8</th>\n",
              "      <th>avg_time_discharging_lag8</th>\n",
              "      <th>avg_time_charging_lag9</th>\n",
              "      <th>avg_time_discharging_lag9</th>\n",
              "      <th>avg_time_charging_lag10</th>\n",
              "      <th>avg_time_discharging_lag10</th>\n",
              "      <th>avg_time_charging_lag11</th>\n",
              "      <th>avg_time_discharging_lag11</th>\n",
              "      <th>avg_time_charging_lag12</th>\n",
              "      <th>avg_time_discharging_lag12</th>\n",
              "      <th>avg_time_charging_lag13</th>\n",
              "      <th>avg_time_discharging_lag13</th>\n",
              "      <th>avg_time_charging_lag14</th>\n",
              "      <th>avg_time_discharging_lag14</th>\n",
              "      <th>discharging_rate_lag4</th>\n",
              "      <th>discharging_rate_lag5</th>\n",
              "      <th>discharging_rate_lag6</th>\n",
              "      <th>discharging_rate_lag8</th>\n",
              "      <th>charging_rate_lag4</th>\n",
              "      <th>charging_rate_lag5</th>\n",
              "      <th>charging_rate_lag6</th>\n",
              "      <th>chargecycles</th>\n",
              "      <th>dischargecycles</th>\n",
              "      <th>total_off_time</th>\n",
              "      <th>number_times_restart</th>\n",
              "      <th>avg_volt_change_charging</th>\n",
              "      <th>avg_volt_change_discharging</th>\n",
              "      <th>avg_time_charging</th>\n",
              "      <th>avg_time_discharging</th>\n",
              "      <th>max_voltage_day</th>\n",
              "      <th>piececount</th>\n",
              "      <th>cycle_time</th>\n",
              "      <th>DaysInService</th>\n",
              "      <th>deviceid</th>\n",
              "      <th>fail_7</th>\n",
              "      <th>charge_cycle_time_below_12</th>\n",
              "      <th>LastRecord</th>\n",
              "      <th>Date Deployed</th>\n",
              "    </tr>\n",
              "  </thead>\n",
              "  <tbody>\n",
              "    <tr>\n",
              "      <th>0</th>\n",
              "      <td>5.12</td>\n",
              "      <td>41.11</td>\n",
              "      <td>6.56</td>\n",
              "      <td>25.39</td>\n",
              "      <td>0.086667</td>\n",
              "      <td>-0.006667</td>\n",
              "      <td>4.37</td>\n",
              "      <td>91.70</td>\n",
              "      <td>15.70</td>\n",
              "      <td>39.12</td>\n",
              "      <td>-1.163333</td>\n",
              "      <td>0.033333</td>\n",
              "      <td>4.99</td>\n",
              "      <td>5.85</td>\n",
              "      <td>24.35</td>\n",
              "      <td>31.02</td>\n",
              "      <td>43.42</td>\n",
              "      <td>79.33</td>\n",
              "      <td>NaN</td>\n",
              "      <td>NaN</td>\n",
              "      <td>NaN</td>\n",
              "      <td>NaN</td>\n",
              "      <td>NaN</td>\n",
              "      <td>NaN</td>\n",
              "      <td>NaN</td>\n",
              "      <td>NaN</td>\n",
              "      <td>NaN</td>\n",
              "      <td>NaN</td>\n",
              "      <td>NaN</td>\n",
              "      <td>NaN</td>\n",
              "      <td>NaN</td>\n",
              "      <td>NaN</td>\n",
              "      <td>-0.360000</td>\n",
              "      <td>1.573333</td>\n",
              "      <td>0.816667</td>\n",
              "      <td>-0.173333</td>\n",
              "      <td>-0.070000</td>\n",
              "      <td>-1.603333</td>\n",
              "      <td>-0.166667</td>\n",
              "      <td>50.250000</td>\n",
              "      <td>49.750000</td>\n",
              "      <td>49.000000</td>\n",
              "      <td>2.375000</td>\n",
              "      <td>377.080000</td>\n",
              "      <td>367.428750</td>\n",
              "      <td>21.696250</td>\n",
              "      <td>39.005000</td>\n",
              "      <td>4174.875000</td>\n",
              "      <td>14.200000</td>\n",
              "      <td>60.701250</td>\n",
              "      <td>543.0</td>\n",
              "      <td>28647</td>\n",
              "      <td>0</td>\n",
              "      <td>False</td>\n",
              "      <td>2021-04-01</td>\n",
              "      <td>2019-10-06</td>\n",
              "    </tr>\n",
              "    <tr>\n",
              "      <th>1</th>\n",
              "      <td>36.60</td>\n",
              "      <td>5.16</td>\n",
              "      <td>6.23</td>\n",
              "      <td>6.96</td>\n",
              "      <td>0.136667</td>\n",
              "      <td>-1.296667</td>\n",
              "      <td>62.67</td>\n",
              "      <td>6.53</td>\n",
              "      <td>6.16</td>\n",
              "      <td>8.25</td>\n",
              "      <td>-0.066667</td>\n",
              "      <td>-2.653333</td>\n",
              "      <td>13.64</td>\n",
              "      <td>20.37</td>\n",
              "      <td>5.65</td>\n",
              "      <td>4.77</td>\n",
              "      <td>19.41</td>\n",
              "      <td>24.33</td>\n",
              "      <td>35.92</td>\n",
              "      <td>59.38</td>\n",
              "      <td>4.49</td>\n",
              "      <td>4.12</td>\n",
              "      <td>44.18</td>\n",
              "      <td>72.46</td>\n",
              "      <td>27.45</td>\n",
              "      <td>49.02</td>\n",
              "      <td>10.89</td>\n",
              "      <td>18.93</td>\n",
              "      <td>21.39</td>\n",
              "      <td>35.90</td>\n",
              "      <td>NaN</td>\n",
              "      <td>NaN</td>\n",
              "      <td>-4.593333</td>\n",
              "      <td>0.450000</td>\n",
              "      <td>-3.063333</td>\n",
              "      <td>-0.103333</td>\n",
              "      <td>0.216667</td>\n",
              "      <td>0.000000</td>\n",
              "      <td>-1.010000</td>\n",
              "      <td>56.285714</td>\n",
              "      <td>56.000000</td>\n",
              "      <td>36.857143</td>\n",
              "      <td>1.000000</td>\n",
              "      <td>350.517857</td>\n",
              "      <td>350.309286</td>\n",
              "      <td>19.883571</td>\n",
              "      <td>32.213571</td>\n",
              "      <td>4161.000000</td>\n",
              "      <td>19.777778</td>\n",
              "      <td>52.097143</td>\n",
              "      <td>522.0</td>\n",
              "      <td>36175</td>\n",
              "      <td>0</td>\n",
              "      <td>False</td>\n",
              "      <td>2021-04-01</td>\n",
              "      <td>2019-10-27</td>\n",
              "    </tr>\n",
              "    <tr>\n",
              "      <th>2</th>\n",
              "      <td>5.51</td>\n",
              "      <td>5.04</td>\n",
              "      <td>4.52</td>\n",
              "      <td>5.96</td>\n",
              "      <td>-0.460000</td>\n",
              "      <td>-0.083333</td>\n",
              "      <td>5.13</td>\n",
              "      <td>5.65</td>\n",
              "      <td>4.14</td>\n",
              "      <td>14.02</td>\n",
              "      <td>-2.643333</td>\n",
              "      <td>0.686667</td>\n",
              "      <td>25.01</td>\n",
              "      <td>40.69</td>\n",
              "      <td>6.03</td>\n",
              "      <td>6.06</td>\n",
              "      <td>5.72</td>\n",
              "      <td>5.73</td>\n",
              "      <td>22.46</td>\n",
              "      <td>31.82</td>\n",
              "      <td>33.92</td>\n",
              "      <td>58.87</td>\n",
              "      <td>45.87</td>\n",
              "      <td>76.36</td>\n",
              "      <td>5.78</td>\n",
              "      <td>6.23</td>\n",
              "      <td>5.13</td>\n",
              "      <td>4.37</td>\n",
              "      <td>4.73</td>\n",
              "      <td>3.50</td>\n",
              "      <td>26.79</td>\n",
              "      <td>41.29</td>\n",
              "      <td>-0.050000</td>\n",
              "      <td>0.240000</td>\n",
              "      <td>0.000000</td>\n",
              "      <td>0.216667</td>\n",
              "      <td>-0.026667</td>\n",
              "      <td>0.000000</td>\n",
              "      <td>-0.013333</td>\n",
              "      <td>80.380952</td>\n",
              "      <td>80.333333</td>\n",
              "      <td>2.333333</td>\n",
              "      <td>4.095238</td>\n",
              "      <td>346.113333</td>\n",
              "      <td>343.409524</td>\n",
              "      <td>13.675238</td>\n",
              "      <td>20.471429</td>\n",
              "      <td>4152.238095</td>\n",
              "      <td>19.200000</td>\n",
              "      <td>34.146667</td>\n",
              "      <td>518.0</td>\n",
              "      <td>16107</td>\n",
              "      <td>0</td>\n",
              "      <td>False</td>\n",
              "      <td>2021-04-01</td>\n",
              "      <td>2019-10-31</td>\n",
              "    </tr>\n",
              "    <tr>\n",
              "      <th>3</th>\n",
              "      <td>4.66</td>\n",
              "      <td>39.85</td>\n",
              "      <td>35.76</td>\n",
              "      <td>40.69</td>\n",
              "      <td>0.076667</td>\n",
              "      <td>-0.006667</td>\n",
              "      <td>3.93</td>\n",
              "      <td>76.37</td>\n",
              "      <td>60.86</td>\n",
              "      <td>73.53</td>\n",
              "      <td>-0.166667</td>\n",
              "      <td>0.033333</td>\n",
              "      <td>4.71</td>\n",
              "      <td>3.74</td>\n",
              "      <td>4.74</td>\n",
              "      <td>3.73</td>\n",
              "      <td>24.01</td>\n",
              "      <td>52.99</td>\n",
              "      <td>5.09</td>\n",
              "      <td>5.32</td>\n",
              "      <td>4.45</td>\n",
              "      <td>4.22</td>\n",
              "      <td>22.14</td>\n",
              "      <td>30.51</td>\n",
              "      <td>4.39</td>\n",
              "      <td>4.15</td>\n",
              "      <td>4.71</td>\n",
              "      <td>3.82</td>\n",
              "      <td>13.27</td>\n",
              "      <td>18.62</td>\n",
              "      <td>4.97</td>\n",
              "      <td>4.16</td>\n",
              "      <td>0.013333</td>\n",
              "      <td>0.406667</td>\n",
              "      <td>-0.293333</td>\n",
              "      <td>-0.046667</td>\n",
              "      <td>-0.030000</td>\n",
              "      <td>0.460000</td>\n",
              "      <td>1.340000</td>\n",
              "      <td>91.736842</td>\n",
              "      <td>91.684211</td>\n",
              "      <td>10.789474</td>\n",
              "      <td>0.736842</td>\n",
              "      <td>356.184211</td>\n",
              "      <td>349.844737</td>\n",
              "      <td>16.306842</td>\n",
              "      <td>26.189474</td>\n",
              "      <td>4164.631579</td>\n",
              "      <td>23.625000</td>\n",
              "      <td>42.496316</td>\n",
              "      <td>548.0</td>\n",
              "      <td>27362</td>\n",
              "      <td>0</td>\n",
              "      <td>False</td>\n",
              "      <td>2021-04-01</td>\n",
              "      <td>2019-10-01</td>\n",
              "    </tr>\n",
              "    <tr>\n",
              "      <th>4</th>\n",
              "      <td>5.10</td>\n",
              "      <td>43.24</td>\n",
              "      <td>4.63</td>\n",
              "      <td>5.26</td>\n",
              "      <td>0.040000</td>\n",
              "      <td>-0.153333</td>\n",
              "      <td>4.69</td>\n",
              "      <td>71.44</td>\n",
              "      <td>3.80</td>\n",
              "      <td>6.29</td>\n",
              "      <td>0.066667</td>\n",
              "      <td>-1.030000</td>\n",
              "      <td>40.36</td>\n",
              "      <td>82.70</td>\n",
              "      <td>15.47</td>\n",
              "      <td>24.21</td>\n",
              "      <td>45.64</td>\n",
              "      <td>76.42</td>\n",
              "      <td>26.63</td>\n",
              "      <td>45.04</td>\n",
              "      <td>27.99</td>\n",
              "      <td>40.57</td>\n",
              "      <td>5.01</td>\n",
              "      <td>6.52</td>\n",
              "      <td>5.47</td>\n",
              "      <td>4.64</td>\n",
              "      <td>5.28</td>\n",
              "      <td>5.16</td>\n",
              "      <td>25.10</td>\n",
              "      <td>47.76</td>\n",
              "      <td>21.62</td>\n",
              "      <td>37.29</td>\n",
              "      <td>-0.353333</td>\n",
              "      <td>0.983333</td>\n",
              "      <td>-0.006667</td>\n",
              "      <td>-1.790000</td>\n",
              "      <td>0.016667</td>\n",
              "      <td>1.606667</td>\n",
              "      <td>0.013333</td>\n",
              "      <td>71.066667</td>\n",
              "      <td>70.733333</td>\n",
              "      <td>14.266667</td>\n",
              "      <td>1.133333</td>\n",
              "      <td>370.904000</td>\n",
              "      <td>367.730000</td>\n",
              "      <td>18.797333</td>\n",
              "      <td>30.812000</td>\n",
              "      <td>4169.800000</td>\n",
              "      <td>12.666667</td>\n",
              "      <td>49.609333</td>\n",
              "      <td>566.0</td>\n",
              "      <td>19463</td>\n",
              "      <td>0</td>\n",
              "      <td>True</td>\n",
              "      <td>2021-04-01</td>\n",
              "      <td>2019-09-13</td>\n",
              "    </tr>\n",
              "  </tbody>\n",
              "</table>\n",
              "</div>"
            ],
            "text/plain": [
              "   avg_time_charging_lag1  avg_time_charging_lag2  ...  LastRecord  Date Deployed\n",
              "0                    5.12                   41.11  ...  2021-04-01     2019-10-06\n",
              "1                   36.60                    5.16  ...  2021-04-01     2019-10-27\n",
              "2                    5.51                    5.04  ...  2021-04-01     2019-10-31\n",
              "3                    4.66                   39.85  ...  2021-04-01     2019-10-01\n",
              "4                    5.10                   43.24  ...  2021-04-01     2019-09-13\n",
              "\n",
              "[5 rows x 56 columns]"
            ]
          },
          "metadata": {
            "tags": []
          },
          "execution_count": 12
        }
      ]
    },
    {
      "cell_type": "markdown",
      "metadata": {
        "id": "PVzEqyTLrTUK"
      },
      "source": [
        "## Dummy Coding"
      ]
    },
    {
      "cell_type": "code",
      "metadata": {
        "colab": {
          "base_uri": "https://localhost:8080/"
        },
        "id": "sjSyIAwOrTUK",
        "scrolled": true,
        "outputId": "18d1c31e-cdd7-49e5-8a89-70fed7e38ac1"
      },
      "source": [
        "tr1.dtypes"
      ],
      "execution_count": 13,
      "outputs": [
        {
          "output_type": "execute_result",
          "data": {
            "text/plain": [
              "avg_time_charging_lag1                float64\n",
              "avg_time_charging_lag2                float64\n",
              "avg_time_charging_lag3                float64\n",
              "avg_time_charging_lag7                float64\n",
              "charging_rate_lag3                    float64\n",
              "charging_rate_lag7                    float64\n",
              "avg_time_discharging_lag1             float64\n",
              "avg_time_discharging_lag2             float64\n",
              "avg_time_discharging_lag3             float64\n",
              "avg_time_discharging_lag7             float64\n",
              "discharging_rate_lag3                 float64\n",
              "discharging_rate_lag7                 float64\n",
              "avg_time_charging_lag4                float64\n",
              "avg_time_discharging_lag4             float64\n",
              "avg_time_charging_lag5                float64\n",
              "avg_time_discharging_lag5             float64\n",
              "avg_time_charging_lag6                float64\n",
              "avg_time_discharging_lag6             float64\n",
              "avg_time_charging_lag8                float64\n",
              "avg_time_discharging_lag8             float64\n",
              "avg_time_charging_lag9                float64\n",
              "avg_time_discharging_lag9             float64\n",
              "avg_time_charging_lag10               float64\n",
              "avg_time_discharging_lag10            float64\n",
              "avg_time_charging_lag11               float64\n",
              "avg_time_discharging_lag11            float64\n",
              "avg_time_charging_lag12               float64\n",
              "avg_time_discharging_lag12            float64\n",
              "avg_time_charging_lag13               float64\n",
              "avg_time_discharging_lag13            float64\n",
              "avg_time_charging_lag14               float64\n",
              "avg_time_discharging_lag14            float64\n",
              "discharging_rate_lag4                 float64\n",
              "discharging_rate_lag5                 float64\n",
              "discharging_rate_lag6                 float64\n",
              "discharging_rate_lag8                 float64\n",
              "charging_rate_lag4                    float64\n",
              "charging_rate_lag5                    float64\n",
              "charging_rate_lag6                    float64\n",
              "chargecycles                          float64\n",
              "dischargecycles                       float64\n",
              "total_off_time                        float64\n",
              "number_times_restart                  float64\n",
              "avg_volt_change_charging              float64\n",
              "avg_volt_change_discharging           float64\n",
              "avg_time_charging                     float64\n",
              "avg_time_discharging                  float64\n",
              "max_voltage_day                       float64\n",
              "piececount                            float64\n",
              "cycle_time                            float64\n",
              "DaysInService                         float64\n",
              "deviceid                                int64\n",
              "fail_7                                  int64\n",
              "charge_cycle_time_below_12               bool\n",
              "LastRecord                     datetime64[ns]\n",
              "Date Deployed                  datetime64[ns]\n",
              "dtype: object"
            ]
          },
          "metadata": {
            "tags": []
          },
          "execution_count": 13
        }
      ]
    },
    {
      "cell_type": "code",
      "metadata": {
        "colab": {
          "base_uri": "https://localhost:8080/"
        },
        "id": "YxQGgThGrTUK",
        "scrolled": true,
        "outputId": "ff39a342-490e-4372-a4f0-49ff44c618b2"
      },
      "source": [
        "tr1 = pd.get_dummies(tr,drop_first=True,prefix_sep='_') \n",
        "tr1.columns"
      ],
      "execution_count": 14,
      "outputs": [
        {
          "output_type": "execute_result",
          "data": {
            "text/plain": [
              "Index(['deviceid', 'avg_time_charging_lag1', 'avg_time_charging_lag2',\n",
              "       'avg_time_charging_lag3', 'avg_time_charging_lag7',\n",
              "       'charging_rate_lag3', 'charging_rate_lag7', 'avg_time_discharging_lag1',\n",
              "       'avg_time_discharging_lag2', 'avg_time_discharging_lag3',\n",
              "       'avg_time_discharging_lag7', 'discharging_rate_lag3',\n",
              "       'discharging_rate_lag7', 'fail_7', 'charge_cycle_time_below_12',\n",
              "       'avg_time_charging_lag4', 'avg_time_discharging_lag4',\n",
              "       'avg_time_charging_lag5', 'avg_time_discharging_lag5',\n",
              "       'avg_time_charging_lag6', 'avg_time_discharging_lag6',\n",
              "       'avg_time_charging_lag8', 'avg_time_discharging_lag8',\n",
              "       'avg_time_charging_lag9', 'avg_time_discharging_lag9',\n",
              "       'avg_time_charging_lag10', 'avg_time_discharging_lag10',\n",
              "       'avg_time_charging_lag11', 'avg_time_discharging_lag11',\n",
              "       'avg_time_charging_lag12', 'avg_time_discharging_lag12',\n",
              "       'avg_time_charging_lag13', 'avg_time_discharging_lag13',\n",
              "       'avg_time_charging_lag14', 'avg_time_discharging_lag14',\n",
              "       'discharging_rate_lag4', 'discharging_rate_lag5',\n",
              "       'discharging_rate_lag6', 'discharging_rate_lag8', 'charging_rate_lag4',\n",
              "       'charging_rate_lag5', 'charging_rate_lag6', 'chargecycles',\n",
              "       'dischargecycles', 'total_off_time', 'number_times_restart',\n",
              "       'avg_volt_change_charging', 'avg_volt_change_discharging',\n",
              "       'avg_time_charging', 'avg_time_discharging', 'max_voltage_day',\n",
              "       'piececount', 'cycle_time', 'LastRecord', 'Date Deployed',\n",
              "       'DaysInService'],\n",
              "      dtype='object')"
            ]
          },
          "metadata": {
            "tags": []
          },
          "execution_count": 14
        }
      ]
    },
    {
      "cell_type": "code",
      "metadata": {
        "id": "_diRE45JrTUL"
      },
      "source": [
        "predictors = ['avg_time_charging_lag1', 'avg_time_charging_lag2',\n",
        "       'avg_time_charging_lag3', 'avg_time_charging_lag7',\n",
        "       'charging_rate_lag3', 'charging_rate_lag7', 'avg_time_discharging_lag1',\n",
        "       'avg_time_discharging_lag2', 'avg_time_discharging_lag3',\n",
        "       'avg_time_discharging_lag7', 'discharging_rate_lag3',\n",
        "       'discharging_rate_lag7', 'charge_cycle_time_below_12',\n",
        "       'avg_time_charging_lag4', 'avg_time_discharging_lag4',\n",
        "       'avg_time_charging_lag5', 'avg_time_discharging_lag5',\n",
        "       'avg_time_charging_lag6', 'avg_time_discharging_lag6',\n",
        "       'avg_time_charging_lag8', 'avg_time_discharging_lag8',\n",
        "       'avg_time_charging_lag9', 'avg_time_discharging_lag9',\n",
        "       'avg_time_charging_lag10', 'avg_time_discharging_lag10',\n",
        "       'avg_time_charging_lag11', 'avg_time_discharging_lag11',\n",
        "       'avg_time_charging_lag12', 'avg_time_discharging_lag12',\n",
        "       'avg_time_charging_lag13', 'avg_time_discharging_lag13',\n",
        "       'avg_time_charging_lag14', 'avg_time_discharging_lag14',\n",
        "       'discharging_rate_lag4', 'discharging_rate_lag5',\n",
        "       'discharging_rate_lag6', 'discharging_rate_lag8', 'charging_rate_lag4',\n",
        "       'charging_rate_lag5', 'charging_rate_lag6', 'chargecycles',\n",
        "       'dischargecycles', 'total_off_time', 'number_times_restart',\n",
        "       'avg_volt_change_charging', 'avg_volt_change_discharging',\n",
        "       'avg_time_charging', 'avg_time_discharging', 'max_voltage_day',\n",
        "       'piececount', 'cycle_time',\n",
        "       'DaysInService']\n",
        "outcome = 'fail_7'"
      ],
      "execution_count": 15,
      "outputs": []
    },
    {
      "cell_type": "code",
      "metadata": {
        "colab": {
          "base_uri": "https://localhost:8080/"
        },
        "id": "CqAHCW-arTUL",
        "outputId": "1130c246-d311-4c84-c917-fe7c79434510"
      },
      "source": [
        "X = tr1[predictors]\n",
        "y = tr1[outcome]\n",
        "X.shape"
      ],
      "execution_count": 16,
      "outputs": [
        {
          "output_type": "execute_result",
          "data": {
            "text/plain": [
              "(40500, 52)"
            ]
          },
          "metadata": {
            "tags": []
          },
          "execution_count": 16
        }
      ]
    },
    {
      "cell_type": "code",
      "metadata": {
        "id": "XqTP9pCqyS4M"
      },
      "source": [
        "train_X, valid_X, train_y, valid_y = train_test_split(X, y, test_size=0.3, random_state=1)"
      ],
      "execution_count": 17,
      "outputs": []
    },
    {
      "cell_type": "markdown",
      "metadata": {
        "id": "SsAEKUSwrTUM"
      },
      "source": [
        "## Logistic Regression"
      ]
    },
    {
      "cell_type": "code",
      "metadata": {
        "colab": {
          "base_uri": "https://localhost:8080/"
        },
        "id": "3qGwmhgsrTUM",
        "outputId": "74b91fcd-a71f-440b-d218-b8dba5e1666c"
      },
      "source": [
        "logit_reg = LogisticRegression(penalty=\"l2\", C=1e42, solver='liblinear',class_weight = 'balanced')\n",
        "logit_reg.fit(train_X, train_y)"
      ],
      "execution_count": 18,
      "outputs": [
        {
          "output_type": "execute_result",
          "data": {
            "text/plain": [
              "LogisticRegression(C=1e+42, class_weight='balanced', dual=False,\n",
              "                   fit_intercept=True, intercept_scaling=1, l1_ratio=None,\n",
              "                   max_iter=100, multi_class='auto', n_jobs=None, penalty='l2',\n",
              "                   random_state=None, solver='liblinear', tol=0.0001, verbose=0,\n",
              "                   warm_start=False)"
            ]
          },
          "metadata": {
            "tags": []
          },
          "execution_count": 18
        }
      ]
    },
    {
      "cell_type": "code",
      "metadata": {
        "colab": {
          "base_uri": "https://localhost:8080/"
        },
        "id": "C-sVHcThrTUM",
        "scrolled": true,
        "outputId": "fc93c10a-c89f-4c5a-e36f-059aa6a26fca"
      },
      "source": [
        "print(pd.DataFrame({'coeff': logit_reg.coef_[0]}, index=X.columns))"
      ],
      "execution_count": 19,
      "outputs": [
        {
          "output_type": "stream",
          "text": [
            "                                coeff\n",
            "avg_time_charging_lag1       0.014018\n",
            "avg_time_charging_lag2       0.012708\n",
            "avg_time_charging_lag3       0.008388\n",
            "avg_time_charging_lag7       0.016211\n",
            "charging_rate_lag3           0.065039\n",
            "charging_rate_lag7          -0.019600\n",
            "avg_time_discharging_lag1   -0.007825\n",
            "avg_time_discharging_lag2   -0.006459\n",
            "avg_time_discharging_lag3   -0.003772\n",
            "avg_time_discharging_lag7   -0.007735\n",
            "discharging_rate_lag3        0.094688\n",
            "discharging_rate_lag7       -0.004363\n",
            "charge_cycle_time_below_12   1.679705\n",
            "avg_time_charging_lag4       0.004803\n",
            "avg_time_discharging_lag4   -0.001204\n",
            "avg_time_charging_lag5       0.009172\n",
            "avg_time_discharging_lag5   -0.003508\n",
            "avg_time_charging_lag6       0.013555\n",
            "avg_time_discharging_lag6   -0.006306\n",
            "avg_time_charging_lag8       0.009965\n",
            "avg_time_discharging_lag8   -0.004074\n",
            "avg_time_charging_lag9       0.007931\n",
            "avg_time_discharging_lag9   -0.003721\n",
            "avg_time_charging_lag10      0.008072\n",
            "avg_time_discharging_lag10  -0.002896\n",
            "avg_time_charging_lag11      0.012548\n",
            "avg_time_discharging_lag11  -0.004833\n",
            "avg_time_charging_lag12      0.011104\n",
            "avg_time_discharging_lag12  -0.004831\n",
            "avg_time_charging_lag13      0.020037\n",
            "avg_time_discharging_lag13  -0.010302\n",
            "avg_time_charging_lag14      0.018244\n",
            "avg_time_discharging_lag14  -0.007582\n",
            "discharging_rate_lag4        0.032335\n",
            "discharging_rate_lag5        0.009052\n",
            "discharging_rate_lag6        0.006556\n",
            "discharging_rate_lag8       -0.010627\n",
            "charging_rate_lag4          -0.037535\n",
            "charging_rate_lag5           0.008588\n",
            "charging_rate_lag6          -0.004247\n",
            "chargecycles                 0.029892\n",
            "dischargecycles             -0.020802\n",
            "total_off_time               0.000491\n",
            "number_times_restart         0.009269\n",
            "avg_volt_change_charging     0.020795\n",
            "avg_volt_change_discharging  0.008077\n",
            "avg_time_charging           -0.133229\n",
            "avg_time_discharging         0.115189\n",
            "max_voltage_day             -0.004193\n",
            "piececount                   0.000597\n",
            "cycle_time                  -0.018040\n",
            "DaysInService                0.008150\n"
          ],
          "name": "stdout"
        }
      ]
    },
    {
      "cell_type": "markdown",
      "metadata": {
        "id": "SKGXj75KrTUM"
      },
      "source": [
        "charge_cycle_time_below_12 is the most important feature in this model. avg_time_charging and avg_time_discharging are the next most important features."
      ]
    },
    {
      "cell_type": "markdown",
      "metadata": {
        "id": "WSbXjmZSrTUM"
      },
      "source": [
        "### Model Metrics"
      ]
    },
    {
      "cell_type": "code",
      "metadata": {
        "colab": {
          "base_uri": "https://localhost:8080/"
        },
        "id": "PMYFRI-5rTUN",
        "outputId": "553244c5-5c98-453c-ce19-41769cbb357b"
      },
      "source": [
        "classificationSummary(train_y, logit_reg.predict(train_X))\n",
        "classificationSummary(valid_y, logit_reg.predict(valid_X))"
      ],
      "execution_count": 20,
      "outputs": [
        {
          "output_type": "stream",
          "text": [
            "Confusion Matrix (Accuracy 0.6140)\n",
            "\n",
            "       Prediction\n",
            "Actual     0     1\n",
            "     0 12120  9642\n",
            "     1  1302  5286\n",
            "Confusion Matrix (Accuracy 0.6071)\n",
            "\n",
            "       Prediction\n",
            "Actual    0    1\n",
            "     0 5125 4212\n",
            "     1  562 2251\n"
          ],
          "name": "stdout"
        }
      ]
    },
    {
      "cell_type": "code",
      "metadata": {
        "colab": {
          "base_uri": "https://localhost:8080/"
        },
        "id": "Ad3lgR9TrTUN",
        "outputId": "e2afb5ad-50a6-433a-a5c0-a63994da3dce"
      },
      "source": [
        "from sklearn.metrics import accuracy_score, precision_score,recall_score,f1_score,roc_auc_score,classification_report, confusion_matrix\n",
        "lr_prediction_train = logit_reg.predict_proba(train_X)[:,1] > 0.5\n",
        "lr_prediction_valid = logit_reg.predict_proba(valid_X)[:,1] > 0.5\n",
        "print(\"Accuracy on train is:\",accuracy_score(train_y,lr_prediction_train))\n",
        "print(\"Accuracy on test is:\",accuracy_score(valid_y,lr_prediction_valid))\n",
        "print(\"Precision_score train is:\",precision_score(train_y,lr_prediction_train))\n",
        "print(\"Precision_score on test is:\",precision_score(valid_y,lr_prediction_valid))\n",
        "print(\"Recall_score on train is:\",recall_score(train_y,lr_prediction_train))\n",
        "print(\"Recall_score on test is:\",recall_score(valid_y,lr_prediction_valid))\n",
        "print(\"f1_score on train is:\",f1_score(train_y,lr_prediction_train))\n",
        "print(\"f1_score on test is:\",f1_score(valid_y,lr_prediction_valid))"
      ],
      "execution_count": 21,
      "outputs": [
        {
          "output_type": "stream",
          "text": [
            "Accuracy on train is: 0.6139682539682539\n",
            "Accuracy on test is: 0.6070781893004116\n",
            "Precision_score train is: 0.3540996784565916\n",
            "Precision_score on test is: 0.3482902676775491\n",
            "Recall_score on train is: 0.802367941712204\n",
            "Recall_score on test is: 0.8002132954141487\n",
            "f1_score on train is: 0.49135527049637484\n",
            "f1_score on test is: 0.4853385079775765\n"
          ],
          "name": "stdout"
        }
      ]
    },
    {
      "cell_type": "markdown",
      "metadata": {
        "id": "snntUqEqrTUN"
      },
      "source": [
        "Recall is higher than other metrics for the logistric regression model. Precision is relatively low."
      ]
    },
    {
      "cell_type": "markdown",
      "metadata": {
        "id": "keE3VvB6rTUO"
      },
      "source": [
        "## Decision Tree"
      ]
    },
    {
      "cell_type": "code",
      "metadata": {
        "id": "GQQ9KN5nrTUP"
      },
      "source": [
        "import numpy as np\n",
        "from sklearn.model_selection import train_test_split\n",
        "train_X, valid_X, train_y, valid_y = train_test_split(X, y, test_size=0.3, random_state=1)"
      ],
      "execution_count": 22,
      "outputs": []
    },
    {
      "cell_type": "code",
      "metadata": {
        "colab": {
          "base_uri": "https://localhost:8080/",
          "height": 286
        },
        "id": "bXbpCohbrTUP",
        "outputId": "b426d9f3-7183-4094-f1f4-999c06fb8965"
      },
      "source": [
        "from sklearn.tree import DecisionTreeClassifier\n",
        "from dmba import plotDecisionTree\n",
        "\n",
        "DecisionTree = DecisionTreeClassifier(max_depth = 4)\n",
        "DecisionTree.fit(train_X, train_y)\n",
        "\n",
        "plotDecisionTree(DecisionTree, feature_names=train_X.columns)"
      ],
      "execution_count": 23,
      "outputs": [
        {
          "output_type": "execute_result",
          "data": {
            "image/png": "[encoded data removed]",
            "text/plain": [
              "<IPython.core.display.Image object>"
            ]
          },
          "metadata": {
            "tags": []
          },
          "execution_count": 23
        }
      ]
    },
    {
      "cell_type": "markdown",
      "metadata": {
        "id": "Nn9LrvLWrTUQ"
      },
      "source": [
        "### Feature Importance"
      ]
    },
    {
      "cell_type": "code",
      "metadata": {
        "colab": {
          "base_uri": "https://localhost:8080/"
        },
        "id": "Px8EelSOrTUQ",
        "scrolled": true,
        "outputId": "86991e1c-7771-48ac-ba2c-b9b7af79acb9"
      },
      "source": [
        "importances = DecisionTree.feature_importances_\n",
        "\n",
        "im = pd.DataFrame({'feature': train_X.columns, 'importance': importances})\n",
        "im = im.sort_values('importance',ascending=False)\n",
        "print(im)"
      ],
      "execution_count": 24,
      "outputs": [
        {
          "output_type": "stream",
          "text": [
            "                        feature  importance\n",
            "12   charge_cycle_time_below_12    0.448823\n",
            "10        discharging_rate_lag3    0.393047\n",
            "4            charging_rate_lag3    0.126021\n",
            "44     avg_volt_change_charging    0.021475\n",
            "42               total_off_time    0.002776\n",
            "37           charging_rate_lag4    0.002613\n",
            "43         number_times_restart    0.002422\n",
            "34        discharging_rate_lag5    0.001893\n",
            "26   avg_time_discharging_lag11    0.000931\n",
            "45  avg_volt_change_discharging    0.000000\n",
            "46            avg_time_charging    0.000000\n",
            "30   avg_time_discharging_lag13    0.000000\n",
            "31      avg_time_charging_lag14    0.000000\n",
            "32   avg_time_discharging_lag14    0.000000\n",
            "33        discharging_rate_lag4    0.000000\n",
            "50                   cycle_time    0.000000\n",
            "35        discharging_rate_lag6    0.000000\n",
            "36        discharging_rate_lag8    0.000000\n",
            "49                   piececount    0.000000\n",
            "38           charging_rate_lag5    0.000000\n",
            "39           charging_rate_lag6    0.000000\n",
            "40                 chargecycles    0.000000\n",
            "41              dischargecycles    0.000000\n",
            "28   avg_time_discharging_lag12    0.000000\n",
            "48              max_voltage_day    0.000000\n",
            "47         avg_time_discharging    0.000000\n",
            "29      avg_time_charging_lag13    0.000000\n",
            "0        avg_time_charging_lag1    0.000000\n",
            "27      avg_time_charging_lag12    0.000000\n",
            "1        avg_time_charging_lag2    0.000000\n",
            "2        avg_time_charging_lag3    0.000000\n",
            "3        avg_time_charging_lag7    0.000000\n",
            "5            charging_rate_lag7    0.000000\n",
            "6     avg_time_discharging_lag1    0.000000\n",
            "7     avg_time_discharging_lag2    0.000000\n",
            "8     avg_time_discharging_lag3    0.000000\n",
            "9     avg_time_discharging_lag7    0.000000\n",
            "11        discharging_rate_lag7    0.000000\n",
            "13       avg_time_charging_lag4    0.000000\n",
            "14    avg_time_discharging_lag4    0.000000\n",
            "15       avg_time_charging_lag5    0.000000\n",
            "16    avg_time_discharging_lag5    0.000000\n",
            "17       avg_time_charging_lag6    0.000000\n",
            "18    avg_time_discharging_lag6    0.000000\n",
            "19       avg_time_charging_lag8    0.000000\n",
            "20    avg_time_discharging_lag8    0.000000\n",
            "21       avg_time_charging_lag9    0.000000\n",
            "22    avg_time_discharging_lag9    0.000000\n",
            "23      avg_time_charging_lag10    0.000000\n",
            "24   avg_time_discharging_lag10    0.000000\n",
            "25      avg_time_charging_lag11    0.000000\n",
            "51                DaysInService    0.000000\n"
          ],
          "name": "stdout"
        }
      ]
    },
    {
      "cell_type": "markdown",
      "metadata": {
        "id": "Sy0iVvwErTUQ"
      },
      "source": [
        "### Model Metrics"
      ]
    },
    {
      "cell_type": "code",
      "metadata": {
        "colab": {
          "base_uri": "https://localhost:8080/"
        },
        "id": "Yc1k8E4qrTUQ",
        "outputId": "5094c6d2-cbae-4712-bf53-aff92509326b"
      },
      "source": [
        "dt_prediction_train = DecisionTree.predict(train_X) \n",
        "dt_prediction_valid = DecisionTree.predict(valid_X) \n",
        "    \n",
        "print(\"Accuracy score on train is:\",accuracy_score(train_y,dt_prediction_train))\n",
        "print(\"Accuracy score on test is:\",accuracy_score(valid_y,dt_prediction_valid))\n",
        "print(\"Precision score on train is:\",precision_score(train_y,dt_prediction_train))\n",
        "print(\"Precision score on test is:\",precision_score(valid_y,dt_prediction_valid))\n",
        "print(\"Recall score on train is:\",recall_score(train_y,dt_prediction_train))\n",
        "print(\"Recall score on test is:\",recall_score(valid_y,dt_prediction_valid))\n",
        "print(\"F1 score on train is:\",f1_score(train_y,dt_prediction_train))\n",
        "print(\"F1 score on test is:\",f1_score(valid_y,dt_prediction_valid))"
      ],
      "execution_count": 25,
      "outputs": [
        {
          "output_type": "stream",
          "text": [
            "Accuracy score on train is: 0.8059611992945326\n",
            "Accuracy score on test is: 0.8052674897119342\n",
            "Precision score on train is: 0.6375601113642116\n",
            "Precision score on test is: 0.6310850439882698\n",
            "Recall score on train is: 0.3823618700667881\n",
            "Recall score on test is: 0.3825097760398151\n",
            "F1 score on train is: 0.478033969067274\n",
            "F1 score on test is: 0.4763169544046038\n"
          ],
          "name": "stdout"
        }
      ]
    },
    {
      "cell_type": "markdown",
      "metadata": {
        "id": "LhCWHGKOrTUR"
      },
      "source": [
        "Accuracy is higher than other metrics for the decision tree model. Recall is relatively low."
      ]
    },
    {
      "cell_type": "markdown",
      "metadata": {
        "id": "mxAI19DxrTUR"
      },
      "source": [
        "## Naive Bayes"
      ]
    },
    {
      "cell_type": "code",
      "metadata": {
        "id": "uDYGWqwCrTUR"
      },
      "source": [
        "from sklearn.naive_bayes import GaussianNB\n",
        "\n",
        "nb = GaussianNB()\n",
        "nb.fit(train_X, train_y)\n",
        "\n",
        "# predict probabilities\n",
        "prediction_train = nb.predict_proba(train_X)\n",
        "prediction_valid = nb.predict_proba(valid_X)"
      ],
      "execution_count": 26,
      "outputs": []
    },
    {
      "cell_type": "markdown",
      "metadata": {
        "id": "HPXCfMEMrTUR"
      },
      "source": [
        "### Model Metrics"
      ]
    },
    {
      "cell_type": "code",
      "metadata": {
        "colab": {
          "base_uri": "https://localhost:8080/"
        },
        "id": "tT2_e5VDrTUR",
        "outputId": "e678eca2-9098-4ba0-f202-5300358f49e6"
      },
      "source": [
        "nb_prediction_train = nb.predict(train_X) \n",
        "nb_prediction_valid = nb.predict(valid_X)\n",
        "\n",
        "print(\"Accuracy on train is:\",accuracy_score(train_y,nb_prediction_train)) \n",
        "print(\"Accuracy on test is:\",accuracy_score(valid_y,nb_prediction_valid)) \n",
        "print(\"Precision_score train is:\",precision_score(train_y,nb_prediction_train)) \n",
        "print(\"Precision_score on test is:\",precision_score(valid_y,nb_prediction_valid)) \n",
        "print(\"Recall_score on train is:\",recall_score(train_y,nb_prediction_train)) \n",
        "print(\"Recall_score on test is:\",recall_score(valid_y,nb_prediction_valid)) \n",
        "print(\"f1_score on train is:\",f1_score(train_y,nb_prediction_train)) \n",
        "print(\"f1_score on test is:\",f1_score(valid_y,nb_prediction_valid))"
      ],
      "execution_count": 27,
      "outputs": [
        {
          "output_type": "stream",
          "text": [
            "Accuracy on train is: 0.62\n",
            "Accuracy on test is: 0.6149794238683127\n",
            "Precision_score train is: 0.34651213966111644\n",
            "Precision_score on test is: 0.3426160337552743\n",
            "Recall_score on train is: 0.7170613236187007\n",
            "Recall_score on test is: 0.7216494845360825\n",
            "f1_score on train is: 0.4672370308095545\n",
            "f1_score on test is: 0.46463721675440606\n"
          ],
          "name": "stdout"
        }
      ]
    },
    {
      "cell_type": "markdown",
      "metadata": {
        "id": "T-CLsyBnrTUS"
      },
      "source": [
        "Recall is higher than other metrics for the naive bayes model. Precision is relatively low."
      ]
    },
    {
      "cell_type": "markdown",
      "metadata": {
        "id": "vCKT2emkrTUS"
      },
      "source": [
        "## Random Forest"
      ]
    },
    {
      "cell_type": "code",
      "metadata": {
        "id": "dExYUWhvrTUT"
      },
      "source": [
        "rf = RandomForestClassifier(random_state=0)\n",
        "cc_rf = rf.fit(train_X.values, train_y.values.ravel())"
      ],
      "execution_count": 28,
      "outputs": []
    },
    {
      "cell_type": "code",
      "metadata": {
        "colab": {
          "base_uri": "https://localhost:8080/"
        },
        "id": "7UHDWSVtrTUT",
        "outputId": "1dca9267-90bb-4993-a6e5-8421551e4a0f"
      },
      "source": [
        "rf_prediction_train = cc_rf.predict(train_X)\n",
        "rf_prediction_valid = cc_rf.predict(valid_X)\n",
        "\n",
        "print(\"Accuracy on train is:\",accuracy_score(train_y,rf_prediction_train))\n",
        "print(\"Accuracy on test is:\",accuracy_score(valid_y,rf_prediction_valid))\n",
        "print(\"Precision_score train is:\",precision_score(train_y,rf_prediction_train))\n",
        "print(\"Precision_score on test is:\",precision_score(valid_y,rf_prediction_valid))\n",
        "print(\"Recall_score on train is:\",recall_score(train_y,rf_prediction_train))\n",
        "print(\"Recall_score on test is:\",recall_score(valid_y,rf_prediction_valid))\n",
        "print(\"f1_score on train is:\",f1_score(train_y,rf_prediction_train))\n",
        "print(\"f1_score on test is:\",f1_score(valid_y,rf_prediction_valid))"
      ],
      "execution_count": 29,
      "outputs": [
        {
          "output_type": "stream",
          "text": [
            "Accuracy on train is: 1.0\n",
            "Accuracy on test is: 0.7978600823045268\n",
            "Precision_score train is: 1.0\n",
            "Precision_score on test is: 0.7035347776510832\n",
            "Recall_score on train is: 1.0\n",
            "Recall_score on test is: 0.21933878421613937\n",
            "f1_score on train is: 1.0\n",
            "f1_score on test is: 0.3344173441734417\n"
          ],
          "name": "stdout"
        }
      ]
    },
    {
      "cell_type": "markdown",
      "metadata": {
        "id": "cQZFfEZhrTUT"
      },
      "source": [
        "There's an overfitting problem in this model since all scores from training set, which are close to 100%, are much higher than ones from test set."
      ]
    },
    {
      "cell_type": "markdown",
      "metadata": {
        "id": "EONAAAG6rTUU"
      },
      "source": [
        "## Gradient Boosted Trees"
      ]
    },
    {
      "cell_type": "code",
      "metadata": {
        "colab": {
          "base_uri": "https://localhost:8080/"
        },
        "id": "-tF10mYCrTUU",
        "outputId": "494dce06-d6e1-49bc-8b4a-5f23f50060e3"
      },
      "source": [
        "from sklearn.ensemble import GradientBoostingClassifier\n",
        "\n",
        "gbm = GradientBoostingClassifier(random_state=0)\n",
        "gbm.fit(train_X, train_y)\n",
        "gbm.predict(valid_X[:2])"
      ],
      "execution_count": 30,
      "outputs": [
        {
          "output_type": "execute_result",
          "data": {
            "text/plain": [
              "array([0, 0])"
            ]
          },
          "metadata": {
            "tags": []
          },
          "execution_count": 30
        }
      ]
    },
    {
      "cell_type": "markdown",
      "metadata": {
        "id": "kIo9xcSVrTUU"
      },
      "source": [
        "### Feature Importance"
      ]
    },
    {
      "cell_type": "code",
      "metadata": {
        "colab": {
          "base_uri": "https://localhost:8080/",
          "height": 420
        },
        "id": "fmp_0Yj-rTUU",
        "outputId": "9d0c2c71-3821-4a03-d2e4-470019ecb657"
      },
      "source": [
        "importances = list(zip(gbm.feature_importances_, tr.columns))\n",
        "pd.DataFrame(importances, index=[x for (_,x) in importances]).sort_values(by = 0, ascending = False).plot(kind = 'bar', color = 'r')"
      ],
      "execution_count": 31,
      "outputs": [
        {
          "output_type": "execute_result",
          "data": {
            "text/plain": [
              "<matplotlib.axes._subplots.AxesSubplot at 0x7f1f197f2f10>"
            ]
          },
          "metadata": {
            "tags": []
          },
          "execution_count": 31
        },
        {
          "output_type": "display_data",
          "data": {
            "image/png": "[encoded data removed]",
            "text/plain": [
              "<Figure size 432x288 with 1 Axes>"
            ]
          },
          "metadata": {
            "tags": [],
            "needs_background": "light"
          }
        }
      ]
    },
    {
      "cell_type": "markdown",
      "metadata": {
        "id": "ZTEktJBvrTUV"
      },
      "source": [
        "Most important feature is discharging_rate_lag3"
      ]
    },
    {
      "cell_type": "markdown",
      "metadata": {
        "id": "DcTEK7cHrTUV"
      },
      "source": [
        "### Model Metrics"
      ]
    },
    {
      "cell_type": "code",
      "metadata": {
        "colab": {
          "base_uri": "https://localhost:8080/"
        },
        "id": "BxkIZKgCrTUV",
        "outputId": "3a7f74eb-97b2-40c7-ec99-cf088bd91de1"
      },
      "source": [
        "gbt_prediction_train = gbm.predict(train_X)\n",
        "gbt_prediction_valid = gbm.predict(valid_X)\n",
        "\n",
        "print(\"Accuracy on train is:\",accuracy_score(train_y,gbt_prediction_train))\n",
        "print(\"Accuracy on test is:\",accuracy_score(valid_y,gbt_prediction_valid))\n",
        "print(\"Precision_score train is:\",precision_score(train_y,gbt_prediction_train))\n",
        "print(\"Precision_score on test is:\",precision_score(valid_y,gbt_prediction_valid))\n",
        "print(\"Recall_score on train is:\",recall_score(train_y,gbt_prediction_train))\n",
        "print(\"Recall_score on test is:\",recall_score(valid_y,gbt_prediction_valid))\n",
        "print(\"f1_score on train is:\",f1_score(train_y,gbt_prediction_train))\n",
        "print(\"f1_score on test is:\",f1_score(valid_y,gbt_prediction_valid))"
      ],
      "execution_count": 32,
      "outputs": [
        {
          "output_type": "stream",
          "text": [
            "Accuracy on train is: 0.8185537918871252\n",
            "Accuracy on test is: 0.8137448559670782\n",
            "Precision_score train is: 0.7053469852104665\n",
            "Precision_score on test is: 0.6816380449141347\n",
            "Recall_score on train is: 0.37644201578627806\n",
            "Recall_score on test is: 0.3668681123355848\n",
            "f1_score on train is: 0.49089469517022954\n",
            "f1_score on test is: 0.4770048532470534\n"
          ],
          "name": "stdout"
        }
      ]
    },
    {
      "cell_type": "markdown",
      "metadata": {
        "id": "yklgY-B_rTUV"
      },
      "source": [
        "Accuracy is higher than other metrics for the gradient boosted tree model. Recall is relatively low."
      ]
    },
    {
      "cell_type": "code",
      "metadata": {
        "id": "h6Hi8JXcrTUV"
      },
      "source": [
        ""
      ],
      "execution_count": 32,
      "outputs": []
    },
    {
      "cell_type": "markdown",
      "metadata": {
        "id": "c3Em00yAjhYI"
      },
      "source": [
        "# Neural Network"
      ]
    },
    {
      "cell_type": "code",
      "metadata": {
        "colab": {
          "base_uri": "https://localhost:8080/"
        },
        "id": "Y3XGfFDpjgbl",
        "outputId": "2f18f458-c11f-4c6e-ee20-2bbc448da0bc"
      },
      "source": [
        "from sklearn.preprocessing import MinMaxScaler\n",
        "scaler = MinMaxScaler()\n",
        "X_scale=scaler.fit_transform(X)\n",
        "X_scale.shape"
      ],
      "execution_count": 33,
      "outputs": [
        {
          "output_type": "execute_result",
          "data": {
            "text/plain": [
              "(40500, 52)"
            ]
          },
          "metadata": {
            "tags": []
          },
          "execution_count": 33
        }
      ]
    },
    {
      "cell_type": "code",
      "metadata": {
        "id": "DBIKtZXQjgW8"
      },
      "source": [
        "y_tr = tr[[outcome]] # for neural network only because this model need to get y_df.shape[1]\n",
        "train_X_nn, valid_X_nn, train_y_nn, valid_y_nn = train_test_split(X_scale, y_tr, test_size=0.3, random_state=1) "
      ],
      "execution_count": 34,
      "outputs": []
    },
    {
      "cell_type": "code",
      "metadata": {
        "id": "UY7yQWlyjgRX"
      },
      "source": [
        "import tensorflow as tf\n",
        "from tensorflow import keras"
      ],
      "execution_count": 35,
      "outputs": []
    },
    {
      "cell_type": "code",
      "metadata": {
        "id": "GQYCawF3jgMB"
      },
      "source": [
        "model2 = tf.keras.Sequential([ tf.keras.layers.Flatten(),\n",
        "                             tf.keras.layers.Dense(units=128, activation=tf.nn.relu),\n",
        "                             tf.keras.layers.Dense(units=1,activation=tf.nn.sigmoid)])"
      ],
      "execution_count": 36,
      "outputs": []
    },
    {
      "cell_type": "code",
      "metadata": {
        "id": "Qd8KPCiKjgGW"
      },
      "source": [
        "model2.compile(optimizer= tf.optimizers.Adam(),\n",
        "              loss = tf.losses.binary_crossentropy,\n",
        "              metrics = ['accuracy'])"
      ],
      "execution_count": 37,
      "outputs": []
    },
    {
      "cell_type": "code",
      "metadata": {
        "colab": {
          "base_uri": "https://localhost:8080/"
        },
        "id": "dTsM_G1hjgDA",
        "outputId": "51a694ab-33f8-45f3-bc65-879bd560f771"
      },
      "source": [
        "model2.fit(train_X_nn, train_y_nn, epochs = 15)"
      ],
      "execution_count": 38,
      "outputs": [
        {
          "output_type": "stream",
          "text": [
            "Epoch 1/15\n",
            "886/886 [==============================] - 5s 2ms/step - loss: 0.5204 - accuracy: 0.7626\n",
            "Epoch 2/15\n",
            "886/886 [==============================] - 2s 2ms/step - loss: 0.4932 - accuracy: 0.7623\n",
            "Epoch 3/15\n",
            "886/886 [==============================] - 2s 2ms/step - loss: 0.4903 - accuracy: 0.7646\n",
            "Epoch 4/15\n",
            "886/886 [==============================] - 2s 2ms/step - loss: 0.4877 - accuracy: 0.7692\n",
            "Epoch 5/15\n",
            "886/886 [==============================] - 2s 2ms/step - loss: 0.4918 - accuracy: 0.7644\n",
            "Epoch 6/15\n",
            "886/886 [==============================] - 2s 2ms/step - loss: 0.4909 - accuracy: 0.7647\n",
            "Epoch 7/15\n",
            "886/886 [==============================] - 2s 2ms/step - loss: 0.4857 - accuracy: 0.7662\n",
            "Epoch 8/15\n",
            "886/886 [==============================] - 2s 2ms/step - loss: 0.4865 - accuracy: 0.7666\n",
            "Epoch 9/15\n",
            "886/886 [==============================] - 2s 2ms/step - loss: 0.4848 - accuracy: 0.7693\n",
            "Epoch 10/15\n",
            "886/886 [==============================] - 2s 2ms/step - loss: 0.4862 - accuracy: 0.7697\n",
            "Epoch 11/15\n",
            "886/886 [==============================] - 2s 2ms/step - loss: 0.4814 - accuracy: 0.7693\n",
            "Epoch 12/15\n",
            "886/886 [==============================] - 2s 2ms/step - loss: 0.4846 - accuracy: 0.7698\n",
            "Epoch 13/15\n",
            "886/886 [==============================] - 2s 2ms/step - loss: 0.4849 - accuracy: 0.7684\n",
            "Epoch 14/15\n",
            "886/886 [==============================] - 2s 2ms/step - loss: 0.4835 - accuracy: 0.7679\n",
            "Epoch 15/15\n",
            "886/886 [==============================] - 2s 2ms/step - loss: 0.4823 - accuracy: 0.7680\n"
          ],
          "name": "stdout"
        },
        {
          "output_type": "execute_result",
          "data": {
            "text/plain": [
              "<tensorflow.python.keras.callbacks.History at 0x7f1ed00f6dd0>"
            ]
          },
          "metadata": {
            "tags": []
          },
          "execution_count": 38
        }
      ]
    },
    {
      "cell_type": "code",
      "metadata": {
        "colab": {
          "base_uri": "https://localhost:8080/"
        },
        "id": "DRHCZRI0jf8g",
        "outputId": "0fc38041-4847-4c07-972e-2a5a306b1a35"
      },
      "source": [
        "model2.evaluate(valid_X_nn, valid_y_nn)"
      ],
      "execution_count": 39,
      "outputs": [
        {
          "output_type": "stream",
          "text": [
            "380/380 [==============================] - 1s 1ms/step - loss: 0.4937 - accuracy: 0.7649\n"
          ],
          "name": "stdout"
        },
        {
          "output_type": "execute_result",
          "data": {
            "text/plain": [
              "[0.4937037527561188, 0.7649382948875427]"
            ]
          },
          "metadata": {
            "tags": []
          },
          "execution_count": 39
        }
      ]
    },
    {
      "cell_type": "code",
      "metadata": {
        "id": "kZpJU4c0jf2X"
      },
      "source": [
        "y_pred_valid = model2.predict(valid_X_nn).ravel()\n",
        "y_pred = model2.predict(train_X_nn).ravel()"
      ],
      "execution_count": 40,
      "outputs": []
    },
    {
      "cell_type": "markdown",
      "metadata": {
        "id": "vgyd1kxvHsQQ"
      },
      "source": [
        "# Model Metrics"
      ]
    },
    {
      "cell_type": "code",
      "metadata": {
        "id": "Qum1MwwJjeud",
        "colab": {
          "base_uri": "https://localhost:8080/"
        },
        "outputId": "794184aa-0b23-48d3-c4aa-83001ca12abf"
      },
      "source": [
        "# predict probabilities for test set\n",
        "prediction_probs = model2.predict(valid_X_nn)\n",
        "# predict classes\n",
        "nn_prediction_train = (model2.predict(train_X_nn) > 0.5).astype(\"int32\")\n",
        "nn_prediction_valid = (model2.predict(valid_X_nn) > 0.5).astype(\"int32\")\n",
        "\n",
        "print(\"Accuracy on train is:\",accuracy_score(train_y_nn,nn_prediction_train))\n",
        "print(\"Accuracy on test is:\",accuracy_score(valid_y_nn,nn_prediction_valid))\n",
        "print(\"Precision_score train is:\",precision_score(train_y_nn,nn_prediction_train))\n",
        "print(\"Precision_score on test is:\",precision_score(valid_y_nn,nn_prediction_valid))\n",
        "print(\"Recall_score on train is:\",recall_score(train_y_nn,nn_prediction_train))\n",
        "print(\"Recall_score on test is:\",recall_score(valid_y_nn,nn_prediction_valid))\n",
        "print(\"f1_score on train is:\",f1_score(train_y_nn,nn_prediction_train))\n",
        "print(\"f1_score on test is:\",f1_score(valid_y_nn,nn_prediction_valid))"
      ],
      "execution_count": 41,
      "outputs": [
        {
          "output_type": "stream",
          "text": [
            "Accuracy on train is: 0.7699470899470899\n",
            "Accuracy on test is: 0.7649382716049383\n",
            "Precision_score train is: 0.5332661290322581\n",
            "Precision_score on test is: 0.45295404814004375\n",
            "Recall_score on train is: 0.08029751062537947\n",
            "Recall_score on test is: 0.07358691788126555\n",
            "f1_score on train is: 0.13957783641160948\n",
            "f1_score on test is: 0.12660550458715597\n"
          ],
          "name": "stdout"
        }
      ]
    },
    {
      "cell_type": "markdown",
      "metadata": {
        "id": "jCKtqKflrTUW"
      },
      "source": [
        "## Baseline AUC"
      ]
    },
    {
      "cell_type": "code",
      "metadata": {
        "colab": {
          "base_uri": "https://localhost:8080/"
        },
        "id": "2TYV4eo_rTUW",
        "outputId": "9e2c734e-b7f6-4c84-b7f2-1ddf0faff968"
      },
      "source": [
        "from sklearn.metrics import roc_curve, auc\n",
        "# LR\n",
        "fpr, tpr, thresholds = roc_curve(train_y,lr_prediction_train)\n",
        "print(\"LogisticRegression Train: \",str(auc(fpr, tpr)))\n",
        "fpr, tpr, thresholds = roc_curve(valid_y,lr_prediction_valid)\n",
        "print(\"LogisticRegression Valid: \",str(auc(fpr, tpr)),\"\\n\")\n",
        "# DT\n",
        "fpr, tpr, thresholds = roc_curve(train_y,dt_prediction_train)\n",
        "print(\"DecisionTree Train: \",str(auc(fpr, tpr)))\n",
        "fpr, tpr, thresholds = roc_curve(valid_y,dt_prediction_valid)\n",
        "print(\"DecisionTree Valid: \",str(auc(fpr, tpr)),\"\\n\")\n",
        "# NB\n",
        "fpr, tpr, thresholds = roc_curve(train_y,nb_prediction_train)\n",
        "print(\"NaiveBayes Train: \",str(auc(fpr, tpr)))\n",
        "fpr, tpr, thresholds = roc_curve(valid_y,nb_prediction_valid)\n",
        "print(\"NaiveBayes Valid: \",str(auc(fpr, tpr)),\"\\n\")\n",
        "# RF\n",
        "fpr, tpr, thresholds = roc_curve(train_y,rf_prediction_train)\n",
        "print(\"RandomForest Train: \",str(auc(fpr, tpr)))\n",
        "fpr, tpr, thresholds = roc_curve(valid_y,rf_prediction_valid)\n",
        "print(\"RandomForest Valid: \",str(auc(fpr, tpr)),\"\\n\")\n",
        "# GBT\n",
        "fpr, tpr, thresholds = roc_curve(train_y,gbt_prediction_train )\n",
        "print(\"GradientBoostedTree Train: \",str(auc(fpr, tpr)))\n",
        "fpr, tpr, thresholds = roc_curve(valid_y,gbt_prediction_valid)\n",
        "print(\"GradientBoostedTree Valid: \",str(auc(fpr, tpr)),\"\\n\")\n",
        "# NN\n",
        "fpr, tpr, thresholds = roc_curve(train_y_nn, y_pred)\n",
        "print(\"NeuralNetworks Train: \",str(auc(fpr, tpr)))\n",
        "#fpr, tpr, thresholds = roc_curve(valid_y,nn_prediction_valid)\n",
        "fpr, tpr, thresholds = roc_curve(valid_y_nn, y_pred_valid)\n",
        "print(\"NeuralNetworkss Valid: \",str(auc(fpr, tpr)),\"\\n\")\n",
        "\n"
      ],
      "execution_count": 42,
      "outputs": [
        {
          "output_type": "stream",
          "text": [
            "LogisticRegression Train:  0.679651023516703\n",
            "LogisticRegression Valid:  0.6745524011610746 \n",
            "\n",
            "DecisionTree Train:  0.6582795472932965\n",
            "DecisionTree Valid:  0.6575716921325775 \n",
            "\n",
            "NaiveBayes Train:  0.6538389974402666\n",
            "NaiveBayes Valid:  0.6522459696430011 \n",
            "\n",
            "RandomForest Train:  1.0\n",
            "RandomForest Valid:  0.5957462904694277 \n",
            "\n",
            "GradientBoostedTree Train:  0.6644180486063087\n",
            "GradientBoostedTree Valid:  0.657622767745387 \n",
            "\n",
            "NeuralNetworks Train:  0.7278168890007128\n",
            "NeuralNetworkss Valid:  0.7115014474977157 \n",
            "\n"
          ],
          "name": "stdout"
        }
      ]
    },
    {
      "cell_type": "code",
      "metadata": {
        "id": "RhncAYz0rTUW"
      },
      "source": [
        "## ROC Curve Analysis"
      ],
      "execution_count": 43,
      "outputs": []
    },
    {
      "cell_type": "code",
      "metadata": {
        "id": "z0CwitDcrTUW"
      },
      "source": [
        "rf_proba = cc_rf.predict_proba(valid_X)[:,1]\n",
        "rf_roc = roc_curve(valid_y, rf_proba)\n",
        "rf_roc = pd.DataFrame(rf_roc)\n",
        "gbm_proba=gbm.predict_proba(valid_X)[:,1]\n",
        "gbm_roc = roc_curve(valid_y, gbm_proba)\n",
        "gbm_roc = pd.DataFrame(gbm_roc)\n",
        "nn_proba = model2.predict(valid_X_nn)\n",
        "nn_roc = roc_curve(valid_y_nn, nn_proba)\n",
        "nn_roc = pd.DataFrame(nn_roc)"
      ],
      "execution_count": 44,
      "outputs": []
    },
    {
      "cell_type": "code",
      "metadata": {
        "colab": {
          "base_uri": "https://localhost:8080/",
          "height": 530
        },
        "id": "pnE7YTUMrTUW",
        "outputId": "4f1b0a3f-ec44-4886-8054-4638017bc80d"
      },
      "source": [
        "import sklearn.metrics as metrics\n",
        "from sklearn.metrics import plot_roc_curve\n",
        "%matplotlib inline\n",
        "Classifier = [logit_reg,nb,DecisionTree]\n",
        "result_table = pd.DataFrame(columns=['classifiers', 'fpr','tpr','auc'])\n",
        "for cls in Classifier:\n",
        "    yproba = cls.predict_proba(valid_X)[:,1]\n",
        "    #plot_roc_curve(cls, valid_X, valid_y)\n",
        "    fpr, tpr, thresholds = roc_curve(valid_y,  yproba)\n",
        "\n",
        "    auc = roc_auc_score(valid_y, yproba)\n",
        "    \n",
        "    result_table = result_table.append({'classifiers':cls,\n",
        "                                        'fpr':fpr, \n",
        "                                        'tpr':tpr, \n",
        "                                        'auc':auc}, ignore_index=True)\n",
        "result_table.set_index('classifiers', inplace=True)\n",
        "#result_table.fillna(0)\n",
        "fig = plt.figure(figsize=(8,6))\n",
        "\n",
        "print(result_table.head())\n",
        "\n",
        "for i in result_table.index:\n",
        "\n",
        "    plt.plot(result_table.loc[i]['fpr'], \n",
        "             result_table.loc[i]['tpr'],\n",
        "             label=i)\n",
        "             #label=\"{}, AUC={:.3f}\".format(i, result_table.loc[i]['auc']))\n",
        "    \n",
        "plt.plot(rf_roc.loc[0,:], rf_roc.loc[1,:], label=\"Random Forest\")\n",
        "plt.plot(gbm_roc.loc[0,:], gbm_roc.loc[1,:], label=\"Gradiant Boosted Tree\")\n",
        "plt.plot(nn_roc.loc[0,:], nn_roc.loc[1,:], label=\"Neural Network\")\n",
        "\n",
        "plt.plot([0,1], [0,1], color='orange', linestyle='--')\n",
        "\n",
        "plt.xticks(np.arange(0.0, 1.1, step=0.1))\n",
        "plt.xlabel(\"False Positive Rate\", fontsize=15)\n",
        "\n",
        "plt.yticks(np.arange(0.0, 1.1, step=0.1))\n",
        "plt.ylabel(\"True Positive Rate\", fontsize=15)\n",
        "\n",
        "plt.title('ROC Curve Analysis', fontweight='bold', fontsize=15)\n",
        "plt.legend(prop={'size':8}, loc='lower right')\n",
        "\n",
        "plt.show()"
      ],
      "execution_count": 45,
      "outputs": [
        {
          "output_type": "stream",
          "text": [
            "                                                                                                  fpr  ...       auc\n",
            "classifiers                                                                                            ...          \n",
            "LogisticRegression(C=1e+42, class_weight='balan...  [0.0, 0.0001071007818357074, 0.000428403127342...  ...  0.717728\n",
            "GaussianNB(priors=None, var_smoothing=1e-09)        [0.0, 0.0, 0.0, 0.0012852093820284888, 0.00128...  ...  0.679613\n",
            "DecisionTreeClassifier(ccp_alpha=0.0, class_wei...  [0.0, 0.0002142015636714148, 0.027417800149941...  ...  0.756570\n",
            "\n",
            "[3 rows x 3 columns]\n"
          ],
          "name": "stdout"
        },
        {
          "output_type": "display_data",
          "data": {
            "image/png": "[encoded data removed]",
            "text/plain": [
              "<Figure size 576x432 with 1 Axes>"
            ]
          },
          "metadata": {
            "tags": [],
            "needs_background": "light"
          }
        }
      ]
    },
    {
      "cell_type": "markdown",
      "metadata": {
        "id": "86JwI7GCrTUX"
      },
      "source": [
        "Gradient boosted tree and decision tree performed best. Random forest has overfitting. "
      ]
    },
    {
      "cell_type": "code",
      "metadata": {
        "id": "gzVV9K48rTUX"
      },
      "source": [
        ""
      ],
      "execution_count": 45,
      "outputs": []
    }
  ]
}