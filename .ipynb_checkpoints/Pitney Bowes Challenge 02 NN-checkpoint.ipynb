{
 "cells": [
  {
   "cell_type": "markdown",
   "metadata": {
    "id": "__euuzngrTT6"
   },
   "source": [
    "### Import Packages"
   ]
  },
  {
   "cell_type": "code",
   "execution_count": 1,
   "metadata": {
    "colab": {
     "base_uri": "https://localhost:8080/"
    },
    "id": "sBN0038-rTUB",
    "outputId": "96c9d2a2-d0a1-4ddd-be69-97fe74114ceb"
   },
   "outputs": [
    {
     "name": "stdout",
     "output_type": "stream",
     "text": [
      "Requirement already satisfied: dmba in c:\\users\\daniel\\anaconda3\\lib\\site-packages (0.0.18)\n"
     ]
    }
   ],
   "source": [
    "import pandas as pd\n",
    "import numpy as np\n",
    "import seaborn as sns\n",
    "import matplotlib.pyplot as plt\n",
    "from sklearn.model_selection import train_test_split\n",
    "from sklearn.linear_model import LinearRegression, Lasso, Ridge, LassoCV, BayesianRidge\n",
    "from sklearn.linear_model import LogisticRegression, LogisticRegressionCV\n",
    "!pip install dmba\n",
    "from dmba import classificationSummary, gainsChart, liftChart\n",
    "from sklearn.ensemble import RandomForestClassifier"
   ]
  },
  {
   "cell_type": "markdown",
   "metadata": {
    "id": "dHmsr0bvrTUD"
   },
   "source": [
    "### Open Files, Create DataFrames, Zero Null Values\n",
    "#### *To keep nulls, comment 3rd var, remove \"n\" from dataframe var."
   ]
  },
  {
   "cell_type": "code",
   "execution_count": 2,
   "metadata": {
    "id": "345zuT42rTUE"
   },
   "outputs": [],
   "source": [
    "url = 'https://raw.githubusercontent.com/vikivayner/Data-Challenge-Team-14/main/test.csv'\n",
    "test = pd.read_csv(url)\n",
    "tsn = pd.DataFrame(test)\n",
    "ts = tsn.fillna(0)\n",
    "\n",
    "url2 = 'https://raw.githubusercontent.com/vikivayner/Data-Challenge-Team-14/main/train.csv'\n",
    "\n",
    "train = pd.read_csv(url2)\n",
    "trn = pd.DataFrame(train)\n",
    "tr = trn.fillna(0)"
   ]
  },
  {
   "cell_type": "markdown",
   "metadata": {
    "id": "g48wTjO2rTUE"
   },
   "source": [
    "### Convert \"LastRecord\" and \"Date Deployed\" to Datetime"
   ]
  },
  {
   "cell_type": "code",
   "execution_count": 3,
   "metadata": {
    "id": "gHSqaSxJrTUE"
   },
   "outputs": [],
   "source": [
    "ts[\"LastRecord\"], ts[\"Date Deployed\"] = pd.to_datetime(ts[\"LastRecord\"]), pd.to_datetime(ts[\"Date Deployed\"])\n",
    "tr[\"LastRecord\"], tr[\"Date Deployed\"] = pd.to_datetime(tr[\"LastRecord\"]), pd.to_datetime(tr[\"Date Deployed\"])"
   ]
  },
  {
   "cell_type": "markdown",
   "metadata": {
    "id": "HTBLz3UCrTUE"
   },
   "source": [
    "### Create \"DaysInService\" Column, Convert from TimeDelta to Float for Plotting"
   ]
  },
  {
   "cell_type": "code",
   "execution_count": 4,
   "metadata": {
    "id": "Wa-SOfRVrTUF"
   },
   "outputs": [],
   "source": [
    "ts[\"DaysInService\"] = ts[\"LastRecord\"] - ts[\"Date Deployed\"]\n",
    "ts[\"DaysInService\"] = ts[\"DaysInService\"].dt.days.astype(\"float64\")\n",
    "tr[\"DaysInService\"] = tr[\"LastRecord\"] - tr[\"Date Deployed\"]\n",
    "tr[\"DaysInService\"] = tr[\"DaysInService\"].dt.days.astype(\"float64\")"
   ]
  },
  {
   "cell_type": "markdown",
   "metadata": {
    "id": "ofklgsE-rTUF"
   },
   "source": [
    "### Get Info and Head (Raw Df)"
   ]
  },
  {
   "cell_type": "code",
   "execution_count": 5,
   "metadata": {
    "colab": {
     "base_uri": "https://localhost:8080/",
     "height": 1000
    },
    "id": "5mHixDaxrTUF",
    "outputId": "b97bc6c3-0d04-4533-954f-6ed223409893",
    "scrolled": true
   },
   "outputs": [
    {
     "name": "stdout",
     "output_type": "stream",
     "text": [
      "<class 'pandas.core.frame.DataFrame'>\n",
      "RangeIndex: 40500 entries, 0 to 40499\n",
      "Data columns (total 56 columns):\n",
      " #   Column                       Non-Null Count  Dtype         \n",
      "---  ------                       --------------  -----         \n",
      " 0   deviceid                     40500 non-null  int64         \n",
      " 1   avg_time_charging_lag1       40500 non-null  float64       \n",
      " 2   avg_time_charging_lag2       40500 non-null  float64       \n",
      " 3   avg_time_charging_lag3       40500 non-null  float64       \n",
      " 4   avg_time_charging_lag7       40500 non-null  float64       \n",
      " 5   charging_rate_lag3           40500 non-null  float64       \n",
      " 6   charging_rate_lag7           40500 non-null  float64       \n",
      " 7   avg_time_discharging_lag1    40500 non-null  float64       \n",
      " 8   avg_time_discharging_lag2    40500 non-null  float64       \n",
      " 9   avg_time_discharging_lag3    40500 non-null  float64       \n",
      " 10  avg_time_discharging_lag7    40500 non-null  float64       \n",
      " 11  discharging_rate_lag3        40500 non-null  float64       \n",
      " 12  discharging_rate_lag7        40500 non-null  float64       \n",
      " 13  fail_7                       40500 non-null  int64         \n",
      " 14  charge_cycle_time_below_12   40500 non-null  bool          \n",
      " 15  avg_time_charging_lag4       40500 non-null  float64       \n",
      " 16  avg_time_discharging_lag4    40500 non-null  float64       \n",
      " 17  avg_time_charging_lag5       40500 non-null  float64       \n",
      " 18  avg_time_discharging_lag5    40500 non-null  float64       \n",
      " 19  avg_time_charging_lag6       40500 non-null  float64       \n",
      " 20  avg_time_discharging_lag6    40500 non-null  float64       \n",
      " 21  avg_time_charging_lag8       40500 non-null  float64       \n",
      " 22  avg_time_discharging_lag8    40500 non-null  float64       \n",
      " 23  avg_time_charging_lag9       40500 non-null  float64       \n",
      " 24  avg_time_discharging_lag9    40500 non-null  float64       \n",
      " 25  avg_time_charging_lag10      40500 non-null  float64       \n",
      " 26  avg_time_discharging_lag10   40500 non-null  float64       \n",
      " 27  avg_time_charging_lag11      40500 non-null  float64       \n",
      " 28  avg_time_discharging_lag11   40500 non-null  float64       \n",
      " 29  avg_time_charging_lag12      40500 non-null  float64       \n",
      " 30  avg_time_discharging_lag12   40500 non-null  float64       \n",
      " 31  avg_time_charging_lag13      40500 non-null  float64       \n",
      " 32  avg_time_discharging_lag13   40500 non-null  float64       \n",
      " 33  avg_time_charging_lag14      40500 non-null  float64       \n",
      " 34  avg_time_discharging_lag14   40500 non-null  float64       \n",
      " 35  discharging_rate_lag4        40500 non-null  float64       \n",
      " 36  discharging_rate_lag5        40500 non-null  float64       \n",
      " 37  discharging_rate_lag6        40500 non-null  float64       \n",
      " 38  discharging_rate_lag8        40500 non-null  float64       \n",
      " 39  charging_rate_lag4           40500 non-null  float64       \n",
      " 40  charging_rate_lag5           40500 non-null  float64       \n",
      " 41  charging_rate_lag6           40500 non-null  float64       \n",
      " 42  chargecycles                 40500 non-null  float64       \n",
      " 43  dischargecycles              40500 non-null  float64       \n",
      " 44  total_off_time               40500 non-null  float64       \n",
      " 45  number_times_restart         40500 non-null  float64       \n",
      " 46  avg_volt_change_charging     40500 non-null  float64       \n",
      " 47  avg_volt_change_discharging  40500 non-null  float64       \n",
      " 48  avg_time_charging            40500 non-null  float64       \n",
      " 49  avg_time_discharging         40500 non-null  float64       \n",
      " 50  max_voltage_day              40500 non-null  float64       \n",
      " 51  piececount                   40500 non-null  float64       \n",
      " 52  cycle_time                   40500 non-null  float64       \n",
      " 53  LastRecord                   40500 non-null  datetime64[ns]\n",
      " 54  Date Deployed                40500 non-null  datetime64[ns]\n",
      " 55  DaysInService                40500 non-null  float64       \n",
      "dtypes: bool(1), datetime64[ns](2), float64(51), int64(2)\n",
      "memory usage: 17.0 MB\n"
     ]
    },
    {
     "data": {
      "text/html": [
       "<div>\n",
       "<style scoped>\n",
       "    .dataframe tbody tr th:only-of-type {\n",
       "        vertical-align: middle;\n",
       "    }\n",
       "\n",
       "    .dataframe tbody tr th {\n",
       "        vertical-align: top;\n",
       "    }\n",
       "\n",
       "    .dataframe thead th {\n",
       "        text-align: right;\n",
       "    }\n",
       "</style>\n",
       "<table border=\"1\" class=\"dataframe\">\n",
       "  <thead>\n",
       "    <tr style=\"text-align: right;\">\n",
       "      <th></th>\n",
       "      <th>deviceid</th>\n",
       "      <th>avg_time_charging_lag1</th>\n",
       "      <th>avg_time_charging_lag2</th>\n",
       "      <th>avg_time_charging_lag3</th>\n",
       "      <th>avg_time_charging_lag7</th>\n",
       "      <th>charging_rate_lag3</th>\n",
       "      <th>charging_rate_lag7</th>\n",
       "      <th>avg_time_discharging_lag1</th>\n",
       "      <th>avg_time_discharging_lag2</th>\n",
       "      <th>avg_time_discharging_lag3</th>\n",
       "      <th>...</th>\n",
       "      <th>avg_volt_change_charging</th>\n",
       "      <th>avg_volt_change_discharging</th>\n",
       "      <th>avg_time_charging</th>\n",
       "      <th>avg_time_discharging</th>\n",
       "      <th>max_voltage_day</th>\n",
       "      <th>piececount</th>\n",
       "      <th>cycle_time</th>\n",
       "      <th>LastRecord</th>\n",
       "      <th>Date Deployed</th>\n",
       "      <th>DaysInService</th>\n",
       "    </tr>\n",
       "  </thead>\n",
       "  <tbody>\n",
       "    <tr>\n",
       "      <th>0</th>\n",
       "      <td>28647</td>\n",
       "      <td>5.12</td>\n",
       "      <td>41.11</td>\n",
       "      <td>6.56</td>\n",
       "      <td>25.39</td>\n",
       "      <td>0.086667</td>\n",
       "      <td>-0.006667</td>\n",
       "      <td>4.37</td>\n",
       "      <td>91.70</td>\n",
       "      <td>15.70</td>\n",
       "      <td>...</td>\n",
       "      <td>377.080000</td>\n",
       "      <td>367.428750</td>\n",
       "      <td>21.696250</td>\n",
       "      <td>39.005000</td>\n",
       "      <td>4174.875000</td>\n",
       "      <td>14.200000</td>\n",
       "      <td>60.701250</td>\n",
       "      <td>2021-04-01</td>\n",
       "      <td>2019-10-06</td>\n",
       "      <td>543.0</td>\n",
       "    </tr>\n",
       "    <tr>\n",
       "      <th>1</th>\n",
       "      <td>36175</td>\n",
       "      <td>36.60</td>\n",
       "      <td>5.16</td>\n",
       "      <td>6.23</td>\n",
       "      <td>6.96</td>\n",
       "      <td>0.136667</td>\n",
       "      <td>-1.296667</td>\n",
       "      <td>62.67</td>\n",
       "      <td>6.53</td>\n",
       "      <td>6.16</td>\n",
       "      <td>...</td>\n",
       "      <td>350.517857</td>\n",
       "      <td>350.309286</td>\n",
       "      <td>19.883571</td>\n",
       "      <td>32.213571</td>\n",
       "      <td>4161.000000</td>\n",
       "      <td>19.777778</td>\n",
       "      <td>52.097143</td>\n",
       "      <td>2021-04-01</td>\n",
       "      <td>2019-10-27</td>\n",
       "      <td>522.0</td>\n",
       "    </tr>\n",
       "    <tr>\n",
       "      <th>2</th>\n",
       "      <td>16107</td>\n",
       "      <td>5.51</td>\n",
       "      <td>5.04</td>\n",
       "      <td>4.52</td>\n",
       "      <td>5.96</td>\n",
       "      <td>-0.460000</td>\n",
       "      <td>-0.083333</td>\n",
       "      <td>5.13</td>\n",
       "      <td>5.65</td>\n",
       "      <td>4.14</td>\n",
       "      <td>...</td>\n",
       "      <td>346.113333</td>\n",
       "      <td>343.409524</td>\n",
       "      <td>13.675238</td>\n",
       "      <td>20.471429</td>\n",
       "      <td>4152.238095</td>\n",
       "      <td>19.200000</td>\n",
       "      <td>34.146667</td>\n",
       "      <td>2021-04-01</td>\n",
       "      <td>2019-10-31</td>\n",
       "      <td>518.0</td>\n",
       "    </tr>\n",
       "    <tr>\n",
       "      <th>3</th>\n",
       "      <td>27362</td>\n",
       "      <td>4.66</td>\n",
       "      <td>39.85</td>\n",
       "      <td>35.76</td>\n",
       "      <td>40.69</td>\n",
       "      <td>0.076667</td>\n",
       "      <td>-0.006667</td>\n",
       "      <td>3.93</td>\n",
       "      <td>76.37</td>\n",
       "      <td>60.86</td>\n",
       "      <td>...</td>\n",
       "      <td>356.184211</td>\n",
       "      <td>349.844737</td>\n",
       "      <td>16.306842</td>\n",
       "      <td>26.189474</td>\n",
       "      <td>4164.631579</td>\n",
       "      <td>23.625000</td>\n",
       "      <td>42.496316</td>\n",
       "      <td>2021-04-01</td>\n",
       "      <td>2019-10-01</td>\n",
       "      <td>548.0</td>\n",
       "    </tr>\n",
       "    <tr>\n",
       "      <th>4</th>\n",
       "      <td>19463</td>\n",
       "      <td>5.10</td>\n",
       "      <td>43.24</td>\n",
       "      <td>4.63</td>\n",
       "      <td>5.26</td>\n",
       "      <td>0.040000</td>\n",
       "      <td>-0.153333</td>\n",
       "      <td>4.69</td>\n",
       "      <td>71.44</td>\n",
       "      <td>3.80</td>\n",
       "      <td>...</td>\n",
       "      <td>370.904000</td>\n",
       "      <td>367.730000</td>\n",
       "      <td>18.797333</td>\n",
       "      <td>30.812000</td>\n",
       "      <td>4169.800000</td>\n",
       "      <td>12.666667</td>\n",
       "      <td>49.609333</td>\n",
       "      <td>2021-04-01</td>\n",
       "      <td>2019-09-13</td>\n",
       "      <td>566.0</td>\n",
       "    </tr>\n",
       "  </tbody>\n",
       "</table>\n",
       "<p>5 rows × 56 columns</p>\n",
       "</div>"
      ],
      "text/plain": [
       "   deviceid  avg_time_charging_lag1  avg_time_charging_lag2  \\\n",
       "0     28647                    5.12                   41.11   \n",
       "1     36175                   36.60                    5.16   \n",
       "2     16107                    5.51                    5.04   \n",
       "3     27362                    4.66                   39.85   \n",
       "4     19463                    5.10                   43.24   \n",
       "\n",
       "   avg_time_charging_lag3  avg_time_charging_lag7  charging_rate_lag3  \\\n",
       "0                    6.56                   25.39            0.086667   \n",
       "1                    6.23                    6.96            0.136667   \n",
       "2                    4.52                    5.96           -0.460000   \n",
       "3                   35.76                   40.69            0.076667   \n",
       "4                    4.63                    5.26            0.040000   \n",
       "\n",
       "   charging_rate_lag7  avg_time_discharging_lag1  avg_time_discharging_lag2  \\\n",
       "0           -0.006667                       4.37                      91.70   \n",
       "1           -1.296667                      62.67                       6.53   \n",
       "2           -0.083333                       5.13                       5.65   \n",
       "3           -0.006667                       3.93                      76.37   \n",
       "4           -0.153333                       4.69                      71.44   \n",
       "\n",
       "   avg_time_discharging_lag3  ...  avg_volt_change_charging  \\\n",
       "0                      15.70  ...                377.080000   \n",
       "1                       6.16  ...                350.517857   \n",
       "2                       4.14  ...                346.113333   \n",
       "3                      60.86  ...                356.184211   \n",
       "4                       3.80  ...                370.904000   \n",
       "\n",
       "   avg_volt_change_discharging  avg_time_charging  avg_time_discharging  \\\n",
       "0                   367.428750          21.696250             39.005000   \n",
       "1                   350.309286          19.883571             32.213571   \n",
       "2                   343.409524          13.675238             20.471429   \n",
       "3                   349.844737          16.306842             26.189474   \n",
       "4                   367.730000          18.797333             30.812000   \n",
       "\n",
       "   max_voltage_day  piececount  cycle_time  LastRecord  Date Deployed  \\\n",
       "0      4174.875000   14.200000   60.701250  2021-04-01     2019-10-06   \n",
       "1      4161.000000   19.777778   52.097143  2021-04-01     2019-10-27   \n",
       "2      4152.238095   19.200000   34.146667  2021-04-01     2019-10-31   \n",
       "3      4164.631579   23.625000   42.496316  2021-04-01     2019-10-01   \n",
       "4      4169.800000   12.666667   49.609333  2021-04-01     2019-09-13   \n",
       "\n",
       "   DaysInService  \n",
       "0          543.0  \n",
       "1          522.0  \n",
       "2          518.0  \n",
       "3          548.0  \n",
       "4          566.0  \n",
       "\n",
       "[5 rows x 56 columns]"
      ]
     },
     "execution_count": 5,
     "metadata": {},
     "output_type": "execute_result"
    }
   ],
   "source": [
    "#ts.info()\n",
    "#ts.head()\n",
    "\n",
    "tr.info()\n",
    "tr.head()"
   ]
  },
  {
   "cell_type": "markdown",
   "metadata": {
    "id": "G2q-H896rTUG"
   },
   "source": [
    "### Count Null Values\n",
    "#### *Keep nulls above to observe progressive linearity."
   ]
  },
  {
   "cell_type": "code",
   "execution_count": 6,
   "metadata": {
    "colab": {
     "base_uri": "https://localhost:8080/"
    },
    "id": "lONYg3EUrTUH",
    "outputId": "99fa0289-1c6b-400b-89d7-05ae07cb3727",
    "scrolled": true
   },
   "outputs": [],
   "source": [
    "#ts.isnull().sum()\n",
    "#tr.isnull().sum()"
   ]
  },
  {
   "cell_type": "markdown",
   "metadata": {
    "id": "7k-ccZG-rTUH"
   },
   "source": [
    "### Plot Distributions of DataFrame Columns\n",
    "#### *no plot for \"deviceid\" (irrelevant) or \"charge_cycle_time_below_12\" (bool)\n",
    "#### **uncomment to run"
   ]
  },
  {
   "cell_type": "code",
   "execution_count": 7,
   "metadata": {
    "colab": {
     "base_uri": "https://localhost:8080/",
     "height": 35
    },
    "id": "EZAAtdATrTUI",
    "outputId": "adc6d8e4-5f77-4c99-fe8a-488b390bd645"
   },
   "outputs": [
    {
     "data": {
      "text/plain": [
       "'\\nfor col in tr.columns[1:]:\\n    if col != \"charge_cycle_time_below_12\":\\n        hist = tr[col].hist(bins=10)\\n        print(\"Plot for column \"{}\"\".format(col))\\n        plt.show()\\n'"
      ]
     },
     "execution_count": 7,
     "metadata": {},
     "output_type": "execute_result"
    }
   ],
   "source": [
    "\"\"\"\n",
    "for col in ts.columns[1:]:\n",
    "    if col != \"charge_cycle_time_below_12\":\n",
    "        hist = ts[col].hist(bins=10)\n",
    "        print(\"Plot for column \\\"{}\\\"\".format(col))\n",
    "        plt.show()\n",
    "\"\"\"\n",
    "\n",
    "\"\"\"\n",
    "for col in tr.columns[1:]:\n",
    "    if col != \"charge_cycle_time_below_12\":\n",
    "        hist = tr[col].hist(bins=10)\n",
    "        print(\"Plot for column \\\"{}\\\"\".format(col))\n",
    "        plt.show()\n",
    "\"\"\""
   ]
  },
  {
   "cell_type": "markdown",
   "metadata": {
    "id": "cXCfOYDmrTUI"
   },
   "source": [
    "### Create New DataFrame, Removing Columns Without Outliers"
   ]
  },
  {
   "cell_type": "code",
   "execution_count": 8,
   "metadata": {
    "id": "pGzptg-crTUI",
    "scrolled": true
   },
   "outputs": [],
   "source": [
    "columns = [column for column in ts.columns if ts[column].dtype == \"float64\"]\n",
    "tsno = ts[columns]\n",
    "\n",
    "columns = [column for column in tr.columns if tr[column].dtype == \"float64\"]\n",
    "trno = tr[columns]"
   ]
  },
  {
   "cell_type": "markdown",
   "metadata": {
    "id": "4Xc6mZ7FrTUI"
   },
   "source": [
    "### Convert Outliers by Quantile to Null in New DataFrame."
   ]
  },
  {
   "cell_type": "code",
   "execution_count": 9,
   "metadata": {
    "colab": {
     "base_uri": "https://localhost:8080/",
     "height": 1000
    },
    "id": "GDR-H3O-rTUJ",
    "outputId": "85b1f356-eeeb-4804-926c-cfb898ea6347",
    "scrolled": true
   },
   "outputs": [],
   "source": [
    "q_low = tsno[columns].quantile(0.01)\n",
    "q_hi  = tsno[columns].quantile(0.99)\n",
    "\n",
    "ts0 = tsno[(tsno[columns] < q_hi) & (tsno[columns] > q_low)]\n",
    "\n",
    "#ts0.info()\n",
    "#ts0.head()\n",
    "\n",
    "q_low = trno[columns].quantile(0.01)\n",
    "q_hi  = trno[columns].quantile(0.99)\n",
    "\n",
    "tr0 = trno[(trno[columns] < q_hi) & (trno[columns] > q_low)]\n",
    "\n",
    "#tr0.info()\n",
    "#tr0.head()"
   ]
  },
  {
   "cell_type": "markdown",
   "metadata": {
    "id": "FVSniEdKrTUJ"
   },
   "source": [
    "### Count New OUTLIER Null Values"
   ]
  },
  {
   "cell_type": "code",
   "execution_count": 10,
   "metadata": {
    "colab": {
     "base_uri": "https://localhost:8080/"
    },
    "id": "0JDd_27BrTUJ",
    "outputId": "5b2555f7-c6cc-4f3b-a132-3d72506a2f37",
    "scrolled": true
   },
   "outputs": [],
   "source": [
    "#ts0.isnull().sum()\n",
    "#tr0.isnull().sum()"
   ]
  },
  {
   "cell_type": "markdown",
   "metadata": {
    "id": "Y95pSdf3rTUJ"
   },
   "source": [
    "### Plot New DataFrame Outlier Nulls"
   ]
  },
  {
   "cell_type": "code",
   "execution_count": 11,
   "metadata": {
    "id": "RrxkZvIorTUK"
   },
   "outputs": [
    {
     "data": {
      "text/plain": [
       "'\\nfor col in tr0.columns:\\n    hist = tr0[col].hist(bins=100)\\n    print(\"Plot for column \"{}\"\".format(col))\\n    plt.show()\\n'"
      ]
     },
     "execution_count": 11,
     "metadata": {},
     "output_type": "execute_result"
    }
   ],
   "source": [
    "\"\"\"\n",
    "for col in ts0.columns:\n",
    "    hist = ts0[col].hist(bins=100)\n",
    "    print(\"Plot for column \\\"{}\\\"\".format(col))\n",
    "    plt.show()\n",
    "\"\"\"\n",
    "\n",
    "\"\"\"\n",
    "for col in tr0.columns:\n",
    "    hist = tr0[col].hist(bins=100)\n",
    "    print(\"Plot for column \\\"{}\\\"\".format(col))\n",
    "    plt.show()\n",
    "\"\"\""
   ]
  },
  {
   "cell_type": "markdown",
   "metadata": {},
   "source": [
    "### Rebuild DataFrames WITH Outlier Nulls for Feature Importance\n",
    "#### *Adding ints, bools, and datetimes from original df.  Uncomment to zero nulls."
   ]
  },
  {
   "cell_type": "code",
   "execution_count": 12,
   "metadata": {
    "scrolled": true
   },
   "outputs": [
    {
     "name": "stdout",
     "output_type": "stream",
     "text": [
      "<class 'pandas.core.frame.DataFrame'>\n",
      "RangeIndex: 40500 entries, 0 to 40499\n",
      "Data columns (total 56 columns):\n",
      " #   Column                       Non-Null Count  Dtype         \n",
      "---  ------                       --------------  -----         \n",
      " 0   avg_time_charging_lag1       39679 non-null  float64       \n",
      " 1   avg_time_charging_lag2       39660 non-null  float64       \n",
      " 2   avg_time_charging_lag3       39610 non-null  float64       \n",
      " 3   avg_time_charging_lag7       39647 non-null  float64       \n",
      " 4   charging_rate_lag3           39688 non-null  float64       \n",
      " 5   charging_rate_lag7           39689 non-null  float64       \n",
      " 6   avg_time_discharging_lag1    39673 non-null  float64       \n",
      " 7   avg_time_discharging_lag2    39676 non-null  float64       \n",
      " 8   avg_time_discharging_lag3    39678 non-null  float64       \n",
      " 9   avg_time_discharging_lag7    39684 non-null  float64       \n",
      " 10  discharging_rate_lag3        39690 non-null  float64       \n",
      " 11  discharging_rate_lag7        39690 non-null  float64       \n",
      " 12  avg_time_charging_lag4       39650 non-null  float64       \n",
      " 13  avg_time_discharging_lag4    39684 non-null  float64       \n",
      " 14  avg_time_charging_lag5       39670 non-null  float64       \n",
      " 15  avg_time_discharging_lag5    39659 non-null  float64       \n",
      " 16  avg_time_charging_lag6       39670 non-null  float64       \n",
      " 17  avg_time_discharging_lag6    39653 non-null  float64       \n",
      " 18  avg_time_charging_lag8       39683 non-null  float64       \n",
      " 19  avg_time_discharging_lag8    39667 non-null  float64       \n",
      " 20  avg_time_charging_lag9       39688 non-null  float64       \n",
      " 21  avg_time_discharging_lag9    39685 non-null  float64       \n",
      " 22  avg_time_charging_lag10      39298 non-null  float64       \n",
      " 23  avg_time_discharging_lag10   39298 non-null  float64       \n",
      " 24  avg_time_charging_lag11      38509 non-null  float64       \n",
      " 25  avg_time_discharging_lag11   38509 non-null  float64       \n",
      " 26  avg_time_charging_lag12      37338 non-null  float64       \n",
      " 27  avg_time_discharging_lag12   37338 non-null  float64       \n",
      " 28  avg_time_charging_lag13      35713 non-null  float64       \n",
      " 29  avg_time_discharging_lag13   35713 non-null  float64       \n",
      " 30  avg_time_charging_lag14      33426 non-null  float64       \n",
      " 31  avg_time_discharging_lag14   33425 non-null  float64       \n",
      " 32  discharging_rate_lag4        39690 non-null  float64       \n",
      " 33  discharging_rate_lag5        39689 non-null  float64       \n",
      " 34  discharging_rate_lag6        39690 non-null  float64       \n",
      " 35  discharging_rate_lag8        39689 non-null  float64       \n",
      " 36  charging_rate_lag4           39688 non-null  float64       \n",
      " 37  charging_rate_lag5           39686 non-null  float64       \n",
      " 38  charging_rate_lag6           39688 non-null  float64       \n",
      " 39  chargecycles                 39690 non-null  float64       \n",
      " 40  dischargecycles              39690 non-null  float64       \n",
      " 41  total_off_time               39198 non-null  float64       \n",
      " 42  number_times_restart         39674 non-null  float64       \n",
      " 43  avg_volt_change_charging     39690 non-null  float64       \n",
      " 44  avg_volt_change_discharging  39690 non-null  float64       \n",
      " 45  avg_time_charging            39690 non-null  float64       \n",
      " 46  avg_time_discharging         39690 non-null  float64       \n",
      " 47  max_voltage_day              39688 non-null  float64       \n",
      " 48  piececount                   39685 non-null  float64       \n",
      " 49  cycle_time                   39690 non-null  float64       \n",
      " 50  DaysInService                39595 non-null  float64       \n",
      " 51  deviceid                     40500 non-null  int64         \n",
      " 52  fail_7                       40500 non-null  int64         \n",
      " 53  charge_cycle_time_below_12   40500 non-null  bool          \n",
      " 54  LastRecord                   40500 non-null  datetime64[ns]\n",
      " 55  Date Deployed                40500 non-null  datetime64[ns]\n",
      "dtypes: bool(1), datetime64[ns](2), float64(51), int64(2)\n",
      "memory usage: 17.0 MB\n"
     ]
    },
    {
     "data": {
      "text/html": [
       "<div>\n",
       "<style scoped>\n",
       "    .dataframe tbody tr th:only-of-type {\n",
       "        vertical-align: middle;\n",
       "    }\n",
       "\n",
       "    .dataframe tbody tr th {\n",
       "        vertical-align: top;\n",
       "    }\n",
       "\n",
       "    .dataframe thead th {\n",
       "        text-align: right;\n",
       "    }\n",
       "</style>\n",
       "<table border=\"1\" class=\"dataframe\">\n",
       "  <thead>\n",
       "    <tr style=\"text-align: right;\">\n",
       "      <th></th>\n",
       "      <th>avg_time_charging_lag1</th>\n",
       "      <th>avg_time_charging_lag2</th>\n",
       "      <th>avg_time_charging_lag3</th>\n",
       "      <th>avg_time_charging_lag7</th>\n",
       "      <th>charging_rate_lag3</th>\n",
       "      <th>charging_rate_lag7</th>\n",
       "      <th>avg_time_discharging_lag1</th>\n",
       "      <th>avg_time_discharging_lag2</th>\n",
       "      <th>avg_time_discharging_lag3</th>\n",
       "      <th>avg_time_discharging_lag7</th>\n",
       "      <th>...</th>\n",
       "      <th>avg_time_discharging</th>\n",
       "      <th>max_voltage_day</th>\n",
       "      <th>piececount</th>\n",
       "      <th>cycle_time</th>\n",
       "      <th>DaysInService</th>\n",
       "      <th>deviceid</th>\n",
       "      <th>fail_7</th>\n",
       "      <th>charge_cycle_time_below_12</th>\n",
       "      <th>LastRecord</th>\n",
       "      <th>Date Deployed</th>\n",
       "    </tr>\n",
       "  </thead>\n",
       "  <tbody>\n",
       "    <tr>\n",
       "      <th>0</th>\n",
       "      <td>5.12</td>\n",
       "      <td>41.11</td>\n",
       "      <td>6.56</td>\n",
       "      <td>25.39</td>\n",
       "      <td>0.086667</td>\n",
       "      <td>-0.006667</td>\n",
       "      <td>4.37</td>\n",
       "      <td>91.70</td>\n",
       "      <td>15.70</td>\n",
       "      <td>39.12</td>\n",
       "      <td>...</td>\n",
       "      <td>39.005000</td>\n",
       "      <td>4174.875000</td>\n",
       "      <td>14.200000</td>\n",
       "      <td>60.701250</td>\n",
       "      <td>543.0</td>\n",
       "      <td>28647</td>\n",
       "      <td>0</td>\n",
       "      <td>False</td>\n",
       "      <td>2021-04-01</td>\n",
       "      <td>2019-10-06</td>\n",
       "    </tr>\n",
       "    <tr>\n",
       "      <th>1</th>\n",
       "      <td>36.60</td>\n",
       "      <td>5.16</td>\n",
       "      <td>6.23</td>\n",
       "      <td>6.96</td>\n",
       "      <td>0.136667</td>\n",
       "      <td>-1.296667</td>\n",
       "      <td>62.67</td>\n",
       "      <td>6.53</td>\n",
       "      <td>6.16</td>\n",
       "      <td>8.25</td>\n",
       "      <td>...</td>\n",
       "      <td>32.213571</td>\n",
       "      <td>4161.000000</td>\n",
       "      <td>19.777778</td>\n",
       "      <td>52.097143</td>\n",
       "      <td>522.0</td>\n",
       "      <td>36175</td>\n",
       "      <td>0</td>\n",
       "      <td>False</td>\n",
       "      <td>2021-04-01</td>\n",
       "      <td>2019-10-27</td>\n",
       "    </tr>\n",
       "    <tr>\n",
       "      <th>2</th>\n",
       "      <td>5.51</td>\n",
       "      <td>5.04</td>\n",
       "      <td>4.52</td>\n",
       "      <td>5.96</td>\n",
       "      <td>-0.460000</td>\n",
       "      <td>-0.083333</td>\n",
       "      <td>5.13</td>\n",
       "      <td>5.65</td>\n",
       "      <td>4.14</td>\n",
       "      <td>14.02</td>\n",
       "      <td>...</td>\n",
       "      <td>20.471429</td>\n",
       "      <td>4152.238095</td>\n",
       "      <td>19.200000</td>\n",
       "      <td>34.146667</td>\n",
       "      <td>518.0</td>\n",
       "      <td>16107</td>\n",
       "      <td>0</td>\n",
       "      <td>False</td>\n",
       "      <td>2021-04-01</td>\n",
       "      <td>2019-10-31</td>\n",
       "    </tr>\n",
       "    <tr>\n",
       "      <th>3</th>\n",
       "      <td>4.66</td>\n",
       "      <td>39.85</td>\n",
       "      <td>35.76</td>\n",
       "      <td>40.69</td>\n",
       "      <td>0.076667</td>\n",
       "      <td>-0.006667</td>\n",
       "      <td>3.93</td>\n",
       "      <td>76.37</td>\n",
       "      <td>60.86</td>\n",
       "      <td>73.53</td>\n",
       "      <td>...</td>\n",
       "      <td>26.189474</td>\n",
       "      <td>4164.631579</td>\n",
       "      <td>23.625000</td>\n",
       "      <td>42.496316</td>\n",
       "      <td>548.0</td>\n",
       "      <td>27362</td>\n",
       "      <td>0</td>\n",
       "      <td>False</td>\n",
       "      <td>2021-04-01</td>\n",
       "      <td>2019-10-01</td>\n",
       "    </tr>\n",
       "    <tr>\n",
       "      <th>4</th>\n",
       "      <td>5.10</td>\n",
       "      <td>43.24</td>\n",
       "      <td>4.63</td>\n",
       "      <td>5.26</td>\n",
       "      <td>0.040000</td>\n",
       "      <td>-0.153333</td>\n",
       "      <td>4.69</td>\n",
       "      <td>71.44</td>\n",
       "      <td>3.80</td>\n",
       "      <td>6.29</td>\n",
       "      <td>...</td>\n",
       "      <td>30.812000</td>\n",
       "      <td>4169.800000</td>\n",
       "      <td>12.666667</td>\n",
       "      <td>49.609333</td>\n",
       "      <td>566.0</td>\n",
       "      <td>19463</td>\n",
       "      <td>0</td>\n",
       "      <td>True</td>\n",
       "      <td>2021-04-01</td>\n",
       "      <td>2019-09-13</td>\n",
       "    </tr>\n",
       "  </tbody>\n",
       "</table>\n",
       "<p>5 rows × 56 columns</p>\n",
       "</div>"
      ],
      "text/plain": [
       "   avg_time_charging_lag1  avg_time_charging_lag2  avg_time_charging_lag3  \\\n",
       "0                    5.12                   41.11                    6.56   \n",
       "1                   36.60                    5.16                    6.23   \n",
       "2                    5.51                    5.04                    4.52   \n",
       "3                    4.66                   39.85                   35.76   \n",
       "4                    5.10                   43.24                    4.63   \n",
       "\n",
       "   avg_time_charging_lag7  charging_rate_lag3  charging_rate_lag7  \\\n",
       "0                   25.39            0.086667           -0.006667   \n",
       "1                    6.96            0.136667           -1.296667   \n",
       "2                    5.96           -0.460000           -0.083333   \n",
       "3                   40.69            0.076667           -0.006667   \n",
       "4                    5.26            0.040000           -0.153333   \n",
       "\n",
       "   avg_time_discharging_lag1  avg_time_discharging_lag2  \\\n",
       "0                       4.37                      91.70   \n",
       "1                      62.67                       6.53   \n",
       "2                       5.13                       5.65   \n",
       "3                       3.93                      76.37   \n",
       "4                       4.69                      71.44   \n",
       "\n",
       "   avg_time_discharging_lag3  avg_time_discharging_lag7  ...  \\\n",
       "0                      15.70                      39.12  ...   \n",
       "1                       6.16                       8.25  ...   \n",
       "2                       4.14                      14.02  ...   \n",
       "3                      60.86                      73.53  ...   \n",
       "4                       3.80                       6.29  ...   \n",
       "\n",
       "   avg_time_discharging  max_voltage_day  piececount  cycle_time  \\\n",
       "0             39.005000      4174.875000   14.200000   60.701250   \n",
       "1             32.213571      4161.000000   19.777778   52.097143   \n",
       "2             20.471429      4152.238095   19.200000   34.146667   \n",
       "3             26.189474      4164.631579   23.625000   42.496316   \n",
       "4             30.812000      4169.800000   12.666667   49.609333   \n",
       "\n",
       "   DaysInService  deviceid  fail_7  charge_cycle_time_below_12  LastRecord  \\\n",
       "0          543.0     28647       0                       False  2021-04-01   \n",
       "1          522.0     36175       0                       False  2021-04-01   \n",
       "2          518.0     16107       0                       False  2021-04-01   \n",
       "3          548.0     27362       0                       False  2021-04-01   \n",
       "4          566.0     19463       0                        True  2021-04-01   \n",
       "\n",
       "   Date Deployed  \n",
       "0     2019-10-06  \n",
       "1     2019-10-27  \n",
       "2     2019-10-31  \n",
       "3     2019-10-01  \n",
       "4     2019-09-13  \n",
       "\n",
       "[5 rows x 56 columns]"
      ]
     },
     "execution_count": 12,
     "metadata": {},
     "output_type": "execute_result"
    }
   ],
   "source": [
    "tso = ts[[\"deviceid\", \"charge_cycle_time_below_12\", \"LastRecord\", \"Date Deployed\"]]\n",
    "frames = [tso, ts0]\n",
    "ts1 = pd.concat(frames, axis=1)\n",
    "#ts1 = ts1.fillna(0)\n",
    "\n",
    "#ts1.info()\n",
    "#ts1.info()\n",
    "\n",
    "tro = tr[[\"deviceid\", \"fail_7\", \"charge_cycle_time_below_12\", \"LastRecord\", \"Date Deployed\"]]\n",
    "frames = [tr0, tro]\n",
    "tr1 = pd.concat(frames, axis=1)\n",
    "#tr1 = tr1.fillna(0)\n",
    "\n",
    "tr1.info()\n",
    "tr1.head()"
   ]
  },
  {
   "cell_type": "markdown",
   "metadata": {
    "id": "PVzEqyTLrTUK"
   },
   "source": [
    "## Dummy Coding"
   ]
  },
  {
   "cell_type": "code",
   "execution_count": 13,
   "metadata": {
    "colab": {
     "base_uri": "https://localhost:8080/"
    },
    "id": "sjSyIAwOrTUK",
    "outputId": "73a6cd22-9dd8-46ce-9be3-da0e44bcdc0a",
    "scrolled": true
   },
   "outputs": [
    {
     "data": {
      "text/plain": [
       "deviceid                                int64\n",
       "avg_time_charging_lag1                float64\n",
       "avg_time_charging_lag2                float64\n",
       "avg_time_charging_lag3                float64\n",
       "avg_time_charging_lag7                float64\n",
       "charging_rate_lag3                    float64\n",
       "charging_rate_lag7                    float64\n",
       "avg_time_discharging_lag1             float64\n",
       "avg_time_discharging_lag2             float64\n",
       "avg_time_discharging_lag3             float64\n",
       "avg_time_discharging_lag7             float64\n",
       "discharging_rate_lag3                 float64\n",
       "discharging_rate_lag7                 float64\n",
       "fail_7                                  int64\n",
       "charge_cycle_time_below_12               bool\n",
       "avg_time_charging_lag4                float64\n",
       "avg_time_discharging_lag4             float64\n",
       "avg_time_charging_lag5                float64\n",
       "avg_time_discharging_lag5             float64\n",
       "avg_time_charging_lag6                float64\n",
       "avg_time_discharging_lag6             float64\n",
       "avg_time_charging_lag8                float64\n",
       "avg_time_discharging_lag8             float64\n",
       "avg_time_charging_lag9                float64\n",
       "avg_time_discharging_lag9             float64\n",
       "avg_time_charging_lag10               float64\n",
       "avg_time_discharging_lag10            float64\n",
       "avg_time_charging_lag11               float64\n",
       "avg_time_discharging_lag11            float64\n",
       "avg_time_charging_lag12               float64\n",
       "avg_time_discharging_lag12            float64\n",
       "avg_time_charging_lag13               float64\n",
       "avg_time_discharging_lag13            float64\n",
       "avg_time_charging_lag14               float64\n",
       "avg_time_discharging_lag14            float64\n",
       "discharging_rate_lag4                 float64\n",
       "discharging_rate_lag5                 float64\n",
       "discharging_rate_lag6                 float64\n",
       "discharging_rate_lag8                 float64\n",
       "charging_rate_lag4                    float64\n",
       "charging_rate_lag5                    float64\n",
       "charging_rate_lag6                    float64\n",
       "chargecycles                          float64\n",
       "dischargecycles                       float64\n",
       "total_off_time                        float64\n",
       "number_times_restart                  float64\n",
       "avg_volt_change_charging              float64\n",
       "avg_volt_change_discharging           float64\n",
       "avg_time_charging                     float64\n",
       "avg_time_discharging                  float64\n",
       "max_voltage_day                       float64\n",
       "piececount                            float64\n",
       "cycle_time                            float64\n",
       "LastRecord                     datetime64[ns]\n",
       "Date Deployed                  datetime64[ns]\n",
       "DaysInService                         float64\n",
       "dtype: object"
      ]
     },
     "execution_count": 13,
     "metadata": {},
     "output_type": "execute_result"
    }
   ],
   "source": [
    "tr.dtypes"
   ]
  },
  {
   "cell_type": "code",
   "execution_count": 14,
   "metadata": {
    "colab": {
     "base_uri": "https://localhost:8080/"
    },
    "id": "YxQGgThGrTUK",
    "outputId": "03addc43-0b66-4ecd-87cf-7107aa46c720",
    "scrolled": true
   },
   "outputs": [
    {
     "data": {
      "text/plain": [
       "Index(['deviceid', 'avg_time_charging_lag1', 'avg_time_charging_lag2',\n",
       "       'avg_time_charging_lag3', 'avg_time_charging_lag7',\n",
       "       'charging_rate_lag3', 'charging_rate_lag7', 'avg_time_discharging_lag1',\n",
       "       'avg_time_discharging_lag2', 'avg_time_discharging_lag3',\n",
       "       'avg_time_discharging_lag7', 'discharging_rate_lag3',\n",
       "       'discharging_rate_lag7', 'fail_7', 'charge_cycle_time_below_12',\n",
       "       'avg_time_charging_lag4', 'avg_time_discharging_lag4',\n",
       "       'avg_time_charging_lag5', 'avg_time_discharging_lag5',\n",
       "       'avg_time_charging_lag6', 'avg_time_discharging_lag6',\n",
       "       'avg_time_charging_lag8', 'avg_time_discharging_lag8',\n",
       "       'avg_time_charging_lag9', 'avg_time_discharging_lag9',\n",
       "       'avg_time_charging_lag10', 'avg_time_discharging_lag10',\n",
       "       'avg_time_charging_lag11', 'avg_time_discharging_lag11',\n",
       "       'avg_time_charging_lag12', 'avg_time_discharging_lag12',\n",
       "       'avg_time_charging_lag13', 'avg_time_discharging_lag13',\n",
       "       'avg_time_charging_lag14', 'avg_time_discharging_lag14',\n",
       "       'discharging_rate_lag4', 'discharging_rate_lag5',\n",
       "       'discharging_rate_lag6', 'discharging_rate_lag8', 'charging_rate_lag4',\n",
       "       'charging_rate_lag5', 'charging_rate_lag6', 'chargecycles',\n",
       "       'dischargecycles', 'total_off_time', 'number_times_restart',\n",
       "       'avg_volt_change_charging', 'avg_volt_change_discharging',\n",
       "       'avg_time_charging', 'avg_time_discharging', 'max_voltage_day',\n",
       "       'piececount', 'cycle_time', 'LastRecord', 'Date Deployed',\n",
       "       'DaysInService'],\n",
       "      dtype='object')"
      ]
     },
     "execution_count": 14,
     "metadata": {},
     "output_type": "execute_result"
    }
   ],
   "source": [
    "tr = pd.get_dummies(tr,drop_first=True,prefix_sep='_') \n",
    "tr.columns"
   ]
  },
  {
   "cell_type": "code",
   "execution_count": 15,
   "metadata": {
    "id": "_diRE45JrTUL"
   },
   "outputs": [],
   "source": [
    "predictors = ['avg_time_charging_lag1', 'avg_time_charging_lag2',\n",
    "       'avg_time_charging_lag3', 'avg_time_charging_lag7',\n",
    "       'charging_rate_lag3', 'charging_rate_lag7', 'avg_time_discharging_lag1',\n",
    "       'avg_time_discharging_lag2', 'avg_time_discharging_lag3',\n",
    "       'avg_time_discharging_lag7', 'discharging_rate_lag3',\n",
    "       'discharging_rate_lag7', 'charge_cycle_time_below_12',\n",
    "       'avg_time_charging_lag4', 'avg_time_discharging_lag4',\n",
    "       'avg_time_charging_lag5', 'avg_time_discharging_lag5',\n",
    "       'avg_time_charging_lag6', 'avg_time_discharging_lag6',\n",
    "       'avg_time_charging_lag8', 'avg_time_discharging_lag8',\n",
    "       'avg_time_charging_lag9', 'avg_time_discharging_lag9',\n",
    "       'avg_time_charging_lag10', 'avg_time_discharging_lag10',\n",
    "       'avg_time_charging_lag11', 'avg_time_discharging_lag11',\n",
    "       'avg_time_charging_lag12', 'avg_time_discharging_lag12',\n",
    "       'avg_time_charging_lag13', 'avg_time_discharging_lag13',\n",
    "       'avg_time_charging_lag14', 'avg_time_discharging_lag14',\n",
    "       'discharging_rate_lag4', 'discharging_rate_lag5',\n",
    "       'discharging_rate_lag6', 'discharging_rate_lag8', 'charging_rate_lag4',\n",
    "       'charging_rate_lag5', 'charging_rate_lag6', 'chargecycles',\n",
    "       'dischargecycles', 'total_off_time', 'number_times_restart',\n",
    "       'avg_volt_change_charging', 'avg_volt_change_discharging',\n",
    "       'avg_time_charging', 'avg_time_discharging', 'max_voltage_day',\n",
    "       'piececount', 'cycle_time',\n",
    "       'DaysInService']\n",
    "outcome = 'fail_7'"
   ]
  },
  {
   "cell_type": "code",
   "execution_count": 16,
   "metadata": {
    "colab": {
     "base_uri": "https://localhost:8080/"
    },
    "id": "CqAHCW-arTUL",
    "outputId": "2bbbf368-9a5a-42ff-aae7-eb0a3e341f86"
   },
   "outputs": [
    {
     "data": {
      "text/plain": [
       "(40500, 52)"
      ]
     },
     "execution_count": 16,
     "metadata": {},
     "output_type": "execute_result"
    }
   ],
   "source": [
    "X = tr[predictors]\n",
    "y = tr[outcome]\n",
    "X.shape"
   ]
  },
  {
   "cell_type": "code",
   "execution_count": 17,
   "metadata": {
    "id": "XqTP9pCqyS4M"
   },
   "outputs": [],
   "source": [
    "train_X, valid_X, train_y, valid_y = train_test_split(X, y, test_size=0.3, random_state=1)"
   ]
  },
  {
   "cell_type": "markdown",
   "metadata": {
    "id": "SsAEKUSwrTUM"
   },
   "source": [
    "## Logistic Regression"
   ]
  },
  {
   "cell_type": "code",
   "execution_count": 18,
   "metadata": {
    "colab": {
     "base_uri": "https://localhost:8080/"
    },
    "id": "3qGwmhgsrTUM",
    "outputId": "4389c615-bb47-4a89-985c-8b535156fdf4"
   },
   "outputs": [
    {
     "data": {
      "text/plain": [
       "LogisticRegression(C=1e+42, class_weight='balanced', solver='liblinear')"
      ]
     },
     "execution_count": 18,
     "metadata": {},
     "output_type": "execute_result"
    }
   ],
   "source": [
    "logit_reg = LogisticRegression(penalty=\"l2\", C=1e42, solver='liblinear',class_weight = 'balanced')\n",
    "logit_reg.fit(train_X, train_y)"
   ]
  },
  {
   "cell_type": "code",
   "execution_count": 19,
   "metadata": {
    "colab": {
     "base_uri": "https://localhost:8080/"
    },
    "id": "C-sVHcThrTUM",
    "outputId": "e380c631-e4dc-4a07-d154-ee26384fee8b",
    "scrolled": true
   },
   "outputs": [
    {
     "name": "stdout",
     "output_type": "stream",
     "text": [
      "                                coeff\n",
      "avg_time_charging_lag1       0.014072\n",
      "avg_time_charging_lag2       0.012760\n",
      "avg_time_charging_lag3       0.008436\n",
      "avg_time_charging_lag7       0.016262\n",
      "charging_rate_lag3           0.065097\n",
      "charging_rate_lag7          -0.019762\n",
      "avg_time_discharging_lag1   -0.007854\n",
      "avg_time_discharging_lag2   -0.006486\n",
      "avg_time_discharging_lag3   -0.003797\n",
      "avg_time_discharging_lag7   -0.007762\n",
      "discharging_rate_lag3        0.094655\n",
      "discharging_rate_lag7       -0.004330\n",
      "charge_cycle_time_below_12   1.679662\n",
      "avg_time_charging_lag4       0.004859\n",
      "avg_time_discharging_lag4   -0.001233\n",
      "avg_time_charging_lag5       0.009211\n",
      "avg_time_discharging_lag5   -0.003528\n",
      "avg_time_charging_lag6       0.013604\n",
      "avg_time_discharging_lag6   -0.006331\n",
      "avg_time_charging_lag8       0.010008\n",
      "avg_time_discharging_lag8   -0.004096\n",
      "avg_time_charging_lag9       0.007970\n",
      "avg_time_discharging_lag9   -0.003741\n",
      "avg_time_charging_lag10      0.008121\n",
      "avg_time_discharging_lag10  -0.002922\n",
      "avg_time_charging_lag11      0.012586\n",
      "avg_time_discharging_lag11  -0.004853\n",
      "avg_time_charging_lag12      0.011149\n",
      "avg_time_discharging_lag12  -0.004854\n",
      "avg_time_charging_lag13      0.020071\n",
      "avg_time_discharging_lag13  -0.010320\n",
      "avg_time_charging_lag14      0.018277\n",
      "avg_time_discharging_lag14  -0.007600\n",
      "discharging_rate_lag4        0.032372\n",
      "discharging_rate_lag5        0.009071\n",
      "discharging_rate_lag6        0.006541\n",
      "discharging_rate_lag8       -0.010657\n",
      "charging_rate_lag4          -0.037646\n",
      "charging_rate_lag5           0.008555\n",
      "charging_rate_lag6          -0.004245\n",
      "chargecycles                 0.029520\n",
      "dischargecycles             -0.020441\n",
      "total_off_time               0.000490\n",
      "number_times_restart         0.009275\n",
      "avg_volt_change_charging     0.020899\n",
      "avg_volt_change_discharging  0.008063\n",
      "avg_time_charging           -0.133884\n",
      "avg_time_discharging         0.115702\n",
      "max_voltage_day             -0.004318\n",
      "piececount                   0.000598\n",
      "cycle_time                  -0.018184\n",
      "DaysInService                0.008148\n"
     ]
    }
   ],
   "source": [
    "print(pd.DataFrame({'coeff': logit_reg.coef_[0]}, index=X.columns))"
   ]
  },
  {
   "cell_type": "markdown",
   "metadata": {
    "id": "SKGXj75KrTUM"
   },
   "source": [
    "charge_cycle_time_below_12 is the most important feature in this model. avg_time_charging and avg_time_discharging are the next most important features."
   ]
  },
  {
   "cell_type": "markdown",
   "metadata": {
    "id": "WSbXjmZSrTUM"
   },
   "source": [
    "### Model Metrics"
   ]
  },
  {
   "cell_type": "code",
   "execution_count": 20,
   "metadata": {
    "colab": {
     "base_uri": "https://localhost:8080/"
    },
    "id": "PMYFRI-5rTUN",
    "outputId": "ee4bb09a-ba81-4922-ffc3-a1e0c7ee13b1"
   },
   "outputs": [
    {
     "name": "stdout",
     "output_type": "stream",
     "text": [
      "Confusion Matrix (Accuracy 0.6140)\n",
      "\n",
      "       Prediction\n",
      "Actual     0     1\n",
      "     0 12120  9642\n",
      "     1  1300  5288\n",
      "Confusion Matrix (Accuracy 0.6071)\n",
      "\n",
      "       Prediction\n",
      "Actual    0    1\n",
      "     0 5125 4212\n",
      "     1  562 2251\n"
     ]
    }
   ],
   "source": [
    "classificationSummary(train_y, logit_reg.predict(train_X))\n",
    "classificationSummary(valid_y, logit_reg.predict(valid_X))"
   ]
  },
  {
   "cell_type": "code",
   "execution_count": 21,
   "metadata": {
    "colab": {
     "base_uri": "https://localhost:8080/"
    },
    "id": "Ad3lgR9TrTUN",
    "outputId": "af8b20f0-052c-484a-eedc-7c70c45bb5ce"
   },
   "outputs": [
    {
     "name": "stdout",
     "output_type": "stream",
     "text": [
      "Accuracy on train is: 0.6140388007054673\n",
      "Accuracy on test is: 0.6070781893004116\n",
      "Precision_score train is: 0.354186202277294\n",
      "Precision_score on test is: 0.3482902676775491\n",
      "Recall_score on train is: 0.8026715239829993\n",
      "Recall_score on test is: 0.8002132954141487\n",
      "f1_score on train is: 0.4914954921461102\n",
      "f1_score on test is: 0.4853385079775765\n"
     ]
    }
   ],
   "source": [
    "from sklearn.metrics import accuracy_score, precision_score,recall_score,f1_score,roc_auc_score,classification_report, confusion_matrix\n",
    "lr_prediction_train = logit_reg.predict_proba(train_X)[:,1] > 0.5\n",
    "lr_prediction_valid = logit_reg.predict_proba(valid_X)[:,1] > 0.5\n",
    "print(\"Accuracy on train is:\",accuracy_score(train_y,lr_prediction_train))\n",
    "print(\"Accuracy on test is:\",accuracy_score(valid_y,lr_prediction_valid))\n",
    "print(\"Precision_score train is:\",precision_score(train_y,lr_prediction_train))\n",
    "print(\"Precision_score on test is:\",precision_score(valid_y,lr_prediction_valid))\n",
    "print(\"Recall_score on train is:\",recall_score(train_y,lr_prediction_train))\n",
    "print(\"Recall_score on test is:\",recall_score(valid_y,lr_prediction_valid))\n",
    "print(\"f1_score on train is:\",f1_score(train_y,lr_prediction_train))\n",
    "print(\"f1_score on test is:\",f1_score(valid_y,lr_prediction_valid))"
   ]
  },
  {
   "cell_type": "markdown",
   "metadata": {
    "id": "snntUqEqrTUN"
   },
   "source": [
    "Recall is higher than other metrics for the logistric regression model. Precision is relatively low."
   ]
  },
  {
   "cell_type": "markdown",
   "metadata": {
    "id": "keE3VvB6rTUO"
   },
   "source": [
    "## Decision Tree"
   ]
  },
  {
   "cell_type": "code",
   "execution_count": 22,
   "metadata": {
    "id": "GQQ9KN5nrTUP"
   },
   "outputs": [],
   "source": [
    "import numpy as np\n",
    "from sklearn.model_selection import train_test_split\n",
    "train_X, valid_X, train_y, valid_y = train_test_split(X, y, test_size=0.3, random_state=1)"
   ]
  },
  {
   "cell_type": "code",
   "execution_count": 23,
   "metadata": {
    "colab": {
     "base_uri": "https://localhost:8080/",
     "height": 286
    },
    "id": "bXbpCohbrTUP",
    "outputId": "bd34f7ae-824d-4b0f-f691-e4638723eab3"
   },
   "outputs": [
    {
     "data": {
      "image/png": "[encoded data removed]",
      "text/plain": [
       "<IPython.core.display.Image object>"
      ]
     },
     "execution_count": 23,
     "metadata": {},
     "output_type": "execute_result"
    }
   ],
   "source": [
    "from sklearn.tree import DecisionTreeClassifier\n",
    "from dmba import plotDecisionTree\n",
    "\n",
    "DecisionTree = DecisionTreeClassifier(max_depth = 4)\n",
    "DecisionTree.fit(train_X, train_y)\n",
    "\n",
    "plotDecisionTree(DecisionTree, feature_names=train_X.columns)"
   ]
  },
  {
   "cell_type": "markdown",
   "metadata": {
    "id": "Nn9LrvLWrTUQ"
   },
   "source": [
    "### Feature Importance"
   ]
  },
  {
   "cell_type": "code",
   "execution_count": 24,
   "metadata": {
    "colab": {
     "base_uri": "https://localhost:8080/"
    },
    "id": "Px8EelSOrTUQ",
    "outputId": "3c0d4884-d6d8-40f3-f5c0-9797f532fe0d",
    "scrolled": true
   },
   "outputs": [
    {
     "name": "stdout",
     "output_type": "stream",
     "text": [
      "                        feature  importance\n",
      "12   charge_cycle_time_below_12    0.448823\n",
      "10        discharging_rate_lag3    0.393047\n",
      "4            charging_rate_lag3    0.126021\n",
      "44     avg_volt_change_charging    0.021475\n",
      "42               total_off_time    0.002776\n",
      "37           charging_rate_lag4    0.002613\n",
      "43         number_times_restart    0.002422\n",
      "34        discharging_rate_lag5    0.001893\n",
      "26   avg_time_discharging_lag11    0.000931\n",
      "45  avg_volt_change_discharging    0.000000\n",
      "46            avg_time_charging    0.000000\n",
      "30   avg_time_discharging_lag13    0.000000\n",
      "31      avg_time_charging_lag14    0.000000\n",
      "32   avg_time_discharging_lag14    0.000000\n",
      "33        discharging_rate_lag4    0.000000\n",
      "50                   cycle_time    0.000000\n",
      "35        discharging_rate_lag6    0.000000\n",
      "36        discharging_rate_lag8    0.000000\n",
      "49                   piececount    0.000000\n",
      "38           charging_rate_lag5    0.000000\n",
      "39           charging_rate_lag6    0.000000\n",
      "40                 chargecycles    0.000000\n",
      "41              dischargecycles    0.000000\n",
      "28   avg_time_discharging_lag12    0.000000\n",
      "48              max_voltage_day    0.000000\n",
      "47         avg_time_discharging    0.000000\n",
      "29      avg_time_charging_lag13    0.000000\n",
      "0        avg_time_charging_lag1    0.000000\n",
      "27      avg_time_charging_lag12    0.000000\n",
      "1        avg_time_charging_lag2    0.000000\n",
      "2        avg_time_charging_lag3    0.000000\n",
      "3        avg_time_charging_lag7    0.000000\n",
      "5            charging_rate_lag7    0.000000\n",
      "6     avg_time_discharging_lag1    0.000000\n",
      "7     avg_time_discharging_lag2    0.000000\n",
      "8     avg_time_discharging_lag3    0.000000\n",
      "9     avg_time_discharging_lag7    0.000000\n",
      "11        discharging_rate_lag7    0.000000\n",
      "13       avg_time_charging_lag4    0.000000\n",
      "14    avg_time_discharging_lag4    0.000000\n",
      "15       avg_time_charging_lag5    0.000000\n",
      "16    avg_time_discharging_lag5    0.000000\n",
      "17       avg_time_charging_lag6    0.000000\n",
      "18    avg_time_discharging_lag6    0.000000\n",
      "19       avg_time_charging_lag8    0.000000\n",
      "20    avg_time_discharging_lag8    0.000000\n",
      "21       avg_time_charging_lag9    0.000000\n",
      "22    avg_time_discharging_lag9    0.000000\n",
      "23      avg_time_charging_lag10    0.000000\n",
      "24   avg_time_discharging_lag10    0.000000\n",
      "25      avg_time_charging_lag11    0.000000\n",
      "51                DaysInService    0.000000\n"
     ]
    }
   ],
   "source": [
    "importances = DecisionTree.feature_importances_\n",
    "\n",
    "im = pd.DataFrame({'feature': train_X.columns, 'importance': importances})\n",
    "im = im.sort_values('importance',ascending=False)\n",
    "print(im)"
   ]
  },
  {
   "cell_type": "markdown",
   "metadata": {
    "id": "Sy0iVvwErTUQ"
   },
   "source": [
    "### Model Metrics"
   ]
  },
  {
   "cell_type": "code",
   "execution_count": 25,
   "metadata": {
    "colab": {
     "base_uri": "https://localhost:8080/"
    },
    "id": "Yc1k8E4qrTUQ",
    "outputId": "1184c74b-77d8-4b40-f84b-c12692b420f1"
   },
   "outputs": [
    {
     "name": "stdout",
     "output_type": "stream",
     "text": [
      "Accuracy score on train is: 0.8059611992945326\n",
      "Accuracy score on test is: 0.8052674897119342\n",
      "Precision score on train is: 0.6375601113642116\n",
      "Precision score on test is: 0.6310850439882698\n",
      "Recall score on train is: 0.3823618700667881\n",
      "Recall score on test is: 0.3825097760398151\n",
      "F1 score on train is: 0.478033969067274\n",
      "F1 score on test is: 0.4763169544046038\n"
     ]
    }
   ],
   "source": [
    "dt_prediction_train = DecisionTree.predict(train_X) \n",
    "dt_prediction_valid = DecisionTree.predict(valid_X) \n",
    "    \n",
    "print(\"Accuracy score on train is:\",accuracy_score(train_y,dt_prediction_train))\n",
    "print(\"Accuracy score on test is:\",accuracy_score(valid_y,dt_prediction_valid))\n",
    "print(\"Precision score on train is:\",precision_score(train_y,dt_prediction_train))\n",
    "print(\"Precision score on test is:\",precision_score(valid_y,dt_prediction_valid))\n",
    "print(\"Recall score on train is:\",recall_score(train_y,dt_prediction_train))\n",
    "print(\"Recall score on test is:\",recall_score(valid_y,dt_prediction_valid))\n",
    "print(\"F1 score on train is:\",f1_score(train_y,dt_prediction_train))\n",
    "print(\"F1 score on test is:\",f1_score(valid_y,dt_prediction_valid))"
   ]
  },
  {
   "cell_type": "markdown",
   "metadata": {
    "id": "LhCWHGKOrTUR"
   },
   "source": [
    "Accuracy is higher than other metrics for the decision tree model. Recall is relatively low."
   ]
  },
  {
   "cell_type": "markdown",
   "metadata": {
    "id": "mxAI19DxrTUR"
   },
   "source": [
    "## Naive Bayes"
   ]
  },
  {
   "cell_type": "code",
   "execution_count": 26,
   "metadata": {
    "id": "uDYGWqwCrTUR"
   },
   "outputs": [],
   "source": [
    "from sklearn.naive_bayes import GaussianNB\n",
    "\n",
    "nb = GaussianNB()\n",
    "nb.fit(train_X, train_y)\n",
    "\n",
    "# predict probabilities\n",
    "prediction_train = nb.predict_proba(train_X)\n",
    "prediction_valid = nb.predict_proba(valid_X)"
   ]
  },
  {
   "cell_type": "markdown",
   "metadata": {
    "id": "HPXCfMEMrTUR"
   },
   "source": [
    "### Model Metrics"
   ]
  },
  {
   "cell_type": "code",
   "execution_count": 27,
   "metadata": {
    "colab": {
     "base_uri": "https://localhost:8080/"
    },
    "id": "tT2_e5VDrTUR",
    "outputId": "8dc5885e-e04b-4931-bb46-cf024b2c0011"
   },
   "outputs": [
    {
     "name": "stdout",
     "output_type": "stream",
     "text": [
      "Accuracy on train is: 0.62\n",
      "Accuracy on test is: 0.6149794238683127\n",
      "Precision_score train is: 0.34651213966111644\n",
      "Precision_score on test is: 0.3426160337552743\n",
      "Recall_score on train is: 0.7170613236187007\n",
      "Recall_score on test is: 0.7216494845360825\n",
      "f1_score on train is: 0.4672370308095545\n",
      "f1_score on test is: 0.46463721675440606\n"
     ]
    }
   ],
   "source": [
    "nb_prediction_train = nb.predict(train_X) \n",
    "nb_prediction_valid = nb.predict(valid_X)\n",
    "\n",
    "print(\"Accuracy on train is:\",accuracy_score(train_y,nb_prediction_train)) \n",
    "print(\"Accuracy on test is:\",accuracy_score(valid_y,nb_prediction_valid)) \n",
    "print(\"Precision_score train is:\",precision_score(train_y,nb_prediction_train)) \n",
    "print(\"Precision_score on test is:\",precision_score(valid_y,nb_prediction_valid)) \n",
    "print(\"Recall_score on train is:\",recall_score(train_y,nb_prediction_train)) \n",
    "print(\"Recall_score on test is:\",recall_score(valid_y,nb_prediction_valid)) \n",
    "print(\"f1_score on train is:\",f1_score(train_y,nb_prediction_train)) \n",
    "print(\"f1_score on test is:\",f1_score(valid_y,nb_prediction_valid))"
   ]
  },
  {
   "cell_type": "markdown",
   "metadata": {
    "id": "T-CLsyBnrTUS"
   },
   "source": [
    "Recall is higher than other metrics for the naive bayes model. Precision is relatively low."
   ]
  },
  {
   "cell_type": "markdown",
   "metadata": {
    "id": "vCKT2emkrTUS"
   },
   "source": [
    "## Random Forest"
   ]
  },
  {
   "cell_type": "code",
   "execution_count": 28,
   "metadata": {
    "id": "dExYUWhvrTUT"
   },
   "outputs": [],
   "source": [
    "rf = RandomForestClassifier(random_state=0)\n",
    "cc_rf = rf.fit(train_X.values, train_y.values.ravel())"
   ]
  },
  {
   "cell_type": "code",
   "execution_count": 29,
   "metadata": {
    "colab": {
     "base_uri": "https://localhost:8080/"
    },
    "id": "7UHDWSVtrTUT",
    "outputId": "18c13a18-81bb-43a7-ea8f-e7074f890088"
   },
   "outputs": [
    {
     "name": "stdout",
     "output_type": "stream",
     "text": [
      "Accuracy on train is: 1.0\n",
      "Accuracy on test is: 0.7978600823045268\n",
      "Precision_score train is: 1.0\n",
      "Precision_score on test is: 0.7035347776510832\n",
      "Recall_score on train is: 1.0\n",
      "Recall_score on test is: 0.21933878421613937\n",
      "f1_score on train is: 1.0\n",
      "f1_score on test is: 0.3344173441734417\n"
     ]
    }
   ],
   "source": [
    "rf_prediction_train = cc_rf.predict(train_X)\n",
    "rf_prediction_valid = cc_rf.predict(valid_X)\n",
    "\n",
    "print(\"Accuracy on train is:\",accuracy_score(train_y,rf_prediction_train))\n",
    "print(\"Accuracy on test is:\",accuracy_score(valid_y,rf_prediction_valid))\n",
    "print(\"Precision_score train is:\",precision_score(train_y,rf_prediction_train))\n",
    "print(\"Precision_score on test is:\",precision_score(valid_y,rf_prediction_valid))\n",
    "print(\"Recall_score on train is:\",recall_score(train_y,rf_prediction_train))\n",
    "print(\"Recall_score on test is:\",recall_score(valid_y,rf_prediction_valid))\n",
    "print(\"f1_score on train is:\",f1_score(train_y,rf_prediction_train))\n",
    "print(\"f1_score on test is:\",f1_score(valid_y,rf_prediction_valid))"
   ]
  },
  {
   "cell_type": "markdown",
   "metadata": {
    "id": "cQZFfEZhrTUT"
   },
   "source": [
    "There's an overfitting problem in this model since all scores from training set, which are close to 100%, are much higher than ones from test set."
   ]
  },
  {
   "cell_type": "markdown",
   "metadata": {
    "id": "EONAAAG6rTUU"
   },
   "source": [
    "## Gradient Boosted Trees"
   ]
  },
  {
   "cell_type": "code",
   "execution_count": 30,
   "metadata": {
    "colab": {
     "base_uri": "https://localhost:8080/"
    },
    "id": "-tF10mYCrTUU",
    "outputId": "7f6683e0-1694-4387-de9f-8e746796224e"
   },
   "outputs": [
    {
     "data": {
      "text/plain": [
       "array([0, 0], dtype=int64)"
      ]
     },
     "execution_count": 30,
     "metadata": {},
     "output_type": "execute_result"
    }
   ],
   "source": [
    "from sklearn.ensemble import GradientBoostingClassifier\n",
    "\n",
    "gbm = GradientBoostingClassifier(random_state=0)\n",
    "gbm.fit(train_X, train_y)\n",
    "gbm.predict(valid_X[:2])"
   ]
  },
  {
   "cell_type": "markdown",
   "metadata": {
    "id": "kIo9xcSVrTUU"
   },
   "source": [
    "### Feature Importance"
   ]
  },
  {
   "cell_type": "code",
   "execution_count": 31,
   "metadata": {
    "colab": {
     "base_uri": "https://localhost:8080/",
     "height": 420
    },
    "id": "fmp_0Yj-rTUU",
    "outputId": "f979cc42-89a4-4bbb-d007-f8b1476c701d"
   },
   "outputs": [
    {
     "data": {
      "text/plain": [
       "<AxesSubplot:>"
      ]
     },
     "execution_count": 31,
     "metadata": {},
     "output_type": "execute_result"
    },
    {
     "data": {
      "image/png": "[encoded data removed]",
      "text/plain": [
       "<Figure size 432x288 with 1 Axes>"
      ]
     },
     "metadata": {
      "needs_background": "light"
     },
     "output_type": "display_data"
    }
   ],
   "source": [
    "importances = list(zip(gbm.feature_importances_, tr.columns))\n",
    "pd.DataFrame(importances, index=[x for (_,x) in importances]).sort_values(by = 0, ascending = False).plot(kind = 'bar', color = 'r')"
   ]
  },
  {
   "cell_type": "markdown",
   "metadata": {
    "id": "ZTEktJBvrTUV"
   },
   "source": [
    "Most important feature is discharging_rate_lag3"
   ]
  },
  {
   "cell_type": "markdown",
   "metadata": {
    "id": "DcTEK7cHrTUV"
   },
   "source": [
    "### Model Metrics"
   ]
  },
  {
   "cell_type": "code",
   "execution_count": 32,
   "metadata": {
    "colab": {
     "base_uri": "https://localhost:8080/"
    },
    "id": "BxkIZKgCrTUV",
    "outputId": "82fe5950-1456-42f2-dcb9-2f02af867961"
   },
   "outputs": [
    {
     "name": "stdout",
     "output_type": "stream",
     "text": [
      "Accuracy on train is: 0.8185537918871252\n",
      "Accuracy on test is: 0.8137448559670782\n",
      "Precision_score train is: 0.7053469852104665\n",
      "Precision_score on test is: 0.6816380449141347\n",
      "Recall_score on train is: 0.37644201578627806\n",
      "Recall_score on test is: 0.3668681123355848\n",
      "f1_score on train is: 0.49089469517022954\n",
      "f1_score on test is: 0.4770048532470534\n"
     ]
    }
   ],
   "source": [
    "gbt_prediction_train = gbm.predict(train_X)\n",
    "gbt_prediction_valid = gbm.predict(valid_X)\n",
    "\n",
    "print(\"Accuracy on train is:\",accuracy_score(train_y,gbt_prediction_train))\n",
    "print(\"Accuracy on test is:\",accuracy_score(valid_y,gbt_prediction_valid))\n",
    "print(\"Precision_score train is:\",precision_score(train_y,gbt_prediction_train))\n",
    "print(\"Precision_score on test is:\",precision_score(valid_y,gbt_prediction_valid))\n",
    "print(\"Recall_score on train is:\",recall_score(train_y,gbt_prediction_train))\n",
    "print(\"Recall_score on test is:\",recall_score(valid_y,gbt_prediction_valid))\n",
    "print(\"f1_score on train is:\",f1_score(train_y,gbt_prediction_train))\n",
    "print(\"f1_score on test is:\",f1_score(valid_y,gbt_prediction_valid))"
   ]
  },
  {
   "cell_type": "markdown",
   "metadata": {
    "id": "yklgY-B_rTUV"
   },
   "source": [
    "Accuracy is higher than other metrics for the gradient boosted tree model. Recall is relatively low."
   ]
  },
  {
   "cell_type": "code",
   "execution_count": null,
   "metadata": {
    "id": "h6Hi8JXcrTUV"
   },
   "outputs": [],
   "source": []
  },
  {
   "cell_type": "markdown",
   "metadata": {
    "id": "c3Em00yAjhYI"
   },
   "source": [
    "# Neural Network"
   ]
  },
  {
   "cell_type": "code",
   "execution_count": 33,
   "metadata": {
    "colab": {
     "base_uri": "https://localhost:8080/"
    },
    "id": "Y3XGfFDpjgbl",
    "outputId": "3b7f394e-5acf-444e-a308-44272b0ecfcc"
   },
   "outputs": [
    {
     "data": {
      "text/plain": [
       "(40500, 52)"
      ]
     },
     "execution_count": 33,
     "metadata": {},
     "output_type": "execute_result"
    }
   ],
   "source": [
    "from sklearn.preprocessing import MinMaxScaler\n",
    "scaler = MinMaxScaler()\n",
    "X_scale=scaler.fit_transform(X)\n",
    "X_scale.shape"
   ]
  },
  {
   "cell_type": "code",
   "execution_count": 34,
   "metadata": {
    "id": "DBIKtZXQjgW8"
   },
   "outputs": [],
   "source": [
    "y_tr = tr[[outcome]] # for neural network only because this model need to get y_df.shape[1]\n",
    "train_X_nn, valid_X_nn, train_y_nn, valid_y_nn = train_test_split(X_scale, y_tr, test_size=0.3, random_state=1) "
   ]
  },
  {
   "cell_type": "code",
   "execution_count": 35,
   "metadata": {
    "id": "UY7yQWlyjgRX"
   },
   "outputs": [
    {
     "ename": "ModuleNotFoundError",
     "evalue": "No module named 'tensorflow'",
     "output_type": "error",
     "traceback": [
      "\u001b[1;31m---------------------------------------------------------------------------\u001b[0m",
      "\u001b[1;31mModuleNotFoundError\u001b[0m                       Traceback (most recent call last)",
      "\u001b[1;32m<ipython-input-35-3d1e6d42ad48>\u001b[0m in \u001b[0;36m<module>\u001b[1;34m\u001b[0m\n\u001b[1;32m----> 1\u001b[1;33m \u001b[1;32mimport\u001b[0m \u001b[0mtensorflow\u001b[0m \u001b[1;32mas\u001b[0m \u001b[0mtf\u001b[0m\u001b[1;33m\u001b[0m\u001b[1;33m\u001b[0m\u001b[0m\n\u001b[0m\u001b[0;32m      2\u001b[0m \u001b[1;32mfrom\u001b[0m \u001b[0mtensorflow\u001b[0m \u001b[1;32mimport\u001b[0m \u001b[0mkeras\u001b[0m\u001b[1;33m\u001b[0m\u001b[1;33m\u001b[0m\u001b[0m\n",
      "\u001b[1;31mModuleNotFoundError\u001b[0m: No module named 'tensorflow'"
     ]
    }
   ],
   "source": [
    "import tensorflow as tf\n",
    "from tensorflow import keras"
   ]
  },
  {
   "cell_type": "code",
   "execution_count": null,
   "metadata": {
    "id": "GQYCawF3jgMB"
   },
   "outputs": [],
   "source": [
    "model2 = tf.keras.Sequential([ tf.keras.layers.Flatten(),\n",
    "                             tf.keras.layers.Dense(units=128, activation=tf.nn.relu),\n",
    "                             tf.keras.layers.Dense(units=1,activation=tf.nn.sigmoid)])"
   ]
  },
  {
   "cell_type": "code",
   "execution_count": null,
   "metadata": {
    "id": "Qd8KPCiKjgGW"
   },
   "outputs": [],
   "source": [
    "model2.compile(optimizer= tf.optimizers.Adam(),\n",
    "              loss = tf.losses.binary_crossentropy,\n",
    "              metrics = ['accuracy'])"
   ]
  },
  {
   "cell_type": "code",
   "execution_count": null,
   "metadata": {
    "colab": {
     "base_uri": "https://localhost:8080/"
    },
    "id": "dTsM_G1hjgDA",
    "outputId": "94a877ce-475f-471a-f14b-3ded5d9ca37a"
   },
   "outputs": [],
   "source": [
    "model2.fit(train_X_nn, train_y_nn, epochs = 15)"
   ]
  },
  {
   "cell_type": "code",
   "execution_count": null,
   "metadata": {
    "colab": {
     "base_uri": "https://localhost:8080/"
    },
    "id": "DRHCZRI0jf8g",
    "outputId": "c1eee723-1129-4a24-b677-86cb195eca06"
   },
   "outputs": [],
   "source": [
    "model2.evaluate(valid_X_nn, valid_y_nn)"
   ]
  },
  {
   "cell_type": "code",
   "execution_count": null,
   "metadata": {
    "id": "kZpJU4c0jf2X"
   },
   "outputs": [],
   "source": [
    "y_pred_valid = model2.predict(valid_X_nn).ravel()\n",
    "y_pred = model2.predict(train_X_nn).ravel()"
   ]
  },
  {
   "cell_type": "code",
   "execution_count": null,
   "metadata": {
    "id": "Qum1MwwJjeud"
   },
   "outputs": [],
   "source": []
  },
  {
   "cell_type": "markdown",
   "metadata": {
    "id": "jCKtqKflrTUW"
   },
   "source": [
    "## Baseline AUC"
   ]
  },
  {
   "cell_type": "code",
   "execution_count": null,
   "metadata": {
    "colab": {
     "base_uri": "https://localhost:8080/"
    },
    "id": "2TYV4eo_rTUW",
    "outputId": "6225d296-d2c9-4494-acb9-119f55e2bd21"
   },
   "outputs": [],
   "source": [
    "from sklearn.metrics import roc_curve, auc\n",
    "# LR\n",
    "fpr, tpr, thresholds = roc_curve(train_y,lr_prediction_train)\n",
    "print(\"LogisticRegression Train: \",str(auc(fpr, tpr)))\n",
    "fpr, tpr, thresholds = roc_curve(valid_y,lr_prediction_valid)\n",
    "print(\"LogisticRegression Valid: \",str(auc(fpr, tpr)),\"\\n\")\n",
    "# DT\n",
    "fpr, tpr, thresholds = roc_curve(train_y,dt_prediction_train)\n",
    "print(\"DecisionTree Train: \",str(auc(fpr, tpr)))\n",
    "fpr, tpr, thresholds = roc_curve(valid_y,dt_prediction_valid)\n",
    "print(\"DecisionTree Valid: \",str(auc(fpr, tpr)),\"\\n\")\n",
    "# NB\n",
    "fpr, tpr, thresholds = roc_curve(train_y,nb_prediction_train)\n",
    "print(\"NaiveBayes Train: \",str(auc(fpr, tpr)))\n",
    "fpr, tpr, thresholds = roc_curve(valid_y,nb_prediction_valid)\n",
    "print(\"NaiveBayes Valid: \",str(auc(fpr, tpr)),\"\\n\")\n",
    "# RF\n",
    "fpr, tpr, thresholds = roc_curve(train_y,rf_prediction_train)\n",
    "print(\"RandomForest Train: \",str(auc(fpr, tpr)))\n",
    "fpr, tpr, thresholds = roc_curve(valid_y,rf_prediction_valid)\n",
    "print(\"RandomForest Valid: \",str(auc(fpr, tpr)),\"\\n\")\n",
    "# GBT\n",
    "fpr, tpr, thresholds = roc_curve(train_y,gbt_prediction_train )\n",
    "print(\"GradientBoostedTree Train: \",str(auc(fpr, tpr)))\n",
    "fpr, tpr, thresholds = roc_curve(valid_y,gbt_prediction_valid)\n",
    "print(\"GradientBoostedTree Valid: \",str(auc(fpr, tpr)),\"\\n\")\n",
    "# NN\n",
    "fpr, tpr, thresholds = roc_curve(train_y_nn, y_pred)\n",
    "print(\"NeuralNetworks Train: \",str(auc(fpr, tpr)))\n",
    "#fpr, tpr, thresholds = roc_curve(valid_y,nn_prediction_valid)\n",
    "fpr, tpr, thresholds = roc_curve(valid_y_nn, y_pred_valid)\n",
    "print(\"NeuralNetworkss Valid: \",str(auc(fpr, tpr)),\"\\n\")\n",
    "\n"
   ]
  },
  {
   "cell_type": "code",
   "execution_count": null,
   "metadata": {
    "id": "RhncAYz0rTUW"
   },
   "outputs": [],
   "source": [
    "## ROC Curve Analysis"
   ]
  },
  {
   "cell_type": "code",
   "execution_count": null,
   "metadata": {
    "id": "z0CwitDcrTUW"
   },
   "outputs": [],
   "source": [
    "rf_proba = cc_rf.predict_proba(valid_X)[:,1]\n",
    "rf_roc = roc_curve(valid_y, rf_proba)\n",
    "rf_roc = pd.DataFrame(rf_roc)\n",
    "gbm_proba=gbm.predict_proba(valid_X)[:,1]\n",
    "gbm_roc = roc_curve(valid_y, gbm_proba)\n",
    "gbm_roc = pd.DataFrame(gbm_roc)\n",
    "nn_proba = model2.predict(valid_X_nn)\n",
    "nn_roc = roc_curve(valid_y_nn, nn_proba)\n",
    "nn_roc = pd.DataFrame(nn_roc)"
   ]
  },
  {
   "cell_type": "code",
   "execution_count": null,
   "metadata": {
    "colab": {
     "base_uri": "https://localhost:8080/",
     "height": 530
    },
    "id": "pnE7YTUMrTUW",
    "outputId": "50ad4953-f352-417e-8fff-0bf0a0268fca"
   },
   "outputs": [],
   "source": [
    "import sklearn.metrics as metrics\n",
    "from sklearn.metrics import plot_roc_curve\n",
    "%matplotlib inline\n",
    "Classifier = [logit_reg,nb,DecisionTree]\n",
    "result_table = pd.DataFrame(columns=['classifiers', 'fpr','tpr','auc'])\n",
    "for cls in Classifier:\n",
    "    yproba = cls.predict_proba(valid_X)[:,1]\n",
    "    #plot_roc_curve(cls, valid_X, valid_y)\n",
    "    fpr, tpr, thresholds = roc_curve(valid_y,  yproba)\n",
    "\n",
    "    auc = roc_auc_score(valid_y, yproba)\n",
    "    \n",
    "    result_table = result_table.append({'classifiers':cls,\n",
    "                                        'fpr':fpr, \n",
    "                                        'tpr':tpr, \n",
    "                                        'auc':auc}, ignore_index=True)\n",
    "result_table.set_index('classifiers', inplace=True)\n",
    "#result_table.fillna(0)\n",
    "fig = plt.figure(figsize=(8,6))\n",
    "\n",
    "print(result_table.head())\n",
    "\n",
    "for i in result_table.index:\n",
    "\n",
    "    plt.plot(result_table.loc[i]['fpr'], \n",
    "             result_table.loc[i]['tpr'],\n",
    "             label=i)\n",
    "             #label=\"{}, AUC={:.3f}\".format(i, result_table.loc[i]['auc']))\n",
    "    \n",
    "plt.plot(rf_roc.loc[0,:], rf_roc.loc[1,:], label=\"Random Forest\")\n",
    "plt.plot(gbm_roc.loc[0,:], gbm_roc.loc[1,:], label=\"Gradiant Boosted Tree\")\n",
    "plt.plot(nn_roc.loc[0,:], nn_roc.loc[1,:], label=\"Neural Network\")\n",
    "\n",
    "plt.plot([0,1], [0,1], color='orange', linestyle='--')\n",
    "\n",
    "plt.xticks(np.arange(0.0, 1.1, step=0.1))\n",
    "plt.xlabel(\"False Positive Rate\", fontsize=15)\n",
    "\n",
    "plt.yticks(np.arange(0.0, 1.1, step=0.1))\n",
    "plt.ylabel(\"True Positive Rate\", fontsize=15)\n",
    "\n",
    "plt.title('ROC Curve Analysis', fontweight='bold', fontsize=15)\n",
    "plt.legend(prop={'size':8}, loc='lower right')\n",
    "\n",
    "plt.show()"
   ]
  },
  {
   "cell_type": "markdown",
   "metadata": {
    "id": "86JwI7GCrTUX"
   },
   "source": [
    "Gradient boosted tree and decision tree performed best. Random forest has overfitting. "
   ]
  },
  {
   "cell_type": "code",
   "execution_count": null,
   "metadata": {
    "id": "gzVV9K48rTUX"
   },
   "outputs": [],
   "source": []
  }
 ],
 "metadata": {
  "accelerator": "GPU",
  "colab": {
   "name": "Pitney Bowes Challenge 02aaa.ipynb",
   "provenance": []
  },
  "kernelspec": {
   "display_name": "Python 3",
   "language": "python",
   "name": "python3"
  },
  "language_info": {
   "codemirror_mode": {
    "name": "ipython",
    "version": 3
   },
   "file_extension": ".py",
   "mimetype": "text/x-python",
   "name": "python",
   "nbconvert_exporter": "python",
   "pygments_lexer": "ipython3",
   "version": "3.8.5"
  }
 },
 "nbformat": 4,
 "nbformat_minor": 1
}
