{
 "cells": [
  {
   "cell_type": "markdown",
   "metadata": {},
   "source": [
    "### Import Packages"
   ]
  },
  {
   "cell_type": "code",
   "execution_count": 21,
   "metadata": {},
   "outputs": [
    {
     "name": "stdout",
     "output_type": "stream",
     "text": [
      "Requirement already satisfied: dmba in c:\\users\\lado\\anaconda3\\lib\\site-packages (0.0.13)\n"
     ]
    }
   ],
   "source": [
    "import pandas as pd\n",
    "import numpy as np\n",
    "import seaborn as sns\n",
    "import matplotlib.pyplot as plt\n",
    "from sklearn.model_selection import train_test_split\n",
    "from sklearn.linear_model import LinearRegression, Lasso, Ridge, LassoCV, BayesianRidge\n",
    "from sklearn.linear_model import LogisticRegression, LogisticRegressionCV\n",
    "!pip install dmba\n",
    "from dmba import classificationSummary, gainsChart, liftChart\n",
    "from sklearn.ensemble import RandomForestClassifier"
   ]
  },
  {
   "cell_type": "markdown",
   "metadata": {},
   "source": [
    "### Open Files, Create DataFrames, Zero Null Values\n",
    "#### *To keep nulls, comment 3rd var, remove \"n\" from dataframe var."
   ]
  },
  {
   "cell_type": "code",
   "execution_count": 2,
   "metadata": {},
   "outputs": [],
   "source": [
    "test = pd.read_csv(\"test.csv\")\n",
    "tsn = pd.DataFrame(test)\n",
    "ts = tsn.fillna(0)\n",
    "\n",
    "train = pd.read_csv(\"train.csv\")\n",
    "trn = pd.DataFrame(train)\n",
    "tr = trn.fillna(0)"
   ]
  },
  {
   "cell_type": "markdown",
   "metadata": {},
   "source": [
    "### Convert \"LastRecord\" and \"Date Deployed\" to Datetime"
   ]
  },
  {
   "cell_type": "code",
   "execution_count": 3,
   "metadata": {},
   "outputs": [],
   "source": [
    "ts[\"LastRecord\"], ts[\"Date Deployed\"] = pd.to_datetime(ts[\"LastRecord\"]), pd.to_datetime(ts[\"Date Deployed\"])\n",
    "tr[\"LastRecord\"], tr[\"Date Deployed\"] = pd.to_datetime(tr[\"LastRecord\"]), pd.to_datetime(tr[\"Date Deployed\"])"
   ]
  },
  {
   "cell_type": "markdown",
   "metadata": {},
   "source": [
    "### Create \"DaysInService\" Column, Convert from TimeDelta to Float for Plotting"
   ]
  },
  {
   "cell_type": "code",
   "execution_count": 4,
   "metadata": {},
   "outputs": [],
   "source": [
    "ts[\"DaysInService\"] = ts[\"LastRecord\"] - ts[\"Date Deployed\"]\n",
    "ts[\"DaysInService\"] = ts[\"DaysInService\"].dt.days.astype(\"float64\")\n",
    "tr[\"DaysInService\"] = tr[\"LastRecord\"] - tr[\"Date Deployed\"]\n",
    "tr[\"DaysInService\"] = tr[\"DaysInService\"].dt.days.astype(\"float64\")"
   ]
  },
  {
   "cell_type": "markdown",
   "metadata": {},
   "source": [
    "### Get Info and Head (Test)"
   ]
  },
  {
   "cell_type": "code",
   "execution_count": 5,
   "metadata": {
    "scrolled": true
   },
   "outputs": [
    {
     "name": "stdout",
     "output_type": "stream",
     "text": [
      "<class 'pandas.core.frame.DataFrame'>\n",
      "RangeIndex: 4500 entries, 0 to 4499\n",
      "Data columns (total 55 columns):\n",
      " #   Column                       Non-Null Count  Dtype         \n",
      "---  ------                       --------------  -----         \n",
      " 0   deviceid                     4500 non-null   int64         \n",
      " 1   avg_time_charging_lag1       4500 non-null   float64       \n",
      " 2   avg_time_charging_lag2       4500 non-null   float64       \n",
      " 3   avg_time_charging_lag3       4500 non-null   float64       \n",
      " 4   avg_time_charging_lag7       4500 non-null   float64       \n",
      " 5   charging_rate_lag3           4500 non-null   float64       \n",
      " 6   charging_rate_lag7           4500 non-null   float64       \n",
      " 7   avg_time_discharging_lag1    4500 non-null   float64       \n",
      " 8   avg_time_discharging_lag2    4500 non-null   float64       \n",
      " 9   avg_time_discharging_lag3    4500 non-null   float64       \n",
      " 10  avg_time_discharging_lag7    4500 non-null   float64       \n",
      " 11  discharging_rate_lag3        4500 non-null   float64       \n",
      " 12  discharging_rate_lag7        4500 non-null   float64       \n",
      " 13  charge_cycle_time_below_12   4500 non-null   bool          \n",
      " 14  avg_time_charging_lag4       4500 non-null   float64       \n",
      " 15  avg_time_discharging_lag4    4500 non-null   float64       \n",
      " 16  avg_time_charging_lag5       4500 non-null   float64       \n",
      " 17  avg_time_discharging_lag5    4500 non-null   float64       \n",
      " 18  avg_time_charging_lag6       4500 non-null   float64       \n",
      " 19  avg_time_discharging_lag6    4500 non-null   float64       \n",
      " 20  avg_time_charging_lag8       4500 non-null   float64       \n",
      " 21  avg_time_discharging_lag8    4500 non-null   float64       \n",
      " 22  avg_time_charging_lag9       4500 non-null   float64       \n",
      " 23  avg_time_discharging_lag9    4500 non-null   float64       \n",
      " 24  avg_time_charging_lag10      4500 non-null   float64       \n",
      " 25  avg_time_discharging_lag10   4500 non-null   float64       \n",
      " 26  avg_time_charging_lag11      4500 non-null   float64       \n",
      " 27  avg_time_discharging_lag11   4500 non-null   float64       \n",
      " 28  avg_time_charging_lag12      4500 non-null   float64       \n",
      " 29  avg_time_discharging_lag12   4500 non-null   float64       \n",
      " 30  avg_time_charging_lag13      4500 non-null   float64       \n",
      " 31  avg_time_discharging_lag13   4500 non-null   float64       \n",
      " 32  avg_time_charging_lag14      4500 non-null   float64       \n",
      " 33  avg_time_discharging_lag14   4500 non-null   float64       \n",
      " 34  discharging_rate_lag4        4500 non-null   float64       \n",
      " 35  discharging_rate_lag5        4500 non-null   float64       \n",
      " 36  discharging_rate_lag6        4500 non-null   float64       \n",
      " 37  discharging_rate_lag8        4500 non-null   float64       \n",
      " 38  charging_rate_lag4           4500 non-null   float64       \n",
      " 39  charging_rate_lag5           4500 non-null   float64       \n",
      " 40  charging_rate_lag6           4500 non-null   float64       \n",
      " 41  chargecycles                 4500 non-null   float64       \n",
      " 42  dischargecycles              4500 non-null   float64       \n",
      " 43  total_off_time               4500 non-null   float64       \n",
      " 44  number_times_restart         4500 non-null   float64       \n",
      " 45  avg_volt_change_charging     4500 non-null   float64       \n",
      " 46  avg_volt_change_discharging  4500 non-null   float64       \n",
      " 47  avg_time_charging            4500 non-null   float64       \n",
      " 48  avg_time_discharging         4500 non-null   float64       \n",
      " 49  max_voltage_day              4500 non-null   float64       \n",
      " 50  piececount                   4500 non-null   float64       \n",
      " 51  cycle_time                   4500 non-null   float64       \n",
      " 52  LastRecord                   4500 non-null   datetime64[ns]\n",
      " 53  Date Deployed                4500 non-null   datetime64[ns]\n",
      " 54  DaysInService                4500 non-null   float64       \n",
      "dtypes: bool(1), datetime64[ns](2), float64(51), int64(1)\n",
      "memory usage: 1.9 MB\n"
     ]
    },
    {
     "data": {
      "text/html": [
       "<div>\n",
       "<style scoped>\n",
       "    .dataframe tbody tr th:only-of-type {\n",
       "        vertical-align: middle;\n",
       "    }\n",
       "\n",
       "    .dataframe tbody tr th {\n",
       "        vertical-align: top;\n",
       "    }\n",
       "\n",
       "    .dataframe thead th {\n",
       "        text-align: right;\n",
       "    }\n",
       "</style>\n",
       "<table border=\"1\" class=\"dataframe\">\n",
       "  <thead>\n",
       "    <tr style=\"text-align: right;\">\n",
       "      <th></th>\n",
       "      <th>deviceid</th>\n",
       "      <th>avg_time_charging_lag1</th>\n",
       "      <th>avg_time_charging_lag2</th>\n",
       "      <th>avg_time_charging_lag3</th>\n",
       "      <th>avg_time_charging_lag7</th>\n",
       "      <th>charging_rate_lag3</th>\n",
       "      <th>charging_rate_lag7</th>\n",
       "      <th>avg_time_discharging_lag1</th>\n",
       "      <th>avg_time_discharging_lag2</th>\n",
       "      <th>avg_time_discharging_lag3</th>\n",
       "      <th>...</th>\n",
       "      <th>avg_volt_change_charging</th>\n",
       "      <th>avg_volt_change_discharging</th>\n",
       "      <th>avg_time_charging</th>\n",
       "      <th>avg_time_discharging</th>\n",
       "      <th>max_voltage_day</th>\n",
       "      <th>piececount</th>\n",
       "      <th>cycle_time</th>\n",
       "      <th>LastRecord</th>\n",
       "      <th>Date Deployed</th>\n",
       "      <th>DaysInService</th>\n",
       "    </tr>\n",
       "  </thead>\n",
       "  <tbody>\n",
       "    <tr>\n",
       "      <th>0</th>\n",
       "      <td>42979</td>\n",
       "      <td>35.56</td>\n",
       "      <td>4.31</td>\n",
       "      <td>5.07</td>\n",
       "      <td>4.60</td>\n",
       "      <td>-0.033333</td>\n",
       "      <td>0.040000</td>\n",
       "      <td>66.29</td>\n",
       "      <td>3.77</td>\n",
       "      <td>4.07</td>\n",
       "      <td>...</td>\n",
       "      <td>346.301200</td>\n",
       "      <td>345.379600</td>\n",
       "      <td>17.481600</td>\n",
       "      <td>27.721600</td>\n",
       "      <td>4159.000000</td>\n",
       "      <td>12.437500</td>\n",
       "      <td>45.203200</td>\n",
       "      <td>2021-04-01</td>\n",
       "      <td>2019-09-08</td>\n",
       "      <td>571.0</td>\n",
       "    </tr>\n",
       "    <tr>\n",
       "      <th>1</th>\n",
       "      <td>14911</td>\n",
       "      <td>31.26</td>\n",
       "      <td>4.76</td>\n",
       "      <td>27.40</td>\n",
       "      <td>29.60</td>\n",
       "      <td>-0.076667</td>\n",
       "      <td>-0.060000</td>\n",
       "      <td>49.57</td>\n",
       "      <td>3.63</td>\n",
       "      <td>44.06</td>\n",
       "      <td>...</td>\n",
       "      <td>356.218261</td>\n",
       "      <td>357.305652</td>\n",
       "      <td>17.479130</td>\n",
       "      <td>27.650435</td>\n",
       "      <td>4163.608696</td>\n",
       "      <td>34.818182</td>\n",
       "      <td>45.129565</td>\n",
       "      <td>2021-04-01</td>\n",
       "      <td>2019-09-13</td>\n",
       "      <td>566.0</td>\n",
       "    </tr>\n",
       "    <tr>\n",
       "      <th>2</th>\n",
       "      <td>48386</td>\n",
       "      <td>30.08</td>\n",
       "      <td>5.07</td>\n",
       "      <td>4.76</td>\n",
       "      <td>4.74</td>\n",
       "      <td>0.013333</td>\n",
       "      <td>-0.016667</td>\n",
       "      <td>52.96</td>\n",
       "      <td>5.16</td>\n",
       "      <td>4.05</td>\n",
       "      <td>...</td>\n",
       "      <td>368.532667</td>\n",
       "      <td>366.844667</td>\n",
       "      <td>11.361333</td>\n",
       "      <td>16.739333</td>\n",
       "      <td>4176.133333</td>\n",
       "      <td>15.888889</td>\n",
       "      <td>28.100667</td>\n",
       "      <td>2021-04-01</td>\n",
       "      <td>2019-10-10</td>\n",
       "      <td>539.0</td>\n",
       "    </tr>\n",
       "    <tr>\n",
       "      <th>3</th>\n",
       "      <td>18822</td>\n",
       "      <td>33.31</td>\n",
       "      <td>32.79</td>\n",
       "      <td>5.09</td>\n",
       "      <td>4.96</td>\n",
       "      <td>0.000000</td>\n",
       "      <td>0.003333</td>\n",
       "      <td>49.26</td>\n",
       "      <td>68.54</td>\n",
       "      <td>5.83</td>\n",
       "      <td>...</td>\n",
       "      <td>352.899375</td>\n",
       "      <td>352.595000</td>\n",
       "      <td>17.168750</td>\n",
       "      <td>27.460625</td>\n",
       "      <td>4159.875000</td>\n",
       "      <td>12.750000</td>\n",
       "      <td>44.629375</td>\n",
       "      <td>2021-04-01</td>\n",
       "      <td>2019-10-13</td>\n",
       "      <td>536.0</td>\n",
       "    </tr>\n",
       "    <tr>\n",
       "      <th>4</th>\n",
       "      <td>49810</td>\n",
       "      <td>4.44</td>\n",
       "      <td>30.03</td>\n",
       "      <td>5.57</td>\n",
       "      <td>5.02</td>\n",
       "      <td>-0.200000</td>\n",
       "      <td>-0.030000</td>\n",
       "      <td>4.16</td>\n",
       "      <td>54.80</td>\n",
       "      <td>4.52</td>\n",
       "      <td>...</td>\n",
       "      <td>363.912800</td>\n",
       "      <td>365.208400</td>\n",
       "      <td>14.860000</td>\n",
       "      <td>23.980800</td>\n",
       "      <td>4168.400000</td>\n",
       "      <td>7.500000</td>\n",
       "      <td>38.840800</td>\n",
       "      <td>2021-04-01</td>\n",
       "      <td>2019-10-19</td>\n",
       "      <td>530.0</td>\n",
       "    </tr>\n",
       "  </tbody>\n",
       "</table>\n",
       "<p>5 rows × 55 columns</p>\n",
       "</div>"
      ],
      "text/plain": [
       "   deviceid  avg_time_charging_lag1  avg_time_charging_lag2  \\\n",
       "0     42979                   35.56                    4.31   \n",
       "1     14911                   31.26                    4.76   \n",
       "2     48386                   30.08                    5.07   \n",
       "3     18822                   33.31                   32.79   \n",
       "4     49810                    4.44                   30.03   \n",
       "\n",
       "   avg_time_charging_lag3  avg_time_charging_lag7  charging_rate_lag3  \\\n",
       "0                    5.07                    4.60           -0.033333   \n",
       "1                   27.40                   29.60           -0.076667   \n",
       "2                    4.76                    4.74            0.013333   \n",
       "3                    5.09                    4.96            0.000000   \n",
       "4                    5.57                    5.02           -0.200000   \n",
       "\n",
       "   charging_rate_lag7  avg_time_discharging_lag1  avg_time_discharging_lag2  \\\n",
       "0            0.040000                      66.29                       3.77   \n",
       "1           -0.060000                      49.57                       3.63   \n",
       "2           -0.016667                      52.96                       5.16   \n",
       "3            0.003333                      49.26                      68.54   \n",
       "4           -0.030000                       4.16                      54.80   \n",
       "\n",
       "   avg_time_discharging_lag3  ...  avg_volt_change_charging  \\\n",
       "0                       4.07  ...                346.301200   \n",
       "1                      44.06  ...                356.218261   \n",
       "2                       4.05  ...                368.532667   \n",
       "3                       5.83  ...                352.899375   \n",
       "4                       4.52  ...                363.912800   \n",
       "\n",
       "   avg_volt_change_discharging  avg_time_charging  avg_time_discharging  \\\n",
       "0                   345.379600          17.481600             27.721600   \n",
       "1                   357.305652          17.479130             27.650435   \n",
       "2                   366.844667          11.361333             16.739333   \n",
       "3                   352.595000          17.168750             27.460625   \n",
       "4                   365.208400          14.860000             23.980800   \n",
       "\n",
       "   max_voltage_day  piececount  cycle_time  LastRecord  Date Deployed  \\\n",
       "0      4159.000000   12.437500   45.203200  2021-04-01     2019-09-08   \n",
       "1      4163.608696   34.818182   45.129565  2021-04-01     2019-09-13   \n",
       "2      4176.133333   15.888889   28.100667  2021-04-01     2019-10-10   \n",
       "3      4159.875000   12.750000   44.629375  2021-04-01     2019-10-13   \n",
       "4      4168.400000    7.500000   38.840800  2021-04-01     2019-10-19   \n",
       "\n",
       "   DaysInService  \n",
       "0          571.0  \n",
       "1          566.0  \n",
       "2          539.0  \n",
       "3          536.0  \n",
       "4          530.0  \n",
       "\n",
       "[5 rows x 55 columns]"
      ]
     },
     "execution_count": 5,
     "metadata": {},
     "output_type": "execute_result"
    }
   ],
   "source": [
    "ts.info()\n",
    "ts.head()"
   ]
  },
  {
   "cell_type": "markdown",
   "metadata": {},
   "source": [
    "### Get Info and Head (Train)"
   ]
  },
  {
   "cell_type": "code",
   "execution_count": 6,
   "metadata": {
    "scrolled": true
   },
   "outputs": [],
   "source": [
    "#tr.info()\n",
    "#tr.head()"
   ]
  },
  {
   "cell_type": "markdown",
   "metadata": {},
   "source": [
    "### Count Null Values (Test)\n",
    "#### *Keep nulls above to observe progressive linearity."
   ]
  },
  {
   "cell_type": "code",
   "execution_count": 7,
   "metadata": {
    "scrolled": true
   },
   "outputs": [
    {
     "data": {
      "text/plain": [
       "deviceid                       0\n",
       "avg_time_charging_lag1         0\n",
       "avg_time_charging_lag2         0\n",
       "avg_time_charging_lag3         0\n",
       "avg_time_charging_lag7         0\n",
       "charging_rate_lag3             0\n",
       "charging_rate_lag7             0\n",
       "avg_time_discharging_lag1      0\n",
       "avg_time_discharging_lag2      0\n",
       "avg_time_discharging_lag3      0\n",
       "avg_time_discharging_lag7      0\n",
       "discharging_rate_lag3          0\n",
       "discharging_rate_lag7          0\n",
       "charge_cycle_time_below_12     0\n",
       "avg_time_charging_lag4         0\n",
       "avg_time_discharging_lag4      0\n",
       "avg_time_charging_lag5         0\n",
       "avg_time_discharging_lag5      0\n",
       "avg_time_charging_lag6         0\n",
       "avg_time_discharging_lag6      0\n",
       "avg_time_charging_lag8         0\n",
       "avg_time_discharging_lag8      0\n",
       "avg_time_charging_lag9         0\n",
       "avg_time_discharging_lag9      0\n",
       "avg_time_charging_lag10        0\n",
       "avg_time_discharging_lag10     0\n",
       "avg_time_charging_lag11        0\n",
       "avg_time_discharging_lag11     0\n",
       "avg_time_charging_lag12        0\n",
       "avg_time_discharging_lag12     0\n",
       "avg_time_charging_lag13        0\n",
       "avg_time_discharging_lag13     0\n",
       "avg_time_charging_lag14        0\n",
       "avg_time_discharging_lag14     0\n",
       "discharging_rate_lag4          0\n",
       "discharging_rate_lag5          0\n",
       "discharging_rate_lag6          0\n",
       "discharging_rate_lag8          0\n",
       "charging_rate_lag4             0\n",
       "charging_rate_lag5             0\n",
       "charging_rate_lag6             0\n",
       "chargecycles                   0\n",
       "dischargecycles                0\n",
       "total_off_time                 0\n",
       "number_times_restart           0\n",
       "avg_volt_change_charging       0\n",
       "avg_volt_change_discharging    0\n",
       "avg_time_charging              0\n",
       "avg_time_discharging           0\n",
       "max_voltage_day                0\n",
       "piececount                     0\n",
       "cycle_time                     0\n",
       "LastRecord                     0\n",
       "Date Deployed                  0\n",
       "DaysInService                  0\n",
       "dtype: int64"
      ]
     },
     "execution_count": 7,
     "metadata": {},
     "output_type": "execute_result"
    }
   ],
   "source": [
    "ts.isnull().sum()"
   ]
  },
  {
   "cell_type": "markdown",
   "metadata": {},
   "source": [
    "### Count Null Values (Train)\n",
    "#### *Keep nulls above to observe progressive linearity."
   ]
  },
  {
   "cell_type": "code",
   "execution_count": 8,
   "metadata": {
    "scrolled": true
   },
   "outputs": [],
   "source": [
    "#tr.isnull().sum()"
   ]
  },
  {
   "cell_type": "markdown",
   "metadata": {},
   "source": [
    "### Plot Distributions of DataFrame Columns\n",
    "#### *no plot for \"deviceid\" (irrelevant) or \"charge_cycle_time_below_12\" (bool)\n",
    "#### **uncomment to run"
   ]
  },
  {
   "cell_type": "code",
   "execution_count": 9,
   "metadata": {},
   "outputs": [
    {
     "data": {
      "text/plain": [
       "'\\nfor col in ts.columns[1:]:\\n    if col != \"charge_cycle_time_below_12\":\\n        hist = ts[col].hist(bins=10)\\n        print(\"Plot for column \"{}\"\".format(col))\\n        plt.show()\\n'"
      ]
     },
     "execution_count": 9,
     "metadata": {},
     "output_type": "execute_result"
    }
   ],
   "source": [
    "\"\"\"\n",
    "for col in ts.columns[1:]:\n",
    "    if col != \"charge_cycle_time_below_12\":\n",
    "        hist = ts[col].hist(bins=10)\n",
    "        print(\"Plot for column \\\"{}\\\"\".format(col))\n",
    "        plt.show()\n",
    "\"\"\""
   ]
  },
  {
   "cell_type": "markdown",
   "metadata": {},
   "source": [
    "### Create New DataFrame, Removing Columns Without Outliers"
   ]
  },
  {
   "cell_type": "code",
   "execution_count": 10,
   "metadata": {
    "scrolled": true
   },
   "outputs": [],
   "source": [
    "columns = [column for column in ts.columns if ts[column].dtype == \"float64\"]\n",
    "tsno = ts[columns]"
   ]
  },
  {
   "cell_type": "markdown",
   "metadata": {},
   "source": [
    "### Convert Outliers by Quantile to Null in New DataFrame.  Run Info and Head."
   ]
  },
  {
   "cell_type": "code",
   "execution_count": 11,
   "metadata": {
    "scrolled": true
   },
   "outputs": [
    {
     "name": "stdout",
     "output_type": "stream",
     "text": [
      "<class 'pandas.core.frame.DataFrame'>\n",
      "RangeIndex: 4500 entries, 0 to 4499\n",
      "Data columns (total 51 columns):\n",
      " #   Column                       Non-Null Count  Dtype  \n",
      "---  ------                       --------------  -----  \n",
      " 0   avg_time_charging_lag1       4407 non-null   float64\n",
      " 1   avg_time_charging_lag2       4407 non-null   float64\n",
      " 2   avg_time_charging_lag3       4402 non-null   float64\n",
      " 3   avg_time_charging_lag7       4407 non-null   float64\n",
      " 4   charging_rate_lag3           4409 non-null   float64\n",
      " 5   charging_rate_lag7           4410 non-null   float64\n",
      " 6   avg_time_discharging_lag1    4410 non-null   float64\n",
      " 7   avg_time_discharging_lag2    4410 non-null   float64\n",
      " 8   avg_time_discharging_lag3    4410 non-null   float64\n",
      " 9   avg_time_discharging_lag7    4410 non-null   float64\n",
      " 10  discharging_rate_lag3        4410 non-null   float64\n",
      " 11  discharging_rate_lag7        4410 non-null   float64\n",
      " 12  avg_time_charging_lag4       4397 non-null   float64\n",
      " 13  avg_time_discharging_lag4    4408 non-null   float64\n",
      " 14  avg_time_charging_lag5       4404 non-null   float64\n",
      " 15  avg_time_discharging_lag5    4407 non-null   float64\n",
      " 16  avg_time_charging_lag6       4403 non-null   float64\n",
      " 17  avg_time_discharging_lag6    4406 non-null   float64\n",
      " 18  avg_time_charging_lag8       4409 non-null   float64\n",
      " 19  avg_time_discharging_lag8    4410 non-null   float64\n",
      " 20  avg_time_charging_lag9       4410 non-null   float64\n",
      " 21  avg_time_discharging_lag9    4410 non-null   float64\n",
      " 22  avg_time_charging_lag10      4352 non-null   float64\n",
      " 23  avg_time_discharging_lag10   4352 non-null   float64\n",
      " 24  avg_time_charging_lag11      4273 non-null   float64\n",
      " 25  avg_time_discharging_lag11   4273 non-null   float64\n",
      " 26  avg_time_charging_lag12      4133 non-null   float64\n",
      " 27  avg_time_discharging_lag12   4133 non-null   float64\n",
      " 28  avg_time_charging_lag13      3927 non-null   float64\n",
      " 29  avg_time_discharging_lag13   3927 non-null   float64\n",
      " 30  avg_time_charging_lag14      3668 non-null   float64\n",
      " 31  avg_time_discharging_lag14   3668 non-null   float64\n",
      " 32  discharging_rate_lag4        4410 non-null   float64\n",
      " 33  discharging_rate_lag5        4410 non-null   float64\n",
      " 34  discharging_rate_lag6        4410 non-null   float64\n",
      " 35  discharging_rate_lag8        4410 non-null   float64\n",
      " 36  charging_rate_lag4           4410 non-null   float64\n",
      " 37  charging_rate_lag5           4410 non-null   float64\n",
      " 38  charging_rate_lag6           4409 non-null   float64\n",
      " 39  chargecycles                 4410 non-null   float64\n",
      " 40  dischargecycles              4410 non-null   float64\n",
      " 41  total_off_time               4344 non-null   float64\n",
      " 42  number_times_restart         4410 non-null   float64\n",
      " 43  avg_volt_change_charging     4410 non-null   float64\n",
      " 44  avg_volt_change_discharging  4410 non-null   float64\n",
      " 45  avg_time_charging            4410 non-null   float64\n",
      " 46  avg_time_discharging         4410 non-null   float64\n",
      " 47  max_voltage_day              4409 non-null   float64\n",
      " 48  piececount                   4410 non-null   float64\n",
      " 49  cycle_time                   4410 non-null   float64\n",
      " 50  DaysInService                4402 non-null   float64\n",
      "dtypes: float64(51)\n",
      "memory usage: 1.8 MB\n"
     ]
    },
    {
     "data": {
      "text/html": [
       "<div>\n",
       "<style scoped>\n",
       "    .dataframe tbody tr th:only-of-type {\n",
       "        vertical-align: middle;\n",
       "    }\n",
       "\n",
       "    .dataframe tbody tr th {\n",
       "        vertical-align: top;\n",
       "    }\n",
       "\n",
       "    .dataframe thead th {\n",
       "        text-align: right;\n",
       "    }\n",
       "</style>\n",
       "<table border=\"1\" class=\"dataframe\">\n",
       "  <thead>\n",
       "    <tr style=\"text-align: right;\">\n",
       "      <th></th>\n",
       "      <th>avg_time_charging_lag1</th>\n",
       "      <th>avg_time_charging_lag2</th>\n",
       "      <th>avg_time_charging_lag3</th>\n",
       "      <th>avg_time_charging_lag7</th>\n",
       "      <th>charging_rate_lag3</th>\n",
       "      <th>charging_rate_lag7</th>\n",
       "      <th>avg_time_discharging_lag1</th>\n",
       "      <th>avg_time_discharging_lag2</th>\n",
       "      <th>avg_time_discharging_lag3</th>\n",
       "      <th>avg_time_discharging_lag7</th>\n",
       "      <th>...</th>\n",
       "      <th>total_off_time</th>\n",
       "      <th>number_times_restart</th>\n",
       "      <th>avg_volt_change_charging</th>\n",
       "      <th>avg_volt_change_discharging</th>\n",
       "      <th>avg_time_charging</th>\n",
       "      <th>avg_time_discharging</th>\n",
       "      <th>max_voltage_day</th>\n",
       "      <th>piececount</th>\n",
       "      <th>cycle_time</th>\n",
       "      <th>DaysInService</th>\n",
       "    </tr>\n",
       "  </thead>\n",
       "  <tbody>\n",
       "    <tr>\n",
       "      <th>0</th>\n",
       "      <td>35.56</td>\n",
       "      <td>NaN</td>\n",
       "      <td>5.07</td>\n",
       "      <td>4.60</td>\n",
       "      <td>-0.033333</td>\n",
       "      <td>0.040000</td>\n",
       "      <td>66.29</td>\n",
       "      <td>3.77</td>\n",
       "      <td>4.07</td>\n",
       "      <td>3.83</td>\n",
       "      <td>...</td>\n",
       "      <td>47.840000</td>\n",
       "      <td>3.640000</td>\n",
       "      <td>346.301200</td>\n",
       "      <td>345.379600</td>\n",
       "      <td>17.481600</td>\n",
       "      <td>27.721600</td>\n",
       "      <td>4159.000000</td>\n",
       "      <td>12.437500</td>\n",
       "      <td>45.203200</td>\n",
       "      <td>571.0</td>\n",
       "    </tr>\n",
       "    <tr>\n",
       "      <th>1</th>\n",
       "      <td>31.26</td>\n",
       "      <td>4.76</td>\n",
       "      <td>27.40</td>\n",
       "      <td>29.60</td>\n",
       "      <td>-0.076667</td>\n",
       "      <td>-0.060000</td>\n",
       "      <td>49.57</td>\n",
       "      <td>3.63</td>\n",
       "      <td>44.06</td>\n",
       "      <td>40.74</td>\n",
       "      <td>...</td>\n",
       "      <td>24.173913</td>\n",
       "      <td>2.826087</td>\n",
       "      <td>356.218261</td>\n",
       "      <td>357.305652</td>\n",
       "      <td>17.479130</td>\n",
       "      <td>27.650435</td>\n",
       "      <td>4163.608696</td>\n",
       "      <td>34.818182</td>\n",
       "      <td>45.129565</td>\n",
       "      <td>566.0</td>\n",
       "    </tr>\n",
       "    <tr>\n",
       "      <th>2</th>\n",
       "      <td>30.08</td>\n",
       "      <td>5.07</td>\n",
       "      <td>4.76</td>\n",
       "      <td>4.74</td>\n",
       "      <td>0.013333</td>\n",
       "      <td>-0.016667</td>\n",
       "      <td>52.96</td>\n",
       "      <td>5.16</td>\n",
       "      <td>4.05</td>\n",
       "      <td>4.22</td>\n",
       "      <td>...</td>\n",
       "      <td>10.333333</td>\n",
       "      <td>1.266667</td>\n",
       "      <td>368.532667</td>\n",
       "      <td>366.844667</td>\n",
       "      <td>11.361333</td>\n",
       "      <td>16.739333</td>\n",
       "      <td>4176.133333</td>\n",
       "      <td>15.888889</td>\n",
       "      <td>28.100667</td>\n",
       "      <td>539.0</td>\n",
       "    </tr>\n",
       "    <tr>\n",
       "      <th>3</th>\n",
       "      <td>33.31</td>\n",
       "      <td>32.79</td>\n",
       "      <td>5.09</td>\n",
       "      <td>4.96</td>\n",
       "      <td>0.000000</td>\n",
       "      <td>0.003333</td>\n",
       "      <td>49.26</td>\n",
       "      <td>68.54</td>\n",
       "      <td>5.83</td>\n",
       "      <td>4.78</td>\n",
       "      <td>...</td>\n",
       "      <td>16.625000</td>\n",
       "      <td>0.937500</td>\n",
       "      <td>352.899375</td>\n",
       "      <td>352.595000</td>\n",
       "      <td>17.168750</td>\n",
       "      <td>27.460625</td>\n",
       "      <td>4159.875000</td>\n",
       "      <td>12.750000</td>\n",
       "      <td>44.629375</td>\n",
       "      <td>536.0</td>\n",
       "    </tr>\n",
       "    <tr>\n",
       "      <th>4</th>\n",
       "      <td>4.44</td>\n",
       "      <td>30.03</td>\n",
       "      <td>5.57</td>\n",
       "      <td>5.02</td>\n",
       "      <td>-0.200000</td>\n",
       "      <td>-0.030000</td>\n",
       "      <td>4.16</td>\n",
       "      <td>54.80</td>\n",
       "      <td>4.52</td>\n",
       "      <td>4.62</td>\n",
       "      <td>...</td>\n",
       "      <td>1.000000</td>\n",
       "      <td>1.200000</td>\n",
       "      <td>363.912800</td>\n",
       "      <td>365.208400</td>\n",
       "      <td>14.860000</td>\n",
       "      <td>23.980800</td>\n",
       "      <td>4168.400000</td>\n",
       "      <td>7.500000</td>\n",
       "      <td>38.840800</td>\n",
       "      <td>530.0</td>\n",
       "    </tr>\n",
       "  </tbody>\n",
       "</table>\n",
       "<p>5 rows × 51 columns</p>\n",
       "</div>"
      ],
      "text/plain": [
       "   avg_time_charging_lag1  avg_time_charging_lag2  avg_time_charging_lag3  \\\n",
       "0                   35.56                     NaN                    5.07   \n",
       "1                   31.26                    4.76                   27.40   \n",
       "2                   30.08                    5.07                    4.76   \n",
       "3                   33.31                   32.79                    5.09   \n",
       "4                    4.44                   30.03                    5.57   \n",
       "\n",
       "   avg_time_charging_lag7  charging_rate_lag3  charging_rate_lag7  \\\n",
       "0                    4.60           -0.033333            0.040000   \n",
       "1                   29.60           -0.076667           -0.060000   \n",
       "2                    4.74            0.013333           -0.016667   \n",
       "3                    4.96            0.000000            0.003333   \n",
       "4                    5.02           -0.200000           -0.030000   \n",
       "\n",
       "   avg_time_discharging_lag1  avg_time_discharging_lag2  \\\n",
       "0                      66.29                       3.77   \n",
       "1                      49.57                       3.63   \n",
       "2                      52.96                       5.16   \n",
       "3                      49.26                      68.54   \n",
       "4                       4.16                      54.80   \n",
       "\n",
       "   avg_time_discharging_lag3  avg_time_discharging_lag7  ...  total_off_time  \\\n",
       "0                       4.07                       3.83  ...       47.840000   \n",
       "1                      44.06                      40.74  ...       24.173913   \n",
       "2                       4.05                       4.22  ...       10.333333   \n",
       "3                       5.83                       4.78  ...       16.625000   \n",
       "4                       4.52                       4.62  ...        1.000000   \n",
       "\n",
       "   number_times_restart  avg_volt_change_charging  \\\n",
       "0              3.640000                346.301200   \n",
       "1              2.826087                356.218261   \n",
       "2              1.266667                368.532667   \n",
       "3              0.937500                352.899375   \n",
       "4              1.200000                363.912800   \n",
       "\n",
       "   avg_volt_change_discharging  avg_time_charging  avg_time_discharging  \\\n",
       "0                   345.379600          17.481600             27.721600   \n",
       "1                   357.305652          17.479130             27.650435   \n",
       "2                   366.844667          11.361333             16.739333   \n",
       "3                   352.595000          17.168750             27.460625   \n",
       "4                   365.208400          14.860000             23.980800   \n",
       "\n",
       "   max_voltage_day  piececount  cycle_time  DaysInService  \n",
       "0      4159.000000   12.437500   45.203200          571.0  \n",
       "1      4163.608696   34.818182   45.129565          566.0  \n",
       "2      4176.133333   15.888889   28.100667          539.0  \n",
       "3      4159.875000   12.750000   44.629375          536.0  \n",
       "4      4168.400000    7.500000   38.840800          530.0  \n",
       "\n",
       "[5 rows x 51 columns]"
      ]
     },
     "execution_count": 11,
     "metadata": {},
     "output_type": "execute_result"
    }
   ],
   "source": [
    "q_low = tsno[columns].quantile(0.01)\n",
    "q_hi  = tsno[columns].quantile(0.99)\n",
    "\n",
    "tsno_o = tsno[(tsno[columns] < q_hi) & (tsno[columns] > q_low)]\n",
    "\n",
    "tsno_o.info()\n",
    "tsno_o.head()"
   ]
  },
  {
   "cell_type": "markdown",
   "metadata": {},
   "source": [
    "### Count New Null *Outlier Values (Test No Outliers *tsno)"
   ]
  },
  {
   "cell_type": "code",
   "execution_count": 12,
   "metadata": {
    "scrolled": true
   },
   "outputs": [
    {
     "data": {
      "text/plain": [
       "avg_time_charging_lag1          93\n",
       "avg_time_charging_lag2          93\n",
       "avg_time_charging_lag3          98\n",
       "avg_time_charging_lag7          93\n",
       "charging_rate_lag3              91\n",
       "charging_rate_lag7              90\n",
       "avg_time_discharging_lag1       90\n",
       "avg_time_discharging_lag2       90\n",
       "avg_time_discharging_lag3       90\n",
       "avg_time_discharging_lag7       90\n",
       "discharging_rate_lag3           90\n",
       "discharging_rate_lag7           90\n",
       "avg_time_charging_lag4         103\n",
       "avg_time_discharging_lag4       92\n",
       "avg_time_charging_lag5          96\n",
       "avg_time_discharging_lag5       93\n",
       "avg_time_charging_lag6          97\n",
       "avg_time_discharging_lag6       94\n",
       "avg_time_charging_lag8          91\n",
       "avg_time_discharging_lag8       90\n",
       "avg_time_charging_lag9          90\n",
       "avg_time_discharging_lag9       90\n",
       "avg_time_charging_lag10        148\n",
       "avg_time_discharging_lag10     148\n",
       "avg_time_charging_lag11        227\n",
       "avg_time_discharging_lag11     227\n",
       "avg_time_charging_lag12        367\n",
       "avg_time_discharging_lag12     367\n",
       "avg_time_charging_lag13        573\n",
       "avg_time_discharging_lag13     573\n",
       "avg_time_charging_lag14        832\n",
       "avg_time_discharging_lag14     832\n",
       "discharging_rate_lag4           90\n",
       "discharging_rate_lag5           90\n",
       "discharging_rate_lag6           90\n",
       "discharging_rate_lag8           90\n",
       "charging_rate_lag4              90\n",
       "charging_rate_lag5              90\n",
       "charging_rate_lag6              91\n",
       "chargecycles                    90\n",
       "dischargecycles                 90\n",
       "total_off_time                 156\n",
       "number_times_restart            90\n",
       "avg_volt_change_charging        90\n",
       "avg_volt_change_discharging     90\n",
       "avg_time_charging               90\n",
       "avg_time_discharging            90\n",
       "max_voltage_day                 91\n",
       "piececount                      90\n",
       "cycle_time                      90\n",
       "DaysInService                   98\n",
       "dtype: int64"
      ]
     },
     "execution_count": 12,
     "metadata": {},
     "output_type": "execute_result"
    }
   ],
   "source": [
    "tsno_o.isnull().sum()"
   ]
  },
  {
   "cell_type": "markdown",
   "metadata": {},
   "source": [
    "### Plot New DataFrame"
   ]
  },
  {
   "cell_type": "raw",
   "metadata": {},
   "source": [
    "for col in tsno_o.columns:\n",
    "    hist = tsno_o[col].hist(bins=100)\n",
    "    print(\"Plot for column \\\"{}\\\"\".format(col))\n",
    "    plt.show()"
   ]
  },
  {
   "cell_type": "markdown",
   "metadata": {},
   "source": [
    "## Dummy Coding"
   ]
  },
  {
   "cell_type": "code",
   "execution_count": 13,
   "metadata": {},
   "outputs": [
    {
     "data": {
      "text/plain": [
       "deviceid                                int64\n",
       "avg_time_charging_lag1                float64\n",
       "avg_time_charging_lag2                float64\n",
       "avg_time_charging_lag3                float64\n",
       "avg_time_charging_lag7                float64\n",
       "charging_rate_lag3                    float64\n",
       "charging_rate_lag7                    float64\n",
       "avg_time_discharging_lag1             float64\n",
       "avg_time_discharging_lag2             float64\n",
       "avg_time_discharging_lag3             float64\n",
       "avg_time_discharging_lag7             float64\n",
       "discharging_rate_lag3                 float64\n",
       "discharging_rate_lag7                 float64\n",
       "fail_7                                  int64\n",
       "charge_cycle_time_below_12               bool\n",
       "avg_time_charging_lag4                float64\n",
       "avg_time_discharging_lag4             float64\n",
       "avg_time_charging_lag5                float64\n",
       "avg_time_discharging_lag5             float64\n",
       "avg_time_charging_lag6                float64\n",
       "avg_time_discharging_lag6             float64\n",
       "avg_time_charging_lag8                float64\n",
       "avg_time_discharging_lag8             float64\n",
       "avg_time_charging_lag9                float64\n",
       "avg_time_discharging_lag9             float64\n",
       "avg_time_charging_lag10               float64\n",
       "avg_time_discharging_lag10            float64\n",
       "avg_time_charging_lag11               float64\n",
       "avg_time_discharging_lag11            float64\n",
       "avg_time_charging_lag12               float64\n",
       "avg_time_discharging_lag12            float64\n",
       "avg_time_charging_lag13               float64\n",
       "avg_time_discharging_lag13            float64\n",
       "avg_time_charging_lag14               float64\n",
       "avg_time_discharging_lag14            float64\n",
       "discharging_rate_lag4                 float64\n",
       "discharging_rate_lag5                 float64\n",
       "discharging_rate_lag6                 float64\n",
       "discharging_rate_lag8                 float64\n",
       "charging_rate_lag4                    float64\n",
       "charging_rate_lag5                    float64\n",
       "charging_rate_lag6                    float64\n",
       "chargecycles                          float64\n",
       "dischargecycles                       float64\n",
       "total_off_time                        float64\n",
       "number_times_restart                  float64\n",
       "avg_volt_change_charging              float64\n",
       "avg_volt_change_discharging           float64\n",
       "avg_time_charging                     float64\n",
       "avg_time_discharging                  float64\n",
       "max_voltage_day                       float64\n",
       "piececount                            float64\n",
       "cycle_time                            float64\n",
       "LastRecord                     datetime64[ns]\n",
       "Date Deployed                  datetime64[ns]\n",
       "DaysInService                         float64\n",
       "dtype: object"
      ]
     },
     "execution_count": 13,
     "metadata": {},
     "output_type": "execute_result"
    }
   ],
   "source": [
    "tr.dtypes"
   ]
  },
  {
   "cell_type": "code",
   "execution_count": 14,
   "metadata": {},
   "outputs": [
    {
     "data": {
      "text/plain": [
       "Index(['deviceid', 'avg_time_charging_lag1', 'avg_time_charging_lag2',\n",
       "       'avg_time_charging_lag3', 'avg_time_charging_lag7',\n",
       "       'charging_rate_lag3', 'charging_rate_lag7', 'avg_time_discharging_lag1',\n",
       "       'avg_time_discharging_lag2', 'avg_time_discharging_lag3',\n",
       "       'avg_time_discharging_lag7', 'discharging_rate_lag3',\n",
       "       'discharging_rate_lag7', 'fail_7', 'charge_cycle_time_below_12',\n",
       "       'avg_time_charging_lag4', 'avg_time_discharging_lag4',\n",
       "       'avg_time_charging_lag5', 'avg_time_discharging_lag5',\n",
       "       'avg_time_charging_lag6', 'avg_time_discharging_lag6',\n",
       "       'avg_time_charging_lag8', 'avg_time_discharging_lag8',\n",
       "       'avg_time_charging_lag9', 'avg_time_discharging_lag9',\n",
       "       'avg_time_charging_lag10', 'avg_time_discharging_lag10',\n",
       "       'avg_time_charging_lag11', 'avg_time_discharging_lag11',\n",
       "       'avg_time_charging_lag12', 'avg_time_discharging_lag12',\n",
       "       'avg_time_charging_lag13', 'avg_time_discharging_lag13',\n",
       "       'avg_time_charging_lag14', 'avg_time_discharging_lag14',\n",
       "       'discharging_rate_lag4', 'discharging_rate_lag5',\n",
       "       'discharging_rate_lag6', 'discharging_rate_lag8', 'charging_rate_lag4',\n",
       "       'charging_rate_lag5', 'charging_rate_lag6', 'chargecycles',\n",
       "       'dischargecycles', 'total_off_time', 'number_times_restart',\n",
       "       'avg_volt_change_charging', 'avg_volt_change_discharging',\n",
       "       'avg_time_charging', 'avg_time_discharging', 'max_voltage_day',\n",
       "       'piececount', 'cycle_time', 'LastRecord', 'Date Deployed',\n",
       "       'DaysInService'],\n",
       "      dtype='object')"
      ]
     },
     "execution_count": 14,
     "metadata": {},
     "output_type": "execute_result"
    }
   ],
   "source": [
    "tr = pd.get_dummies(tr,drop_first=True,prefix_sep='_') \n",
    "tr.columns"
   ]
  },
  {
   "cell_type": "code",
   "execution_count": 15,
   "metadata": {},
   "outputs": [],
   "source": [
    "predictors = ['deviceid', 'avg_time_charging_lag1', 'avg_time_charging_lag2',\n",
    "       'avg_time_charging_lag3', 'avg_time_charging_lag7',\n",
    "       'charging_rate_lag3', 'charging_rate_lag7', 'avg_time_discharging_lag1',\n",
    "       'avg_time_discharging_lag2', 'avg_time_discharging_lag3',\n",
    "       'avg_time_discharging_lag7', 'discharging_rate_lag3',\n",
    "       'discharging_rate_lag7', 'charge_cycle_time_below_12',\n",
    "       'avg_time_charging_lag4', 'avg_time_discharging_lag4',\n",
    "       'avg_time_charging_lag5', 'avg_time_discharging_lag5',\n",
    "       'avg_time_charging_lag6', 'avg_time_discharging_lag6',\n",
    "       'avg_time_charging_lag8', 'avg_time_discharging_lag8',\n",
    "       'avg_time_charging_lag9', 'avg_time_discharging_lag9',\n",
    "       'avg_time_charging_lag10', 'avg_time_discharging_lag10',\n",
    "       'avg_time_charging_lag11', 'avg_time_discharging_lag11',\n",
    "       'avg_time_charging_lag12', 'avg_time_discharging_lag12',\n",
    "       'avg_time_charging_lag13', 'avg_time_discharging_lag13',\n",
    "       'avg_time_charging_lag14', 'avg_time_discharging_lag14',\n",
    "       'discharging_rate_lag4', 'discharging_rate_lag5',\n",
    "       'discharging_rate_lag6', 'discharging_rate_lag8', 'charging_rate_lag4',\n",
    "       'charging_rate_lag5', 'charging_rate_lag6', 'chargecycles',\n",
    "       'dischargecycles', 'total_off_time', 'number_times_restart',\n",
    "       'avg_volt_change_charging', 'avg_volt_change_discharging',\n",
    "       'avg_time_charging', 'avg_time_discharging', 'max_voltage_day',\n",
    "       'piececount', 'cycle_time',\n",
    "       'DaysInService']\n",
    "outcome = 'fail_7'"
   ]
  },
  {
   "cell_type": "code",
   "execution_count": 16,
   "metadata": {},
   "outputs": [
    {
     "data": {
      "text/plain": [
       "(40500, 53)"
      ]
     },
     "execution_count": 16,
     "metadata": {},
     "output_type": "execute_result"
    }
   ],
   "source": [
    "X = tr[predictors]\n",
    "y = tr[outcome]\n",
    "X.shape"
   ]
  },
  {
   "cell_type": "markdown",
   "metadata": {},
   "source": [
    "## Logistic Regression"
   ]
  },
  {
   "cell_type": "code",
   "execution_count": 22,
   "metadata": {},
   "outputs": [
    {
     "data": {
      "text/plain": [
       "LogisticRegression(C=1e+42, class_weight='balanced', solver='liblinear')"
      ]
     },
     "execution_count": 22,
     "metadata": {},
     "output_type": "execute_result"
    }
   ],
   "source": [
    "logit_reg = LogisticRegression(penalty=\"l2\", C=1e42, solver='liblinear',class_weight = 'balanced')\n",
    "logit_reg.fit(train_X, train_y)"
   ]
  },
  {
   "cell_type": "code",
   "execution_count": 23,
   "metadata": {},
   "outputs": [
    {
     "name": "stdout",
     "output_type": "stream",
     "text": [
      "                                    coeff\n",
      "deviceid                    -6.200970e-07\n",
      "avg_time_charging_lag1       1.388149e-02\n",
      "avg_time_charging_lag2       1.254912e-02\n",
      "avg_time_charging_lag3       8.209855e-03\n",
      "avg_time_charging_lag7       1.603587e-02\n",
      "charging_rate_lag3           6.595695e-02\n",
      "charging_rate_lag7          -1.935571e-02\n",
      "avg_time_discharging_lag1   -7.752430e-03\n",
      "avg_time_discharging_lag2   -6.374215e-03\n",
      "avg_time_discharging_lag3   -3.677867e-03\n",
      "avg_time_discharging_lag7   -7.645383e-03\n",
      "discharging_rate_lag3        9.510256e-02\n",
      "discharging_rate_lag7       -4.458692e-03\n",
      "charge_cycle_time_below_12   1.679719e+00\n",
      "avg_time_charging_lag4       4.553870e-03\n",
      "avg_time_discharging_lag4   -1.073873e-03\n",
      "avg_time_charging_lag5       9.049305e-03\n",
      "avg_time_discharging_lag5   -3.443757e-03\n",
      "avg_time_charging_lag6       1.348335e-02\n",
      "avg_time_discharging_lag6   -6.268480e-03\n",
      "avg_time_charging_lag8       9.868984e-03\n",
      "avg_time_discharging_lag8   -4.022118e-03\n",
      "avg_time_charging_lag9       7.791143e-03\n",
      "avg_time_discharging_lag9   -3.642362e-03\n",
      "avg_time_charging_lag10      7.942024e-03\n",
      "avg_time_discharging_lag10  -2.826959e-03\n",
      "avg_time_charging_lag11      1.238474e-02\n",
      "avg_time_discharging_lag11  -4.747406e-03\n",
      "avg_time_charging_lag12      1.107337e-02\n",
      "avg_time_discharging_lag12  -4.806264e-03\n",
      "avg_time_charging_lag13      1.986347e-02\n",
      "avg_time_discharging_lag13  -1.020894e-02\n",
      "avg_time_charging_lag14      1.815372e-02\n",
      "avg_time_discharging_lag14  -7.529226e-03\n",
      "discharging_rate_lag4        3.229863e-02\n",
      "discharging_rate_lag5        9.018289e-03\n",
      "discharging_rate_lag6        6.496815e-03\n",
      "discharging_rate_lag8       -1.078251e-02\n",
      "charging_rate_lag4          -3.754576e-02\n",
      "charging_rate_lag5           8.652971e-03\n",
      "charging_rate_lag6          -4.242264e-03\n",
      "chargecycles                 1.213536e-02\n",
      "dischargecycles             -3.057365e-03\n",
      "total_off_time               4.922931e-04\n",
      "number_times_restart         9.230506e-03\n",
      "avg_volt_change_charging     2.142948e-02\n",
      "avg_volt_change_discharging  7.450520e-03\n",
      "avg_time_charging           -1.309184e-01\n",
      "avg_time_discharging         1.133086e-01\n",
      "max_voltage_day             -4.189060e-03\n",
      "piececount                   5.945109e-04\n",
      "cycle_time                  -1.760986e-02\n",
      "DaysInService                8.149704e-03\n"
     ]
    }
   ],
   "source": [
    "print(pd.DataFrame({'coeff': logit_reg.coef_[0]}, index=X.columns))"
   ]
  },
  {
   "cell_type": "markdown",
   "metadata": {},
   "source": [
    "charge_cycle_time_below_12 is the most important feature in this model. avg_time_charging and avg_time_discharging are the next most important features."
   ]
  },
  {
   "cell_type": "markdown",
   "metadata": {},
   "source": [
    "### Model Metrics"
   ]
  },
  {
   "cell_type": "code",
   "execution_count": 24,
   "metadata": {},
   "outputs": [
    {
     "name": "stdout",
     "output_type": "stream",
     "text": [
      "Confusion Matrix (Accuracy 0.6136)\n",
      "\n",
      "       Prediction\n",
      "Actual     0     1\n",
      "     0 12114  9648\n",
      "     1  1306  5282\n",
      "Confusion Matrix (Accuracy 0.6079)\n",
      "\n",
      "       Prediction\n",
      "Actual    0    1\n",
      "     0 5134 4203\n",
      "     1  561 2252\n"
     ]
    }
   ],
   "source": [
    "classificationSummary(train_y, logit_reg.predict(train_X))\n",
    "classificationSummary(valid_y, logit_reg.predict(valid_X))"
   ]
  },
  {
   "cell_type": "code",
   "execution_count": 25,
   "metadata": {},
   "outputs": [
    {
     "name": "stdout",
     "output_type": "stream",
     "text": [
      "Accuracy on train is: 0.6136155202821869\n",
      "Accuracy on test is: 0.6079012345679012\n",
      "Precision_score train is: 0.35378432685867384\n",
      "Precision_score on test is: 0.34887683965917893\n",
      "Recall_score on train is: 0.8017607771706132\n",
      "Recall_score on test is: 0.8005687877710629\n",
      "f1_score on train is: 0.4909378194999536\n",
      "f1_score on test is: 0.48597324126025027\n"
     ]
    }
   ],
   "source": [
    "from sklearn.metrics import accuracy_score, precision_score,recall_score,f1_score,roc_auc_score,classification_report, confusion_matrix\n",
    "lr_prediction_train = logit_reg.predict_proba(train_X)[:,1] > 0.5\n",
    "lr_prediction_valid = logit_reg.predict_proba(valid_X)[:,1] > 0.5\n",
    "print(\"Accuracy on train is:\",accuracy_score(train_y,lr_prediction_train))\n",
    "print(\"Accuracy on test is:\",accuracy_score(valid_y,lr_prediction_valid))\n",
    "print(\"Precision_score train is:\",precision_score(train_y,lr_prediction_train))\n",
    "print(\"Precision_score on test is:\",precision_score(valid_y,lr_prediction_valid))\n",
    "print(\"Recall_score on train is:\",recall_score(train_y,lr_prediction_train))\n",
    "print(\"Recall_score on test is:\",recall_score(valid_y,lr_prediction_valid))\n",
    "print(\"f1_score on train is:\",f1_score(train_y,lr_prediction_train))\n",
    "print(\"f1_score on test is:\",f1_score(valid_y,lr_prediction_valid))"
   ]
  },
  {
   "cell_type": "markdown",
   "metadata": {},
   "source": [
    "Recall is higher than other metrics for the logistric regression model. Precision is relatively low."
   ]
  },
  {
   "cell_type": "markdown",
   "metadata": {},
   "source": [
    "## Decision Tree"
   ]
  },
  {
   "cell_type": "code",
   "execution_count": 26,
   "metadata": {},
   "outputs": [],
   "source": [
    "import numpy as np\n",
    "from sklearn.model_selection import train_test_split\n",
    "train_X, valid_X, train_y, valid_y = train_test_split(X, y, test_size=0.3, random_state=1)"
   ]
  },
  {
   "cell_type": "code",
   "execution_count": 27,
   "metadata": {},
   "outputs": [
    {
     "data": {
      "image/png": "[encoded data removed]",
      "text/plain": [
       "<IPython.core.display.Image object>"
      ]
     },
     "execution_count": 27,
     "metadata": {},
     "output_type": "execute_result"
    }
   ],
   "source": [
    "from sklearn.tree import DecisionTreeClassifier\n",
    "from dmba import plotDecisionTree\n",
    "\n",
    "DecisionTree = DecisionTreeClassifier(max_depth = 4)\n",
    "DecisionTree.fit(train_X, train_y)\n",
    "\n",
    "plotDecisionTree(DecisionTree, feature_names=train_X.columns)"
   ]
  },
  {
   "cell_type": "markdown",
   "metadata": {},
   "source": [
    "### Feature Importance"
   ]
  },
  {
   "cell_type": "code",
   "execution_count": 28,
   "metadata": {},
   "outputs": [
    {
     "name": "stdout",
     "output_type": "stream",
     "text": [
      "                        feature  importance\n",
      "13   charge_cycle_time_below_12    0.448717\n",
      "11        discharging_rate_lag3    0.392954\n",
      "5            charging_rate_lag3    0.125991\n",
      "45     avg_volt_change_charging    0.021470\n",
      "43               total_off_time    0.002775\n",
      "38           charging_rate_lag4    0.002613\n",
      "44         number_times_restart    0.002421\n",
      "35        discharging_rate_lag5    0.001893\n",
      "0                      deviceid    0.001167\n",
      "39           charging_rate_lag5    0.000000\n",
      "34        discharging_rate_lag4    0.000000\n",
      "33   avg_time_discharging_lag14    0.000000\n",
      "32      avg_time_charging_lag14    0.000000\n",
      "31   avg_time_discharging_lag13    0.000000\n",
      "30      avg_time_charging_lag13    0.000000\n",
      "36        discharging_rate_lag6    0.000000\n",
      "37        discharging_rate_lag8    0.000000\n",
      "42              dischargecycles    0.000000\n",
      "40           charging_rate_lag6    0.000000\n",
      "41                 chargecycles    0.000000\n",
      "28      avg_time_charging_lag12    0.000000\n",
      "46  avg_volt_change_discharging    0.000000\n",
      "47            avg_time_charging    0.000000\n",
      "48         avg_time_discharging    0.000000\n",
      "49              max_voltage_day    0.000000\n",
      "50                   piececount    0.000000\n",
      "51                   cycle_time    0.000000\n",
      "29   avg_time_discharging_lag12    0.000000\n",
      "26      avg_time_charging_lag11    0.000000\n",
      "27   avg_time_discharging_lag11    0.000000\n",
      "1        avg_time_charging_lag1    0.000000\n",
      "2        avg_time_charging_lag2    0.000000\n",
      "3        avg_time_charging_lag3    0.000000\n",
      "4        avg_time_charging_lag7    0.000000\n",
      "6            charging_rate_lag7    0.000000\n",
      "7     avg_time_discharging_lag1    0.000000\n",
      "8     avg_time_discharging_lag2    0.000000\n",
      "9     avg_time_discharging_lag3    0.000000\n",
      "10    avg_time_discharging_lag7    0.000000\n",
      "12        discharging_rate_lag7    0.000000\n",
      "14       avg_time_charging_lag4    0.000000\n",
      "15    avg_time_discharging_lag4    0.000000\n",
      "16       avg_time_charging_lag5    0.000000\n",
      "17    avg_time_discharging_lag5    0.000000\n",
      "18       avg_time_charging_lag6    0.000000\n",
      "19    avg_time_discharging_lag6    0.000000\n",
      "20       avg_time_charging_lag8    0.000000\n",
      "21    avg_time_discharging_lag8    0.000000\n",
      "22       avg_time_charging_lag9    0.000000\n",
      "23    avg_time_discharging_lag9    0.000000\n",
      "24      avg_time_charging_lag10    0.000000\n",
      "25   avg_time_discharging_lag10    0.000000\n",
      "52                DaysInService    0.000000\n"
     ]
    }
   ],
   "source": [
    "importances = DecisionTree.feature_importances_\n",
    "\n",
    "im = pd.DataFrame({'feature': train_X.columns, 'importance': importances})\n",
    "im = im.sort_values('importance',ascending=False)\n",
    "print(im)"
   ]
  },
  {
   "cell_type": "markdown",
   "metadata": {},
   "source": [
    "### Model Metrics"
   ]
  },
  {
   "cell_type": "code",
   "execution_count": 29,
   "metadata": {},
   "outputs": [
    {
     "name": "stdout",
     "output_type": "stream",
     "text": [
      "Accuracy score on train is: 0.8059964726631393\n",
      "Accuracy score on test is: 0.8052674897119342\n",
      "Precision score on train is: 0.6375821952453212\n",
      "Precision score on test is: 0.6310850439882698\n",
      "Recall score on train is: 0.3826654523375835\n",
      "Recall score on test is: 0.3825097760398151\n",
      "F1 score on train is: 0.47827736672358184\n",
      "F1 score on test is: 0.4763169544046038\n"
     ]
    }
   ],
   "source": [
    "dt_prediction_train = DecisionTree.predict(train_X) \n",
    "dt_prediction_valid = DecisionTree.predict(valid_X) \n",
    "    \n",
    "print(\"Accuracy score on train is:\",accuracy_score(train_y,dt_prediction_train))\n",
    "print(\"Accuracy score on test is:\",accuracy_score(valid_y,dt_prediction_valid))\n",
    "print(\"Precision score on train is:\",precision_score(train_y,dt_prediction_train))\n",
    "print(\"Precision score on test is:\",precision_score(valid_y,dt_prediction_valid))\n",
    "print(\"Recall score on train is:\",recall_score(train_y,dt_prediction_train))\n",
    "print(\"Recall score on test is:\",recall_score(valid_y,dt_prediction_valid))\n",
    "print(\"F1 score on train is:\",f1_score(train_y,dt_prediction_train))\n",
    "print(\"F1 score on test is:\",f1_score(valid_y,dt_prediction_valid))"
   ]
  },
  {
   "cell_type": "markdown",
   "metadata": {},
   "source": [
    "Accuracy is higher than other metrics for the decision tree model. Recall is relatively low."
   ]
  },
  {
   "cell_type": "markdown",
   "metadata": {},
   "source": [
    "## Naive Bayes"
   ]
  },
  {
   "cell_type": "code",
   "execution_count": 30,
   "metadata": {},
   "outputs": [],
   "source": [
    "from sklearn.naive_bayes import GaussianNB\n",
    "\n",
    "nb = GaussianNB()\n",
    "nb.fit(train_X, train_y)\n",
    "\n",
    "# predict probabilities\n",
    "prediction_train = nb.predict_proba(train_X)\n",
    "prediction_valid = nb.predict_proba(valid_X)"
   ]
  },
  {
   "cell_type": "markdown",
   "metadata": {},
   "source": [
    "### Model Metrics"
   ]
  },
  {
   "cell_type": "code",
   "execution_count": 31,
   "metadata": {},
   "outputs": [
    {
     "name": "stdout",
     "output_type": "stream",
     "text": [
      "Accuracy on train is: 0.618236331569665\n",
      "Accuracy on test is: 0.6095473251028807\n",
      "Precision_score train is: 0.33496999454446263\n",
      "Precision_score on test is: 0.3279885978977374\n",
      "Recall_score on train is: 0.6523982999392836\n",
      "Recall_score on test is: 0.6544614290792748\n",
      "f1_score on train is: 0.442659251248777\n",
      "f1_score on test is: 0.4369807737953952\n"
     ]
    }
   ],
   "source": [
    "nb_prediction_train = nb.predict(train_X) \n",
    "nb_prediction_valid = nb.predict(valid_X)\n",
    "\n",
    "print(\"Accuracy on train is:\",accuracy_score(train_y,nb_prediction_train)) \n",
    "print(\"Accuracy on test is:\",accuracy_score(valid_y,nb_prediction_valid)) \n",
    "print(\"Precision_score train is:\",precision_score(train_y,nb_prediction_train)) \n",
    "print(\"Precision_score on test is:\",precision_score(valid_y,nb_prediction_valid)) \n",
    "print(\"Recall_score on train is:\",recall_score(train_y,nb_prediction_train)) \n",
    "print(\"Recall_score on test is:\",recall_score(valid_y,nb_prediction_valid)) \n",
    "print(\"f1_score on train is:\",f1_score(train_y,nb_prediction_train)) \n",
    "print(\"f1_score on test is:\",f1_score(valid_y,nb_prediction_valid))"
   ]
  },
  {
   "cell_type": "markdown",
   "metadata": {},
   "source": [
    "Recall is higher than other metrics for the naive bayes model. Precision is relatively low."
   ]
  },
  {
   "cell_type": "markdown",
   "metadata": {},
   "source": [
    "## Random Forest"
   ]
  },
  {
   "cell_type": "code",
   "execution_count": 32,
   "metadata": {},
   "outputs": [],
   "source": [
    "rf = RandomForestClassifier(random_state=0)\n",
    "cc_rf = rf.fit(train_X.values, train_y.values.ravel())"
   ]
  },
  {
   "cell_type": "code",
   "execution_count": 33,
   "metadata": {},
   "outputs": [
    {
     "name": "stdout",
     "output_type": "stream",
     "text": [
      "Accuracy on train is: 1.0\n",
      "Accuracy on test is: 0.7988477366255144\n",
      "Precision_score train is: 1.0\n",
      "Precision_score on test is: 0.6969050160085379\n",
      "Recall_score on train is: 1.0\n",
      "Recall_score on test is: 0.2321365090650551\n",
      "f1_score on train is: 1.0\n",
      "f1_score on test is: 0.34826666666666667\n"
     ]
    }
   ],
   "source": [
    "rf_prediction_train = cc_rf.predict(train_X)\n",
    "rf_prediction_valid = cc_rf.predict(valid_X)\n",
    "\n",
    "print(\"Accuracy on train is:\",accuracy_score(train_y,rf_prediction_train))\n",
    "print(\"Accuracy on test is:\",accuracy_score(valid_y,rf_prediction_valid))\n",
    "print(\"Precision_score train is:\",precision_score(train_y,rf_prediction_train))\n",
    "print(\"Precision_score on test is:\",precision_score(valid_y,rf_prediction_valid))\n",
    "print(\"Recall_score on train is:\",recall_score(train_y,rf_prediction_train))\n",
    "print(\"Recall_score on test is:\",recall_score(valid_y,rf_prediction_valid))\n",
    "print(\"f1_score on train is:\",f1_score(train_y,rf_prediction_train))\n",
    "print(\"f1_score on test is:\",f1_score(valid_y,rf_prediction_valid))"
   ]
  },
  {
   "cell_type": "markdown",
   "metadata": {},
   "source": [
    "There's an overfitting problem in this model since all scores from training set, which are close to 100%, are much higher than ones from test set."
   ]
  },
  {
   "cell_type": "markdown",
   "metadata": {},
   "source": [
    "## Gradient Boosted Trees"
   ]
  },
  {
   "cell_type": "code",
   "execution_count": 35,
   "metadata": {},
   "outputs": [
    {
     "data": {
      "text/plain": [
       "array([0, 0], dtype=int64)"
      ]
     },
     "execution_count": 35,
     "metadata": {},
     "output_type": "execute_result"
    }
   ],
   "source": [
    "from sklearn.ensemble import GradientBoostingClassifier\n",
    "\n",
    "gbm = GradientBoostingClassifier(random_state=0)\n",
    "gbm.fit(train_X, train_y)\n",
    "gbm.predict(valid_X[:2])"
   ]
  },
  {
   "cell_type": "markdown",
   "metadata": {},
   "source": [
    "### Feature Importance"
   ]
  },
  {
   "cell_type": "code",
   "execution_count": 37,
   "metadata": {},
   "outputs": [
    {
     "data": {
      "text/plain": [
       "<matplotlib.axes._subplots.AxesSubplot at 0x16ea420fbb0>"
      ]
     },
     "execution_count": 37,
     "metadata": {},
     "output_type": "execute_result"
    },
    {
     "data": {
      "image/png": "[encoded data removed]",
      "text/plain": [
       "<Figure size 432x288 with 1 Axes>"
      ]
     },
     "metadata": {
      "needs_background": "light"
     },
     "output_type": "display_data"
    }
   ],
   "source": [
    "importances = list(zip(gbm.feature_importances_, tr.columns))\n",
    "pd.DataFrame(importances, index=[x for (_,x) in importances]).sort_values(by = 0, ascending = False).plot(kind = 'bar', color = 'r')"
   ]
  },
  {
   "cell_type": "markdown",
   "metadata": {},
   "source": [
    "Most important feature is discharging_rate_lag3"
   ]
  },
  {
   "cell_type": "markdown",
   "metadata": {},
   "source": [
    "### Model Metrics"
   ]
  },
  {
   "cell_type": "code",
   "execution_count": 38,
   "metadata": {},
   "outputs": [
    {
     "name": "stdout",
     "output_type": "stream",
     "text": [
      "Accuracy on train is: 0.818342151675485\n",
      "Accuracy on test is: 0.814238683127572\n",
      "Precision_score train is: 0.7043774872086412\n",
      "Precision_score on test is: 0.682175622542595\n",
      "Recall_score on train is: 0.3761384335154827\n",
      "Recall_score on test is: 0.37006754354781374\n",
      "f1_score on train is: 0.49040174153967947\n",
      "f1_score on test is: 0.4798340631481908\n"
     ]
    }
   ],
   "source": [
    "gbt_prediction_train = gbm.predict(train_X)\n",
    "gbt_prediction_valid = gbm.predict(valid_X)\n",
    "\n",
    "print(\"Accuracy on train is:\",accuracy_score(train_y,gbt_prediction_train))\n",
    "print(\"Accuracy on test is:\",accuracy_score(valid_y,gbt_prediction_valid))\n",
    "print(\"Precision_score train is:\",precision_score(train_y,gbt_prediction_train))\n",
    "print(\"Precision_score on test is:\",precision_score(valid_y,gbt_prediction_valid))\n",
    "print(\"Recall_score on train is:\",recall_score(train_y,gbt_prediction_train))\n",
    "print(\"Recall_score on test is:\",recall_score(valid_y,gbt_prediction_valid))\n",
    "print(\"f1_score on train is:\",f1_score(train_y,gbt_prediction_train))\n",
    "print(\"f1_score on test is:\",f1_score(valid_y,gbt_prediction_valid))"
   ]
  },
  {
   "cell_type": "markdown",
   "metadata": {},
   "source": [
    "Accuracy is higher than other metrics for the gradient boosted tree model. Recall is relatively low."
   ]
  },
  {
   "cell_type": "code",
   "execution_count": null,
   "metadata": {},
   "outputs": [],
   "source": []
  },
  {
   "cell_type": "markdown",
   "metadata": {},
   "source": [
    "## Baseline AUC"
   ]
  },
  {
   "cell_type": "code",
   "execution_count": 51,
   "metadata": {},
   "outputs": [
    {
     "name": "stdout",
     "output_type": "stream",
     "text": [
      "LogisticRegression Train:  0.679209586269343\n",
      "LogisticRegression Valid:  0.6752121008577923 \n",
      "\n",
      "DecisionTree Train:  0.6584083625992668\n",
      "DecisionTree Valid:  0.6575716921325775 \n",
      "\n",
      "NaiveBayes Train:  0.6301463974652763\n",
      "NaiveBayes Valid:  0.6252386399974932 \n",
      "\n",
      "RandomForest Train:  1.0\n",
      "RandomForest Valid:  0.6008599435118571 \n",
      "\n",
      "GradientBoostedTree Train:  0.6641743541532013\n",
      "GradientBoostedTree Valid:  0.6590618321787478 \n",
      "\n"
     ]
    }
   ],
   "source": [
    "from sklearn.metrics import roc_curve, auc\n",
    "# LR\n",
    "fpr, tpr, thresholds = roc_curve(train_y,lr_prediction_train)\n",
    "print(\"LogisticRegression Train: \",str(auc(fpr, tpr)))\n",
    "fpr, tpr, thresholds = roc_curve(valid_y,lr_prediction_valid)\n",
    "print(\"LogisticRegression Valid: \",str(auc(fpr, tpr)),\"\\n\")\n",
    "# DT\n",
    "fpr, tpr, thresholds = roc_curve(train_y,dt_prediction_train)\n",
    "print(\"DecisionTree Train: \",str(auc(fpr, tpr)))\n",
    "fpr, tpr, thresholds = roc_curve(valid_y,dt_prediction_valid)\n",
    "print(\"DecisionTree Valid: \",str(auc(fpr, tpr)),\"\\n\")\n",
    "# NB\n",
    "fpr, tpr, thresholds = roc_curve(train_y,nb_prediction_train)\n",
    "print(\"NaiveBayes Train: \",str(auc(fpr, tpr)))\n",
    "fpr, tpr, thresholds = roc_curve(valid_y,nb_prediction_valid)\n",
    "print(\"NaiveBayes Valid: \",str(auc(fpr, tpr)),\"\\n\")\n",
    "# RF\n",
    "fpr, tpr, thresholds = roc_curve(train_y,rf_prediction_train)\n",
    "print(\"RandomForest Train: \",str(auc(fpr, tpr)))\n",
    "fpr, tpr, thresholds = roc_curve(valid_y,rf_prediction_valid)\n",
    "print(\"RandomForest Valid: \",str(auc(fpr, tpr)),\"\\n\")\n",
    "# GBT\n",
    "fpr, tpr, thresholds = roc_curve(train_y,gbt_prediction_train )\n",
    "print(\"GradientBoostedTree Train: \",str(auc(fpr, tpr)))\n",
    "fpr, tpr, thresholds = roc_curve(valid_y,gbt_prediction_valid)\n",
    "print(\"GradientBoostedTree Valid: \",str(auc(fpr, tpr)),\"\\n\")\n",
    "# NN\n",
    "# fpr, tpr, thresholds = roc_curve(train_y,nn_prediction_train)\n",
    "# print(\"NeuralNetworks Train: \",str(auc(fpr, tpr)))\n",
    "# fpr, tpr, thresholds = roc_curve(valid_y,nn_prediction_valid)\n",
    "# print(\"NeuralNetworkss Valid: \",str(auc(fpr, tpr)),\"\\n\")\n"
   ]
  },
  {
   "cell_type": "code",
   "execution_count": 52,
   "metadata": {},
   "outputs": [],
   "source": [
    "## ROC Curve Analysis"
   ]
  },
  {
   "cell_type": "code",
   "execution_count": 54,
   "metadata": {},
   "outputs": [],
   "source": [
    "rf_proba = cc_rf.predict_proba(valid_X)[:,1]\n",
    "rf_roc = roc_curve(valid_y, rf_proba)\n",
    "rf_roc = pd.DataFrame(rf_roc)\n",
    "gbm_proba=gbm.predict_proba(valid_X)[:,1]\n",
    "gbm_roc = roc_curve(valid_y, gbm_proba)\n",
    "gbm_roc = pd.DataFrame(gbm_roc)\n",
    "# nn_proba = model.predict(valid_X_nn)\n",
    "# nn_roc = roc_curve(valid_y_nn, nn_proba)\n",
    "# nn_roc = pd.DataFrame(nn_roc)"
   ]
  },
  {
   "cell_type": "code",
   "execution_count": 55,
   "metadata": {},
   "outputs": [
    {
     "name": "stdout",
     "output_type": "stream",
     "text": [
      "                                                                                                  fpr  \\\n",
      "classifiers                                                                                             \n",
      "LogisticRegression(C=1e+42, class_weight='balan...  [0.0, 0.0001071007818357074, 0.000428403127342...   \n",
      "GaussianNB()                                        [0.0, 0.0, 0.0002142015636714148, 0.0002142015...   \n",
      "DecisionTreeClassifier(max_depth=4)                 [0.0, 0.0002142015636714148, 0.027417800149941...   \n",
      "\n",
      "                                                                                                  tpr  \\\n",
      "classifiers                                                                                             \n",
      "LogisticRegression(C=1e+42, class_weight='balan...  [0.0, 0.0, 0.0, 0.00035549235691432633, 0.0003...   \n",
      "GaussianNB()                                        [0.0, 0.00035549235691432633, 0.00035549235691...   \n",
      "DecisionTreeClassifier(max_depth=4)                 [0.0, 0.0, 0.1848560255954497, 0.3825097760398...   \n",
      "\n",
      "                                                         auc  \n",
      "classifiers                                                   \n",
      "LogisticRegression(C=1e+42, class_weight='balan...  0.717812  \n",
      "GaussianNB()                                        0.659692  \n",
      "DecisionTreeClassifier(max_depth=4)                 0.756562  \n"
     ]
    },
    {
     "data": {
      "image/png": "[encoded data removed]",
      "text/plain": [
       "<Figure size 576x432 with 1 Axes>"
      ]
     },
     "metadata": {
      "needs_background": "light"
     },
     "output_type": "display_data"
    }
   ],
   "source": [
    "import sklearn.metrics as metrics\n",
    "from sklearn.metrics import plot_roc_curve\n",
    "%matplotlib inline\n",
    "Classifier = [logit_reg,nb,DecisionTree]\n",
    "result_table = pd.DataFrame(columns=['classifiers', 'fpr','tpr','auc'])\n",
    "for cls in Classifier:\n",
    "    yproba = cls.predict_proba(valid_X)[:,1]\n",
    "    #plot_roc_curve(cls, valid_X, valid_y)\n",
    "    fpr, tpr, thresholds = roc_curve(valid_y,  yproba)\n",
    "\n",
    "    auc = roc_auc_score(valid_y, yproba)\n",
    "    \n",
    "    result_table = result_table.append({'classifiers':cls,\n",
    "                                        'fpr':fpr, \n",
    "                                        'tpr':tpr, \n",
    "                                        'auc':auc}, ignore_index=True)\n",
    "result_table.set_index('classifiers', inplace=True)\n",
    "#result_table.fillna(0)\n",
    "fig = plt.figure(figsize=(8,6))\n",
    "\n",
    "print(result_table.head())\n",
    "\n",
    "for i in result_table.index:\n",
    "\n",
    "    plt.plot(result_table.loc[i]['fpr'], \n",
    "             result_table.loc[i]['tpr'],\n",
    "             label=i)\n",
    "             #label=\"{}, AUC={:.3f}\".format(i, result_table.loc[i]['auc']))\n",
    "    \n",
    "plt.plot(rf_roc.loc[0,:], rf_roc.loc[1,:], label=\"Random Forest\")\n",
    "plt.plot(gbm_roc.loc[0,:], gbm_roc.loc[1,:], label=\"Gradiant Boosted Tree\")\n",
    "# plt.plot(nn_roc.loc[0,:], nn_roc.loc[1,:], label=\"Neural Network\")\n",
    "\n",
    "plt.plot([0,1], [0,1], color='orange', linestyle='--')\n",
    "\n",
    "plt.xticks(np.arange(0.0, 1.1, step=0.1))\n",
    "plt.xlabel(\"False Positive Rate\", fontsize=15)\n",
    "\n",
    "plt.yticks(np.arange(0.0, 1.1, step=0.1))\n",
    "plt.ylabel(\"True Positive Rate\", fontsize=15)\n",
    "\n",
    "plt.title('ROC Curve Analysis', fontweight='bold', fontsize=15)\n",
    "plt.legend(prop={'size':8}, loc='lower right')\n",
    "\n",
    "plt.show()"
   ]
  },
  {
   "cell_type": "markdown",
   "metadata": {},
   "source": [
    "Gradient boosted tree and decision tree performed best. Random forest has overfitting. "
   ]
  },
  {
   "cell_type": "code",
   "execution_count": null,
   "metadata": {},
   "outputs": [],
   "source": []
  },
  {
   "cell_type": "code",
   "execution_count": null,
   "metadata": {},
   "outputs": [],
   "source": []
  },
  {
   "cell_type": "code",
   "execution_count": null,
   "metadata": {},
   "outputs": [],
   "source": []
  },
  {
   "cell_type": "markdown",
   "metadata": {},
   "source": [
    "## Neural Networks"
   ]
  },
  {
   "cell_type": "code",
   "execution_count": 39,
   "metadata": {},
   "outputs": [
    {
     "data": {
      "text/plain": [
       "(40500, 53)"
      ]
     },
     "execution_count": 39,
     "metadata": {},
     "output_type": "execute_result"
    }
   ],
   "source": [
    "from sklearn.preprocessing import MinMaxScaler\n",
    "scaler = MinMaxScaler()\n",
    "X_scale=scaler.fit_transform(X)\n",
    "X_scale.shape"
   ]
  },
  {
   "cell_type": "code",
   "execution_count": 42,
   "metadata": {},
   "outputs": [],
   "source": [
    "y_tr = tr[[outcome]] # for neural network only because this model need to get y_df.shape[1]\n",
    "train_X_nn, valid_X_nn, train_y_nn, valid_y_nn = train_test_split(X_scale, y_tr, test_size=0.3, random_state=1) "
   ]
  },
  {
   "cell_type": "code",
   "execution_count": null,
   "metadata": {},
   "outputs": [],
   "source": [
    "from tensorflow.keras.layers import Input, Dense, Activation,Dropout\n",
    "from tensorflow.keras.models import Model\n",
    "input_layer = Input(shape=(X_scale.shape[1],))\n",
    "dense_layer_1 = Dense(16, activation='relu')(input_layer)\n",
    "dense_layer_2 = Dense(16, activation='relu')(dense_layer_1)\n",
    "output = Dense(y_df.shape[1], activation='sigmoid')(dense_layer_2)\n",
    "\n",
    "model = Model(inputs=input_layer, outputs=output)\n",
    "model.compile(loss='binary_crossentropy', optimizer='adam', metrics=['acc'])"
   ]
  },
  {
   "cell_type": "code",
   "execution_count": null,
   "metadata": {},
   "outputs": [],
   "source": []
  },
  {
   "cell_type": "code",
   "execution_count": null,
   "metadata": {},
   "outputs": [],
   "source": []
  },
  {
   "cell_type": "code",
   "execution_count": null,
   "metadata": {},
   "outputs": [],
   "source": []
  }
 ],
 "metadata": {
  "kernelspec": {
   "display_name": "Python 3",
   "language": "python",
   "name": "python3"
  },
  "language_info": {
   "codemirror_mode": {
    "name": "ipython",
    "version": 3
   },
   "file_extension": ".py",
   "mimetype": "text/x-python",
   "name": "python",
   "nbconvert_exporter": "python",
   "pygments_lexer": "ipython3",
   "version": "3.8.3"
  }
 },
 "nbformat": 4,
 "nbformat_minor": 4
}
