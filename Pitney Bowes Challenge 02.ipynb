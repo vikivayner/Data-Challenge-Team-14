{
 "cells": [
  {
   "cell_type": "markdown",
   "metadata": {
    "id": "6qoMFLzMNnyx"
   },
   "source": [
    "### Import Packages"
   ]
  },
  {
   "cell_type": "code",
   "execution_count": 11,
   "metadata": {
    "id": "g6Rj2-CRNny0"
   },
   "outputs": [],
   "source": [
    "import pandas as pd\n",
    "import matplotlib.pyplot as plt"
   ]
  },
  {
   "cell_type": "markdown",
   "metadata": {
    "id": "vjaf_owyNny1"
   },
   "source": [
    "### Open Files, Create DataFrames, Zero Null Values\n",
    "#### *To keep nulls, comment 3rd var, remove \"n\" from dataframe var."
   ]
  },
  {
   "cell_type": "code",
   "execution_count": 12,
   "metadata": {
    "id": "ckdS_cF3Nny1"
   },
   "outputs": [],
   "source": [
    "test = pd.read_csv(\"test.csv\")\n",
    "tsn = pd.DataFrame(test)\n",
    "ts = tsn.fillna(0)\n",
    "\n",
    "train = pd.read_csv(\"train.csv\")\n",
    "trn = pd.DataFrame(train)\n",
    "tr = trn.fillna(0)"
   ]
  },
  {
   "cell_type": "markdown",
   "metadata": {
    "id": "7CEk5RlENny2"
   },
   "source": [
    "### Convert \"LastRecord\" and \"Date Deployed\" to Datetime"
   ]
  },
  {
   "cell_type": "code",
   "execution_count": 13,
   "metadata": {
    "id": "bWvaeAknNny2"
   },
   "outputs": [],
   "source": [
    "ts[\"LastRecord\"], ts[\"Date Deployed\"] = pd.to_datetime(ts[\"LastRecord\"]), pd.to_datetime(ts[\"Date Deployed\"])\n",
    "tr[\"LastRecord\"], tr[\"Date Deployed\"] = pd.to_datetime(tr[\"LastRecord\"]), pd.to_datetime(tr[\"Date Deployed\"])"
   ]
  },
  {
   "cell_type": "markdown",
   "metadata": {
    "id": "pDNkXNjBNny2"
   },
   "source": [
    "### Create \"DaysInService\" Column, Convert from TimeDelta to Float for Plotting"
   ]
  },
  {
   "cell_type": "code",
   "execution_count": 14,
   "metadata": {
    "id": "RvNGsWAtNny3"
   },
   "outputs": [],
   "source": [
    "ts[\"DaysInService\"] = ts[\"LastRecord\"] - ts[\"Date Deployed\"]\n",
    "ts[\"DaysInService\"] = ts[\"DaysInService\"].dt.days.astype(\"float64\")\n",
    "tr[\"DaysInService\"] = tr[\"LastRecord\"] - tr[\"Date Deployed\"]\n",
    "tr[\"DaysInService\"] = tr[\"DaysInService\"].dt.days.astype(\"float64\")"
   ]
  },
  {
   "cell_type": "markdown",
   "metadata": {
    "id": "NAN0rsqkNny3"
   },
   "source": [
    "### Get Info and Head (Test)"
   ]
  },
  {
   "cell_type": "code",
   "execution_count": 15,
   "metadata": {
    "id": "X6DsQDbkNny3",
    "outputId": "1d7f7435-1ce1-4c55-d792-cc5dcd9fdc68",
    "scrolled": true
   },
   "outputs": [
    {
     "name": "stdout",
     "output_type": "stream",
     "text": [
      "<class 'pandas.core.frame.DataFrame'>\n",
      "RangeIndex: 4500 entries, 0 to 4499\n",
      "Data columns (total 55 columns):\n",
      " #   Column                       Non-Null Count  Dtype         \n",
      "---  ------                       --------------  -----         \n",
      " 0   deviceid                     4500 non-null   int64         \n",
      " 1   avg_time_charging_lag1       4500 non-null   float64       \n",
      " 2   avg_time_charging_lag2       4500 non-null   float64       \n",
      " 3   avg_time_charging_lag3       4500 non-null   float64       \n",
      " 4   avg_time_charging_lag7       4500 non-null   float64       \n",
      " 5   charging_rate_lag3           4500 non-null   float64       \n",
      " 6   charging_rate_lag7           4500 non-null   float64       \n",
      " 7   avg_time_discharging_lag1    4500 non-null   float64       \n",
      " 8   avg_time_discharging_lag2    4500 non-null   float64       \n",
      " 9   avg_time_discharging_lag3    4500 non-null   float64       \n",
      " 10  avg_time_discharging_lag7    4500 non-null   float64       \n",
      " 11  discharging_rate_lag3        4500 non-null   float64       \n",
      " 12  discharging_rate_lag7        4500 non-null   float64       \n",
      " 13  charge_cycle_time_below_12   4500 non-null   bool          \n",
      " 14  avg_time_charging_lag4       4500 non-null   float64       \n",
      " 15  avg_time_discharging_lag4    4500 non-null   float64       \n",
      " 16  avg_time_charging_lag5       4500 non-null   float64       \n",
      " 17  avg_time_discharging_lag5    4500 non-null   float64       \n",
      " 18  avg_time_charging_lag6       4500 non-null   float64       \n",
      " 19  avg_time_discharging_lag6    4500 non-null   float64       \n",
      " 20  avg_time_charging_lag8       4500 non-null   float64       \n",
      " 21  avg_time_discharging_lag8    4500 non-null   float64       \n",
      " 22  avg_time_charging_lag9       4500 non-null   float64       \n",
      " 23  avg_time_discharging_lag9    4500 non-null   float64       \n",
      " 24  avg_time_charging_lag10      4500 non-null   float64       \n",
      " 25  avg_time_discharging_lag10   4500 non-null   float64       \n",
      " 26  avg_time_charging_lag11      4500 non-null   float64       \n",
      " 27  avg_time_discharging_lag11   4500 non-null   float64       \n",
      " 28  avg_time_charging_lag12      4500 non-null   float64       \n",
      " 29  avg_time_discharging_lag12   4500 non-null   float64       \n",
      " 30  avg_time_charging_lag13      4500 non-null   float64       \n",
      " 31  avg_time_discharging_lag13   4500 non-null   float64       \n",
      " 32  avg_time_charging_lag14      4500 non-null   float64       \n",
      " 33  avg_time_discharging_lag14   4500 non-null   float64       \n",
      " 34  discharging_rate_lag4        4500 non-null   float64       \n",
      " 35  discharging_rate_lag5        4500 non-null   float64       \n",
      " 36  discharging_rate_lag6        4500 non-null   float64       \n",
      " 37  discharging_rate_lag8        4500 non-null   float64       \n",
      " 38  charging_rate_lag4           4500 non-null   float64       \n",
      " 39  charging_rate_lag5           4500 non-null   float64       \n",
      " 40  charging_rate_lag6           4500 non-null   float64       \n",
      " 41  chargecycles                 4500 non-null   float64       \n",
      " 42  dischargecycles              4500 non-null   float64       \n",
      " 43  total_off_time               4500 non-null   float64       \n",
      " 44  number_times_restart         4500 non-null   float64       \n",
      " 45  avg_volt_change_charging     4500 non-null   float64       \n",
      " 46  avg_volt_change_discharging  4500 non-null   float64       \n",
      " 47  avg_time_charging            4500 non-null   float64       \n",
      " 48  avg_time_discharging         4500 non-null   float64       \n",
      " 49  max_voltage_day              4500 non-null   float64       \n",
      " 50  piececount                   4500 non-null   float64       \n",
      " 51  cycle_time                   4500 non-null   float64       \n",
      " 52  LastRecord                   4500 non-null   datetime64[ns]\n",
      " 53  Date Deployed                4500 non-null   datetime64[ns]\n",
      " 54  DaysInService                4500 non-null   float64       \n",
      "dtypes: bool(1), datetime64[ns](2), float64(51), int64(1)\n",
      "memory usage: 1.9 MB\n"
     ]
    },
    {
     "data": {
      "text/html": [
       "<div>\n",
       "<style scoped>\n",
       "    .dataframe tbody tr th:only-of-type {\n",
       "        vertical-align: middle;\n",
       "    }\n",
       "\n",
       "    .dataframe tbody tr th {\n",
       "        vertical-align: top;\n",
       "    }\n",
       "\n",
       "    .dataframe thead th {\n",
       "        text-align: right;\n",
       "    }\n",
       "</style>\n",
       "<table border=\"1\" class=\"dataframe\">\n",
       "  <thead>\n",
       "    <tr style=\"text-align: right;\">\n",
       "      <th></th>\n",
       "      <th>deviceid</th>\n",
       "      <th>avg_time_charging_lag1</th>\n",
       "      <th>avg_time_charging_lag2</th>\n",
       "      <th>avg_time_charging_lag3</th>\n",
       "      <th>avg_time_charging_lag7</th>\n",
       "      <th>charging_rate_lag3</th>\n",
       "      <th>charging_rate_lag7</th>\n",
       "      <th>avg_time_discharging_lag1</th>\n",
       "      <th>avg_time_discharging_lag2</th>\n",
       "      <th>avg_time_discharging_lag3</th>\n",
       "      <th>...</th>\n",
       "      <th>avg_volt_change_charging</th>\n",
       "      <th>avg_volt_change_discharging</th>\n",
       "      <th>avg_time_charging</th>\n",
       "      <th>avg_time_discharging</th>\n",
       "      <th>max_voltage_day</th>\n",
       "      <th>piececount</th>\n",
       "      <th>cycle_time</th>\n",
       "      <th>LastRecord</th>\n",
       "      <th>Date Deployed</th>\n",
       "      <th>DaysInService</th>\n",
       "    </tr>\n",
       "  </thead>\n",
       "  <tbody>\n",
       "    <tr>\n",
       "      <th>0</th>\n",
       "      <td>42979</td>\n",
       "      <td>35.56</td>\n",
       "      <td>4.31</td>\n",
       "      <td>5.07</td>\n",
       "      <td>4.60</td>\n",
       "      <td>-0.033333</td>\n",
       "      <td>0.040000</td>\n",
       "      <td>66.29</td>\n",
       "      <td>3.77</td>\n",
       "      <td>4.07</td>\n",
       "      <td>...</td>\n",
       "      <td>346.301200</td>\n",
       "      <td>345.379600</td>\n",
       "      <td>17.481600</td>\n",
       "      <td>27.721600</td>\n",
       "      <td>4159.000000</td>\n",
       "      <td>12.437500</td>\n",
       "      <td>45.203200</td>\n",
       "      <td>2021-04-01</td>\n",
       "      <td>2019-09-08</td>\n",
       "      <td>571.0</td>\n",
       "    </tr>\n",
       "    <tr>\n",
       "      <th>1</th>\n",
       "      <td>14911</td>\n",
       "      <td>31.26</td>\n",
       "      <td>4.76</td>\n",
       "      <td>27.40</td>\n",
       "      <td>29.60</td>\n",
       "      <td>-0.076667</td>\n",
       "      <td>-0.060000</td>\n",
       "      <td>49.57</td>\n",
       "      <td>3.63</td>\n",
       "      <td>44.06</td>\n",
       "      <td>...</td>\n",
       "      <td>356.218261</td>\n",
       "      <td>357.305652</td>\n",
       "      <td>17.479130</td>\n",
       "      <td>27.650435</td>\n",
       "      <td>4163.608696</td>\n",
       "      <td>34.818182</td>\n",
       "      <td>45.129565</td>\n",
       "      <td>2021-04-01</td>\n",
       "      <td>2019-09-13</td>\n",
       "      <td>566.0</td>\n",
       "    </tr>\n",
       "    <tr>\n",
       "      <th>2</th>\n",
       "      <td>48386</td>\n",
       "      <td>30.08</td>\n",
       "      <td>5.07</td>\n",
       "      <td>4.76</td>\n",
       "      <td>4.74</td>\n",
       "      <td>0.013333</td>\n",
       "      <td>-0.016667</td>\n",
       "      <td>52.96</td>\n",
       "      <td>5.16</td>\n",
       "      <td>4.05</td>\n",
       "      <td>...</td>\n",
       "      <td>368.532667</td>\n",
       "      <td>366.844667</td>\n",
       "      <td>11.361333</td>\n",
       "      <td>16.739333</td>\n",
       "      <td>4176.133333</td>\n",
       "      <td>15.888889</td>\n",
       "      <td>28.100667</td>\n",
       "      <td>2021-04-01</td>\n",
       "      <td>2019-10-10</td>\n",
       "      <td>539.0</td>\n",
       "    </tr>\n",
       "    <tr>\n",
       "      <th>3</th>\n",
       "      <td>18822</td>\n",
       "      <td>33.31</td>\n",
       "      <td>32.79</td>\n",
       "      <td>5.09</td>\n",
       "      <td>4.96</td>\n",
       "      <td>0.000000</td>\n",
       "      <td>0.003333</td>\n",
       "      <td>49.26</td>\n",
       "      <td>68.54</td>\n",
       "      <td>5.83</td>\n",
       "      <td>...</td>\n",
       "      <td>352.899375</td>\n",
       "      <td>352.595000</td>\n",
       "      <td>17.168750</td>\n",
       "      <td>27.460625</td>\n",
       "      <td>4159.875000</td>\n",
       "      <td>12.750000</td>\n",
       "      <td>44.629375</td>\n",
       "      <td>2021-04-01</td>\n",
       "      <td>2019-10-13</td>\n",
       "      <td>536.0</td>\n",
       "    </tr>\n",
       "    <tr>\n",
       "      <th>4</th>\n",
       "      <td>49810</td>\n",
       "      <td>4.44</td>\n",
       "      <td>30.03</td>\n",
       "      <td>5.57</td>\n",
       "      <td>5.02</td>\n",
       "      <td>-0.200000</td>\n",
       "      <td>-0.030000</td>\n",
       "      <td>4.16</td>\n",
       "      <td>54.80</td>\n",
       "      <td>4.52</td>\n",
       "      <td>...</td>\n",
       "      <td>363.912800</td>\n",
       "      <td>365.208400</td>\n",
       "      <td>14.860000</td>\n",
       "      <td>23.980800</td>\n",
       "      <td>4168.400000</td>\n",
       "      <td>7.500000</td>\n",
       "      <td>38.840800</td>\n",
       "      <td>2021-04-01</td>\n",
       "      <td>2019-10-19</td>\n",
       "      <td>530.0</td>\n",
       "    </tr>\n",
       "  </tbody>\n",
       "</table>\n",
       "<p>5 rows × 55 columns</p>\n",
       "</div>"
      ],
      "text/plain": [
       "   deviceid  avg_time_charging_lag1  avg_time_charging_lag2  \\\n",
       "0     42979                   35.56                    4.31   \n",
       "1     14911                   31.26                    4.76   \n",
       "2     48386                   30.08                    5.07   \n",
       "3     18822                   33.31                   32.79   \n",
       "4     49810                    4.44                   30.03   \n",
       "\n",
       "   avg_time_charging_lag3  avg_time_charging_lag7  charging_rate_lag3  \\\n",
       "0                    5.07                    4.60           -0.033333   \n",
       "1                   27.40                   29.60           -0.076667   \n",
       "2                    4.76                    4.74            0.013333   \n",
       "3                    5.09                    4.96            0.000000   \n",
       "4                    5.57                    5.02           -0.200000   \n",
       "\n",
       "   charging_rate_lag7  avg_time_discharging_lag1  avg_time_discharging_lag2  \\\n",
       "0            0.040000                      66.29                       3.77   \n",
       "1           -0.060000                      49.57                       3.63   \n",
       "2           -0.016667                      52.96                       5.16   \n",
       "3            0.003333                      49.26                      68.54   \n",
       "4           -0.030000                       4.16                      54.80   \n",
       "\n",
       "   avg_time_discharging_lag3  ...  avg_volt_change_charging  \\\n",
       "0                       4.07  ...                346.301200   \n",
       "1                      44.06  ...                356.218261   \n",
       "2                       4.05  ...                368.532667   \n",
       "3                       5.83  ...                352.899375   \n",
       "4                       4.52  ...                363.912800   \n",
       "\n",
       "   avg_volt_change_discharging  avg_time_charging  avg_time_discharging  \\\n",
       "0                   345.379600          17.481600             27.721600   \n",
       "1                   357.305652          17.479130             27.650435   \n",
       "2                   366.844667          11.361333             16.739333   \n",
       "3                   352.595000          17.168750             27.460625   \n",
       "4                   365.208400          14.860000             23.980800   \n",
       "\n",
       "   max_voltage_day  piececount  cycle_time  LastRecord  Date Deployed  \\\n",
       "0      4159.000000   12.437500   45.203200  2021-04-01     2019-09-08   \n",
       "1      4163.608696   34.818182   45.129565  2021-04-01     2019-09-13   \n",
       "2      4176.133333   15.888889   28.100667  2021-04-01     2019-10-10   \n",
       "3      4159.875000   12.750000   44.629375  2021-04-01     2019-10-13   \n",
       "4      4168.400000    7.500000   38.840800  2021-04-01     2019-10-19   \n",
       "\n",
       "   DaysInService  \n",
       "0          571.0  \n",
       "1          566.0  \n",
       "2          539.0  \n",
       "3          536.0  \n",
       "4          530.0  \n",
       "\n",
       "[5 rows x 55 columns]"
      ]
     },
     "execution_count": 15,
     "metadata": {},
     "output_type": "execute_result"
    }
   ],
   "source": [
    "ts.info()\n",
    "ts.head()"
   ]
  },
  {
   "cell_type": "markdown",
   "metadata": {
    "id": "O3V4-Z_9Nny4"
   },
   "source": [
    "### Get Info and Head (Train)"
   ]
  },
  {
   "cell_type": "code",
   "execution_count": 16,
   "metadata": {
    "id": "eF68pJIHNny4",
    "scrolled": true
   },
   "outputs": [],
   "source": [
    "#tr.info()\n",
    "#tr.head()"
   ]
  },
  {
   "cell_type": "markdown",
   "metadata": {
    "id": "MFuh2ngHNny4"
   },
   "source": [
    "### Count Null Values (Test)\n",
    "#### *Keep nulls above to observe progressive linearity."
   ]
  },
  {
   "cell_type": "code",
   "execution_count": 17,
   "metadata": {
    "id": "dUaiHBUGNny4",
    "outputId": "79029ad8-a51f-46ab-cc7c-92481cf9c37b",
    "scrolled": true
   },
   "outputs": [
    {
     "data": {
      "text/plain": [
       "deviceid                       0\n",
       "avg_time_charging_lag1         0\n",
       "avg_time_charging_lag2         0\n",
       "avg_time_charging_lag3         0\n",
       "avg_time_charging_lag7         0\n",
       "charging_rate_lag3             0\n",
       "charging_rate_lag7             0\n",
       "avg_time_discharging_lag1      0\n",
       "avg_time_discharging_lag2      0\n",
       "avg_time_discharging_lag3      0\n",
       "avg_time_discharging_lag7      0\n",
       "discharging_rate_lag3          0\n",
       "discharging_rate_lag7          0\n",
       "charge_cycle_time_below_12     0\n",
       "avg_time_charging_lag4         0\n",
       "avg_time_discharging_lag4      0\n",
       "avg_time_charging_lag5         0\n",
       "avg_time_discharging_lag5      0\n",
       "avg_time_charging_lag6         0\n",
       "avg_time_discharging_lag6      0\n",
       "avg_time_charging_lag8         0\n",
       "avg_time_discharging_lag8      0\n",
       "avg_time_charging_lag9         0\n",
       "avg_time_discharging_lag9      0\n",
       "avg_time_charging_lag10        0\n",
       "avg_time_discharging_lag10     0\n",
       "avg_time_charging_lag11        0\n",
       "avg_time_discharging_lag11     0\n",
       "avg_time_charging_lag12        0\n",
       "avg_time_discharging_lag12     0\n",
       "avg_time_charging_lag13        0\n",
       "avg_time_discharging_lag13     0\n",
       "avg_time_charging_lag14        0\n",
       "avg_time_discharging_lag14     0\n",
       "discharging_rate_lag4          0\n",
       "discharging_rate_lag5          0\n",
       "discharging_rate_lag6          0\n",
       "discharging_rate_lag8          0\n",
       "charging_rate_lag4             0\n",
       "charging_rate_lag5             0\n",
       "charging_rate_lag6             0\n",
       "chargecycles                   0\n",
       "dischargecycles                0\n",
       "total_off_time                 0\n",
       "number_times_restart           0\n",
       "avg_volt_change_charging       0\n",
       "avg_volt_change_discharging    0\n",
       "avg_time_charging              0\n",
       "avg_time_discharging           0\n",
       "max_voltage_day                0\n",
       "piececount                     0\n",
       "cycle_time                     0\n",
       "LastRecord                     0\n",
       "Date Deployed                  0\n",
       "DaysInService                  0\n",
       "dtype: int64"
      ]
     },
     "execution_count": 17,
     "metadata": {},
     "output_type": "execute_result"
    }
   ],
   "source": [
    "ts.isnull().sum()"
   ]
  },
  {
   "cell_type": "markdown",
   "metadata": {
    "id": "JssLmEppNny5"
   },
   "source": [
    "### Count Null Values (Train)\n",
    "#### *Keep nulls above to observe progressive linearity."
   ]
  },
  {
   "cell_type": "code",
   "execution_count": 18,
   "metadata": {
    "id": "J2irujYTNny5",
    "scrolled": true
   },
   "outputs": [],
   "source": [
    "#tr.isnull().sum()"
   ]
  },
  {
   "cell_type": "markdown",
   "metadata": {
    "id": "leE5Q1HcNny5"
   },
   "source": [
    "### Plot Distributions of DataFrame Columns\n",
    "#### *no plot for \"deviceid\" (irrelevant) or \"charge_cycle_time_below_12\" (bool)\n",
    "#### **uncomment to run"
   ]
  },
  {
   "cell_type": "code",
   "execution_count": 19,
   "metadata": {
    "id": "4kWi4_WdNny6",
    "outputId": "c002d3b2-f96f-413d-e998-67836d624605"
   },
   "outputs": [
    {
     "data": {
      "text/plain": [
       "'\\nfor col in ts.columns[1:]:\\n    if col != \"charge_cycle_time_below_12\":\\n        hist = ts[col].hist(bins=10)\\n        print(\"Plot for column \"{}\"\".format(col))\\n        plt.show()\\n'"
      ]
     },
     "execution_count": 19,
     "metadata": {},
     "output_type": "execute_result"
    }
   ],
   "source": [
    "\"\"\"\n",
    "for col in ts.columns[1:]:\n",
    "    if col != \"charge_cycle_time_below_12\":\n",
    "        hist = ts[col].hist(bins=10)\n",
    "        print(\"Plot for column \\\"{}\\\"\".format(col))\n",
    "        plt.show()\n",
    "\"\"\""
   ]
  },
  {
   "cell_type": "markdown",
   "metadata": {
    "id": "1WqsyB0xNny6"
   },
   "source": [
    "### Create New DataFrame, Removing Columns Without Outliers"
   ]
  },
  {
   "cell_type": "code",
   "execution_count": 20,
   "metadata": {
    "id": "OTRWeXONNny6",
    "scrolled": true
   },
   "outputs": [],
   "source": [
    "columns = [column for column in ts.columns if ts[column].dtype == \"float64\"]\n",
    "tsno = ts[columns]"
   ]
  },
  {
   "cell_type": "markdown",
   "metadata": {
    "id": "HCHBxOcdNny6"
   },
   "source": [
    "### Convert Outliers by Quantile to Null in New DataFrame.  Run Info and Head."
   ]
  },
  {
   "cell_type": "code",
   "execution_count": 21,
   "metadata": {
    "id": "rTp4CxVqNny7",
    "outputId": "e5b68082-5ac6-41ca-ae50-b1ac118a58c3",
    "scrolled": true
   },
   "outputs": [
    {
     "name": "stdout",
     "output_type": "stream",
     "text": [
      "<class 'pandas.core.frame.DataFrame'>\n",
      "RangeIndex: 4500 entries, 0 to 4499\n",
      "Data columns (total 51 columns):\n",
      " #   Column                       Non-Null Count  Dtype  \n",
      "---  ------                       --------------  -----  \n",
      " 0   avg_time_charging_lag1       4407 non-null   float64\n",
      " 1   avg_time_charging_lag2       4407 non-null   float64\n",
      " 2   avg_time_charging_lag3       4402 non-null   float64\n",
      " 3   avg_time_charging_lag7       4407 non-null   float64\n",
      " 4   charging_rate_lag3           4409 non-null   float64\n",
      " 5   charging_rate_lag7           4410 non-null   float64\n",
      " 6   avg_time_discharging_lag1    4410 non-null   float64\n",
      " 7   avg_time_discharging_lag2    4410 non-null   float64\n",
      " 8   avg_time_discharging_lag3    4410 non-null   float64\n",
      " 9   avg_time_discharging_lag7    4410 non-null   float64\n",
      " 10  discharging_rate_lag3        4410 non-null   float64\n",
      " 11  discharging_rate_lag7        4410 non-null   float64\n",
      " 12  avg_time_charging_lag4       4397 non-null   float64\n",
      " 13  avg_time_discharging_lag4    4408 non-null   float64\n",
      " 14  avg_time_charging_lag5       4404 non-null   float64\n",
      " 15  avg_time_discharging_lag5    4407 non-null   float64\n",
      " 16  avg_time_charging_lag6       4403 non-null   float64\n",
      " 17  avg_time_discharging_lag6    4406 non-null   float64\n",
      " 18  avg_time_charging_lag8       4409 non-null   float64\n",
      " 19  avg_time_discharging_lag8    4410 non-null   float64\n",
      " 20  avg_time_charging_lag9       4410 non-null   float64\n",
      " 21  avg_time_discharging_lag9    4410 non-null   float64\n",
      " 22  avg_time_charging_lag10      4352 non-null   float64\n",
      " 23  avg_time_discharging_lag10   4352 non-null   float64\n",
      " 24  avg_time_charging_lag11      4273 non-null   float64\n",
      " 25  avg_time_discharging_lag11   4273 non-null   float64\n",
      " 26  avg_time_charging_lag12      4133 non-null   float64\n",
      " 27  avg_time_discharging_lag12   4133 non-null   float64\n",
      " 28  avg_time_charging_lag13      3927 non-null   float64\n",
      " 29  avg_time_discharging_lag13   3927 non-null   float64\n",
      " 30  avg_time_charging_lag14      3668 non-null   float64\n",
      " 31  avg_time_discharging_lag14   3668 non-null   float64\n",
      " 32  discharging_rate_lag4        4410 non-null   float64\n",
      " 33  discharging_rate_lag5        4410 non-null   float64\n",
      " 34  discharging_rate_lag6        4410 non-null   float64\n",
      " 35  discharging_rate_lag8        4410 non-null   float64\n",
      " 36  charging_rate_lag4           4410 non-null   float64\n",
      " 37  charging_rate_lag5           4410 non-null   float64\n",
      " 38  charging_rate_lag6           4409 non-null   float64\n",
      " 39  chargecycles                 4410 non-null   float64\n",
      " 40  dischargecycles              4410 non-null   float64\n",
      " 41  total_off_time               4344 non-null   float64\n",
      " 42  number_times_restart         4410 non-null   float64\n",
      " 43  avg_volt_change_charging     4410 non-null   float64\n",
      " 44  avg_volt_change_discharging  4410 non-null   float64\n",
      " 45  avg_time_charging            4410 non-null   float64\n",
      " 46  avg_time_discharging         4410 non-null   float64\n",
      " 47  max_voltage_day              4409 non-null   float64\n",
      " 48  piececount                   4410 non-null   float64\n",
      " 49  cycle_time                   4410 non-null   float64\n",
      " 50  DaysInService                4402 non-null   float64\n",
      "dtypes: float64(51)\n",
      "memory usage: 1.8 MB\n"
     ]
    },
    {
     "data": {
      "text/html": [
       "<div>\n",
       "<style scoped>\n",
       "    .dataframe tbody tr th:only-of-type {\n",
       "        vertical-align: middle;\n",
       "    }\n",
       "\n",
       "    .dataframe tbody tr th {\n",
       "        vertical-align: top;\n",
       "    }\n",
       "\n",
       "    .dataframe thead th {\n",
       "        text-align: right;\n",
       "    }\n",
       "</style>\n",
       "<table border=\"1\" class=\"dataframe\">\n",
       "  <thead>\n",
       "    <tr style=\"text-align: right;\">\n",
       "      <th></th>\n",
       "      <th>avg_time_charging_lag1</th>\n",
       "      <th>avg_time_charging_lag2</th>\n",
       "      <th>avg_time_charging_lag3</th>\n",
       "      <th>avg_time_charging_lag7</th>\n",
       "      <th>charging_rate_lag3</th>\n",
       "      <th>charging_rate_lag7</th>\n",
       "      <th>avg_time_discharging_lag1</th>\n",
       "      <th>avg_time_discharging_lag2</th>\n",
       "      <th>avg_time_discharging_lag3</th>\n",
       "      <th>avg_time_discharging_lag7</th>\n",
       "      <th>...</th>\n",
       "      <th>total_off_time</th>\n",
       "      <th>number_times_restart</th>\n",
       "      <th>avg_volt_change_charging</th>\n",
       "      <th>avg_volt_change_discharging</th>\n",
       "      <th>avg_time_charging</th>\n",
       "      <th>avg_time_discharging</th>\n",
       "      <th>max_voltage_day</th>\n",
       "      <th>piececount</th>\n",
       "      <th>cycle_time</th>\n",
       "      <th>DaysInService</th>\n",
       "    </tr>\n",
       "  </thead>\n",
       "  <tbody>\n",
       "    <tr>\n",
       "      <th>0</th>\n",
       "      <td>35.56</td>\n",
       "      <td>NaN</td>\n",
       "      <td>5.07</td>\n",
       "      <td>4.60</td>\n",
       "      <td>-0.033333</td>\n",
       "      <td>0.040000</td>\n",
       "      <td>66.29</td>\n",
       "      <td>3.77</td>\n",
       "      <td>4.07</td>\n",
       "      <td>3.83</td>\n",
       "      <td>...</td>\n",
       "      <td>47.840000</td>\n",
       "      <td>3.640000</td>\n",
       "      <td>346.301200</td>\n",
       "      <td>345.379600</td>\n",
       "      <td>17.481600</td>\n",
       "      <td>27.721600</td>\n",
       "      <td>4159.000000</td>\n",
       "      <td>12.437500</td>\n",
       "      <td>45.203200</td>\n",
       "      <td>571.0</td>\n",
       "    </tr>\n",
       "    <tr>\n",
       "      <th>1</th>\n",
       "      <td>31.26</td>\n",
       "      <td>4.76</td>\n",
       "      <td>27.40</td>\n",
       "      <td>29.60</td>\n",
       "      <td>-0.076667</td>\n",
       "      <td>-0.060000</td>\n",
       "      <td>49.57</td>\n",
       "      <td>3.63</td>\n",
       "      <td>44.06</td>\n",
       "      <td>40.74</td>\n",
       "      <td>...</td>\n",
       "      <td>24.173913</td>\n",
       "      <td>2.826087</td>\n",
       "      <td>356.218261</td>\n",
       "      <td>357.305652</td>\n",
       "      <td>17.479130</td>\n",
       "      <td>27.650435</td>\n",
       "      <td>4163.608696</td>\n",
       "      <td>34.818182</td>\n",
       "      <td>45.129565</td>\n",
       "      <td>566.0</td>\n",
       "    </tr>\n",
       "    <tr>\n",
       "      <th>2</th>\n",
       "      <td>30.08</td>\n",
       "      <td>5.07</td>\n",
       "      <td>4.76</td>\n",
       "      <td>4.74</td>\n",
       "      <td>0.013333</td>\n",
       "      <td>-0.016667</td>\n",
       "      <td>52.96</td>\n",
       "      <td>5.16</td>\n",
       "      <td>4.05</td>\n",
       "      <td>4.22</td>\n",
       "      <td>...</td>\n",
       "      <td>10.333333</td>\n",
       "      <td>1.266667</td>\n",
       "      <td>368.532667</td>\n",
       "      <td>366.844667</td>\n",
       "      <td>11.361333</td>\n",
       "      <td>16.739333</td>\n",
       "      <td>4176.133333</td>\n",
       "      <td>15.888889</td>\n",
       "      <td>28.100667</td>\n",
       "      <td>539.0</td>\n",
       "    </tr>\n",
       "    <tr>\n",
       "      <th>3</th>\n",
       "      <td>33.31</td>\n",
       "      <td>32.79</td>\n",
       "      <td>5.09</td>\n",
       "      <td>4.96</td>\n",
       "      <td>0.000000</td>\n",
       "      <td>0.003333</td>\n",
       "      <td>49.26</td>\n",
       "      <td>68.54</td>\n",
       "      <td>5.83</td>\n",
       "      <td>4.78</td>\n",
       "      <td>...</td>\n",
       "      <td>16.625000</td>\n",
       "      <td>0.937500</td>\n",
       "      <td>352.899375</td>\n",
       "      <td>352.595000</td>\n",
       "      <td>17.168750</td>\n",
       "      <td>27.460625</td>\n",
       "      <td>4159.875000</td>\n",
       "      <td>12.750000</td>\n",
       "      <td>44.629375</td>\n",
       "      <td>536.0</td>\n",
       "    </tr>\n",
       "    <tr>\n",
       "      <th>4</th>\n",
       "      <td>4.44</td>\n",
       "      <td>30.03</td>\n",
       "      <td>5.57</td>\n",
       "      <td>5.02</td>\n",
       "      <td>-0.200000</td>\n",
       "      <td>-0.030000</td>\n",
       "      <td>4.16</td>\n",
       "      <td>54.80</td>\n",
       "      <td>4.52</td>\n",
       "      <td>4.62</td>\n",
       "      <td>...</td>\n",
       "      <td>1.000000</td>\n",
       "      <td>1.200000</td>\n",
       "      <td>363.912800</td>\n",
       "      <td>365.208400</td>\n",
       "      <td>14.860000</td>\n",
       "      <td>23.980800</td>\n",
       "      <td>4168.400000</td>\n",
       "      <td>7.500000</td>\n",
       "      <td>38.840800</td>\n",
       "      <td>530.0</td>\n",
       "    </tr>\n",
       "  </tbody>\n",
       "</table>\n",
       "<p>5 rows × 51 columns</p>\n",
       "</div>"
      ],
      "text/plain": [
       "   avg_time_charging_lag1  avg_time_charging_lag2  avg_time_charging_lag3  \\\n",
       "0                   35.56                     NaN                    5.07   \n",
       "1                   31.26                    4.76                   27.40   \n",
       "2                   30.08                    5.07                    4.76   \n",
       "3                   33.31                   32.79                    5.09   \n",
       "4                    4.44                   30.03                    5.57   \n",
       "\n",
       "   avg_time_charging_lag7  charging_rate_lag3  charging_rate_lag7  \\\n",
       "0                    4.60           -0.033333            0.040000   \n",
       "1                   29.60           -0.076667           -0.060000   \n",
       "2                    4.74            0.013333           -0.016667   \n",
       "3                    4.96            0.000000            0.003333   \n",
       "4                    5.02           -0.200000           -0.030000   \n",
       "\n",
       "   avg_time_discharging_lag1  avg_time_discharging_lag2  \\\n",
       "0                      66.29                       3.77   \n",
       "1                      49.57                       3.63   \n",
       "2                      52.96                       5.16   \n",
       "3                      49.26                      68.54   \n",
       "4                       4.16                      54.80   \n",
       "\n",
       "   avg_time_discharging_lag3  avg_time_discharging_lag7  ...  total_off_time  \\\n",
       "0                       4.07                       3.83  ...       47.840000   \n",
       "1                      44.06                      40.74  ...       24.173913   \n",
       "2                       4.05                       4.22  ...       10.333333   \n",
       "3                       5.83                       4.78  ...       16.625000   \n",
       "4                       4.52                       4.62  ...        1.000000   \n",
       "\n",
       "   number_times_restart  avg_volt_change_charging  \\\n",
       "0              3.640000                346.301200   \n",
       "1              2.826087                356.218261   \n",
       "2              1.266667                368.532667   \n",
       "3              0.937500                352.899375   \n",
       "4              1.200000                363.912800   \n",
       "\n",
       "   avg_volt_change_discharging  avg_time_charging  avg_time_discharging  \\\n",
       "0                   345.379600          17.481600             27.721600   \n",
       "1                   357.305652          17.479130             27.650435   \n",
       "2                   366.844667          11.361333             16.739333   \n",
       "3                   352.595000          17.168750             27.460625   \n",
       "4                   365.208400          14.860000             23.980800   \n",
       "\n",
       "   max_voltage_day  piececount  cycle_time  DaysInService  \n",
       "0      4159.000000   12.437500   45.203200          571.0  \n",
       "1      4163.608696   34.818182   45.129565          566.0  \n",
       "2      4176.133333   15.888889   28.100667          539.0  \n",
       "3      4159.875000   12.750000   44.629375          536.0  \n",
       "4      4168.400000    7.500000   38.840800          530.0  \n",
       "\n",
       "[5 rows x 51 columns]"
      ]
     },
     "execution_count": 21,
     "metadata": {},
     "output_type": "execute_result"
    }
   ],
   "source": [
    "q_low = tsno[columns].quantile(0.01)\n",
    "q_hi  = tsno[columns].quantile(0.99)\n",
    "\n",
    "tsno_o = tsno[(tsno[columns] < q_hi) & (tsno[columns] > q_low)]\n",
    "\n",
    "tsno_o.info()\n",
    "tsno_o.head()"
   ]
  },
  {
   "cell_type": "markdown",
   "metadata": {
    "id": "mX3RZLfyNny7"
   },
   "source": [
    "### Count New Null *Outlier Values (Test No Outliers *tsno)"
   ]
  },
  {
   "cell_type": "code",
   "execution_count": 22,
   "metadata": {
    "id": "8mWOFIKENny7",
    "outputId": "0aa46004-bc44-444a-e71f-7e1705ce2162",
    "scrolled": true
   },
   "outputs": [
    {
     "data": {
      "text/plain": [
       "avg_time_charging_lag1          93\n",
       "avg_time_charging_lag2          93\n",
       "avg_time_charging_lag3          98\n",
       "avg_time_charging_lag7          93\n",
       "charging_rate_lag3              91\n",
       "charging_rate_lag7              90\n",
       "avg_time_discharging_lag1       90\n",
       "avg_time_discharging_lag2       90\n",
       "avg_time_discharging_lag3       90\n",
       "avg_time_discharging_lag7       90\n",
       "discharging_rate_lag3           90\n",
       "discharging_rate_lag7           90\n",
       "avg_time_charging_lag4         103\n",
       "avg_time_discharging_lag4       92\n",
       "avg_time_charging_lag5          96\n",
       "avg_time_discharging_lag5       93\n",
       "avg_time_charging_lag6          97\n",
       "avg_time_discharging_lag6       94\n",
       "avg_time_charging_lag8          91\n",
       "avg_time_discharging_lag8       90\n",
       "avg_time_charging_lag9          90\n",
       "avg_time_discharging_lag9       90\n",
       "avg_time_charging_lag10        148\n",
       "avg_time_discharging_lag10     148\n",
       "avg_time_charging_lag11        227\n",
       "avg_time_discharging_lag11     227\n",
       "avg_time_charging_lag12        367\n",
       "avg_time_discharging_lag12     367\n",
       "avg_time_charging_lag13        573\n",
       "avg_time_discharging_lag13     573\n",
       "avg_time_charging_lag14        832\n",
       "avg_time_discharging_lag14     832\n",
       "discharging_rate_lag4           90\n",
       "discharging_rate_lag5           90\n",
       "discharging_rate_lag6           90\n",
       "discharging_rate_lag8           90\n",
       "charging_rate_lag4              90\n",
       "charging_rate_lag5              90\n",
       "charging_rate_lag6              91\n",
       "chargecycles                    90\n",
       "dischargecycles                 90\n",
       "total_off_time                 156\n",
       "number_times_restart            90\n",
       "avg_volt_change_charging        90\n",
       "avg_volt_change_discharging     90\n",
       "avg_time_charging               90\n",
       "avg_time_discharging            90\n",
       "max_voltage_day                 91\n",
       "piececount                      90\n",
       "cycle_time                      90\n",
       "DaysInService                   98\n",
       "dtype: int64"
      ]
     },
     "execution_count": 22,
     "metadata": {},
     "output_type": "execute_result"
    }
   ],
   "source": [
    "tsno_o.isnull().sum()"
   ]
  },
  {
   "cell_type": "markdown",
   "metadata": {
    "id": "T0OTLXCHNny7"
   },
   "source": [
    "### Plot New DataFrame"
   ]
  },
  {
   "cell_type": "code",
   "execution_count": 23,
   "metadata": {
    "id": "i10kRg6SNny8",
    "outputId": "38c1461b-4057-4756-8465-5bb269361c1d"
   },
   "outputs": [
    {
     "name": "stdout",
     "output_type": "stream",
     "text": [
      "Plot for column \"avg_time_charging_lag1\"\n"
     ]
    },
    {
     "data": {
      "image/png": "[encoded data removed]",
      "text/plain": [
       "<Figure size 432x288 with 1 Axes>"
      ]
     },
     "metadata": {
      "needs_background": "light"
     },
     "output_type": "display_data"
    },
    {
     "name": "stdout",
     "output_type": "stream",
     "text": [
      "Plot for column \"avg_time_charging_lag2\"\n"
     ]
    },
    {
     "data": {
      "image/png": "[encoded data removed]",
      "text/plain": [
       "<Figure size 432x288 with 1 Axes>"
      ]
     },
     "metadata": {
      "needs_background": "light"
     },
     "output_type": "display_data"
    },
    {
     "name": "stdout",
     "output_type": "stream",
     "text": [
      "Plot for column \"avg_time_charging_lag3\"\n"
     ]
    },
    {
     "data": {
      "image/png": "[encoded data removed]",
      "text/plain": [
       "<Figure size 432x288 with 1 Axes>"
      ]
     },
     "metadata": {
      "needs_background": "light"
     },
     "output_type": "display_data"
    },
    {
     "name": "stdout",
     "output_type": "stream",
     "text": [
      "Plot for column \"avg_time_charging_lag7\"\n"
     ]
    },
    {
     "data": {
      "image/png": "[encoded data removed]",
      "text/plain": [
       "<Figure size 432x288 with 1 Axes>"
      ]
     },
     "metadata": {
      "needs_background": "light"
     },
     "output_type": "display_data"
    },
    {
     "name": "stdout",
     "output_type": "stream",
     "text": [
      "Plot for column \"charging_rate_lag3\"\n"
     ]
    },
    {
     "data": {
      "image/png": "[encoded data removed]",
      "text/plain": [
       "<Figure size 432x288 with 1 Axes>"
      ]
     },
     "metadata": {
      "needs_background": "light"
     },
     "output_type": "display_data"
    },
    {
     "name": "stdout",
     "output_type": "stream",
     "text": [
      "Plot for column \"charging_rate_lag7\"\n"
     ]
    },
    {
     "data": {
      "image/png": "[encoded data removed]",
      "text/plain": [
       "<Figure size 432x288 with 1 Axes>"
      ]
     },
     "metadata": {
      "needs_background": "light"
     },
     "output_type": "display_data"
    },
    {
     "name": "stdout",
     "output_type": "stream",
     "text": [
      "Plot for column \"avg_time_discharging_lag1\"\n"
     ]
    },
    {
     "data": {
      "image/png": "[encoded data removed]",
      "text/plain": [
       "<Figure size 432x288 with 1 Axes>"
      ]
     },
     "metadata": {
      "needs_background": "light"
     },
     "output_type": "display_data"
    },
    {
     "name": "stdout",
     "output_type": "stream",
     "text": [
      "Plot for column \"avg_time_discharging_lag2\"\n"
     ]
    },
    {
     "data": {
      "image/png": "[encoded data removed]",
      "text/plain": [
       "<Figure size 432x288 with 1 Axes>"
      ]
     },
     "metadata": {
      "needs_background": "light"
     },
     "output_type": "display_data"
    },
    {
     "name": "stdout",
     "output_type": "stream",
     "text": [
      "Plot for column \"avg_time_discharging_lag3\"\n"
     ]
    },
    {
     "data": {
      "image/png": "[encoded data removed]",
      "text/plain": [
       "<Figure size 432x288 with 1 Axes>"
      ]
     },
     "metadata": {
      "needs_background": "light"
     },
     "output_type": "display_data"
    },
    {
     "name": "stdout",
     "output_type": "stream",
     "text": [
      "Plot for column \"avg_time_discharging_lag7\"\n"
     ]
    },
    {
     "data": {
      "image/png": "[encoded data removed]",
      "text/plain": [
       "<Figure size 432x288 with 1 Axes>"
      ]
     },
     "metadata": {
      "needs_background": "light"
     },
     "output_type": "display_data"
    },
    {
     "name": "stdout",
     "output_type": "stream",
     "text": [
      "Plot for column \"discharging_rate_lag3\"\n"
     ]
    },
    {
     "data": {
      "image/png": "[encoded data removed]",
      "text/plain": [
       "<Figure size 432x288 with 1 Axes>"
      ]
     },
     "metadata": {
      "needs_background": "light"
     },
     "output_type": "display_data"
    },
    {
     "name": "stdout",
     "output_type": "stream",
     "text": [
      "Plot for column \"discharging_rate_lag7\"\n"
     ]
    },
    {
     "data": {
      "image/png": "[encoded data removed]",
      "text/plain": [
       "<Figure size 432x288 with 1 Axes>"
      ]
     },
     "metadata": {
      "needs_background": "light"
     },
     "output_type": "display_data"
    },
    {
     "name": "stdout",
     "output_type": "stream",
     "text": [
      "Plot for column \"avg_time_charging_lag4\"\n"
     ]
    },
    {
     "data": {
      "image/png": "[encoded data removed]",
      "text/plain": [
       "<Figure size 432x288 with 1 Axes>"
      ]
     },
     "metadata": {
      "needs_background": "light"
     },
     "output_type": "display_data"
    },
    {
     "name": "stdout",
     "output_type": "stream",
     "text": [
      "Plot for column \"avg_time_discharging_lag4\"\n"
     ]
    },
    {
     "data": {
      "image/png": "[encoded data removed]",
      "text/plain": [
       "<Figure size 432x288 with 1 Axes>"
      ]
     },
     "metadata": {
      "needs_background": "light"
     },
     "output_type": "display_data"
    },
    {
     "name": "stdout",
     "output_type": "stream",
     "text": [
      "Plot for column \"avg_time_charging_lag5\"\n"
     ]
    },
    {
     "data": {
      "image/png": "[encoded data removed]",
      "text/plain": [
       "<Figure size 432x288 with 1 Axes>"
      ]
     },
     "metadata": {
      "needs_background": "light"
     },
     "output_type": "display_data"
    },
    {
     "name": "stdout",
     "output_type": "stream",
     "text": [
      "Plot for column \"avg_time_discharging_lag5\"\n"
     ]
    },
    {
     "data": {
      "image/png": "[encoded data removed]",
      "text/plain": [
       "<Figure size 432x288 with 1 Axes>"
      ]
     },
     "metadata": {
      "needs_background": "light"
     },
     "output_type": "display_data"
    },
    {
     "name": "stdout",
     "output_type": "stream",
     "text": [
      "Plot for column \"avg_time_charging_lag6\"\n"
     ]
    },
    {
     "data": {
      "image/png": "[encoded data removed]",
      "text/plain": [
       "<Figure size 432x288 with 1 Axes>"
      ]
     },
     "metadata": {
      "needs_background": "light"
     },
     "output_type": "display_data"
    },
    {
     "name": "stdout",
     "output_type": "stream",
     "text": [
      "Plot for column \"avg_time_discharging_lag6\"\n"
     ]
    },
    {
     "data": {
      "image/png": "[encoded data removed]",
      "text/plain": [
       "<Figure size 432x288 with 1 Axes>"
      ]
     },
     "metadata": {
      "needs_background": "light"
     },
     "output_type": "display_data"
    },
    {
     "name": "stdout",
     "output_type": "stream",
     "text": [
      "Plot for column \"avg_time_charging_lag8\"\n"
     ]
    },
    {
     "data": {
      "image/png": "[encoded data removed]",
      "text/plain": [
       "<Figure size 432x288 with 1 Axes>"
      ]
     },
     "metadata": {
      "needs_background": "light"
     },
     "output_type": "display_data"
    },
    {
     "name": "stdout",
     "output_type": "stream",
     "text": [
      "Plot for column \"avg_time_discharging_lag8\"\n"
     ]
    },
    {
     "data": {
      "image/png": "[encoded data removed]",
      "text/plain": [
       "<Figure size 432x288 with 1 Axes>"
      ]
     },
     "metadata": {
      "needs_background": "light"
     },
     "output_type": "display_data"
    },
    {
     "name": "stdout",
     "output_type": "stream",
     "text": [
      "Plot for column \"avg_time_charging_lag9\"\n"
     ]
    },
    {
     "data": {
      "image/png": "[encoded data removed]",
      "text/plain": [
       "<Figure size 432x288 with 1 Axes>"
      ]
     },
     "metadata": {
      "needs_background": "light"
     },
     "output_type": "display_data"
    },
    {
     "name": "stdout",
     "output_type": "stream",
     "text": [
      "Plot for column \"avg_time_discharging_lag9\"\n"
     ]
    },
    {
     "data": {
      "image/png": "[encoded data removed]",
      "text/plain": [
       "<Figure size 432x288 with 1 Axes>"
      ]
     },
     "metadata": {
      "needs_background": "light"
     },
     "output_type": "display_data"
    },
    {
     "name": "stdout",
     "output_type": "stream",
     "text": [
      "Plot for column \"avg_time_charging_lag10\"\n"
     ]
    },
    {
     "data": {
      "image/png": "[encoded data removed]",
      "text/plain": [
       "<Figure size 432x288 with 1 Axes>"
      ]
     },
     "metadata": {
      "needs_background": "light"
     },
     "output_type": "display_data"
    },
    {
     "name": "stdout",
     "output_type": "stream",
     "text": [
      "Plot for column \"avg_time_discharging_lag10\"\n"
     ]
    },
    {
     "data": {
      "image/png": "[encoded data removed]",
      "text/plain": [
       "<Figure size 432x288 with 1 Axes>"
      ]
     },
     "metadata": {
      "needs_background": "light"
     },
     "output_type": "display_data"
    },
    {
     "name": "stdout",
     "output_type": "stream",
     "text": [
      "Plot for column \"avg_time_charging_lag11\"\n"
     ]
    },
    {
     "data": {
      "image/png": "[encoded data removed]",
      "text/plain": [
       "<Figure size 432x288 with 1 Axes>"
      ]
     },
     "metadata": {
      "needs_background": "light"
     },
     "output_type": "display_data"
    },
    {
     "name": "stdout",
     "output_type": "stream",
     "text": [
      "Plot for column \"avg_time_discharging_lag11\"\n"
     ]
    },
    {
     "data": {
      "image/png": "[encoded data removed]",
      "text/plain": [
       "<Figure size 432x288 with 1 Axes>"
      ]
     },
     "metadata": {
      "needs_background": "light"
     },
     "output_type": "display_data"
    },
    {
     "name": "stdout",
     "output_type": "stream",
     "text": [
      "Plot for column \"avg_time_charging_lag12\"\n"
     ]
    },
    {
     "data": {
      "image/png": "[encoded data removed]",
      "text/plain": [
       "<Figure size 432x288 with 1 Axes>"
      ]
     },
     "metadata": {
      "needs_background": "light"
     },
     "output_type": "display_data"
    },
    {
     "name": "stdout",
     "output_type": "stream",
     "text": [
      "Plot for column \"avg_time_discharging_lag12\"\n"
     ]
    },
    {
     "data": {
      "image/png": "[encoded data removed]",
      "text/plain": [
       "<Figure size 432x288 with 1 Axes>"
      ]
     },
     "metadata": {
      "needs_background": "light"
     },
     "output_type": "display_data"
    },
    {
     "name": "stdout",
     "output_type": "stream",
     "text": [
      "Plot for column \"avg_time_charging_lag13\"\n"
     ]
    },
    {
     "data": {
      "image/png": "[encoded data removed]",
      "text/plain": [
       "<Figure size 432x288 with 1 Axes>"
      ]
     },
     "metadata": {
      "needs_background": "light"
     },
     "output_type": "display_data"
    },
    {
     "name": "stdout",
     "output_type": "stream",
     "text": [
      "Plot for column \"avg_time_discharging_lag13\"\n"
     ]
    },
    {
     "data": {
      "image/png": "[encoded data removed]",
      "text/plain": [
       "<Figure size 432x288 with 1 Axes>"
      ]
     },
     "metadata": {
      "needs_background": "light"
     },
     "output_type": "display_data"
    },
    {
     "name": "stdout",
     "output_type": "stream",
     "text": [
      "Plot for column \"avg_time_charging_lag14\"\n"
     ]
    },
    {
     "data": {
      "image/png": "[encoded data removed]",
      "text/plain": [
       "<Figure size 432x288 with 1 Axes>"
      ]
     },
     "metadata": {
      "needs_background": "light"
     },
     "output_type": "display_data"
    },
    {
     "name": "stdout",
     "output_type": "stream",
     "text": [
      "Plot for column \"avg_time_discharging_lag14\"\n"
     ]
    },
    {
     "data": {
      "image/png": "[encoded data removed]",
      "text/plain": [
       "<Figure size 432x288 with 1 Axes>"
      ]
     },
     "metadata": {
      "needs_background": "light"
     },
     "output_type": "display_data"
    },
    {
     "name": "stdout",
     "output_type": "stream",
     "text": [
      "Plot for column \"discharging_rate_lag4\"\n"
     ]
    },
    {
     "data": {
      "image/png": "[encoded data removed]",
      "text/plain": [
       "<Figure size 432x288 with 1 Axes>"
      ]
     },
     "metadata": {
      "needs_background": "light"
     },
     "output_type": "display_data"
    },
    {
     "name": "stdout",
     "output_type": "stream",
     "text": [
      "Plot for column \"discharging_rate_lag5\"\n"
     ]
    },
    {
     "data": {
      "image/png": "[encoded data removed]",
      "text/plain": [
       "<Figure size 432x288 with 1 Axes>"
      ]
     },
     "metadata": {
      "needs_background": "light"
     },
     "output_type": "display_data"
    },
    {
     "name": "stdout",
     "output_type": "stream",
     "text": [
      "Plot for column \"discharging_rate_lag6\"\n"
     ]
    },
    {
     "data": {
      "image/png": "[encoded data removed]",
      "text/plain": [
       "<Figure size 432x288 with 1 Axes>"
      ]
     },
     "metadata": {
      "needs_background": "light"
     },
     "output_type": "display_data"
    },
    {
     "name": "stdout",
     "output_type": "stream",
     "text": [
      "Plot for column \"discharging_rate_lag8\"\n"
     ]
    },
    {
     "data": {
      "image/png": "[encoded data removed]",
      "text/plain": [
       "<Figure size 432x288 with 1 Axes>"
      ]
     },
     "metadata": {
      "needs_background": "light"
     },
     "output_type": "display_data"
    },
    {
     "name": "stdout",
     "output_type": "stream",
     "text": [
      "Plot for column \"charging_rate_lag4\"\n"
     ]
    },
    {
     "data": {
      "image/png": "[encoded data removed]",
      "text/plain": [
       "<Figure size 432x288 with 1 Axes>"
      ]
     },
     "metadata": {
      "needs_background": "light"
     },
     "output_type": "display_data"
    },
    {
     "name": "stdout",
     "output_type": "stream",
     "text": [
      "Plot for column \"charging_rate_lag5\"\n"
     ]
    },
    {
     "data": {
      "image/png": "[encoded data removed]",
      "text/plain": [
       "<Figure size 432x288 with 1 Axes>"
      ]
     },
     "metadata": {
      "needs_background": "light"
     },
     "output_type": "display_data"
    },
    {
     "name": "stdout",
     "output_type": "stream",
     "text": [
      "Plot for column \"charging_rate_lag6\"\n"
     ]
    },
    {
     "data": {
      "image/png": "[encoded data removed]",
      "text/plain": [
       "<Figure size 432x288 with 1 Axes>"
      ]
     },
     "metadata": {
      "needs_background": "light"
     },
     "output_type": "display_data"
    },
    {
     "name": "stdout",
     "output_type": "stream",
     "text": [
      "Plot for column \"chargecycles\"\n"
     ]
    },
    {
     "data": {
      "image/png": "[encoded data removed]",
      "text/plain": [
       "<Figure size 432x288 with 1 Axes>"
      ]
     },
     "metadata": {
      "needs_background": "light"
     },
     "output_type": "display_data"
    },
    {
     "name": "stdout",
     "output_type": "stream",
     "text": [
      "Plot for column \"dischargecycles\"\n"
     ]
    },
    {
     "data": {
      "image/png": "[encoded data removed]",
      "text/plain": [
       "<Figure size 432x288 with 1 Axes>"
      ]
     },
     "metadata": {
      "needs_background": "light"
     },
     "output_type": "display_data"
    },
    {
     "name": "stdout",
     "output_type": "stream",
     "text": [
      "Plot for column \"total_off_time\"\n"
     ]
    },
    {
     "data": {
      "image/png": "[encoded data removed]",
      "text/plain": [
       "<Figure size 432x288 with 1 Axes>"
      ]
     },
     "metadata": {
      "needs_background": "light"
     },
     "output_type": "display_data"
    },
    {
     "name": "stdout",
     "output_type": "stream",
     "text": [
      "Plot for column \"number_times_restart\"\n"
     ]
    },
    {
     "data": {
      "image/png": "[encoded data removed]",
      "text/plain": [
       "<Figure size 432x288 with 1 Axes>"
      ]
     },
     "metadata": {
      "needs_background": "light"
     },
     "output_type": "display_data"
    },
    {
     "name": "stdout",
     "output_type": "stream",
     "text": [
      "Plot for column \"avg_volt_change_charging\"\n"
     ]
    },
    {
     "data": {
      "image/png": "[encoded data removed]",
      "text/plain": [
       "<Figure size 432x288 with 1 Axes>"
      ]
     },
     "metadata": {
      "needs_background": "light"
     },
     "output_type": "display_data"
    },
    {
     "name": "stdout",
     "output_type": "stream",
     "text": [
      "Plot for column \"avg_volt_change_discharging\"\n"
     ]
    },
    {
     "data": {
      "image/png": "[encoded data removed]",
      "text/plain": [
       "<Figure size 432x288 with 1 Axes>"
      ]
     },
     "metadata": {
      "needs_background": "light"
     },
     "output_type": "display_data"
    },
    {
     "name": "stdout",
     "output_type": "stream",
     "text": [
      "Plot for column \"avg_time_charging\"\n"
     ]
    },
    {
     "data": {
      "image/png": "[encoded data removed]",
      "text/plain": [
       "<Figure size 432x288 with 1 Axes>"
      ]
     },
     "metadata": {
      "needs_background": "light"
     },
     "output_type": "display_data"
    },
    {
     "name": "stdout",
     "output_type": "stream",
     "text": [
      "Plot for column \"avg_time_discharging\"\n"
     ]
    },
    {
     "data": {
      "image/png": "[encoded data removed]",
      "text/plain": [
       "<Figure size 432x288 with 1 Axes>"
      ]
     },
     "metadata": {
      "needs_background": "light"
     },
     "output_type": "display_data"
    },
    {
     "name": "stdout",
     "output_type": "stream",
     "text": [
      "Plot for column \"max_voltage_day\"\n"
     ]
    },
    {
     "data": {
      "image/png": "[encoded data removed]",
      "text/plain": [
       "<Figure size 432x288 with 1 Axes>"
      ]
     },
     "metadata": {
      "needs_background": "light"
     },
     "output_type": "display_data"
    },
    {
     "name": "stdout",
     "output_type": "stream",
     "text": [
      "Plot for column \"piececount\"\n"
     ]
    },
    {
     "data": {
      "image/png": "[encoded data removed]",
      "text/plain": [
       "<Figure size 432x288 with 1 Axes>"
      ]
     },
     "metadata": {
      "needs_background": "light"
     },
     "output_type": "display_data"
    },
    {
     "name": "stdout",
     "output_type": "stream",
     "text": [
      "Plot for column \"cycle_time\"\n"
     ]
    },
    {
     "data": {
      "image/png": "[encoded data removed]",
      "text/plain": [
       "<Figure size 432x288 with 1 Axes>"
      ]
     },
     "metadata": {
      "needs_background": "light"
     },
     "output_type": "display_data"
    },
    {
     "name": "stdout",
     "output_type": "stream",
     "text": [
      "Plot for column \"DaysInService\"\n"
     ]
    },
    {
     "data": {
      "image/png": "[encoded data removed]",
      "text/plain": [
       "<Figure size 432x288 with 1 Axes>"
      ]
     },
     "metadata": {
      "needs_background": "light"
     },
     "output_type": "display_data"
    }
   ],
   "source": [
    "for col in tsno_o.columns:\n",
    "    hist = tsno_o[col].hist(bins=100)\n",
    "    print(\"Plot for column \\\"{}\\\"\".format(col))\n",
    "    plt.show()"
   ]
  },
  {
   "cell_type": "code",
   "execution_count": 24,
   "metadata": {
    "id": "oXYVhuzkNny8",
    "outputId": "63103400-dac5-4f51-ddda-fe451022fc52"
   },
   "outputs": [
    {
     "data": {
      "text/plain": [
       "deviceid                                int64\n",
       "avg_time_charging_lag1                float64\n",
       "avg_time_charging_lag2                float64\n",
       "avg_time_charging_lag3                float64\n",
       "avg_time_charging_lag7                float64\n",
       "charging_rate_lag3                    float64\n",
       "charging_rate_lag7                    float64\n",
       "avg_time_discharging_lag1             float64\n",
       "avg_time_discharging_lag2             float64\n",
       "avg_time_discharging_lag3             float64\n",
       "avg_time_discharging_lag7             float64\n",
       "discharging_rate_lag3                 float64\n",
       "discharging_rate_lag7                 float64\n",
       "fail_7                                  int64\n",
       "charge_cycle_time_below_12               bool\n",
       "avg_time_charging_lag4                float64\n",
       "avg_time_discharging_lag4             float64\n",
       "avg_time_charging_lag5                float64\n",
       "avg_time_discharging_lag5             float64\n",
       "avg_time_charging_lag6                float64\n",
       "avg_time_discharging_lag6             float64\n",
       "avg_time_charging_lag8                float64\n",
       "avg_time_discharging_lag8             float64\n",
       "avg_time_charging_lag9                float64\n",
       "avg_time_discharging_lag9             float64\n",
       "avg_time_charging_lag10               float64\n",
       "avg_time_discharging_lag10            float64\n",
       "avg_time_charging_lag11               float64\n",
       "avg_time_discharging_lag11            float64\n",
       "avg_time_charging_lag12               float64\n",
       "avg_time_discharging_lag12            float64\n",
       "avg_time_charging_lag13               float64\n",
       "avg_time_discharging_lag13            float64\n",
       "avg_time_charging_lag14               float64\n",
       "avg_time_discharging_lag14            float64\n",
       "discharging_rate_lag4                 float64\n",
       "discharging_rate_lag5                 float64\n",
       "discharging_rate_lag6                 float64\n",
       "discharging_rate_lag8                 float64\n",
       "charging_rate_lag4                    float64\n",
       "charging_rate_lag5                    float64\n",
       "charging_rate_lag6                    float64\n",
       "chargecycles                          float64\n",
       "dischargecycles                       float64\n",
       "total_off_time                        float64\n",
       "number_times_restart                  float64\n",
       "avg_volt_change_charging              float64\n",
       "avg_volt_change_discharging           float64\n",
       "avg_time_charging                     float64\n",
       "avg_time_discharging                  float64\n",
       "max_voltage_day                       float64\n",
       "piececount                            float64\n",
       "cycle_time                            float64\n",
       "LastRecord                     datetime64[ns]\n",
       "Date Deployed                  datetime64[ns]\n",
       "DaysInService                         float64\n",
       "dtype: object"
      ]
     },
     "execution_count": 24,
     "metadata": {},
     "output_type": "execute_result"
    }
   ],
   "source": [
    "tr.dtypes"
   ]
  },
  {
   "cell_type": "code",
   "execution_count": 25,
   "metadata": {
    "id": "du7k7J4PNny8",
    "outputId": "a4d37499-3b5d-47b4-d2c9-4a4c17fbb226"
   },
   "outputs": [
    {
     "data": {
      "text/plain": [
       "Index(['deviceid', 'avg_time_charging_lag1', 'avg_time_charging_lag2',\n",
       "       'avg_time_charging_lag3', 'avg_time_charging_lag7',\n",
       "       'charging_rate_lag3', 'charging_rate_lag7', 'avg_time_discharging_lag1',\n",
       "       'avg_time_discharging_lag2', 'avg_time_discharging_lag3',\n",
       "       'avg_time_discharging_lag7', 'discharging_rate_lag3',\n",
       "       'discharging_rate_lag7', 'fail_7', 'charge_cycle_time_below_12',\n",
       "       'avg_time_charging_lag4', 'avg_time_discharging_lag4',\n",
       "       'avg_time_charging_lag5', 'avg_time_discharging_lag5',\n",
       "       'avg_time_charging_lag6', 'avg_time_discharging_lag6',\n",
       "       'avg_time_charging_lag8', 'avg_time_discharging_lag8',\n",
       "       'avg_time_charging_lag9', 'avg_time_discharging_lag9',\n",
       "       'avg_time_charging_lag10', 'avg_time_discharging_lag10',\n",
       "       'avg_time_charging_lag11', 'avg_time_discharging_lag11',\n",
       "       'avg_time_charging_lag12', 'avg_time_discharging_lag12',\n",
       "       'avg_time_charging_lag13', 'avg_time_discharging_lag13',\n",
       "       'avg_time_charging_lag14', 'avg_time_discharging_lag14',\n",
       "       'discharging_rate_lag4', 'discharging_rate_lag5',\n",
       "       'discharging_rate_lag6', 'discharging_rate_lag8', 'charging_rate_lag4',\n",
       "       'charging_rate_lag5', 'charging_rate_lag6', 'chargecycles',\n",
       "       'dischargecycles', 'total_off_time', 'number_times_restart',\n",
       "       'avg_volt_change_charging', 'avg_volt_change_discharging',\n",
       "       'avg_time_charging', 'avg_time_discharging', 'max_voltage_day',\n",
       "       'piececount', 'cycle_time', 'LastRecord', 'Date Deployed',\n",
       "       'DaysInService'],\n",
       "      dtype='object')"
      ]
     },
     "execution_count": 25,
     "metadata": {},
     "output_type": "execute_result"
    }
   ],
   "source": [
    "tr = pd.get_dummies(tr,drop_first=True,prefix_sep='_') \n",
    "tr.columns"
   ]
  },
  {
   "cell_type": "code",
   "execution_count": 26,
   "metadata": {
    "id": "gBd7XIuvNny9"
   },
   "outputs": [],
   "source": [
    "predictors = ['deviceid', 'avg_time_charging_lag1', 'avg_time_charging_lag2',\n",
    "       'avg_time_charging_lag3', 'avg_time_charging_lag7',\n",
    "       'charging_rate_lag3', 'charging_rate_lag7', 'avg_time_discharging_lag1',\n",
    "       'avg_time_discharging_lag2', 'avg_time_discharging_lag3',\n",
    "       'avg_time_discharging_lag7', 'discharging_rate_lag3',\n",
    "       'discharging_rate_lag7', 'charge_cycle_time_below_12',\n",
    "       'avg_time_charging_lag4', 'avg_time_discharging_lag4',\n",
    "       'avg_time_charging_lag5', 'avg_time_discharging_lag5',\n",
    "       'avg_time_charging_lag6', 'avg_time_discharging_lag6',\n",
    "       'avg_time_charging_lag8', 'avg_time_discharging_lag8',\n",
    "       'avg_time_charging_lag9', 'avg_time_discharging_lag9',\n",
    "       'avg_time_charging_lag10', 'avg_time_discharging_lag10',\n",
    "       'avg_time_charging_lag11', 'avg_time_discharging_lag11',\n",
    "       'avg_time_charging_lag12', 'avg_time_discharging_lag12',\n",
    "       'avg_time_charging_lag13', 'avg_time_discharging_lag13',\n",
    "       'avg_time_charging_lag14', 'avg_time_discharging_lag14',\n",
    "       'discharging_rate_lag4', 'discharging_rate_lag5',\n",
    "       'discharging_rate_lag6', 'discharging_rate_lag8', 'charging_rate_lag4',\n",
    "       'charging_rate_lag5', 'charging_rate_lag6', 'chargecycles',\n",
    "       'dischargecycles', 'total_off_time', 'number_times_restart',\n",
    "       'avg_volt_change_charging', 'avg_volt_change_discharging',\n",
    "       'avg_time_charging', 'avg_time_discharging', 'max_voltage_day',\n",
    "       'piececount', 'cycle_time',\n",
    "       'DaysInService']\n",
    "outcome = 'fail_7'"
   ]
  },
  {
   "cell_type": "code",
   "execution_count": 27,
   "metadata": {
    "id": "Vj1qE5DKNny9",
    "outputId": "940efd63-b2f9-4c36-bd10-1ceaf082c99d"
   },
   "outputs": [
    {
     "data": {
      "text/plain": [
       "(40500, 53)"
      ]
     },
     "execution_count": 27,
     "metadata": {},
     "output_type": "execute_result"
    }
   ],
   "source": [
    "X = tr[predictors]\n",
    "y = tr[outcome]\n",
    "X.shape"
   ]
  },
  {
   "cell_type": "code",
   "execution_count": 28,
   "metadata": {
    "id": "4eIRzrF-Nny-"
   },
   "outputs": [],
   "source": [
    "import numpy as np\n",
    "from sklearn.model_selection import train_test_split\n",
    "train_X, valid_X, train_y, valid_y = train_test_split(X, y, test_size=0.3, random_state=1)"
   ]
  },
  {
   "cell_type": "code",
   "execution_count": null,
   "metadata": {
    "id": "NMtXV3P6Nny-"
   },
   "outputs": [],
   "source": []
  },
  {
   "cell_type": "code",
   "execution_count": 29,
   "metadata": {
    "id": "UH0TBeS-Nny-",
    "outputId": "11413c95-3de2-4d72-9978-cb5b9019e960"
   },
   "outputs": [
    {
     "name": "stdout",
     "output_type": "stream",
     "text": [
      "no display found. Using non-interactive Agg backend\n"
     ]
    },
    {
     "data": {
      "text/plain": [
       "'You need to install pydotplus to visualize decision trees'"
      ]
     },
     "execution_count": 29,
     "metadata": {},
     "output_type": "execute_result"
    }
   ],
   "source": [
    "from sklearn.tree import DecisionTreeClassifier\n",
    "from dmba import plotDecisionTree\n",
    "\n",
    "DecisionTree = DecisionTreeClassifier(max_depth = 4)\n",
    "DecisionTree.fit(train_X, train_y)\n",
    "\n",
    "plotDecisionTree(DecisionTree, feature_names=train_X.columns)"
   ]
  },
  {
   "cell_type": "code",
   "execution_count": 30,
   "metadata": {
    "id": "RP0b4ogbNny-",
    "outputId": "f1d28a09-abcb-4d8c-cff0-9e1dea7e0f4c"
   },
   "outputs": [
    {
     "name": "stdout",
     "output_type": "stream",
     "text": [
      "                        feature  importance\n",
      "13   charge_cycle_time_below_12    0.448717\n",
      "11        discharging_rate_lag3    0.392954\n",
      "5            charging_rate_lag3    0.125991\n",
      "45     avg_volt_change_charging    0.021470\n",
      "43               total_off_time    0.002775\n",
      "38           charging_rate_lag4    0.002613\n",
      "44         number_times_restart    0.002421\n",
      "35        discharging_rate_lag5    0.001893\n",
      "0                      deviceid    0.001167\n",
      "39           charging_rate_lag5    0.000000\n",
      "34        discharging_rate_lag4    0.000000\n",
      "33   avg_time_discharging_lag14    0.000000\n",
      "32      avg_time_charging_lag14    0.000000\n",
      "31   avg_time_discharging_lag13    0.000000\n",
      "30      avg_time_charging_lag13    0.000000\n",
      "36        discharging_rate_lag6    0.000000\n",
      "37        discharging_rate_lag8    0.000000\n",
      "42              dischargecycles    0.000000\n",
      "40           charging_rate_lag6    0.000000\n",
      "41                 chargecycles    0.000000\n",
      "28      avg_time_charging_lag12    0.000000\n",
      "46  avg_volt_change_discharging    0.000000\n",
      "47            avg_time_charging    0.000000\n",
      "48         avg_time_discharging    0.000000\n",
      "49              max_voltage_day    0.000000\n",
      "50                   piececount    0.000000\n",
      "51                   cycle_time    0.000000\n",
      "29   avg_time_discharging_lag12    0.000000\n",
      "26      avg_time_charging_lag11    0.000000\n",
      "27   avg_time_discharging_lag11    0.000000\n",
      "1        avg_time_charging_lag1    0.000000\n",
      "2        avg_time_charging_lag2    0.000000\n",
      "3        avg_time_charging_lag3    0.000000\n",
      "4        avg_time_charging_lag7    0.000000\n",
      "6            charging_rate_lag7    0.000000\n",
      "7     avg_time_discharging_lag1    0.000000\n",
      "8     avg_time_discharging_lag2    0.000000\n",
      "9     avg_time_discharging_lag3    0.000000\n",
      "10    avg_time_discharging_lag7    0.000000\n",
      "12        discharging_rate_lag7    0.000000\n",
      "14       avg_time_charging_lag4    0.000000\n",
      "15    avg_time_discharging_lag4    0.000000\n",
      "16       avg_time_charging_lag5    0.000000\n",
      "17    avg_time_discharging_lag5    0.000000\n",
      "18       avg_time_charging_lag6    0.000000\n",
      "19    avg_time_discharging_lag6    0.000000\n",
      "20       avg_time_charging_lag8    0.000000\n",
      "21    avg_time_discharging_lag8    0.000000\n",
      "22       avg_time_charging_lag9    0.000000\n",
      "23    avg_time_discharging_lag9    0.000000\n",
      "24      avg_time_charging_lag10    0.000000\n",
      "25   avg_time_discharging_lag10    0.000000\n",
      "52                DaysInService    0.000000\n"
     ]
    }
   ],
   "source": [
    "importances = DecisionTree.feature_importances_\n",
    "\n",
    "im = pd.DataFrame({'feature': train_X.columns, 'importance': importances})\n",
    "im = im.sort_values('importance',ascending=False)\n",
    "print(im)"
   ]
  },
  {
   "cell_type": "code",
   "execution_count": 31,
   "metadata": {
    "colab": {
     "base_uri": "https://localhost:8080/",
     "height": 215
    },
    "executionInfo": {
     "elapsed": 826,
     "status": "error",
     "timestamp": 1618973211576,
     "user": {
      "displayName": "Immanuel Ryan Augustine",
      "photoUrl": "https://lh3.googleusercontent.com/a-/AOh14GjbULU4A5tXyBDnutjrqUCPNgcZlL8NKU7nxh71jQ=s64",
      "userId": "15782428890270055246"
     },
     "user_tz": 240
    },
    "id": "_CNSr0LINny_",
    "outputId": "17a0c05b-50e3-481c-85d0-5c9435616dc0"
   },
   "outputs": [
    {
     "name": "stdout",
     "output_type": "stream",
     "text": [
      "deviceid\n",
      "fail_7\n",
      "0    27541.526287\n",
      "1    27410.692054\n",
      "Name: deviceid, dtype: float64\n",
      "avg_time_charging_lag1\n",
      "fail_7\n",
      "0    16.398083\n",
      "1    15.867142\n",
      "Name: avg_time_charging_lag1, dtype: float64\n",
      "avg_time_charging_lag2\n",
      "fail_7\n",
      "0    16.551329\n",
      "1    16.422707\n",
      "Name: avg_time_charging_lag2, dtype: float64\n",
      "avg_time_charging_lag3\n",
      "fail_7\n",
      "0    16.293708\n",
      "1    16.223838\n",
      "Name: avg_time_charging_lag3, dtype: float64\n",
      "avg_time_charging_lag7\n",
      "fail_7\n",
      "0    16.273409\n",
      "1    16.510465\n",
      "Name: avg_time_charging_lag7, dtype: float64\n",
      "charging_rate_lag3\n",
      "fail_7\n",
      "0   -0.054242\n",
      "1   -0.007490\n",
      "Name: charging_rate_lag3, dtype: float64\n",
      "charging_rate_lag7\n",
      "fail_7\n",
      "0   -0.050990\n",
      "1   -0.059656\n",
      "Name: charging_rate_lag7, dtype: float64\n",
      "avg_time_discharging_lag1\n",
      "fail_7\n",
      "0    26.045640\n",
      "1    24.991407\n",
      "Name: avg_time_discharging_lag1, dtype: float64\n",
      "avg_time_discharging_lag2\n",
      "fail_7\n",
      "0    26.412394\n",
      "1    26.158959\n",
      "Name: avg_time_discharging_lag2, dtype: float64\n",
      "avg_time_discharging_lag3\n",
      "fail_7\n",
      "0    25.958540\n",
      "1    25.721961\n",
      "Name: avg_time_discharging_lag3, dtype: float64\n",
      "avg_time_discharging_lag7\n",
      "fail_7\n",
      "0    25.958528\n",
      "1    26.303941\n",
      "Name: avg_time_discharging_lag7, dtype: float64\n",
      "discharging_rate_lag3\n",
      "fail_7\n",
      "0   -0.124287\n",
      "1    0.002081\n",
      "Name: discharging_rate_lag3, dtype: float64\n",
      "discharging_rate_lag7\n",
      "fail_7\n",
      "0   -0.110445\n",
      "1   -0.129581\n",
      "Name: discharging_rate_lag7, dtype: float64\n",
      "fail_7\n",
      "fail_7\n",
      "0    0\n",
      "1    1\n",
      "Name: fail_7, dtype: int64\n",
      "charge_cycle_time_below_12\n",
      "fail_7\n",
      "0    0.512364\n",
      "1    0.849378\n",
      "Name: charge_cycle_time_below_12, dtype: float64\n",
      "avg_time_charging_lag4\n",
      "fail_7\n",
      "0    16.343961\n",
      "1    16.343905\n",
      "Name: avg_time_charging_lag4, dtype: float64\n",
      "avg_time_discharging_lag4\n",
      "fail_7\n",
      "0    26.067120\n",
      "1    26.131869\n",
      "Name: avg_time_discharging_lag4, dtype: float64\n",
      "avg_time_charging_lag5\n",
      "fail_7\n",
      "0    16.275528\n",
      "1    16.519515\n",
      "Name: avg_time_charging_lag5, dtype: float64\n",
      "avg_time_discharging_lag5\n",
      "fail_7\n",
      "0    25.943118\n",
      "1    26.422476\n",
      "Name: avg_time_discharging_lag5, dtype: float64\n",
      "avg_time_charging_lag6\n",
      "fail_7\n",
      "0    16.342827\n",
      "1    16.301541\n",
      "Name: avg_time_charging_lag6, dtype: float64\n",
      "avg_time_discharging_lag6\n",
      "fail_7\n",
      "0    26.079122\n",
      "1    26.012595\n",
      "Name: avg_time_discharging_lag6, dtype: float64\n",
      "avg_time_charging_lag8\n",
      "fail_7\n",
      "0    16.312853\n",
      "1    16.355213\n",
      "Name: avg_time_charging_lag8, dtype: float64\n",
      "avg_time_discharging_lag8\n",
      "fail_7\n",
      "0    25.998918\n",
      "1    26.107031\n",
      "Name: avg_time_discharging_lag8, dtype: float64\n",
      "avg_time_charging_lag9\n",
      "fail_7\n",
      "0    16.156069\n",
      "1    16.195209\n",
      "Name: avg_time_charging_lag9, dtype: float64\n",
      "avg_time_discharging_lag9\n",
      "fail_7\n",
      "0    25.800853\n",
      "1    25.890635\n",
      "Name: avg_time_discharging_lag9, dtype: float64\n",
      "avg_time_charging_lag10\n",
      "fail_7\n",
      "0    15.985828\n",
      "1    16.230708\n",
      "Name: avg_time_charging_lag10, dtype: float64\n",
      "avg_time_discharging_lag10\n",
      "fail_7\n",
      "0    25.482157\n",
      "1    25.936407\n",
      "Name: avg_time_discharging_lag10, dtype: float64\n",
      "avg_time_charging_lag11\n",
      "fail_7\n",
      "0    15.86200\n",
      "1    16.15673\n",
      "Name: avg_time_charging_lag11, dtype: float64\n",
      "avg_time_discharging_lag11\n",
      "fail_7\n",
      "0    25.396385\n",
      "1    25.924262\n",
      "Name: avg_time_discharging_lag11, dtype: float64\n",
      "avg_time_charging_lag12\n",
      "fail_7\n",
      "0    15.275512\n",
      "1    15.934803\n",
      "Name: avg_time_charging_lag12, dtype: float64\n",
      "avg_time_discharging_lag12\n",
      "fail_7\n",
      "0    24.455857\n",
      "1    25.610026\n",
      "Name: avg_time_discharging_lag12, dtype: float64\n",
      "avg_time_charging_lag13\n",
      "fail_7\n",
      "0    14.569229\n",
      "1    14.853737\n",
      "Name: avg_time_charging_lag13, dtype: float64\n",
      "avg_time_discharging_lag13\n",
      "fail_7\n",
      "0    23.309022\n",
      "1    23.665914\n",
      "Name: avg_time_discharging_lag13, dtype: float64\n",
      "avg_time_charging_lag14\n",
      "fail_7\n",
      "0    13.550112\n",
      "1    14.550364\n",
      "Name: avg_time_charging_lag14, dtype: float64\n",
      "avg_time_discharging_lag14\n",
      "fail_7\n",
      "0    21.633693\n",
      "1    23.289466\n",
      "Name: avg_time_discharging_lag14, dtype: float64\n",
      "discharging_rate_lag4\n",
      "fail_7\n",
      "0   -0.116330\n",
      "1   -0.080777\n",
      "Name: discharging_rate_lag4, dtype: float64\n",
      "discharging_rate_lag5\n",
      "fail_7\n",
      "0   -0.103153\n",
      "1   -0.090189\n",
      "Name: discharging_rate_lag5, dtype: float64\n",
      "discharging_rate_lag6\n",
      "fail_7\n",
      "0   -0.091290\n",
      "1   -0.084473\n",
      "Name: discharging_rate_lag6, dtype: float64\n",
      "discharging_rate_lag8\n",
      "fail_7\n",
      "0   -0.121202\n",
      "1   -0.108156\n",
      "Name: discharging_rate_lag8, dtype: float64\n",
      "charging_rate_lag4\n",
      "fail_7\n",
      "0   -0.038704\n",
      "1   -0.041340\n",
      "Name: charging_rate_lag4, dtype: float64\n",
      "charging_rate_lag5\n",
      "fail_7\n",
      "0   -0.041452\n",
      "1   -0.030061\n",
      "Name: charging_rate_lag5, dtype: float64\n",
      "charging_rate_lag6\n",
      "fail_7\n",
      "0   -0.048978\n",
      "1   -0.041868\n",
      "Name: charging_rate_lag6, dtype: float64\n",
      "chargecycles\n",
      "fail_7\n",
      "0    84.481022\n",
      "1    86.623749\n",
      "Name: chargecycles, dtype: float64\n",
      "dischargecycles\n",
      "fail_7\n",
      "0    84.360436\n",
      "1    86.508315\n",
      "Name: dischargecycles, dtype: float64\n",
      "total_off_time\n",
      "fail_7\n",
      "0    25.073270\n",
      "1    25.873361\n",
      "Name: total_off_time, dtype: float64\n",
      "number_times_restart\n",
      "fail_7\n",
      "0    2.126838\n",
      "1    2.247575\n",
      "Name: number_times_restart, dtype: float64\n",
      "avg_volt_change_charging\n",
      "fail_7\n",
      "0    350.548087\n",
      "1    354.312001\n",
      "Name: avg_volt_change_charging, dtype: float64\n",
      "avg_volt_change_discharging\n",
      "fail_7\n",
      "0    347.306970\n",
      "1    351.187679\n",
      "Name: avg_volt_change_discharging, dtype: float64\n",
      "avg_time_charging\n",
      "fail_7\n",
      "0    16.469156\n",
      "1    15.966694\n",
      "Name: avg_time_charging, dtype: float64\n",
      "avg_time_discharging\n",
      "fail_7\n",
      "0    26.295753\n",
      "1    25.374634\n",
      "Name: avg_time_discharging, dtype: float64\n",
      "max_voltage_day\n",
      "fail_7\n",
      "0    4158.610185\n",
      "1    4161.435878\n",
      "Name: max_voltage_day, dtype: float64\n",
      "piececount\n",
      "fail_7\n",
      "0    20.456958\n",
      "1    20.755059\n",
      "Name: piececount, dtype: float64\n",
      "cycle_time\n",
      "fail_7\n",
      "0    42.764908\n",
      "1    41.341328\n",
      "Name: cycle_time, dtype: float64\n",
      "LastRecord\n"
     ]
    },
    {
     "ename": "DataError",
     "evalue": "No numeric types to aggregate",
     "output_type": "error",
     "traceback": [
      "\u001b[0;31m---------------------------------------------------------------------------\u001b[0m",
      "\u001b[0;31mDataError\u001b[0m                                 Traceback (most recent call last)",
      "\u001b[0;32m<ipython-input-31-bca4087c10ce>\u001b[0m in \u001b[0;36m<module>\u001b[0;34m\u001b[0m\n\u001b[1;32m      1\u001b[0m \u001b[0;32mfor\u001b[0m \u001b[0mfeat\u001b[0m \u001b[0;32min\u001b[0m \u001b[0mtr\u001b[0m\u001b[0;34m.\u001b[0m\u001b[0mcolumns\u001b[0m\u001b[0;34m:\u001b[0m\u001b[0;34m\u001b[0m\u001b[0;34m\u001b[0m\u001b[0m\n\u001b[1;32m      2\u001b[0m     \u001b[0mprint\u001b[0m\u001b[0;34m(\u001b[0m\u001b[0mfeat\u001b[0m\u001b[0;34m)\u001b[0m\u001b[0;34m\u001b[0m\u001b[0;34m\u001b[0m\u001b[0m\n\u001b[0;32m----> 3\u001b[0;31m     \u001b[0mprint\u001b[0m\u001b[0;34m(\u001b[0m\u001b[0mtr\u001b[0m\u001b[0;34m.\u001b[0m\u001b[0mgroupby\u001b[0m\u001b[0;34m(\u001b[0m\u001b[0;34m'fail_7'\u001b[0m\u001b[0;34m)\u001b[0m\u001b[0;34m[\u001b[0m\u001b[0mfeat\u001b[0m\u001b[0;34m]\u001b[0m\u001b[0;34m.\u001b[0m\u001b[0mmean\u001b[0m\u001b[0;34m(\u001b[0m\u001b[0;34m)\u001b[0m\u001b[0;34m)\u001b[0m\u001b[0;34m\u001b[0m\u001b[0;34m\u001b[0m\u001b[0m\n\u001b[0m\u001b[1;32m      4\u001b[0m     \u001b[0;31m#plt.show()\u001b[0m\u001b[0;34m\u001b[0m\u001b[0;34m\u001b[0m\u001b[0;34m\u001b[0m\u001b[0m\n",
      "\u001b[0;32m~/opt/anaconda3/lib/python3.7/site-packages/pandas/core/groupby/groupby.py\u001b[0m in \u001b[0;36mmean\u001b[0;34m(self, numeric_only)\u001b[0m\n\u001b[1;32m   1497\u001b[0m             \u001b[0;34m\"mean\"\u001b[0m\u001b[0;34m,\u001b[0m\u001b[0;34m\u001b[0m\u001b[0;34m\u001b[0m\u001b[0m\n\u001b[1;32m   1498\u001b[0m             \u001b[0malt\u001b[0m\u001b[0;34m=\u001b[0m\u001b[0;32mlambda\u001b[0m \u001b[0mx\u001b[0m\u001b[0;34m,\u001b[0m \u001b[0maxis\u001b[0m\u001b[0;34m:\u001b[0m \u001b[0mSeries\u001b[0m\u001b[0;34m(\u001b[0m\u001b[0mx\u001b[0m\u001b[0;34m)\u001b[0m\u001b[0;34m.\u001b[0m\u001b[0mmean\u001b[0m\u001b[0;34m(\u001b[0m\u001b[0mnumeric_only\u001b[0m\u001b[0;34m=\u001b[0m\u001b[0mnumeric_only\u001b[0m\u001b[0;34m)\u001b[0m\u001b[0;34m,\u001b[0m\u001b[0;34m\u001b[0m\u001b[0;34m\u001b[0m\u001b[0m\n\u001b[0;32m-> 1499\u001b[0;31m             \u001b[0mnumeric_only\u001b[0m\u001b[0;34m=\u001b[0m\u001b[0mnumeric_only\u001b[0m\u001b[0;34m,\u001b[0m\u001b[0;34m\u001b[0m\u001b[0;34m\u001b[0m\u001b[0m\n\u001b[0m\u001b[1;32m   1500\u001b[0m         )\n\u001b[1;32m   1501\u001b[0m \u001b[0;34m\u001b[0m\u001b[0m\n",
      "\u001b[0;32m~/opt/anaconda3/lib/python3.7/site-packages/pandas/core/groupby/groupby.py\u001b[0m in \u001b[0;36m_cython_agg_general\u001b[0;34m(self, how, alt, numeric_only, min_count)\u001b[0m\n\u001b[1;32m   1079\u001b[0m \u001b[0;34m\u001b[0m\u001b[0m\n\u001b[1;32m   1080\u001b[0m         \u001b[0;32mif\u001b[0m \u001b[0;32mnot\u001b[0m \u001b[0moutput\u001b[0m\u001b[0;34m:\u001b[0m\u001b[0;34m\u001b[0m\u001b[0;34m\u001b[0m\u001b[0m\n\u001b[0;32m-> 1081\u001b[0;31m             \u001b[0;32mraise\u001b[0m \u001b[0mDataError\u001b[0m\u001b[0;34m(\u001b[0m\u001b[0;34m\"No numeric types to aggregate\"\u001b[0m\u001b[0;34m)\u001b[0m\u001b[0;34m\u001b[0m\u001b[0;34m\u001b[0m\u001b[0m\n\u001b[0m\u001b[1;32m   1082\u001b[0m \u001b[0;34m\u001b[0m\u001b[0m\n\u001b[1;32m   1083\u001b[0m         \u001b[0;32mreturn\u001b[0m \u001b[0mself\u001b[0m\u001b[0;34m.\u001b[0m\u001b[0m_wrap_aggregated_output\u001b[0m\u001b[0;34m(\u001b[0m\u001b[0moutput\u001b[0m\u001b[0;34m,\u001b[0m \u001b[0mindex\u001b[0m\u001b[0;34m=\u001b[0m\u001b[0mself\u001b[0m\u001b[0;34m.\u001b[0m\u001b[0mgrouper\u001b[0m\u001b[0;34m.\u001b[0m\u001b[0mresult_index\u001b[0m\u001b[0;34m)\u001b[0m\u001b[0;34m\u001b[0m\u001b[0;34m\u001b[0m\u001b[0m\n",
      "\u001b[0;31mDataError\u001b[0m: No numeric types to aggregate"
     ]
    }
   ],
   "source": [
    "for feat in tr.columns:\n",
    "    print(feat)\n",
    "    print(tr.groupby('fail_7')[feat].mean())\n",
    "    #plt.show()"
   ]
  },
  {
   "cell_type": "code",
   "execution_count": 32,
   "metadata": {
    "id": "k8ocwN6fUn5M"
   },
   "outputs": [
    {
     "name": "stdout",
     "output_type": "stream",
     "text": [
      "deviceid\n",
      "fail_7\n",
      "0    27541.526287\n",
      "1    27410.692054\n",
      "Name: deviceid, dtype: float64\n",
      "avg_time_charging_lag1\n",
      "fail_7\n",
      "0    16.398083\n",
      "1    15.867142\n",
      "Name: avg_time_charging_lag1, dtype: float64\n",
      "avg_time_charging_lag2\n",
      "fail_7\n",
      "0    16.551329\n",
      "1    16.422707\n",
      "Name: avg_time_charging_lag2, dtype: float64\n",
      "avg_time_charging_lag3\n",
      "fail_7\n",
      "0    16.293708\n",
      "1    16.223838\n",
      "Name: avg_time_charging_lag3, dtype: float64\n",
      "avg_time_charging_lag7\n",
      "fail_7\n",
      "0    16.273409\n",
      "1    16.510465\n",
      "Name: avg_time_charging_lag7, dtype: float64\n",
      "charging_rate_lag3\n",
      "fail_7\n",
      "0   -0.054242\n",
      "1   -0.007490\n",
      "Name: charging_rate_lag3, dtype: float64\n",
      "charging_rate_lag7\n",
      "fail_7\n",
      "0   -0.050990\n",
      "1   -0.059656\n",
      "Name: charging_rate_lag7, dtype: float64\n",
      "avg_time_discharging_lag1\n",
      "fail_7\n",
      "0    26.045640\n",
      "1    24.991407\n",
      "Name: avg_time_discharging_lag1, dtype: float64\n",
      "avg_time_discharging_lag2\n",
      "fail_7\n",
      "0    26.412394\n",
      "1    26.158959\n",
      "Name: avg_time_discharging_lag2, dtype: float64\n",
      "avg_time_discharging_lag3\n",
      "fail_7\n",
      "0    25.958540\n",
      "1    25.721961\n",
      "Name: avg_time_discharging_lag3, dtype: float64\n",
      "avg_time_discharging_lag7\n",
      "fail_7\n",
      "0    25.958528\n",
      "1    26.303941\n",
      "Name: avg_time_discharging_lag7, dtype: float64\n",
      "discharging_rate_lag3\n",
      "fail_7\n",
      "0   -0.124287\n",
      "1    0.002081\n",
      "Name: discharging_rate_lag3, dtype: float64\n",
      "discharging_rate_lag7\n",
      "fail_7\n",
      "0   -0.110445\n",
      "1   -0.129581\n",
      "Name: discharging_rate_lag7, dtype: float64\n",
      "fail_7\n",
      "fail_7\n",
      "0    0\n",
      "1    1\n",
      "Name: fail_7, dtype: int64\n",
      "charge_cycle_time_below_12\n",
      "fail_7\n",
      "0    0.512364\n",
      "1    0.849378\n",
      "Name: charge_cycle_time_below_12, dtype: float64\n",
      "avg_time_charging_lag4\n",
      "fail_7\n",
      "0    16.343961\n",
      "1    16.343905\n",
      "Name: avg_time_charging_lag4, dtype: float64\n",
      "avg_time_discharging_lag4\n",
      "fail_7\n",
      "0    26.067120\n",
      "1    26.131869\n",
      "Name: avg_time_discharging_lag4, dtype: float64\n",
      "avg_time_charging_lag5\n",
      "fail_7\n",
      "0    16.275528\n",
      "1    16.519515\n",
      "Name: avg_time_charging_lag5, dtype: float64\n",
      "avg_time_discharging_lag5\n",
      "fail_7\n",
      "0    25.943118\n",
      "1    26.422476\n",
      "Name: avg_time_discharging_lag5, dtype: float64\n",
      "avg_time_charging_lag6\n",
      "fail_7\n",
      "0    16.342827\n",
      "1    16.301541\n",
      "Name: avg_time_charging_lag6, dtype: float64\n",
      "avg_time_discharging_lag6\n",
      "fail_7\n",
      "0    26.079122\n",
      "1    26.012595\n",
      "Name: avg_time_discharging_lag6, dtype: float64\n",
      "avg_time_charging_lag8\n",
      "fail_7\n",
      "0    16.312853\n",
      "1    16.355213\n",
      "Name: avg_time_charging_lag8, dtype: float64\n",
      "avg_time_discharging_lag8\n",
      "fail_7\n",
      "0    25.998918\n",
      "1    26.107031\n",
      "Name: avg_time_discharging_lag8, dtype: float64\n",
      "avg_time_charging_lag9\n",
      "fail_7\n",
      "0    16.156069\n",
      "1    16.195209\n",
      "Name: avg_time_charging_lag9, dtype: float64\n",
      "avg_time_discharging_lag9\n",
      "fail_7\n",
      "0    25.800853\n",
      "1    25.890635\n",
      "Name: avg_time_discharging_lag9, dtype: float64\n",
      "avg_time_charging_lag10\n",
      "fail_7\n",
      "0    15.985828\n",
      "1    16.230708\n",
      "Name: avg_time_charging_lag10, dtype: float64\n",
      "avg_time_discharging_lag10\n",
      "fail_7\n",
      "0    25.482157\n",
      "1    25.936407\n",
      "Name: avg_time_discharging_lag10, dtype: float64\n",
      "avg_time_charging_lag11\n",
      "fail_7\n",
      "0    15.86200\n",
      "1    16.15673\n",
      "Name: avg_time_charging_lag11, dtype: float64\n",
      "avg_time_discharging_lag11\n",
      "fail_7\n",
      "0    25.396385\n",
      "1    25.924262\n",
      "Name: avg_time_discharging_lag11, dtype: float64\n",
      "avg_time_charging_lag12\n",
      "fail_7\n",
      "0    15.275512\n",
      "1    15.934803\n",
      "Name: avg_time_charging_lag12, dtype: float64\n",
      "avg_time_discharging_lag12\n",
      "fail_7\n",
      "0    24.455857\n",
      "1    25.610026\n",
      "Name: avg_time_discharging_lag12, dtype: float64\n",
      "avg_time_charging_lag13\n",
      "fail_7\n",
      "0    14.569229\n",
      "1    14.853737\n",
      "Name: avg_time_charging_lag13, dtype: float64\n",
      "avg_time_discharging_lag13\n",
      "fail_7\n",
      "0    23.309022\n",
      "1    23.665914\n",
      "Name: avg_time_discharging_lag13, dtype: float64\n",
      "avg_time_charging_lag14\n",
      "fail_7\n",
      "0    13.550112\n",
      "1    14.550364\n",
      "Name: avg_time_charging_lag14, dtype: float64\n",
      "avg_time_discharging_lag14\n",
      "fail_7\n",
      "0    21.633693\n",
      "1    23.289466\n",
      "Name: avg_time_discharging_lag14, dtype: float64\n",
      "discharging_rate_lag4\n",
      "fail_7\n",
      "0   -0.116330\n",
      "1   -0.080777\n",
      "Name: discharging_rate_lag4, dtype: float64\n",
      "discharging_rate_lag5\n",
      "fail_7\n",
      "0   -0.103153\n",
      "1   -0.090189\n",
      "Name: discharging_rate_lag5, dtype: float64\n",
      "discharging_rate_lag6\n",
      "fail_7\n",
      "0   -0.091290\n",
      "1   -0.084473\n",
      "Name: discharging_rate_lag6, dtype: float64\n",
      "discharging_rate_lag8\n",
      "fail_7\n",
      "0   -0.121202\n",
      "1   -0.108156\n",
      "Name: discharging_rate_lag8, dtype: float64\n",
      "charging_rate_lag4\n",
      "fail_7\n",
      "0   -0.038704\n",
      "1   -0.041340\n",
      "Name: charging_rate_lag4, dtype: float64\n",
      "charging_rate_lag5\n",
      "fail_7\n",
      "0   -0.041452\n",
      "1   -0.030061\n",
      "Name: charging_rate_lag5, dtype: float64\n",
      "charging_rate_lag6\n",
      "fail_7\n",
      "0   -0.048978\n",
      "1   -0.041868\n",
      "Name: charging_rate_lag6, dtype: float64\n",
      "chargecycles\n",
      "fail_7\n",
      "0    84.481022\n",
      "1    86.623749\n",
      "Name: chargecycles, dtype: float64\n",
      "dischargecycles\n",
      "fail_7\n",
      "0    84.360436\n",
      "1    86.508315\n",
      "Name: dischargecycles, dtype: float64\n",
      "total_off_time\n",
      "fail_7\n",
      "0    25.073270\n",
      "1    25.873361\n",
      "Name: total_off_time, dtype: float64\n",
      "number_times_restart\n",
      "fail_7\n",
      "0    2.126838\n",
      "1    2.247575\n",
      "Name: number_times_restart, dtype: float64\n",
      "avg_volt_change_charging\n",
      "fail_7\n",
      "0    350.548087\n",
      "1    354.312001\n",
      "Name: avg_volt_change_charging, dtype: float64\n",
      "avg_volt_change_discharging\n",
      "fail_7\n",
      "0    347.306970\n",
      "1    351.187679\n",
      "Name: avg_volt_change_discharging, dtype: float64\n",
      "avg_time_charging\n",
      "fail_7\n",
      "0    16.469156\n",
      "1    15.966694\n",
      "Name: avg_time_charging, dtype: float64\n",
      "avg_time_discharging\n",
      "fail_7\n",
      "0    26.295753\n",
      "1    25.374634\n",
      "Name: avg_time_discharging, dtype: float64\n",
      "max_voltage_day\n",
      "fail_7\n",
      "0    4158.610185\n",
      "1    4161.435878\n",
      "Name: max_voltage_day, dtype: float64\n",
      "piececount\n",
      "fail_7\n",
      "0    20.456958\n",
      "1    20.755059\n",
      "Name: piececount, dtype: float64\n",
      "cycle_time\n",
      "fail_7\n",
      "0    42.764908\n",
      "1    41.341328\n",
      "Name: cycle_time, dtype: float64\n",
      "LastRecord\n"
     ]
    },
    {
     "ename": "DataError",
     "evalue": "No numeric types to aggregate",
     "output_type": "error",
     "traceback": [
      "\u001b[0;31m---------------------------------------------------------------------------\u001b[0m",
      "\u001b[0;31mDataError\u001b[0m                                 Traceback (most recent call last)",
      "\u001b[0;32m<ipython-input-32-bca4087c10ce>\u001b[0m in \u001b[0;36m<module>\u001b[0;34m\u001b[0m\n\u001b[1;32m      1\u001b[0m \u001b[0;32mfor\u001b[0m \u001b[0mfeat\u001b[0m \u001b[0;32min\u001b[0m \u001b[0mtr\u001b[0m\u001b[0;34m.\u001b[0m\u001b[0mcolumns\u001b[0m\u001b[0;34m:\u001b[0m\u001b[0;34m\u001b[0m\u001b[0;34m\u001b[0m\u001b[0m\n\u001b[1;32m      2\u001b[0m     \u001b[0mprint\u001b[0m\u001b[0;34m(\u001b[0m\u001b[0mfeat\u001b[0m\u001b[0;34m)\u001b[0m\u001b[0;34m\u001b[0m\u001b[0;34m\u001b[0m\u001b[0m\n\u001b[0;32m----> 3\u001b[0;31m     \u001b[0mprint\u001b[0m\u001b[0;34m(\u001b[0m\u001b[0mtr\u001b[0m\u001b[0;34m.\u001b[0m\u001b[0mgroupby\u001b[0m\u001b[0;34m(\u001b[0m\u001b[0;34m'fail_7'\u001b[0m\u001b[0;34m)\u001b[0m\u001b[0;34m[\u001b[0m\u001b[0mfeat\u001b[0m\u001b[0;34m]\u001b[0m\u001b[0;34m.\u001b[0m\u001b[0mmean\u001b[0m\u001b[0;34m(\u001b[0m\u001b[0;34m)\u001b[0m\u001b[0;34m)\u001b[0m\u001b[0;34m\u001b[0m\u001b[0;34m\u001b[0m\u001b[0m\n\u001b[0m\u001b[1;32m      4\u001b[0m     \u001b[0;31m#plt.show()\u001b[0m\u001b[0;34m\u001b[0m\u001b[0;34m\u001b[0m\u001b[0;34m\u001b[0m\u001b[0m\n",
      "\u001b[0;32m~/opt/anaconda3/lib/python3.7/site-packages/pandas/core/groupby/groupby.py\u001b[0m in \u001b[0;36mmean\u001b[0;34m(self, numeric_only)\u001b[0m\n\u001b[1;32m   1497\u001b[0m             \u001b[0;34m\"mean\"\u001b[0m\u001b[0;34m,\u001b[0m\u001b[0;34m\u001b[0m\u001b[0;34m\u001b[0m\u001b[0m\n\u001b[1;32m   1498\u001b[0m             \u001b[0malt\u001b[0m\u001b[0;34m=\u001b[0m\u001b[0;32mlambda\u001b[0m \u001b[0mx\u001b[0m\u001b[0;34m,\u001b[0m \u001b[0maxis\u001b[0m\u001b[0;34m:\u001b[0m \u001b[0mSeries\u001b[0m\u001b[0;34m(\u001b[0m\u001b[0mx\u001b[0m\u001b[0;34m)\u001b[0m\u001b[0;34m.\u001b[0m\u001b[0mmean\u001b[0m\u001b[0;34m(\u001b[0m\u001b[0mnumeric_only\u001b[0m\u001b[0;34m=\u001b[0m\u001b[0mnumeric_only\u001b[0m\u001b[0;34m)\u001b[0m\u001b[0;34m,\u001b[0m\u001b[0;34m\u001b[0m\u001b[0;34m\u001b[0m\u001b[0m\n\u001b[0;32m-> 1499\u001b[0;31m             \u001b[0mnumeric_only\u001b[0m\u001b[0;34m=\u001b[0m\u001b[0mnumeric_only\u001b[0m\u001b[0;34m,\u001b[0m\u001b[0;34m\u001b[0m\u001b[0;34m\u001b[0m\u001b[0m\n\u001b[0m\u001b[1;32m   1500\u001b[0m         )\n\u001b[1;32m   1501\u001b[0m \u001b[0;34m\u001b[0m\u001b[0m\n",
      "\u001b[0;32m~/opt/anaconda3/lib/python3.7/site-packages/pandas/core/groupby/groupby.py\u001b[0m in \u001b[0;36m_cython_agg_general\u001b[0;34m(self, how, alt, numeric_only, min_count)\u001b[0m\n\u001b[1;32m   1079\u001b[0m \u001b[0;34m\u001b[0m\u001b[0m\n\u001b[1;32m   1080\u001b[0m         \u001b[0;32mif\u001b[0m \u001b[0;32mnot\u001b[0m \u001b[0moutput\u001b[0m\u001b[0;34m:\u001b[0m\u001b[0;34m\u001b[0m\u001b[0;34m\u001b[0m\u001b[0m\n\u001b[0;32m-> 1081\u001b[0;31m             \u001b[0;32mraise\u001b[0m \u001b[0mDataError\u001b[0m\u001b[0;34m(\u001b[0m\u001b[0;34m\"No numeric types to aggregate\"\u001b[0m\u001b[0;34m)\u001b[0m\u001b[0;34m\u001b[0m\u001b[0;34m\u001b[0m\u001b[0m\n\u001b[0m\u001b[1;32m   1082\u001b[0m \u001b[0;34m\u001b[0m\u001b[0m\n\u001b[1;32m   1083\u001b[0m         \u001b[0;32mreturn\u001b[0m \u001b[0mself\u001b[0m\u001b[0;34m.\u001b[0m\u001b[0m_wrap_aggregated_output\u001b[0m\u001b[0;34m(\u001b[0m\u001b[0moutput\u001b[0m\u001b[0;34m,\u001b[0m \u001b[0mindex\u001b[0m\u001b[0;34m=\u001b[0m\u001b[0mself\u001b[0m\u001b[0;34m.\u001b[0m\u001b[0mgrouper\u001b[0m\u001b[0;34m.\u001b[0m\u001b[0mresult_index\u001b[0m\u001b[0;34m)\u001b[0m\u001b[0;34m\u001b[0m\u001b[0;34m\u001b[0m\u001b[0m\n",
      "\u001b[0;31mDataError\u001b[0m: No numeric types to aggregate"
     ]
    }
   ],
   "source": [
    "for feat in tr.columns:\n",
    "    print(feat)\n",
    "    print(tr.groupby('fail_7')[feat].mean())\n",
    "    #plt.show()\n"
   ]
  },
  {
   "cell_type": "code",
   "execution_count": 36,
   "metadata": {
    "id": "nuxdVtMLVXsG"
   },
   "outputs": [
    {
     "name": "stdout",
     "output_type": "stream",
     "text": [
      "deviceid\n",
      "avg_time_charging_lag1\n",
      "avg_time_charging_lag2\n",
      "avg_time_charging_lag3\n",
      "avg_time_charging_lag7\n",
      "charging_rate_lag3\n",
      "charging_rate_lag7\n",
      "avg_time_discharging_lag1\n",
      "avg_time_discharging_lag2\n",
      "avg_time_discharging_lag3\n",
      "avg_time_discharging_lag7\n",
      "discharging_rate_lag3\n",
      "discharging_rate_lag7\n"
     ]
    },
    {
     "name": "stderr",
     "output_type": "stream",
     "text": [
      "/Users/macdaniel/opt/anaconda3/lib/python3.7/site-packages/ipykernel_launcher.py:4: UserWarning: Matplotlib is currently using agg, which is a non-GUI backend, so cannot show the figure.\n",
      "  after removing the cwd from sys.path.\n",
      "/Users/macdaniel/opt/anaconda3/lib/python3.7/site-packages/ipykernel_launcher.py:4: UserWarning: Matplotlib is currently using agg, which is a non-GUI backend, so cannot show the figure.\n",
      "  after removing the cwd from sys.path.\n",
      "/Users/macdaniel/opt/anaconda3/lib/python3.7/site-packages/ipykernel_launcher.py:4: UserWarning: Matplotlib is currently using agg, which is a non-GUI backend, so cannot show the figure.\n",
      "  after removing the cwd from sys.path.\n",
      "/Users/macdaniel/opt/anaconda3/lib/python3.7/site-packages/ipykernel_launcher.py:4: UserWarning: Matplotlib is currently using agg, which is a non-GUI backend, so cannot show the figure.\n",
      "  after removing the cwd from sys.path.\n",
      "/Users/macdaniel/opt/anaconda3/lib/python3.7/site-packages/ipykernel_launcher.py:4: UserWarning: Matplotlib is currently using agg, which is a non-GUI backend, so cannot show the figure.\n",
      "  after removing the cwd from sys.path.\n",
      "/Users/macdaniel/opt/anaconda3/lib/python3.7/site-packages/ipykernel_launcher.py:4: UserWarning: Matplotlib is currently using agg, which is a non-GUI backend, so cannot show the figure.\n",
      "  after removing the cwd from sys.path.\n",
      "/Users/macdaniel/opt/anaconda3/lib/python3.7/site-packages/ipykernel_launcher.py:4: UserWarning: Matplotlib is currently using agg, which is a non-GUI backend, so cannot show the figure.\n",
      "  after removing the cwd from sys.path.\n",
      "/Users/macdaniel/opt/anaconda3/lib/python3.7/site-packages/ipykernel_launcher.py:4: UserWarning: Matplotlib is currently using agg, which is a non-GUI backend, so cannot show the figure.\n",
      "  after removing the cwd from sys.path.\n",
      "/Users/macdaniel/opt/anaconda3/lib/python3.7/site-packages/ipykernel_launcher.py:4: UserWarning: Matplotlib is currently using agg, which is a non-GUI backend, so cannot show the figure.\n",
      "  after removing the cwd from sys.path.\n",
      "/Users/macdaniel/opt/anaconda3/lib/python3.7/site-packages/ipykernel_launcher.py:4: UserWarning: Matplotlib is currently using agg, which is a non-GUI backend, so cannot show the figure.\n",
      "  after removing the cwd from sys.path.\n",
      "/Users/macdaniel/opt/anaconda3/lib/python3.7/site-packages/ipykernel_launcher.py:4: UserWarning: Matplotlib is currently using agg, which is a non-GUI backend, so cannot show the figure.\n",
      "  after removing the cwd from sys.path.\n",
      "/Users/macdaniel/opt/anaconda3/lib/python3.7/site-packages/ipykernel_launcher.py:4: UserWarning: Matplotlib is currently using agg, which is a non-GUI backend, so cannot show the figure.\n",
      "  after removing the cwd from sys.path.\n",
      "/Users/macdaniel/opt/anaconda3/lib/python3.7/site-packages/ipykernel_launcher.py:4: UserWarning: Matplotlib is currently using agg, which is a non-GUI backend, so cannot show the figure.\n",
      "  after removing the cwd from sys.path.\n",
      "/Users/macdaniel/opt/anaconda3/lib/python3.7/site-packages/ipykernel_launcher.py:4: UserWarning: Matplotlib is currently using agg, which is a non-GUI backend, so cannot show the figure.\n",
      "  after removing the cwd from sys.path.\n",
      "/Users/macdaniel/opt/anaconda3/lib/python3.7/site-packages/ipykernel_launcher.py:4: UserWarning: Matplotlib is currently using agg, which is a non-GUI backend, so cannot show the figure.\n",
      "  after removing the cwd from sys.path.\n",
      "/Users/macdaniel/opt/anaconda3/lib/python3.7/site-packages/ipykernel_launcher.py:4: UserWarning: Matplotlib is currently using agg, which is a non-GUI backend, so cannot show the figure.\n",
      "  after removing the cwd from sys.path.\n",
      "/Users/macdaniel/opt/anaconda3/lib/python3.7/site-packages/ipykernel_launcher.py:4: UserWarning: Matplotlib is currently using agg, which is a non-GUI backend, so cannot show the figure.\n",
      "  after removing the cwd from sys.path.\n",
      "/Users/macdaniel/opt/anaconda3/lib/python3.7/site-packages/ipykernel_launcher.py:4: UserWarning: Matplotlib is currently using agg, which is a non-GUI backend, so cannot show the figure.\n",
      "  after removing the cwd from sys.path.\n"
     ]
    },
    {
     "name": "stdout",
     "output_type": "stream",
     "text": [
      "fail_7\n",
      "charge_cycle_time_below_12\n",
      "avg_time_charging_lag4\n",
      "avg_time_discharging_lag4\n",
      "avg_time_charging_lag5\n",
      "avg_time_discharging_lag5\n",
      "avg_time_charging_lag6\n",
      "avg_time_discharging_lag6\n",
      "avg_time_charging_lag8\n",
      "avg_time_discharging_lag8\n",
      "avg_time_charging_lag9\n",
      "avg_time_discharging_lag9\n",
      "avg_time_charging_lag10\n",
      "avg_time_discharging_lag10\n",
      "avg_time_charging_lag11\n",
      "avg_time_discharging_lag11\n",
      "avg_time_charging_lag12\n",
      "avg_time_discharging_lag12\n",
      "avg_time_charging_lag13\n",
      "avg_time_discharging_lag13\n",
      "avg_time_charging_lag14\n"
     ]
    },
    {
     "name": "stderr",
     "output_type": "stream",
     "text": [
      "/Users/macdaniel/opt/anaconda3/lib/python3.7/site-packages/ipykernel_launcher.py:4: UserWarning: Matplotlib is currently using agg, which is a non-GUI backend, so cannot show the figure.\n",
      "  after removing the cwd from sys.path.\n",
      "/Users/macdaniel/opt/anaconda3/lib/python3.7/site-packages/ipykernel_launcher.py:4: UserWarning: Matplotlib is currently using agg, which is a non-GUI backend, so cannot show the figure.\n",
      "  after removing the cwd from sys.path.\n",
      "/Users/macdaniel/opt/anaconda3/lib/python3.7/site-packages/ipykernel_launcher.py:4: UserWarning: Matplotlib is currently using agg, which is a non-GUI backend, so cannot show the figure.\n",
      "  after removing the cwd from sys.path.\n",
      "/Users/macdaniel/opt/anaconda3/lib/python3.7/site-packages/ipykernel_launcher.py:4: UserWarning: Matplotlib is currently using agg, which is a non-GUI backend, so cannot show the figure.\n",
      "  after removing the cwd from sys.path.\n",
      "/Users/macdaniel/opt/anaconda3/lib/python3.7/site-packages/ipykernel_launcher.py:4: UserWarning: Matplotlib is currently using agg, which is a non-GUI backend, so cannot show the figure.\n",
      "  after removing the cwd from sys.path.\n",
      "/Users/macdaniel/opt/anaconda3/lib/python3.7/site-packages/ipykernel_launcher.py:4: UserWarning: Matplotlib is currently using agg, which is a non-GUI backend, so cannot show the figure.\n",
      "  after removing the cwd from sys.path.\n",
      "/Users/macdaniel/opt/anaconda3/lib/python3.7/site-packages/ipykernel_launcher.py:4: UserWarning: Matplotlib is currently using agg, which is a non-GUI backend, so cannot show the figure.\n",
      "  after removing the cwd from sys.path.\n",
      "/Users/macdaniel/opt/anaconda3/lib/python3.7/site-packages/ipykernel_launcher.py:4: UserWarning: Matplotlib is currently using agg, which is a non-GUI backend, so cannot show the figure.\n",
      "  after removing the cwd from sys.path.\n",
      "/Users/macdaniel/opt/anaconda3/lib/python3.7/site-packages/ipykernel_launcher.py:4: UserWarning: Matplotlib is currently using agg, which is a non-GUI backend, so cannot show the figure.\n",
      "  after removing the cwd from sys.path.\n",
      "/Users/macdaniel/opt/anaconda3/lib/python3.7/site-packages/ipykernel_launcher.py:4: UserWarning: Matplotlib is currently using agg, which is a non-GUI backend, so cannot show the figure.\n",
      "  after removing the cwd from sys.path.\n",
      "/Users/macdaniel/opt/anaconda3/lib/python3.7/site-packages/ipykernel_launcher.py:4: UserWarning: Matplotlib is currently using agg, which is a non-GUI backend, so cannot show the figure.\n",
      "  after removing the cwd from sys.path.\n",
      "/Users/macdaniel/opt/anaconda3/lib/python3.7/site-packages/ipykernel_launcher.py:4: UserWarning: Matplotlib is currently using agg, which is a non-GUI backend, so cannot show the figure.\n",
      "  after removing the cwd from sys.path.\n",
      "/Users/macdaniel/opt/anaconda3/lib/python3.7/site-packages/ipykernel_launcher.py:4: UserWarning: Matplotlib is currently using agg, which is a non-GUI backend, so cannot show the figure.\n",
      "  after removing the cwd from sys.path.\n",
      "/Users/macdaniel/opt/anaconda3/lib/python3.7/site-packages/ipykernel_launcher.py:4: UserWarning: Matplotlib is currently using agg, which is a non-GUI backend, so cannot show the figure.\n",
      "  after removing the cwd from sys.path.\n",
      "/Users/macdaniel/opt/anaconda3/lib/python3.7/site-packages/ipykernel_launcher.py:4: UserWarning: Matplotlib is currently using agg, which is a non-GUI backend, so cannot show the figure.\n",
      "  after removing the cwd from sys.path.\n",
      "/Users/macdaniel/opt/anaconda3/lib/python3.7/site-packages/ipykernel_launcher.py:4: UserWarning: Matplotlib is currently using agg, which is a non-GUI backend, so cannot show the figure.\n",
      "  after removing the cwd from sys.path.\n",
      "/Users/macdaniel/opt/anaconda3/lib/python3.7/site-packages/ipykernel_launcher.py:4: UserWarning: Matplotlib is currently using agg, which is a non-GUI backend, so cannot show the figure.\n",
      "  after removing the cwd from sys.path.\n",
      "/Users/macdaniel/opt/anaconda3/lib/python3.7/site-packages/ipykernel_launcher.py:4: UserWarning: Matplotlib is currently using agg, which is a non-GUI backend, so cannot show the figure.\n",
      "  after removing the cwd from sys.path.\n",
      "/Users/macdaniel/opt/anaconda3/lib/python3.7/site-packages/ipykernel_launcher.py:4: UserWarning: Matplotlib is currently using agg, which is a non-GUI backend, so cannot show the figure.\n",
      "  after removing the cwd from sys.path.\n",
      "/Users/macdaniel/opt/anaconda3/lib/python3.7/site-packages/ipykernel_launcher.py:4: UserWarning: Matplotlib is currently using agg, which is a non-GUI backend, so cannot show the figure.\n",
      "  after removing the cwd from sys.path.\n",
      "/Users/macdaniel/opt/anaconda3/lib/python3.7/site-packages/ipykernel_launcher.py:4: UserWarning: Matplotlib is currently using agg, which is a non-GUI backend, so cannot show the figure.\n",
      "  after removing the cwd from sys.path.\n"
     ]
    },
    {
     "name": "stdout",
     "output_type": "stream",
     "text": [
      "avg_time_discharging_lag14\n",
      "discharging_rate_lag4\n",
      "discharging_rate_lag5\n",
      "discharging_rate_lag6\n",
      "discharging_rate_lag8\n",
      "charging_rate_lag4\n",
      "charging_rate_lag5\n",
      "charging_rate_lag6\n",
      "chargecycles\n",
      "dischargecycles\n",
      "total_off_time\n",
      "number_times_restart\n",
      "avg_volt_change_charging\n",
      "avg_volt_change_discharging\n",
      "avg_time_charging\n",
      "avg_time_discharging\n",
      "max_voltage_day\n",
      "piececount\n",
      "cycle_time\n",
      "LastRecord\n"
     ]
    },
    {
     "name": "stderr",
     "output_type": "stream",
     "text": [
      "/Users/macdaniel/opt/anaconda3/lib/python3.7/site-packages/ipykernel_launcher.py:4: UserWarning: Matplotlib is currently using agg, which is a non-GUI backend, so cannot show the figure.\n",
      "  after removing the cwd from sys.path.\n",
      "/Users/macdaniel/opt/anaconda3/lib/python3.7/site-packages/ipykernel_launcher.py:4: UserWarning: Matplotlib is currently using agg, which is a non-GUI backend, so cannot show the figure.\n",
      "  after removing the cwd from sys.path.\n",
      "/Users/macdaniel/opt/anaconda3/lib/python3.7/site-packages/ipykernel_launcher.py:4: UserWarning: Matplotlib is currently using agg, which is a non-GUI backend, so cannot show the figure.\n",
      "  after removing the cwd from sys.path.\n",
      "/Users/macdaniel/opt/anaconda3/lib/python3.7/site-packages/ipykernel_launcher.py:4: UserWarning: Matplotlib is currently using agg, which is a non-GUI backend, so cannot show the figure.\n",
      "  after removing the cwd from sys.path.\n",
      "/Users/macdaniel/opt/anaconda3/lib/python3.7/site-packages/ipykernel_launcher.py:4: UserWarning: Matplotlib is currently using agg, which is a non-GUI backend, so cannot show the figure.\n",
      "  after removing the cwd from sys.path.\n",
      "/Users/macdaniel/opt/anaconda3/lib/python3.7/site-packages/ipykernel_launcher.py:4: UserWarning: Matplotlib is currently using agg, which is a non-GUI backend, so cannot show the figure.\n",
      "  after removing the cwd from sys.path.\n",
      "/Users/macdaniel/opt/anaconda3/lib/python3.7/site-packages/ipykernel_launcher.py:4: UserWarning: Matplotlib is currently using agg, which is a non-GUI backend, so cannot show the figure.\n",
      "  after removing the cwd from sys.path.\n",
      "/Users/macdaniel/opt/anaconda3/lib/python3.7/site-packages/ipykernel_launcher.py:4: UserWarning: Matplotlib is currently using agg, which is a non-GUI backend, so cannot show the figure.\n",
      "  after removing the cwd from sys.path.\n",
      "/Users/macdaniel/opt/anaconda3/lib/python3.7/site-packages/ipykernel_launcher.py:4: UserWarning: Matplotlib is currently using agg, which is a non-GUI backend, so cannot show the figure.\n",
      "  after removing the cwd from sys.path.\n",
      "/Users/macdaniel/opt/anaconda3/lib/python3.7/site-packages/ipykernel_launcher.py:4: UserWarning: Matplotlib is currently using agg, which is a non-GUI backend, so cannot show the figure.\n",
      "  after removing the cwd from sys.path.\n",
      "/Users/macdaniel/opt/anaconda3/lib/python3.7/site-packages/ipykernel_launcher.py:4: UserWarning: Matplotlib is currently using agg, which is a non-GUI backend, so cannot show the figure.\n",
      "  after removing the cwd from sys.path.\n",
      "/Users/macdaniel/opt/anaconda3/lib/python3.7/site-packages/ipykernel_launcher.py:4: UserWarning: Matplotlib is currently using agg, which is a non-GUI backend, so cannot show the figure.\n",
      "  after removing the cwd from sys.path.\n",
      "/Users/macdaniel/opt/anaconda3/lib/python3.7/site-packages/ipykernel_launcher.py:4: UserWarning: Matplotlib is currently using agg, which is a non-GUI backend, so cannot show the figure.\n",
      "  after removing the cwd from sys.path.\n",
      "/Users/macdaniel/opt/anaconda3/lib/python3.7/site-packages/ipykernel_launcher.py:4: UserWarning: Matplotlib is currently using agg, which is a non-GUI backend, so cannot show the figure.\n",
      "  after removing the cwd from sys.path.\n"
     ]
    },
    {
     "ename": "DataError",
     "evalue": "No numeric types to aggregate",
     "output_type": "error",
     "traceback": [
      "\u001b[0;31m---------------------------------------------------------------------------\u001b[0m",
      "\u001b[0;31mDataError\u001b[0m                                 Traceback (most recent call last)",
      "\u001b[0;32m<ipython-input-36-780efdc1bfed>\u001b[0m in \u001b[0;36m<module>\u001b[0;34m\u001b[0m\n\u001b[1;32m      1\u001b[0m \u001b[0;32mfor\u001b[0m \u001b[0mfeat\u001b[0m \u001b[0;32min\u001b[0m \u001b[0mtr\u001b[0m\u001b[0;34m.\u001b[0m\u001b[0mcolumns\u001b[0m\u001b[0;34m:\u001b[0m\u001b[0;34m\u001b[0m\u001b[0;34m\u001b[0m\u001b[0m\n\u001b[1;32m      2\u001b[0m     \u001b[0mprint\u001b[0m\u001b[0;34m(\u001b[0m\u001b[0mfeat\u001b[0m\u001b[0;34m)\u001b[0m\u001b[0;34m\u001b[0m\u001b[0;34m\u001b[0m\u001b[0m\n\u001b[0;32m----> 3\u001b[0;31m     \u001b[0mtr\u001b[0m\u001b[0;34m.\u001b[0m\u001b[0mgroupby\u001b[0m\u001b[0;34m(\u001b[0m\u001b[0;34m'fail_7'\u001b[0m\u001b[0;34m)\u001b[0m\u001b[0;34m[\u001b[0m\u001b[0mfeat\u001b[0m\u001b[0;34m]\u001b[0m\u001b[0;34m.\u001b[0m\u001b[0mmean\u001b[0m\u001b[0;34m(\u001b[0m\u001b[0;34m)\u001b[0m\u001b[0;34m.\u001b[0m\u001b[0mplot\u001b[0m\u001b[0;34m(\u001b[0m\u001b[0mkind\u001b[0m\u001b[0;34m=\u001b[0m\u001b[0;34m'bar'\u001b[0m\u001b[0;34m,\u001b[0m \u001b[0mlabel\u001b[0m\u001b[0;34m=\u001b[0m\u001b[0;34m'index'\u001b[0m\u001b[0;34m,\u001b[0m\u001b[0mcolor\u001b[0m\u001b[0;34m=\u001b[0m\u001b[0;34m[\u001b[0m\u001b[0;34m'C0'\u001b[0m\u001b[0;34m,\u001b[0m \u001b[0;34m'C1'\u001b[0m\u001b[0;34m]\u001b[0m\u001b[0;34m)\u001b[0m\u001b[0;31m# colormap='Paired')#.bar()\u001b[0m\u001b[0;34m\u001b[0m\u001b[0;34m\u001b[0m\u001b[0m\n\u001b[0m\u001b[1;32m      4\u001b[0m     \u001b[0mplt\u001b[0m\u001b[0;34m.\u001b[0m\u001b[0mshow\u001b[0m\u001b[0;34m(\u001b[0m\u001b[0;34m)\u001b[0m\u001b[0;34m\u001b[0m\u001b[0;34m\u001b[0m\u001b[0m\n",
      "\u001b[0;32m~/opt/anaconda3/lib/python3.7/site-packages/pandas/core/groupby/groupby.py\u001b[0m in \u001b[0;36mmean\u001b[0;34m(self, numeric_only)\u001b[0m\n\u001b[1;32m   1497\u001b[0m             \u001b[0;34m\"mean\"\u001b[0m\u001b[0;34m,\u001b[0m\u001b[0;34m\u001b[0m\u001b[0;34m\u001b[0m\u001b[0m\n\u001b[1;32m   1498\u001b[0m             \u001b[0malt\u001b[0m\u001b[0;34m=\u001b[0m\u001b[0;32mlambda\u001b[0m \u001b[0mx\u001b[0m\u001b[0;34m,\u001b[0m \u001b[0maxis\u001b[0m\u001b[0;34m:\u001b[0m \u001b[0mSeries\u001b[0m\u001b[0;34m(\u001b[0m\u001b[0mx\u001b[0m\u001b[0;34m)\u001b[0m\u001b[0;34m.\u001b[0m\u001b[0mmean\u001b[0m\u001b[0;34m(\u001b[0m\u001b[0mnumeric_only\u001b[0m\u001b[0;34m=\u001b[0m\u001b[0mnumeric_only\u001b[0m\u001b[0;34m)\u001b[0m\u001b[0;34m,\u001b[0m\u001b[0;34m\u001b[0m\u001b[0;34m\u001b[0m\u001b[0m\n\u001b[0;32m-> 1499\u001b[0;31m             \u001b[0mnumeric_only\u001b[0m\u001b[0;34m=\u001b[0m\u001b[0mnumeric_only\u001b[0m\u001b[0;34m,\u001b[0m\u001b[0;34m\u001b[0m\u001b[0;34m\u001b[0m\u001b[0m\n\u001b[0m\u001b[1;32m   1500\u001b[0m         )\n\u001b[1;32m   1501\u001b[0m \u001b[0;34m\u001b[0m\u001b[0m\n",
      "\u001b[0;32m~/opt/anaconda3/lib/python3.7/site-packages/pandas/core/groupby/groupby.py\u001b[0m in \u001b[0;36m_cython_agg_general\u001b[0;34m(self, how, alt, numeric_only, min_count)\u001b[0m\n\u001b[1;32m   1079\u001b[0m \u001b[0;34m\u001b[0m\u001b[0m\n\u001b[1;32m   1080\u001b[0m         \u001b[0;32mif\u001b[0m \u001b[0;32mnot\u001b[0m \u001b[0moutput\u001b[0m\u001b[0;34m:\u001b[0m\u001b[0;34m\u001b[0m\u001b[0;34m\u001b[0m\u001b[0m\n\u001b[0;32m-> 1081\u001b[0;31m             \u001b[0;32mraise\u001b[0m \u001b[0mDataError\u001b[0m\u001b[0;34m(\u001b[0m\u001b[0;34m\"No numeric types to aggregate\"\u001b[0m\u001b[0;34m)\u001b[0m\u001b[0;34m\u001b[0m\u001b[0;34m\u001b[0m\u001b[0m\n\u001b[0m\u001b[1;32m   1082\u001b[0m \u001b[0;34m\u001b[0m\u001b[0m\n\u001b[1;32m   1083\u001b[0m         \u001b[0;32mreturn\u001b[0m \u001b[0mself\u001b[0m\u001b[0;34m.\u001b[0m\u001b[0m_wrap_aggregated_output\u001b[0m\u001b[0;34m(\u001b[0m\u001b[0moutput\u001b[0m\u001b[0;34m,\u001b[0m \u001b[0mindex\u001b[0m\u001b[0;34m=\u001b[0m\u001b[0mself\u001b[0m\u001b[0;34m.\u001b[0m\u001b[0mgrouper\u001b[0m\u001b[0;34m.\u001b[0m\u001b[0mresult_index\u001b[0m\u001b[0;34m)\u001b[0m\u001b[0;34m\u001b[0m\u001b[0;34m\u001b[0m\u001b[0m\n",
      "\u001b[0;31mDataError\u001b[0m: No numeric types to aggregate"
     ]
    },
    {
     "data": {
      "image/png": "[encoded data removed]",
      "text/plain": [
       "<Figure size 432x288 with 1 Axes>"
      ]
     },
     "metadata": {
      "needs_background": "light"
     },
     "output_type": "display_data"
    }
   ],
   "source": [
    "for feat in tr.columns:\n",
    "    print(feat)\n",
    "    tr.groupby('fail_7')[feat].mean().plot(kind='bar', label='index',color=['C0', 'C1'])# colormap='Paired')#.bar()\n",
    "    plt.show()"
   ]
  },
  {
   "cell_type": "code",
   "execution_count": null,
   "metadata": {},
   "outputs": [],
   "source": []
  }
 ],
 "metadata": {
  "colab": {
   "collapsed_sections": [],
   "name": "Pitney Bowes Challenge 02.ipynb",
   "provenance": []
  },
  "kernelspec": {
   "display_name": "Python 3",
   "language": "python",
   "name": "python3"
  },
  "language_info": {
   "codemirror_mode": {
    "name": "ipython",
    "version": 3
   },
   "file_extension": ".py",
   "mimetype": "text/x-python",
   "name": "python",
   "nbconvert_exporter": "python",
   "pygments_lexer": "ipython3",
   "version": "3.7.9"
  }
 },
 "nbformat": 4,
 "nbformat_minor": 4
}
